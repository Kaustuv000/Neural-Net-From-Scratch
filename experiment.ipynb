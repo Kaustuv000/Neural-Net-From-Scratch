{
 "cells": [
  {
   "cell_type": "code",
   "execution_count": 1,
   "id": "3ace3dc4-d637-44f6-a04e-c2e6f3f2028a",
   "metadata": {},
   "outputs": [
    {
     "name": "stderr",
     "output_type": "stream",
     "text": [
      "2025-03-16 18:36:29.133676: I tensorflow/core/util/port.cc:153] oneDNN custom operations are on. You may see slightly different numerical results due to floating-point round-off errors from different computation orders. To turn them off, set the environment variable `TF_ENABLE_ONEDNN_OPTS=0`.\n",
      "2025-03-16 18:36:29.144621: E external/local_xla/xla/stream_executor/cuda/cuda_fft.cc:477] Unable to register cuFFT factory: Attempting to register factory for plugin cuFFT when one has already been registered\n",
      "WARNING: All log messages before absl::InitializeLog() is called are written to STDERR\n",
      "E0000 00:00:1742130389.159024   13387 cuda_dnn.cc:8310] Unable to register cuDNN factory: Attempting to register factory for plugin cuDNN when one has already been registered\n",
      "E0000 00:00:1742130389.163122   13387 cuda_blas.cc:1418] Unable to register cuBLAS factory: Attempting to register factory for plugin cuBLAS when one has already been registered\n",
      "2025-03-16 18:36:29.178136: I tensorflow/core/platform/cpu_feature_guard.cc:210] This TensorFlow binary is optimized to use available CPU instructions in performance-critical operations.\n",
      "To enable the following instructions: AVX2 AVX_VNNI FMA, in other operations, rebuild TensorFlow with the appropriate compiler flags.\n"
     ]
    }
   ],
   "source": [
    "import numpy as np\n",
    "import wandb\n",
    "import matplotlib.pyplot as plt\n",
    "import sys\n",
    "import math\n",
    "from keras.datasets import fashion_mnist,mnist\n",
    "import sklearn\n",
    "from sklearn.model_selection import train_test_split\n",
    "from copy import deepcopy"
   ]
  },
  {
   "cell_type": "code",
   "execution_count": 8,
   "id": "87536146-2472-4dab-96e8-c382c62d1c4c",
   "metadata": {},
   "outputs": [],
   "source": [
    "class Neural_Net:\n",
    "    def __init__(self,input_shape,number_of_hidden_layers,hidden_neurons_per_layer,activation_function,output_shape,type_of_init,L2reg_const):\n",
    "        self.input_shape = input_shape\n",
    "        self.number_of_hidden_layers = number_of_hidden_layers\n",
    "        self.hidden_neurons_per_layer = hidden_neurons_per_layer\n",
    "        self.output_shape = output_shape\n",
    "        self.activation_function = activation_function\n",
    "        self.type_of_init = type_of_init\n",
    "        self.L2reg_const = L2reg_const\n",
    "        self.W, self.B = self.weight_init(type_of_init)\n",
    "\n",
    "    def weight_init(self,type_of_init):\n",
    "        W = []\n",
    "        B = []\n",
    "        \n",
    "        if type_of_init == 'Xavier':    \n",
    "            W.append(np.random.randn(self.input_shape, self.hidden_neurons_per_layer[0]) * np.sqrt(6 / (self.input_shape + self.hidden_neurons_per_layer[0])))\n",
    "            for i in range(1, self.number_of_hidden_layers):\n",
    "                W.append(np.random.randn(self.hidden_neurons_per_layer[i-1], self.hidden_neurons_per_layer[i]) *np.sqrt(6 / (self.hidden_neurons_per_layer[i-1] + self.hidden_neurons_per_layer[i])))\n",
    "        \n",
    "            W.append(np.random.randn(self.hidden_neurons_per_layer[-1], self.output_shape)*np.sqrt(6 / (self.hidden_neurons_per_layer[-1] + self.output_shape)))\n",
    "        elif type_of_init == 'random':            \n",
    "            W.append(np.random.rand(self.input_shape,self.hidden_neurons_per_layer[0])-0.5)\n",
    "            for i in range(1,self.number_of_hidden_layers):\n",
    "                W.append(np.random.rand(self.hidden_neurons_per_layer[i-1],self.hidden_neurons_per_layer[i])-0.5)\n",
    "            W.append(np.random.rand(self.hidden_neurons_per_layer[-1],self.output_shape)-0.5)\n",
    "            \n",
    "        B.append(np.random.rand(1,self.hidden_neurons_per_layer[0])-0.5)\n",
    "        for i in range(1,self.number_of_hidden_layers):\n",
    "            B.append(np.random.rand(1,self.hidden_neurons_per_layer[i])-0.5)\n",
    "        \n",
    "        B.append(np.random.rand(1,self.output_shape)-0.5)\n",
    "        return W,B\n",
    "\n",
    "    def feed_forward(self,data,W,B):\n",
    "        A = []         #pre-activation output list\n",
    "        H = []         #post-ativation output list\n",
    "\n",
    "        input_d = data\n",
    "        for i in range(self.number_of_hidden_layers):\n",
    "            linear_out = np.dot(input_d,W[i]) + B[i]\n",
    "            activation_out = self.activation(linear_out)\n",
    "            A.append(linear_out)\n",
    "            H.append(activation_out)\n",
    "            input_d = activation_out\n",
    "\n",
    "        y_pred = self.softmax(np.dot(H[-1],W[-1]) + B[-1])\n",
    "        return A,H,y_pred\n",
    "\n",
    "    def activation(self,x):\n",
    "        if self.activation_function == 'ReLU':\n",
    "            return self.ReLU(x)\n",
    "        elif self.activation_function == 'tanh':\n",
    "            return self.tanh(x)\n",
    "        elif self.activation_function == 'sigmoid':\n",
    "            return self.sigmoid(x)\n",
    "        elif self.activation_function == 'linear':\n",
    "            return x\n",
    "\n",
    "    def activation_derivative(self,x):\n",
    "        if self.activation_function == 'ReLU':\n",
    "            return self.ReLU_derivative(x)\n",
    "        elif self.activation_function == 'tanh':\n",
    "            return self.tanh_derivative(x)\n",
    "        elif self.activation_function == 'sigmoid':\n",
    "            return self.sigmoid_derivative(x)\n",
    "        elif self.activation_function == 'linear':\n",
    "            return 1\n",
    "\n",
    "    def ReLU(self,x):\n",
    "        return np.maximum(0,x)\n",
    "\n",
    "    def ReLU_derivative(self,x):\n",
    "        return np.where(x > 0, 1, 0)\n",
    "    \n",
    "    def sigmoid(self,x):\n",
    "        # x = np.clip(x, -500, 500)\n",
    "        return 1/(1+np.exp(-x))\n",
    "\n",
    "    def sigmoid_derivative(self,x):\n",
    "        return self.sigmoid(x)*(1-self.sigmoid(x))\n",
    "\n",
    "    def tanh(self,x):\n",
    "        return np.tanh(x)\n",
    "\n",
    "    def tanh_derivative(self,x):\n",
    "        return 1 - self.tanh(x)**2\n",
    "\n",
    "    def softmax(self,x):\n",
    "        exp_x = np.exp(x - np.max(x, axis=1, keepdims=True))\n",
    "        out = exp_x / np.sum(exp_x, axis=1, keepdims=True)\n",
    "        return out\n",
    "\n",
    "    def loss(self,label,pred):\n",
    "        pred = np.clip(pred, 1e-15, 1 - 1e-15)\n",
    "        loss = -np.sum(label*np.log(pred+1e-18),axis=1)\n",
    "        return np.mean(loss)\n",
    "\n",
    "    def accuracy(self,data,label):\n",
    "        A,H,y_prob = self.feed_forward(data,self.W,self.B)\n",
    "        acc = 0\n",
    "        for i in range(len(data)):\n",
    "            if np.argmax(label[i]) == np.argmax(y_prob[i]):\n",
    "                acc += 1\n",
    "        return acc/data.shape[0]\n",
    "        \n",
    "    def sgd_train(self,epochs,learning_rate,batch_size,train_data,train_label,test_data,test_label):\n",
    "        num_batches = train_data.shape[0]//batch_size\n",
    "        remaining_data = train_data.shape[0]%batch_size\n",
    "        for ep in range(epochs):\n",
    "            for b_id in range(num_batches+1):                \n",
    "                batch_start = b_id * batch_size\n",
    "                batch_end = min((b_id + 1) * batch_size, train_data.shape[0])\n",
    "                batch_data = train_data[batch_start:batch_end]\n",
    "                batch_label = train_label[batch_start:batch_end]\n",
    "\n",
    "                A,H,y_prob = self.feed_forward(batch_data,self.W,self.B)\n",
    "                \n",
    "                dw,db = self.backpropagation(A,H,self.W,self.B,batch_data,y_prob,batch_label)\n",
    "                for i in range(self.number_of_hidden_layers+1):\n",
    "                    self.W[i] -= learning_rate * (dw[i])\n",
    "                    self.B[i] -= learning_rate * db[i]\n",
    "                \n",
    "                if(b_id+1)%100 == 0:\n",
    "                    _,_,test_y_prob = self.feed_forward(test_data,self.W,self.B)\n",
    "                    test_loss = self.loss(test_label,test_y_prob)\n",
    "                    train_acc = self.accuracy(batch_data,batch_label)\n",
    "                    train_loss = self.loss(batch_label,y_prob)\n",
    "                    test_acc = self.accuracy(test_data,test_label)\n",
    "                    wandb.log({'train_loss': train_loss, 'train_acc': train_acc, 'val_loss': test_loss, 'val_acc': test_acc})\n",
    "                    sys.stdout.write(f\"\\rEpoch {ep + 1}/{epochs} - Batch {b_id + 1}/{num_batches} - train-loss: {train_loss:.6f} train-acc: {train_acc:.6f} test-loss:{test_loss:.6f} test-acc : {test_acc:.6f} \")\n",
    "                    sys.stdout.flush()\n",
    "            print()\n",
    "\n",
    "    def momentum_train(self,epochs,learning_rate,batch_size,train_data,train_label,test_data,test_label,beta=0.9):\n",
    "        momentum_W = [np.zeros_like(w) for w in self.W]\n",
    "        momentum_B = [np.zeros_like(b) for b in self.B]\n",
    "        num_batches = train_data.shape[0]//batch_size\n",
    "        remaining_data = train_data.shape[0]%batch_size\n",
    "        for ep in range(epochs):\n",
    "            for b_id in range(num_batches+1):                \n",
    "                batch_start = b_id * batch_size\n",
    "                batch_end = min((b_id + 1) * batch_size, train_data.shape[0])\n",
    "                batch_data = train_data[batch_start:batch_end]\n",
    "                batch_label = train_label[batch_start:batch_end]\n",
    "\n",
    "                W_copy = deepcopy(self.W)\n",
    "                B_copy = deepcopy(self.B)\n",
    "                A,H,y_prob = self.feed_forward(batch_data,W_copy,B_copy)\n",
    "\n",
    "                \n",
    "                dw,db = self.backpropagation(A,H,W_copy,B_copy,batch_data,y_prob,batch_label)\n",
    "                for i in range(self.number_of_hidden_layers+1):\n",
    "                    momentum_W[i] = beta*momentum_W[i] + (1-beta)*(dw[i])\n",
    "                    momentum_B[i] = beta*momentum_B[i] + (1-beta)*db[i]\n",
    "                    self.W[i] -= learning_rate * momentum_W[i]\n",
    "                    self.B[i] -= learning_rate * momentum_B[i]\n",
    "                \n",
    "                if(b_id+1)%100 == 0:\n",
    "                    _,_,test_y_prob = self.feed_forward(test_data,self.W,self.B)\n",
    "                    test_loss = self.loss(test_label,test_y_prob)\n",
    "                    train_acc = self.accuracy(batch_data,batch_label)\n",
    "                    train_loss = self.loss(batch_label,y_prob)\n",
    "                    test_acc = self.accuracy(test_data,test_label)\n",
    "                    wandb.log({'train_loss': train_loss, 'train_acc': train_acc, 'val_loss': test_loss, 'val_acc': test_acc})\n",
    "                    sys.stdout.write(f\"\\rEpoch {ep + 1}/{epochs} - Batch {b_id + 1}/{num_batches} - train-loss: {train_loss:.6f} train-acc: {train_acc:.6f} test-loss:{test_loss:.6f} test-acc : {test_acc:.6f} \")\n",
    "                    sys.stdout.flush()\n",
    "            print()\n",
    "\n",
    "    def nestrov_train(self,epochs,learning_rate,batch_size,train_data,train_label,test_data,test_label,beta=0.9):\n",
    "        momentum_W = [np.zeros_like(w) for w in self.W]\n",
    "        momentum_B = [np.zeros_like(b) for b in self.B]\n",
    "        num_batches = train_data.shape[0]//batch_size\n",
    "        remaining_data = train_data.shape[0]%batch_size\n",
    "        for ep in range(epochs):\n",
    "            for b_id in range(num_batches+1):                \n",
    "                batch_start = b_id * batch_size\n",
    "                batch_end = min((b_id + 1) * batch_size, train_data.shape[0])\n",
    "                batch_data = train_data[batch_start:batch_end]\n",
    "                batch_label = train_label[batch_start:batch_end]\n",
    "\n",
    "                # we want grad(wt - beta*momentum), so feed forward through this value and get grads\n",
    "                W_lookahead = [w - beta*v for w,v in zip(self.W,momentum_W)]\n",
    "                B_lookahead = [b - beta*v for b,v in zip(self.B,momentum_B)]\n",
    "                \n",
    "                \n",
    "                A,H,y_prob = self.feed_forward(batch_data,W_lookahead,B_lookahead)\n",
    "                dw,db = self.backpropagation(A,H,W_lookahead,B_lookahead,batch_data,y_prob,batch_label)\n",
    "                for i in range(self.number_of_hidden_layers+1):\n",
    "                    # dw[i] += self.L2reg_const * self.W[i]\n",
    "                    momentum_W[i] = beta*momentum_W[i] + (dw[i])\n",
    "                    momentum_B[i] = beta*momentum_B[i] + db[i]\n",
    "                    \n",
    "                    self.W[i] -= learning_rate * momentum_W[i]\n",
    "                    self.B[i] -= learning_rate * momentum_B[i]\n",
    "                \n",
    "                if(b_id+1)%100 == 0:\n",
    "                    _,_,test_y_prob = self.feed_forward(test_data,self.W,self.B)\n",
    "                    test_loss = self.loss(test_label,test_y_prob)\n",
    "                    train_acc = self.accuracy(batch_data,batch_label)\n",
    "                    train_loss = self.loss(batch_label,y_prob)\n",
    "                    test_acc = self.accuracy(test_data,test_label)\n",
    "                    wandb.log({'train_loss': train_loss, 'train_acc': train_acc, 'val_loss': test_loss, 'val_acc': test_acc})\n",
    "                    sys.stdout.write(f\"\\rEpoch {ep + 1}/{epochs} - Batch {b_id + 1}/{num_batches} - train-loss: {train_loss:.6f} train-acc: {train_acc:.6f} test-loss:{test_loss:.6f} test-acc : {test_acc:.6f} \")\n",
    "                    sys.stdout.flush()\n",
    "            print()\n",
    "\n",
    "    def RMSprop_train(self,epochs,learning_rate,batch_size,train_data,train_label,test_data,test_label,beta,eps):\n",
    "        v_W = [np.zeros_like(w) for w in self.W]\n",
    "        v_B = [np.zeros_like(b) for b in self.B]\n",
    "        num_batches = train_data.shape[0]//batch_size\n",
    "        remaining_data = train_data.shape[0]%batch_size\n",
    "        for ep in range(epochs):\n",
    "            for b_id in range(num_batches+1):                \n",
    "                batch_start = b_id * batch_size\n",
    "                batch_end = min((b_id + 1) * batch_size, train_data.shape[0])\n",
    "                batch_data = train_data[batch_start:batch_end]\n",
    "                batch_label = train_label[batch_start:batch_end]\n",
    "\n",
    "                W_copy = deepcopy(self.W)\n",
    "                B_copy = deepcopy(self.B)\n",
    "                A,H,y_prob = self.feed_forward(batch_data,W_copy,B_copy)\n",
    "\n",
    "                \n",
    "                \n",
    "                dw,db = self.backpropagation(A,H,W_copy,B_copy,batch_data,y_prob,batch_label)\n",
    "                for i in range(self.number_of_hidden_layers+1):\n",
    "                    # dw[i] += self.L2reg_const * self.W[i]\n",
    "                    \n",
    "                    v_W[i] = beta*v_W[i] + (1-beta)*(dw[i]**2)\n",
    "                    v_B[i] = beta*v_B[i] + (1-beta)*(db[i]**2)\n",
    "\n",
    "                    adaptive_lr_w = learning_rate/(np.sqrt(v_W[i]+eps))\n",
    "                    adaptive_lr_b = learning_rate/(np.sqrt(v_B[i]+eps))\n",
    "                    self.W[i] -= adaptive_lr_w * (dw[i])\n",
    "                    self.B[i] -= adaptive_lr_b * db[i]\n",
    "                \n",
    "                if(b_id+1)%100 == 0:\n",
    "                    _,_,test_y_prob = self.feed_forward(test_data,self.W,self.B)\n",
    "                    test_loss = self.loss(test_label,test_y_prob)\n",
    "                    train_acc = self.accuracy(batch_data,batch_label)\n",
    "                    train_loss = self.loss(batch_label,y_prob)\n",
    "                    test_acc = self.accuracy(test_data,test_label)\n",
    "                    wandb.log({'train_loss': train_loss, 'train_acc': train_acc, 'val_loss': test_loss, 'val_acc': test_acc})\n",
    "                    sys.stdout.write(f\"\\rEpoch {ep + 1}/{epochs} - Batch {b_id + 1}/{num_batches} - train-loss: {train_loss:.6f} train-acc: {train_acc:.6f} test-loss:{test_loss:.6f} test-acc : {test_acc:.6f} \")\n",
    "                    sys.stdout.flush()\n",
    "            print()   \n",
    "\n",
    "    def adam_train(self,epochs,learning_rate,batch_size,train_data,train_label,test_data,test_label,beta1=0.9,beta2=0.999,eps=1e-8):\n",
    "        momentum1_W = [np.zeros_like(w) for w in self.W]\n",
    "        momentum1_B = [np.zeros_like(b) for b in self.B]\n",
    "        momentum2_W = [np.zeros_like(w) for w in self.W]\n",
    "        momentum2_B = [np.zeros_like(b) for b in self.B]\n",
    "        t = 0\n",
    "        num_batches = train_data.shape[0]//batch_size\n",
    "        remaining_data = train_data.shape[0]%batch_size\n",
    "        for ep in range(epochs):\n",
    "            for b_id in range(num_batches+1):\n",
    "                t += 1\n",
    "                batch_start = b_id * batch_size\n",
    "                batch_end = min((b_id + 1) * batch_size, train_data.shape[0])\n",
    "                batch_data = train_data[batch_start:batch_end]\n",
    "                batch_label = train_label[batch_start:batch_end]\n",
    "\n",
    "                W_copy = deepcopy(self.W)\n",
    "                B_copy = deepcopy(self.B)\n",
    "                A,H,y_prob = self.feed_forward(batch_data,W_copy,B_copy)\n",
    "    \n",
    "                \n",
    "                dw,db = self.backpropagation(A,H,W_copy,B_copy,batch_data,y_prob,batch_label)\n",
    "                for i in range(self.number_of_hidden_layers+1):\n",
    "                    momentum1_W[i] = beta1*momentum1_W[i] + (1-beta1)*(dw[i])\n",
    "                    momentum1_B[i] = beta1*momentum1_B[i] + (1-beta1)*(db[i])\n",
    "    \n",
    "                    momentum2_W[i] = beta2*momentum2_W[i] + (1-beta2)*(dw[i]**2)\n",
    "                    momentum2_B[i] = beta2*momentum2_B[i] + (1-beta2)*(db[i]**2)\n",
    "    \n",
    "                    momentum1_W_hat = momentum1_W[i]/(1-(beta1**t))\n",
    "                    momentum1_B_hat = momentum1_B[i]/(1-(beta1**t))\n",
    "    \n",
    "                    momentum2_W_hat = momentum2_W[i]/(1-(beta2**t))\n",
    "                    momentum2_B_hat = momentum2_B[i]/(1-(beta2**t))\n",
    "    \n",
    "                    adaptive_lr_W = learning_rate/(np.sqrt(momentum2_W_hat) + eps)\n",
    "                    adaptive_lr_B = learning_rate/(np.sqrt(momentum2_B_hat) + eps)\n",
    "    \n",
    "                    self.W[i] -= adaptive_lr_W * (momentum1_W_hat)\n",
    "                    self.B[i] -= adaptive_lr_B * momentum1_B_hat\n",
    "                    \n",
    "                \n",
    "                if(b_id+1)%100 == 0:\n",
    "                    _,_,test_y_prob = self.feed_forward(test_data,self.W,self.B)\n",
    "                    test_loss = self.loss(test_label,test_y_prob)\n",
    "                    train_acc = self.accuracy(batch_data,batch_label)\n",
    "                    train_loss = self.loss(batch_label,y_prob)\n",
    "                    test_acc = self.accuracy(test_data,test_label)\n",
    "                    # wandb.log({'train_loss': train_loss, 'train_acc': train_acc, 'val_loss': test_loss, 'val_acc': test_acc})\n",
    "                    sys.stdout.write(f\"\\rEpoch {ep + 1}/{epochs} - Batch {b_id + 1}/{num_batches} - train-loss: {train_loss:.6f} train-acc: {train_acc:.6f} test-loss:{test_loss:.6f} test-acc : {test_acc:.6f} \")\n",
    "                    sys.stdout.flush()\n",
    "            print()\n",
    "\n",
    "    def nadam_train(self,epochs,learning_rate,batch_size,train_data,train_label,test_data,test_label,beta1=0.9,beta2=0.999,eps=1e-8):\n",
    "        momentum1_W = [np.zeros_like(w) for w in self.W]\n",
    "        momentum1_B = [np.zeros_like(b) for b in self.B]\n",
    "        momentum2_W = [np.zeros_like(w) for w in self.W]\n",
    "        momentum2_B = [np.zeros_like(b) for b in self.B]\n",
    "        t = 0\n",
    "        num_batches = train_data.shape[0]//batch_size\n",
    "        remaining_data = train_data.shape[0]%batch_size\n",
    "        for ep in range(epochs):\n",
    "            for b_id in range(num_batches+1):\n",
    "                t += 1\n",
    "                batch_start = b_id * batch_size\n",
    "                batch_end = min((b_id + 1) * batch_size, train_data.shape[0])\n",
    "                batch_data = train_data[batch_start:batch_end]\n",
    "                batch_label = train_label[batch_start:batch_end]\n",
    "                W_copy = deepcopy(self.W)\n",
    "                B_copy = deepcopy(self.B)\n",
    "                A,H,y_prob = self.feed_forward(batch_data,W_copy,B_copy)\n",
    "                \n",
    "                dw,db = self.backpropagation(A,H,W_copy,B_copy,batch_data,y_prob,batch_label)\n",
    "                for i in range(self.number_of_hidden_layers+1):\n",
    "                    # dw[i] += self.L2reg_const * self.W[i]\n",
    "                    momentum1_W[i] = beta1*momentum1_W[i] + (1-beta1)*(dw[i])\n",
    "                    momentum1_B[i] = beta1*momentum1_B[i] + (1-beta1)*(db[i])\n",
    "    \n",
    "                    momentum2_W[i] = beta2*momentum2_W[i] + (1-beta2)*(dw[i]**2)\n",
    "                    momentum2_B[i] = beta2*momentum2_B[i] + (1-beta2)*(db[i]**2)\n",
    "    \n",
    "                    momentum1_W_hat = momentum1_W[i]/(1-(beta1**t))\n",
    "                    momentum1_B_hat = momentum1_B[i]/(1-(beta1**t))\n",
    "    \n",
    "                    momentum2_W_hat = momentum2_W[i]/(1-(beta2**t))\n",
    "                    momentum2_B_hat = momentum2_B[i]/(1-(beta2**t))\n",
    "    \n",
    "                    m_nestrov_W = beta1 * momentum1_W_hat + ((1 - beta1) * dw[i])/(1-beta1**t)\n",
    "                    m_nestrov_B = beta1 * momentum1_B_hat + ((1 - beta1) * db[i])/(1-beta1**t)\n",
    "    \n",
    "                    adaptive_lr_W = learning_rate / (np.sqrt(momentum2_W_hat) + eps)\n",
    "                    adaptive_lr_B = learning_rate / (np.sqrt(momentum2_B_hat) + eps)\n",
    "    \n",
    "                    self.W[i] -= adaptive_lr_W * m_nestrov_W\n",
    "                    self.B[i] -= adaptive_lr_B * m_nestrov_B\n",
    "                    \n",
    "                \n",
    "                if(b_id+1)%100 == 0:\n",
    "                    _,_,test_y_prob = self.feed_forward(test_data,self.W,self.B)\n",
    "                    test_loss = self.loss(test_label,test_y_prob)\n",
    "                    train_acc = self.accuracy(batch_data,batch_label)\n",
    "                    train_loss = self.loss(batch_label,y_prob)\n",
    "                    test_acc = self.accuracy(test_data,test_label)\n",
    "                    wandb.log({'train_loss': train_loss, 'train_acc': train_acc, 'val_loss': test_loss, 'val_acc': test_acc})\n",
    "                    sys.stdout.write(f\"\\rEpoch {ep + 1}/{epochs} - Batch {b_id + 1}/{num_batches} - train-loss: {train_loss:.6f} train-acc: {train_acc:.6f} test-loss:{test_loss:.6f} test-acc : {test_acc:.6f} \")\n",
    "                    sys.stdout.flush()\n",
    "            print()\n",
    "        \n",
    "    def train(self,optimizer,epochs,learning_rate,batch_size,train_data,train_label,test_data,test_label):\n",
    "        if optimizer == 'sgd':\n",
    "            self.sgd_train(epochs,learning_rate,batch_size,train_data,train_label,test_data,test_label)\n",
    "        elif optimizer == 'momentum':\n",
    "            self.momentum_train(epochs,learning_rate,batch_size,train_data,train_label,test_data,test_label,0.9)\n",
    "        elif optimizer == 'nestrov':\n",
    "            self.nestrov_train(epochs,learning_rate,batch_size,train_data,train_label,test_data,test_label,0.9)\n",
    "        elif optimizer == 'RMSprop':\n",
    "            self.RMSprop_train(epochs,learning_rate,batch_size,train_data,train_label,test_data,test_label,0.8,1e-8)\n",
    "        elif optimizer == 'adam':\n",
    "            self.adam_train(epochs,learning_rate,batch_size,train_data,train_label,test_data,test_label,0.9,0.999,1e-8)\n",
    "        elif optimizer == 'nadam':\n",
    "            self.nadam_train(epochs,learning_rate,batch_size,train_data,train_label,test_data,test_label,0.9,0.999,1e-8)\n",
    "            \n",
    "\n",
    "    def backpropagation(self,A,H,W,B,batch_data,y_prob,batch_label):\n",
    "        dW = []\n",
    "        db = []\n",
    "        \n",
    "        # Calculate initial error (cross-entropy gradient for softmax)\n",
    "        error = y_prob - batch_label  \n",
    "        # Backpropagate through output layer (softmax)\n",
    "        dW.insert(0, np.dot(H[-1].T, error)+self.L2reg_const * W[-1])\n",
    "        db.insert(0, np.sum(error,axis=0,keepdims=True))\n",
    "        \n",
    "        # Backpropagate through hidden layers\n",
    "        delta = error\n",
    "        for i in range(self.number_of_hidden_layers - 1, 0, -1):\n",
    "            delta = np.dot(delta, W[i+1].T) * self.activation_derivative(A[i])\n",
    "            dW.insert(0, np.dot(H[i-1].T, delta)+ self.L2reg_const * W[i])\n",
    "            db.insert(0, np.sum(delta, axis=0,keepdims=True))\n",
    "        \n",
    "        # Backpropagate through input layer\n",
    "        delta = np.dot(delta, W[1].T) * self.activation_derivative(A[0])\n",
    "        dW.insert(0, np.dot(batch_data.T, delta)+ self.L2reg_const * W[0])\n",
    "        db.insert(0, np.sum(delta, axis=0,keepdims=True))\n",
    "        # print(dW)\n",
    "        # input()\n",
    "        return dW, db\n",
    "\n",
    "\n",
    "\n",
    "    "
   ]
  },
  {
   "cell_type": "code",
   "execution_count": 5,
   "id": "494863ec-798e-474c-97b2-37e1c08b0029",
   "metadata": {},
   "outputs": [],
   "source": [
    "def train():\n",
    "    var1 = wandb.init(project='dl-assignment1-experiment')\n",
    "    config = var1.config\n",
    "\n",
    "    input_size = train_data.shape[1]\n",
    "    num_hidden_layers = config.num_of_hidden_layers\n",
    "\n",
    "    num_neurons_each_layer = [ config.hidden_layer_size ] * num_hidden_layers \n",
    "    activation_function = config.activation_function\n",
    "    type_of_init = config.weight_initialization\n",
    "    L2reg_const = config.weight_decay\n",
    "\n",
    "    run_name = f\"hl_{config.num_of_hidden_layers}_bs_{config.batch_size}_ac_{config.activation_function}\"\n",
    "    \n",
    "    wandb.run.name = run_name\n",
    "    wandb.run.save()\n",
    "\n",
    "    print(f\"Starting training with run name: {run_name}\")\n",
    "    nn = Neural_Net(\n",
    "        number_of_hidden_layers=num_hidden_layers,\n",
    "        hidden_neurons_per_layer=num_neurons_each_layer,\n",
    "        activation_function=activation_function,\n",
    "        input_shape=input_size,\n",
    "        type_of_init=type_of_init,\n",
    "        L2reg_const=L2reg_const,\n",
    "        output_shape = 10,\n",
    "    )\n",
    "    \n",
    "    nn.train(\n",
    "        optimizer=config.optimizer,\n",
    "        epochs=config.epochs,\n",
    "        learning_rate=config.learning_rate,\n",
    "        train_data=train_data,  # Make sure to define train_data and labels\n",
    "        train_label=train_label,\n",
    "        test_data=val_data,\n",
    "        test_label=val_label,\n",
    "        batch_size=config.batch_size\n",
    "    )"
   ]
  },
  {
   "cell_type": "code",
   "execution_count": 6,
   "id": "195d4d30-e9c7-423e-8a2d-dcfcf6705247",
   "metadata": {},
   "outputs": [],
   "source": [
    "sweep_config = {\n",
    "  'name': 'fashion-mnist-exp(random-select)-2.10',\n",
    "  'method': 'bayes',\n",
    "  'metric': {'goal': 'maximize', 'name': 'val_acc'},\n",
    "  'parameters': {\n",
    "        'num_of_hidden_layers':{'values':[3,4,5]},\n",
    "        'hidden_layer_size': {'values': [32, 64, 128]},\n",
    "      'activation_function': {'values': ['sigmoid', 'tanh', 'ReLU']},\n",
    "      'batch_size': {'values': [16, 32, 64]},\n",
    "      'epochs': {'values': [5, 10]},\n",
    "      'learning_rate': {'values': [1e-3,1e-4]},\n",
    "      'optimizer': {'values': ['sgd', 'momentum', 'nesterov', 'RMSprop', 'adam', 'nadam']},\n",
    "      'weight_initialization': {'values': ['random', 'Xavier']},\n",
    "      'weight_decay': {'values': [0, 0.0005,0.5]},\n",
    "  }\n",
    "}"
   ]
  },
  {
   "cell_type": "code",
   "execution_count": 7,
   "id": "926586dd-6bde-4dde-94f2-85df59524017",
   "metadata": {},
   "outputs": [
    {
     "name": "stderr",
     "output_type": "stream",
     "text": [
      "\u001b[34m\u001b[1mwandb\u001b[0m: Using wandb-core as the SDK backend.  Please refer to https://wandb.me/wandb-core for more information.\n"
     ]
    },
    {
     "name": "stdout",
     "output_type": "stream",
     "text": [
      "Create sweep with ID: hfa2u67m\n",
      "Sweep URL: https://wandb.ai/cs24s031-indian-institute-of-technology-madras/dl-assignment1-experiment/sweeps/hfa2u67m\n"
     ]
    },
    {
     "name": "stderr",
     "output_type": "stream",
     "text": [
      "\u001b[34m\u001b[1mwandb\u001b[0m: Agent Starting Run: 5x2w277x with config:\n",
      "\u001b[34m\u001b[1mwandb\u001b[0m: \tactivation_function: sigmoid\n",
      "\u001b[34m\u001b[1mwandb\u001b[0m: \tbatch_size: 16\n",
      "\u001b[34m\u001b[1mwandb\u001b[0m: \tepochs: 5\n",
      "\u001b[34m\u001b[1mwandb\u001b[0m: \thidden_layer_size: 128\n",
      "\u001b[34m\u001b[1mwandb\u001b[0m: \tlearning_rate: 0.001\n",
      "\u001b[34m\u001b[1mwandb\u001b[0m: \tnum_of_hidden_layers: 5\n",
      "\u001b[34m\u001b[1mwandb\u001b[0m: \toptimizer: nesterov\n",
      "\u001b[34m\u001b[1mwandb\u001b[0m: \tweight_decay: 0.5\n",
      "\u001b[34m\u001b[1mwandb\u001b[0m: \tweight_initialization: Xavier\n",
      "\u001b[34m\u001b[1mwandb\u001b[0m: Currently logged in as: \u001b[33mcs24s031\u001b[0m (\u001b[33mcs24s031-indian-institute-of-technology-madras\u001b[0m) to \u001b[32mhttps://api.wandb.ai\u001b[0m. Use \u001b[1m`wandb login --relogin`\u001b[0m to force relogin\n"
     ]
    },
    {
     "data": {
      "text/html": [
       "Ignoring project 'dl-assignment1-experiment' when running a sweep."
      ],
      "text/plain": [
       "<IPython.core.display.HTML object>"
      ]
     },
     "metadata": {},
     "output_type": "display_data"
    },
    {
     "data": {
      "text/html": [
       "Tracking run with wandb version 0.19.8"
      ],
      "text/plain": [
       "<IPython.core.display.HTML object>"
      ]
     },
     "metadata": {},
     "output_type": "display_data"
    },
    {
     "data": {
      "text/html": [
       "Run data is saved locally in <code>/home/user/Documents/DL/assignment/wandb/run-20250312_204230-5x2w277x</code>"
      ],
      "text/plain": [
       "<IPython.core.display.HTML object>"
      ]
     },
     "metadata": {},
     "output_type": "display_data"
    },
    {
     "data": {
      "text/html": [
       "Syncing run <strong><a href='https://wandb.ai/cs24s031-indian-institute-of-technology-madras/dl-assignment1-experiment/runs/5x2w277x' target=\"_blank\">volcanic-sweep-1</a></strong> to <a href='https://wandb.ai/cs24s031-indian-institute-of-technology-madras/dl-assignment1-experiment' target=\"_blank\">Weights & Biases</a> (<a href='https://wandb.me/developer-guide' target=\"_blank\">docs</a>)<br>Sweep page: <a href='https://wandb.ai/cs24s031-indian-institute-of-technology-madras/dl-assignment1-experiment/sweeps/hfa2u67m' target=\"_blank\">https://wandb.ai/cs24s031-indian-institute-of-technology-madras/dl-assignment1-experiment/sweeps/hfa2u67m</a>"
      ],
      "text/plain": [
       "<IPython.core.display.HTML object>"
      ]
     },
     "metadata": {},
     "output_type": "display_data"
    },
    {
     "data": {
      "text/html": [
       " View project at <a href='https://wandb.ai/cs24s031-indian-institute-of-technology-madras/dl-assignment1-experiment' target=\"_blank\">https://wandb.ai/cs24s031-indian-institute-of-technology-madras/dl-assignment1-experiment</a>"
      ],
      "text/plain": [
       "<IPython.core.display.HTML object>"
      ]
     },
     "metadata": {},
     "output_type": "display_data"
    },
    {
     "data": {
      "text/html": [
       " View sweep at <a href='https://wandb.ai/cs24s031-indian-institute-of-technology-madras/dl-assignment1-experiment/sweeps/hfa2u67m' target=\"_blank\">https://wandb.ai/cs24s031-indian-institute-of-technology-madras/dl-assignment1-experiment/sweeps/hfa2u67m</a>"
      ],
      "text/plain": [
       "<IPython.core.display.HTML object>"
      ]
     },
     "metadata": {},
     "output_type": "display_data"
    },
    {
     "data": {
      "text/html": [
       " View run at <a href='https://wandb.ai/cs24s031-indian-institute-of-technology-madras/dl-assignment1-experiment/runs/5x2w277x' target=\"_blank\">https://wandb.ai/cs24s031-indian-institute-of-technology-madras/dl-assignment1-experiment/runs/5x2w277x</a>"
      ],
      "text/plain": [
       "<IPython.core.display.HTML object>"
      ]
     },
     "metadata": {},
     "output_type": "display_data"
    },
    {
     "name": "stderr",
     "output_type": "stream",
     "text": [
      "\u001b[34m\u001b[1mwandb\u001b[0m: \u001b[33mWARNING\u001b[0m Calling wandb.run.save without any arguments is deprecated.Changes to attributes are automatically persisted.\n"
     ]
    },
    {
     "name": "stdout",
     "output_type": "stream",
     "text": [
      "Starting training with run name: hl_5_bs_16_ac_sigmoid\n"
     ]
    },
    {
     "data": {
      "text/html": [],
      "text/plain": [
       "<IPython.core.display.HTML object>"
      ]
     },
     "metadata": {},
     "output_type": "display_data"
    },
    {
     "data": {
      "text/html": [
       " View run <strong style=\"color:#cdcd00\">hl_5_bs_16_ac_sigmoid</strong> at: <a href='https://wandb.ai/cs24s031-indian-institute-of-technology-madras/dl-assignment1-experiment/runs/5x2w277x' target=\"_blank\">https://wandb.ai/cs24s031-indian-institute-of-technology-madras/dl-assignment1-experiment/runs/5x2w277x</a><br> View project at: <a href='https://wandb.ai/cs24s031-indian-institute-of-technology-madras/dl-assignment1-experiment' target=\"_blank\">https://wandb.ai/cs24s031-indian-institute-of-technology-madras/dl-assignment1-experiment</a><br>Synced 5 W&B file(s), 0 media file(s), 0 artifact file(s) and 0 other file(s)"
      ],
      "text/plain": [
       "<IPython.core.display.HTML object>"
      ]
     },
     "metadata": {},
     "output_type": "display_data"
    },
    {
     "data": {
      "text/html": [
       "Find logs at: <code>./wandb/run-20250312_204230-5x2w277x/logs</code>"
      ],
      "text/plain": [
       "<IPython.core.display.HTML object>"
      ]
     },
     "metadata": {},
     "output_type": "display_data"
    },
    {
     "name": "stderr",
     "output_type": "stream",
     "text": [
      "\u001b[34m\u001b[1mwandb\u001b[0m: Agent Starting Run: 06kn8ph4 with config:\n",
      "\u001b[34m\u001b[1mwandb\u001b[0m: \tactivation_function: ReLU\n",
      "\u001b[34m\u001b[1mwandb\u001b[0m: \tbatch_size: 64\n",
      "\u001b[34m\u001b[1mwandb\u001b[0m: \tepochs: 5\n",
      "\u001b[34m\u001b[1mwandb\u001b[0m: \thidden_layer_size: 128\n",
      "\u001b[34m\u001b[1mwandb\u001b[0m: \tlearning_rate: 0.001\n",
      "\u001b[34m\u001b[1mwandb\u001b[0m: \tnum_of_hidden_layers: 3\n",
      "\u001b[34m\u001b[1mwandb\u001b[0m: \toptimizer: momentum\n",
      "\u001b[34m\u001b[1mwandb\u001b[0m: \tweight_decay: 0.0005\n",
      "\u001b[34m\u001b[1mwandb\u001b[0m: \tweight_initialization: Xavier\n"
     ]
    },
    {
     "data": {
      "text/html": [
       "Ignoring project 'dl-assignment1-experiment' when running a sweep."
      ],
      "text/plain": [
       "<IPython.core.display.HTML object>"
      ]
     },
     "metadata": {},
     "output_type": "display_data"
    },
    {
     "data": {
      "text/html": [
       "Tracking run with wandb version 0.19.8"
      ],
      "text/plain": [
       "<IPython.core.display.HTML object>"
      ]
     },
     "metadata": {},
     "output_type": "display_data"
    },
    {
     "data": {
      "text/html": [
       "Run data is saved locally in <code>/home/user/Documents/DL/assignment/wandb/run-20250312_204236-06kn8ph4</code>"
      ],
      "text/plain": [
       "<IPython.core.display.HTML object>"
      ]
     },
     "metadata": {},
     "output_type": "display_data"
    },
    {
     "data": {
      "text/html": [
       "Syncing run <strong><a href='https://wandb.ai/cs24s031-indian-institute-of-technology-madras/dl-assignment1-experiment/runs/06kn8ph4' target=\"_blank\">atomic-sweep-2</a></strong> to <a href='https://wandb.ai/cs24s031-indian-institute-of-technology-madras/dl-assignment1-experiment' target=\"_blank\">Weights & Biases</a> (<a href='https://wandb.me/developer-guide' target=\"_blank\">docs</a>)<br>Sweep page: <a href='https://wandb.ai/cs24s031-indian-institute-of-technology-madras/dl-assignment1-experiment/sweeps/hfa2u67m' target=\"_blank\">https://wandb.ai/cs24s031-indian-institute-of-technology-madras/dl-assignment1-experiment/sweeps/hfa2u67m</a>"
      ],
      "text/plain": [
       "<IPython.core.display.HTML object>"
      ]
     },
     "metadata": {},
     "output_type": "display_data"
    },
    {
     "data": {
      "text/html": [
       " View project at <a href='https://wandb.ai/cs24s031-indian-institute-of-technology-madras/dl-assignment1-experiment' target=\"_blank\">https://wandb.ai/cs24s031-indian-institute-of-technology-madras/dl-assignment1-experiment</a>"
      ],
      "text/plain": [
       "<IPython.core.display.HTML object>"
      ]
     },
     "metadata": {},
     "output_type": "display_data"
    },
    {
     "data": {
      "text/html": [
       " View sweep at <a href='https://wandb.ai/cs24s031-indian-institute-of-technology-madras/dl-assignment1-experiment/sweeps/hfa2u67m' target=\"_blank\">https://wandb.ai/cs24s031-indian-institute-of-technology-madras/dl-assignment1-experiment/sweeps/hfa2u67m</a>"
      ],
      "text/plain": [
       "<IPython.core.display.HTML object>"
      ]
     },
     "metadata": {},
     "output_type": "display_data"
    },
    {
     "data": {
      "text/html": [
       " View run at <a href='https://wandb.ai/cs24s031-indian-institute-of-technology-madras/dl-assignment1-experiment/runs/06kn8ph4' target=\"_blank\">https://wandb.ai/cs24s031-indian-institute-of-technology-madras/dl-assignment1-experiment/runs/06kn8ph4</a>"
      ],
      "text/plain": [
       "<IPython.core.display.HTML object>"
      ]
     },
     "metadata": {},
     "output_type": "display_data"
    },
    {
     "name": "stdout",
     "output_type": "stream",
     "text": [
      "Starting training with run name: hl_3_bs_64_ac_ReLU\n",
      "Epoch 1/5 - Batch 800/843 - train-loss: 0.638509 train-acc: 0.734375 test-loss:0.437303 test-acc : 0.840500 \n",
      "Epoch 2/5 - Batch 800/843 - train-loss: 0.544990 train-acc: 0.765625 test-loss:0.377942 test-acc : 0.861167 \n",
      "Epoch 3/5 - Batch 800/843 - train-loss: 0.504163 train-acc: 0.812500 test-loss:0.365339 test-acc : 0.867333 \n",
      "Epoch 4/5 - Batch 800/843 - train-loss: 0.446966 train-acc: 0.796875 test-loss:0.348804 test-acc : 0.871167 \n",
      "Epoch 5/5 - Batch 800/843 - train-loss: 0.407431 train-acc: 0.812500 test-loss:0.335916 test-acc : 0.875833 \n"
     ]
    },
    {
     "data": {
      "text/html": [],
      "text/plain": [
       "<IPython.core.display.HTML object>"
      ]
     },
     "metadata": {},
     "output_type": "display_data"
    },
    {
     "data": {
      "text/html": [
       "<br>    <style><br>        .wandb-row {<br>            display: flex;<br>            flex-direction: row;<br>            flex-wrap: wrap;<br>            justify-content: flex-start;<br>            width: 100%;<br>        }<br>        .wandb-col {<br>            display: flex;<br>            flex-direction: column;<br>            flex-basis: 100%;<br>            flex: 1;<br>            padding: 10px;<br>        }<br>    </style><br><div class=\"wandb-row\"><div class=\"wandb-col\"><h3>Run history:</h3><br/><table class=\"wandb\"><tr><td>train_acc</td><td>▁▇▃▃▅▆▅▁▆▇▃▅▅▇▇▂▇▇▃▅▅▇█▃▇▇▄▇▇▇█▃▇▇▄▆▇▇▇▃</td></tr><tr><td>train_loss</td><td>▆▃█▇▅▅▂█▃▃▆▅▄▄▂▇▂▂▆▅▃▃▂▆▂▂▅▄▃▃▁▅▂▂▄▄▃▃▁▅</td></tr><tr><td>val_acc</td><td>▁▃▄▃▅▆▆▅▆▆▆▆▆▇▇▇▇▇▇▇▇▇█▇▇▇▇██▇███▇██████</td></tr><tr><td>val_loss</td><td>█▅▅▅▄▃▃▃▃▂▃▂▂▂▂▂▂▂▂▂▂▂▁▂▂▂▂▁▁▂▁▁▁▂▁▁▁▂▁▁</td></tr></table><br/></div><div class=\"wandb-col\"><h3>Run summary:</h3><br/><table class=\"wandb\"><tr><td>train_acc</td><td>0.8125</td></tr><tr><td>train_loss</td><td>0.40743</td></tr><tr><td>val_acc</td><td>0.87583</td></tr><tr><td>val_loss</td><td>0.33592</td></tr></table><br/></div></div>"
      ],
      "text/plain": [
       "<IPython.core.display.HTML object>"
      ]
     },
     "metadata": {},
     "output_type": "display_data"
    },
    {
     "data": {
      "text/html": [
       " View run <strong style=\"color:#cdcd00\">hl_3_bs_64_ac_ReLU</strong> at: <a href='https://wandb.ai/cs24s031-indian-institute-of-technology-madras/dl-assignment1-experiment/runs/06kn8ph4' target=\"_blank\">https://wandb.ai/cs24s031-indian-institute-of-technology-madras/dl-assignment1-experiment/runs/06kn8ph4</a><br> View project at: <a href='https://wandb.ai/cs24s031-indian-institute-of-technology-madras/dl-assignment1-experiment' target=\"_blank\">https://wandb.ai/cs24s031-indian-institute-of-technology-madras/dl-assignment1-experiment</a><br>Synced 5 W&B file(s), 0 media file(s), 0 artifact file(s) and 0 other file(s)"
      ],
      "text/plain": [
       "<IPython.core.display.HTML object>"
      ]
     },
     "metadata": {},
     "output_type": "display_data"
    },
    {
     "data": {
      "text/html": [
       "Find logs at: <code>./wandb/run-20250312_204236-06kn8ph4/logs</code>"
      ],
      "text/plain": [
       "<IPython.core.display.HTML object>"
      ]
     },
     "metadata": {},
     "output_type": "display_data"
    },
    {
     "name": "stderr",
     "output_type": "stream",
     "text": [
      "\u001b[34m\u001b[1mwandb\u001b[0m: Sweep Agent: Waiting for job.\n",
      "\u001b[34m\u001b[1mwandb\u001b[0m: Job received.\n",
      "\u001b[34m\u001b[1mwandb\u001b[0m: Agent Starting Run: ro996ths with config:\n",
      "\u001b[34m\u001b[1mwandb\u001b[0m: \tactivation_function: tanh\n",
      "\u001b[34m\u001b[1mwandb\u001b[0m: \tbatch_size: 32\n",
      "\u001b[34m\u001b[1mwandb\u001b[0m: \tepochs: 5\n",
      "\u001b[34m\u001b[1mwandb\u001b[0m: \thidden_layer_size: 32\n",
      "\u001b[34m\u001b[1mwandb\u001b[0m: \tlearning_rate: 0.001\n",
      "\u001b[34m\u001b[1mwandb\u001b[0m: \tnum_of_hidden_layers: 4\n",
      "\u001b[34m\u001b[1mwandb\u001b[0m: \toptimizer: nesterov\n",
      "\u001b[34m\u001b[1mwandb\u001b[0m: \tweight_decay: 0.0005\n",
      "\u001b[34m\u001b[1mwandb\u001b[0m: \tweight_initialization: Xavier\n"
     ]
    },
    {
     "data": {
      "text/html": [
       "Ignoring project 'dl-assignment1-experiment' when running a sweep."
      ],
      "text/plain": [
       "<IPython.core.display.HTML object>"
      ]
     },
     "metadata": {},
     "output_type": "display_data"
    },
    {
     "data": {
      "text/html": [
       "Tracking run with wandb version 0.19.8"
      ],
      "text/plain": [
       "<IPython.core.display.HTML object>"
      ]
     },
     "metadata": {},
     "output_type": "display_data"
    },
    {
     "data": {
      "text/html": [
       "Run data is saved locally in <code>/home/user/Documents/DL/assignment/wandb/run-20250312_204307-ro996ths</code>"
      ],
      "text/plain": [
       "<IPython.core.display.HTML object>"
      ]
     },
     "metadata": {},
     "output_type": "display_data"
    },
    {
     "data": {
      "text/html": [
       "Syncing run <strong><a href='https://wandb.ai/cs24s031-indian-institute-of-technology-madras/dl-assignment1-experiment/runs/ro996ths' target=\"_blank\">solar-sweep-3</a></strong> to <a href='https://wandb.ai/cs24s031-indian-institute-of-technology-madras/dl-assignment1-experiment' target=\"_blank\">Weights & Biases</a> (<a href='https://wandb.me/developer-guide' target=\"_blank\">docs</a>)<br>Sweep page: <a href='https://wandb.ai/cs24s031-indian-institute-of-technology-madras/dl-assignment1-experiment/sweeps/hfa2u67m' target=\"_blank\">https://wandb.ai/cs24s031-indian-institute-of-technology-madras/dl-assignment1-experiment/sweeps/hfa2u67m</a>"
      ],
      "text/plain": [
       "<IPython.core.display.HTML object>"
      ]
     },
     "metadata": {},
     "output_type": "display_data"
    },
    {
     "data": {
      "text/html": [
       " View project at <a href='https://wandb.ai/cs24s031-indian-institute-of-technology-madras/dl-assignment1-experiment' target=\"_blank\">https://wandb.ai/cs24s031-indian-institute-of-technology-madras/dl-assignment1-experiment</a>"
      ],
      "text/plain": [
       "<IPython.core.display.HTML object>"
      ]
     },
     "metadata": {},
     "output_type": "display_data"
    },
    {
     "data": {
      "text/html": [
       " View sweep at <a href='https://wandb.ai/cs24s031-indian-institute-of-technology-madras/dl-assignment1-experiment/sweeps/hfa2u67m' target=\"_blank\">https://wandb.ai/cs24s031-indian-institute-of-technology-madras/dl-assignment1-experiment/sweeps/hfa2u67m</a>"
      ],
      "text/plain": [
       "<IPython.core.display.HTML object>"
      ]
     },
     "metadata": {},
     "output_type": "display_data"
    },
    {
     "data": {
      "text/html": [
       " View run at <a href='https://wandb.ai/cs24s031-indian-institute-of-technology-madras/dl-assignment1-experiment/runs/ro996ths' target=\"_blank\">https://wandb.ai/cs24s031-indian-institute-of-technology-madras/dl-assignment1-experiment/runs/ro996ths</a>"
      ],
      "text/plain": [
       "<IPython.core.display.HTML object>"
      ]
     },
     "metadata": {},
     "output_type": "display_data"
    },
    {
     "name": "stdout",
     "output_type": "stream",
     "text": [
      "Starting training with run name: hl_4_bs_32_ac_tanh\n"
     ]
    },
    {
     "data": {
      "text/html": [],
      "text/plain": [
       "<IPython.core.display.HTML object>"
      ]
     },
     "metadata": {},
     "output_type": "display_data"
    },
    {
     "data": {
      "text/html": [
       " View run <strong style=\"color:#cdcd00\">hl_4_bs_32_ac_tanh</strong> at: <a href='https://wandb.ai/cs24s031-indian-institute-of-technology-madras/dl-assignment1-experiment/runs/ro996ths' target=\"_blank\">https://wandb.ai/cs24s031-indian-institute-of-technology-madras/dl-assignment1-experiment/runs/ro996ths</a><br> View project at: <a href='https://wandb.ai/cs24s031-indian-institute-of-technology-madras/dl-assignment1-experiment' target=\"_blank\">https://wandb.ai/cs24s031-indian-institute-of-technology-madras/dl-assignment1-experiment</a><br>Synced 5 W&B file(s), 0 media file(s), 0 artifact file(s) and 0 other file(s)"
      ],
      "text/plain": [
       "<IPython.core.display.HTML object>"
      ]
     },
     "metadata": {},
     "output_type": "display_data"
    },
    {
     "data": {
      "text/html": [
       "Find logs at: <code>./wandb/run-20250312_204307-ro996ths/logs</code>"
      ],
      "text/plain": [
       "<IPython.core.display.HTML object>"
      ]
     },
     "metadata": {},
     "output_type": "display_data"
    },
    {
     "name": "stderr",
     "output_type": "stream",
     "text": [
      "\u001b[34m\u001b[1mwandb\u001b[0m: Sweep Agent: Waiting for job.\n",
      "\u001b[34m\u001b[1mwandb\u001b[0m: Job received.\n",
      "\u001b[34m\u001b[1mwandb\u001b[0m: Agent Starting Run: i7gy8xmv with config:\n",
      "\u001b[34m\u001b[1mwandb\u001b[0m: \tactivation_function: ReLU\n",
      "\u001b[34m\u001b[1mwandb\u001b[0m: \tbatch_size: 16\n",
      "\u001b[34m\u001b[1mwandb\u001b[0m: \tepochs: 5\n",
      "\u001b[34m\u001b[1mwandb\u001b[0m: \thidden_layer_size: 128\n",
      "\u001b[34m\u001b[1mwandb\u001b[0m: \tlearning_rate: 0.001\n",
      "\u001b[34m\u001b[1mwandb\u001b[0m: \tnum_of_hidden_layers: 5\n",
      "\u001b[34m\u001b[1mwandb\u001b[0m: \toptimizer: RMSprop\n",
      "\u001b[34m\u001b[1mwandb\u001b[0m: \tweight_decay: 0\n",
      "\u001b[34m\u001b[1mwandb\u001b[0m: \tweight_initialization: Xavier\n"
     ]
    },
    {
     "data": {
      "text/html": [
       "Ignoring project 'dl-assignment1-experiment' when running a sweep."
      ],
      "text/plain": [
       "<IPython.core.display.HTML object>"
      ]
     },
     "metadata": {},
     "output_type": "display_data"
    },
    {
     "data": {
      "text/html": [
       "Tracking run with wandb version 0.19.8"
      ],
      "text/plain": [
       "<IPython.core.display.HTML object>"
      ]
     },
     "metadata": {},
     "output_type": "display_data"
    },
    {
     "data": {
      "text/html": [
       "Run data is saved locally in <code>/home/user/Documents/DL/assignment/wandb/run-20250312_204322-i7gy8xmv</code>"
      ],
      "text/plain": [
       "<IPython.core.display.HTML object>"
      ]
     },
     "metadata": {},
     "output_type": "display_data"
    },
    {
     "data": {
      "text/html": [
       "Syncing run <strong><a href='https://wandb.ai/cs24s031-indian-institute-of-technology-madras/dl-assignment1-experiment/runs/i7gy8xmv' target=\"_blank\">glad-sweep-4</a></strong> to <a href='https://wandb.ai/cs24s031-indian-institute-of-technology-madras/dl-assignment1-experiment' target=\"_blank\">Weights & Biases</a> (<a href='https://wandb.me/developer-guide' target=\"_blank\">docs</a>)<br>Sweep page: <a href='https://wandb.ai/cs24s031-indian-institute-of-technology-madras/dl-assignment1-experiment/sweeps/hfa2u67m' target=\"_blank\">https://wandb.ai/cs24s031-indian-institute-of-technology-madras/dl-assignment1-experiment/sweeps/hfa2u67m</a>"
      ],
      "text/plain": [
       "<IPython.core.display.HTML object>"
      ]
     },
     "metadata": {},
     "output_type": "display_data"
    },
    {
     "data": {
      "text/html": [
       " View project at <a href='https://wandb.ai/cs24s031-indian-institute-of-technology-madras/dl-assignment1-experiment' target=\"_blank\">https://wandb.ai/cs24s031-indian-institute-of-technology-madras/dl-assignment1-experiment</a>"
      ],
      "text/plain": [
       "<IPython.core.display.HTML object>"
      ]
     },
     "metadata": {},
     "output_type": "display_data"
    },
    {
     "data": {
      "text/html": [
       " View sweep at <a href='https://wandb.ai/cs24s031-indian-institute-of-technology-madras/dl-assignment1-experiment/sweeps/hfa2u67m' target=\"_blank\">https://wandb.ai/cs24s031-indian-institute-of-technology-madras/dl-assignment1-experiment/sweeps/hfa2u67m</a>"
      ],
      "text/plain": [
       "<IPython.core.display.HTML object>"
      ]
     },
     "metadata": {},
     "output_type": "display_data"
    },
    {
     "data": {
      "text/html": [
       " View run at <a href='https://wandb.ai/cs24s031-indian-institute-of-technology-madras/dl-assignment1-experiment/runs/i7gy8xmv' target=\"_blank\">https://wandb.ai/cs24s031-indian-institute-of-technology-madras/dl-assignment1-experiment/runs/i7gy8xmv</a>"
      ],
      "text/plain": [
       "<IPython.core.display.HTML object>"
      ]
     },
     "metadata": {},
     "output_type": "display_data"
    },
    {
     "name": "stdout",
     "output_type": "stream",
     "text": [
      "Starting training with run name: hl_5_bs_16_ac_ReLU\n",
      "Epoch 1/5 - Batch 3300/3375 - train-loss: 0.563206 train-acc: 0.937500 test-loss:0.544193 test-acc : 0.802000 \n",
      "Epoch 2/5 - Batch 3300/3375 - train-loss: 0.434479 train-acc: 0.937500 test-loss:0.578895 test-acc : 0.836667 \n",
      "Epoch 3/5 - Batch 3300/3375 - train-loss: 0.313870 train-acc: 0.875000 test-loss:0.698552 test-acc : 0.768667 \n",
      "Epoch 4/5 - Batch 3300/3375 - train-loss: 0.426276 train-acc: 0.937500 test-loss:0.582190 test-acc : 0.815167 \n",
      "Epoch 5/5 - Batch 3300/3375 - train-loss: 0.507809 train-acc: 0.812500 test-loss:0.671549 test-acc : 0.812833 \n"
     ]
    },
    {
     "data": {
      "text/html": [],
      "text/plain": [
       "<IPython.core.display.HTML object>"
      ]
     },
     "metadata": {},
     "output_type": "display_data"
    },
    {
     "data": {
      "text/html": [
       "<br>    <style><br>        .wandb-row {<br>            display: flex;<br>            flex-direction: row;<br>            flex-wrap: wrap;<br>            justify-content: flex-start;<br>            width: 100%;<br>        }<br>        .wandb-col {<br>            display: flex;<br>            flex-direction: column;<br>            flex-basis: 100%;<br>            flex: 1;<br>            padding: 10px;<br>        }<br>    </style><br><div class=\"wandb-row\"><div class=\"wandb-col\"><h3>Run history:</h3><br/><table class=\"wandb\"><tr><td>train_acc</td><td>▁▆▅▅▅▅▆▆▆▆▃██▆▁▅▅█▃▁▁▅█▁█▁█▆▃▃▅▁▆█▆▃▁█▆█</td></tr><tr><td>train_loss</td><td>▂▂▂▂▃▁▁▁▁▂▁▁▁▁▂▂▂▂▂▂▅▁▁▂▄▂▁▅▂▂▂▂▁▁▂▂█▂▃▂</td></tr><tr><td>val_acc</td><td>▁▂▂▄▄▆▄▅▆▇▆█▇▇▇▇█▇█▇▇█▇▇▆█▆█▅▇▆▆█▆▇█▃█▇█</td></tr><tr><td>val_loss</td><td>▅▃▂▄▁▁▂▁▁▁▁▂▂▃▂▄▂▃▁▂▂▅▃▂▃▄▄▄▃▂▂▂▅▃▃▅█▂▂▄</td></tr></table><br/></div><div class=\"wandb-col\"><h3>Run summary:</h3><br/><table class=\"wandb\"><tr><td>train_acc</td><td>0.8125</td></tr><tr><td>train_loss</td><td>0.50781</td></tr><tr><td>val_acc</td><td>0.81283</td></tr><tr><td>val_loss</td><td>0.67155</td></tr></table><br/></div></div>"
      ],
      "text/plain": [
       "<IPython.core.display.HTML object>"
      ]
     },
     "metadata": {},
     "output_type": "display_data"
    },
    {
     "data": {
      "text/html": [
       " View run <strong style=\"color:#cdcd00\">hl_5_bs_16_ac_ReLU</strong> at: <a href='https://wandb.ai/cs24s031-indian-institute-of-technology-madras/dl-assignment1-experiment/runs/i7gy8xmv' target=\"_blank\">https://wandb.ai/cs24s031-indian-institute-of-technology-madras/dl-assignment1-experiment/runs/i7gy8xmv</a><br> View project at: <a href='https://wandb.ai/cs24s031-indian-institute-of-technology-madras/dl-assignment1-experiment' target=\"_blank\">https://wandb.ai/cs24s031-indian-institute-of-technology-madras/dl-assignment1-experiment</a><br>Synced 5 W&B file(s), 0 media file(s), 0 artifact file(s) and 0 other file(s)"
      ],
      "text/plain": [
       "<IPython.core.display.HTML object>"
      ]
     },
     "metadata": {},
     "output_type": "display_data"
    },
    {
     "data": {
      "text/html": [
       "Find logs at: <code>./wandb/run-20250312_204322-i7gy8xmv/logs</code>"
      ],
      "text/plain": [
       "<IPython.core.display.HTML object>"
      ]
     },
     "metadata": {},
     "output_type": "display_data"
    },
    {
     "name": "stderr",
     "output_type": "stream",
     "text": [
      "\u001b[34m\u001b[1mwandb\u001b[0m: Agent Starting Run: 42xp1tbd with config:\n",
      "\u001b[34m\u001b[1mwandb\u001b[0m: \tactivation_function: sigmoid\n",
      "\u001b[34m\u001b[1mwandb\u001b[0m: \tbatch_size: 32\n",
      "\u001b[34m\u001b[1mwandb\u001b[0m: \tepochs: 5\n",
      "\u001b[34m\u001b[1mwandb\u001b[0m: \thidden_layer_size: 64\n",
      "\u001b[34m\u001b[1mwandb\u001b[0m: \tlearning_rate: 0.0001\n",
      "\u001b[34m\u001b[1mwandb\u001b[0m: \tnum_of_hidden_layers: 4\n",
      "\u001b[34m\u001b[1mwandb\u001b[0m: \toptimizer: sgd\n",
      "\u001b[34m\u001b[1mwandb\u001b[0m: \tweight_decay: 0\n",
      "\u001b[34m\u001b[1mwandb\u001b[0m: \tweight_initialization: random\n"
     ]
    },
    {
     "data": {
      "text/html": [
       "Ignoring project 'dl-assignment1-experiment' when running a sweep."
      ],
      "text/plain": [
       "<IPython.core.display.HTML object>"
      ]
     },
     "metadata": {},
     "output_type": "display_data"
    },
    {
     "data": {
      "text/html": [
       "Tracking run with wandb version 0.19.8"
      ],
      "text/plain": [
       "<IPython.core.display.HTML object>"
      ]
     },
     "metadata": {},
     "output_type": "display_data"
    },
    {
     "data": {
      "text/html": [
       "Run data is saved locally in <code>/home/user/Documents/DL/assignment/wandb/run-20250312_204354-42xp1tbd</code>"
      ],
      "text/plain": [
       "<IPython.core.display.HTML object>"
      ]
     },
     "metadata": {},
     "output_type": "display_data"
    },
    {
     "data": {
      "text/html": [
       "Syncing run <strong><a href='https://wandb.ai/cs24s031-indian-institute-of-technology-madras/dl-assignment1-experiment/runs/42xp1tbd' target=\"_blank\">deep-sweep-5</a></strong> to <a href='https://wandb.ai/cs24s031-indian-institute-of-technology-madras/dl-assignment1-experiment' target=\"_blank\">Weights & Biases</a> (<a href='https://wandb.me/developer-guide' target=\"_blank\">docs</a>)<br>Sweep page: <a href='https://wandb.ai/cs24s031-indian-institute-of-technology-madras/dl-assignment1-experiment/sweeps/hfa2u67m' target=\"_blank\">https://wandb.ai/cs24s031-indian-institute-of-technology-madras/dl-assignment1-experiment/sweeps/hfa2u67m</a>"
      ],
      "text/plain": [
       "<IPython.core.display.HTML object>"
      ]
     },
     "metadata": {},
     "output_type": "display_data"
    },
    {
     "data": {
      "text/html": [
       " View project at <a href='https://wandb.ai/cs24s031-indian-institute-of-technology-madras/dl-assignment1-experiment' target=\"_blank\">https://wandb.ai/cs24s031-indian-institute-of-technology-madras/dl-assignment1-experiment</a>"
      ],
      "text/plain": [
       "<IPython.core.display.HTML object>"
      ]
     },
     "metadata": {},
     "output_type": "display_data"
    },
    {
     "data": {
      "text/html": [
       " View sweep at <a href='https://wandb.ai/cs24s031-indian-institute-of-technology-madras/dl-assignment1-experiment/sweeps/hfa2u67m' target=\"_blank\">https://wandb.ai/cs24s031-indian-institute-of-technology-madras/dl-assignment1-experiment/sweeps/hfa2u67m</a>"
      ],
      "text/plain": [
       "<IPython.core.display.HTML object>"
      ]
     },
     "metadata": {},
     "output_type": "display_data"
    },
    {
     "data": {
      "text/html": [
       " View run at <a href='https://wandb.ai/cs24s031-indian-institute-of-technology-madras/dl-assignment1-experiment/runs/42xp1tbd' target=\"_blank\">https://wandb.ai/cs24s031-indian-institute-of-technology-madras/dl-assignment1-experiment/runs/42xp1tbd</a>"
      ],
      "text/plain": [
       "<IPython.core.display.HTML object>"
      ]
     },
     "metadata": {},
     "output_type": "display_data"
    },
    {
     "name": "stdout",
     "output_type": "stream",
     "text": [
      "Starting training with run name: hl_4_bs_32_ac_sigmoid\n",
      "Epoch 1/5 - Batch 1600/1687 - train-loss: 2.315431 train-acc: 0.093750 test-loss:2.302738 test-acc : 0.103167 \n",
      "Epoch 2/5 - Batch 1600/1687 - train-loss: 2.315431 train-acc: 0.093750 test-loss:2.302738 test-acc : 0.103167 \n",
      "Epoch 3/5 - Batch 1600/1687 - train-loss: 2.315431 train-acc: 0.093750 test-loss:2.302738 test-acc : 0.103167 \n",
      "Epoch 4/5 - Batch 1600/1687 - train-loss: 2.315431 train-acc: 0.093750 test-loss:2.302738 test-acc : 0.103167 \n",
      "Epoch 5/5 - Batch 1600/1687 - train-loss: 2.315431 train-acc: 0.093750 test-loss:2.302738 test-acc : 0.103167 \n"
     ]
    },
    {
     "data": {
      "text/html": [],
      "text/plain": [
       "<IPython.core.display.HTML object>"
      ]
     },
     "metadata": {},
     "output_type": "display_data"
    },
    {
     "data": {
      "text/html": [
       "<br>    <style><br>        .wandb-row {<br>            display: flex;<br>            flex-direction: row;<br>            flex-wrap: wrap;<br>            justify-content: flex-start;<br>            width: 100%;<br>        }<br>        .wandb-col {<br>            display: flex;<br>            flex-direction: column;<br>            flex-basis: 100%;<br>            flex: 1;<br>            padding: 10px;<br>        }<br>    </style><br><div class=\"wandb-row\"><div class=\"wandb-col\"><h3>Run history:</h3><br/><table class=\"wandb\"><tr><td>train_acc</td><td>▃▁▂▆▂▅▂▅█▆▃▅▂▂▅▅▃▂▃▅▇█▅▆▅▅▂▆█▅▅▃▂▆▂▂▆▅▂█</td></tr><tr><td>train_loss</td><td>█▁▁▁▁▁▁▁▁▁▁▁▁▁▁▁▁▁▁▁▁▁▁▁▁▁▁▁▁▁▁▁▁▁▁▁▁▁▁▁</td></tr><tr><td>val_acc</td><td>▁▇▄▄▁▇▄▄▃▄▁▄▇▄▄▄▄▃▄▃▁█▇▇▄▄▄▃▆▃▁█▄▃▆▄█▇▄▇</td></tr><tr><td>val_loss</td><td>▁▄▃▅▃▂▄▁▄▅▅█▂▄▁▅▁▄▃▅▅▃█▂▄▁▄▃▂▃▄▄▃▁▃▅▃█▂▁</td></tr></table><br/></div><div class=\"wandb-col\"><h3>Run summary:</h3><br/><table class=\"wandb\"><tr><td>train_acc</td><td>0.09375</td></tr><tr><td>train_loss</td><td>2.31543</td></tr><tr><td>val_acc</td><td>0.10317</td></tr><tr><td>val_loss</td><td>2.30274</td></tr></table><br/></div></div>"
      ],
      "text/plain": [
       "<IPython.core.display.HTML object>"
      ]
     },
     "metadata": {},
     "output_type": "display_data"
    },
    {
     "data": {
      "text/html": [
       " View run <strong style=\"color:#cdcd00\">hl_4_bs_32_ac_sigmoid</strong> at: <a href='https://wandb.ai/cs24s031-indian-institute-of-technology-madras/dl-assignment1-experiment/runs/42xp1tbd' target=\"_blank\">https://wandb.ai/cs24s031-indian-institute-of-technology-madras/dl-assignment1-experiment/runs/42xp1tbd</a><br> View project at: <a href='https://wandb.ai/cs24s031-indian-institute-of-technology-madras/dl-assignment1-experiment' target=\"_blank\">https://wandb.ai/cs24s031-indian-institute-of-technology-madras/dl-assignment1-experiment</a><br>Synced 5 W&B file(s), 0 media file(s), 0 artifact file(s) and 0 other file(s)"
      ],
      "text/plain": [
       "<IPython.core.display.HTML object>"
      ]
     },
     "metadata": {},
     "output_type": "display_data"
    },
    {
     "data": {
      "text/html": [
       "Find logs at: <code>./wandb/run-20250312_204354-42xp1tbd/logs</code>"
      ],
      "text/plain": [
       "<IPython.core.display.HTML object>"
      ]
     },
     "metadata": {},
     "output_type": "display_data"
    },
    {
     "name": "stderr",
     "output_type": "stream",
     "text": [
      "\u001b[34m\u001b[1mwandb\u001b[0m: Sweep Agent: Waiting for job.\n",
      "\u001b[34m\u001b[1mwandb\u001b[0m: Job received.\n",
      "\u001b[34m\u001b[1mwandb\u001b[0m: Agent Starting Run: qverlvfv with config:\n",
      "\u001b[34m\u001b[1mwandb\u001b[0m: \tactivation_function: ReLU\n",
      "\u001b[34m\u001b[1mwandb\u001b[0m: \tbatch_size: 32\n",
      "\u001b[34m\u001b[1mwandb\u001b[0m: \tepochs: 5\n",
      "\u001b[34m\u001b[1mwandb\u001b[0m: \thidden_layer_size: 128\n",
      "\u001b[34m\u001b[1mwandb\u001b[0m: \tlearning_rate: 0.0001\n",
      "\u001b[34m\u001b[1mwandb\u001b[0m: \tnum_of_hidden_layers: 3\n",
      "\u001b[34m\u001b[1mwandb\u001b[0m: \toptimizer: sgd\n",
      "\u001b[34m\u001b[1mwandb\u001b[0m: \tweight_decay: 0.0005\n",
      "\u001b[34m\u001b[1mwandb\u001b[0m: \tweight_initialization: Xavier\n"
     ]
    },
    {
     "data": {
      "text/html": [
       "Ignoring project 'dl-assignment1-experiment' when running a sweep."
      ],
      "text/plain": [
       "<IPython.core.display.HTML object>"
      ]
     },
     "metadata": {},
     "output_type": "display_data"
    },
    {
     "data": {
      "text/html": [
       "Tracking run with wandb version 0.19.8"
      ],
      "text/plain": [
       "<IPython.core.display.HTML object>"
      ]
     },
     "metadata": {},
     "output_type": "display_data"
    },
    {
     "data": {
      "text/html": [
       "Run data is saved locally in <code>/home/user/Documents/DL/assignment/wandb/run-20250312_204415-qverlvfv</code>"
      ],
      "text/plain": [
       "<IPython.core.display.HTML object>"
      ]
     },
     "metadata": {},
     "output_type": "display_data"
    },
    {
     "data": {
      "text/html": [
       "Syncing run <strong><a href='https://wandb.ai/cs24s031-indian-institute-of-technology-madras/dl-assignment1-experiment/runs/qverlvfv' target=\"_blank\">comic-sweep-6</a></strong> to <a href='https://wandb.ai/cs24s031-indian-institute-of-technology-madras/dl-assignment1-experiment' target=\"_blank\">Weights & Biases</a> (<a href='https://wandb.me/developer-guide' target=\"_blank\">docs</a>)<br>Sweep page: <a href='https://wandb.ai/cs24s031-indian-institute-of-technology-madras/dl-assignment1-experiment/sweeps/hfa2u67m' target=\"_blank\">https://wandb.ai/cs24s031-indian-institute-of-technology-madras/dl-assignment1-experiment/sweeps/hfa2u67m</a>"
      ],
      "text/plain": [
       "<IPython.core.display.HTML object>"
      ]
     },
     "metadata": {},
     "output_type": "display_data"
    },
    {
     "data": {
      "text/html": [
       " View project at <a href='https://wandb.ai/cs24s031-indian-institute-of-technology-madras/dl-assignment1-experiment' target=\"_blank\">https://wandb.ai/cs24s031-indian-institute-of-technology-madras/dl-assignment1-experiment</a>"
      ],
      "text/plain": [
       "<IPython.core.display.HTML object>"
      ]
     },
     "metadata": {},
     "output_type": "display_data"
    },
    {
     "data": {
      "text/html": [
       " View sweep at <a href='https://wandb.ai/cs24s031-indian-institute-of-technology-madras/dl-assignment1-experiment/sweeps/hfa2u67m' target=\"_blank\">https://wandb.ai/cs24s031-indian-institute-of-technology-madras/dl-assignment1-experiment/sweeps/hfa2u67m</a>"
      ],
      "text/plain": [
       "<IPython.core.display.HTML object>"
      ]
     },
     "metadata": {},
     "output_type": "display_data"
    },
    {
     "data": {
      "text/html": [
       " View run at <a href='https://wandb.ai/cs24s031-indian-institute-of-technology-madras/dl-assignment1-experiment/runs/qverlvfv' target=\"_blank\">https://wandb.ai/cs24s031-indian-institute-of-technology-madras/dl-assignment1-experiment/runs/qverlvfv</a>"
      ],
      "text/plain": [
       "<IPython.core.display.HTML object>"
      ]
     },
     "metadata": {},
     "output_type": "display_data"
    },
    {
     "name": "stdout",
     "output_type": "stream",
     "text": [
      "Starting training with run name: hl_3_bs_32_ac_ReLU\n",
      "Epoch 1/5 - Batch 1600/1687 - train-loss: 0.540969 train-acc: 0.781250 test-loss:0.524432 test-acc : 0.818833 \n",
      "Epoch 2/5 - Batch 1600/1687 - train-loss: 0.461502 train-acc: 0.812500 test-loss:0.469998 test-acc : 0.835500 \n",
      "Epoch 3/5 - Batch 1600/1687 - train-loss: 0.432141 train-acc: 0.812500 test-loss:0.440778 test-acc : 0.845833 \n",
      "Epoch 4/5 - Batch 1600/1687 - train-loss: 0.405985 train-acc: 0.843750 test-loss:0.421516 test-acc : 0.850667 \n",
      "Epoch 5/5 - Batch 1600/1687 - train-loss: 0.393034 train-acc: 0.843750 test-loss:0.408044 test-acc : 0.857167 \n"
     ]
    },
    {
     "data": {
      "text/html": [],
      "text/plain": [
       "<IPython.core.display.HTML object>"
      ]
     },
     "metadata": {},
     "output_type": "display_data"
    },
    {
     "data": {
      "text/html": [
       "<br>    <style><br>        .wandb-row {<br>            display: flex;<br>            flex-direction: row;<br>            flex-wrap: wrap;<br>            justify-content: flex-start;<br>            width: 100%;<br>        }<br>        .wandb-col {<br>            display: flex;<br>            flex-direction: column;<br>            flex-basis: 100%;<br>            flex: 1;<br>            padding: 10px;<br>        }<br>    </style><br><div class=\"wandb-row\"><div class=\"wandb-col\"><h3>Run history:</h3><br/><table class=\"wandb\"><tr><td>train_acc</td><td>▃▁▇▂▅▅▃▆▄▃▅▅▄▅▅▅▆▆▄▆▅▄▆▇▄▇▅▅▄▅▇▅▆▅█▇▄▅▇▅</td></tr><tr><td>train_loss</td><td>▆█▃▆▆▆▅▃▄▃▁▄▆▅▄▃▄▅▄▅▆▅▄▄▂▃▄▄▄▄▃▂▃▄▁▄▃▅▃▂</td></tr><tr><td>val_acc</td><td>▁▅▆▆▆▇▇▇▇▇▇▇▇▇▇▇▇▇▇▇██▇█▇▇▇████▇████████</td></tr><tr><td>val_loss</td><td>█▅▆▅▄▃▃▃▃▃▃▃▃▂▃▂▂▂▂▂▂▂▂▂▁▁▁▁▁▁▁▂▁▁▁▁▁▁▁▁</td></tr></table><br/></div><div class=\"wandb-col\"><h3>Run summary:</h3><br/><table class=\"wandb\"><tr><td>train_acc</td><td>0.84375</td></tr><tr><td>train_loss</td><td>0.39303</td></tr><tr><td>val_acc</td><td>0.85717</td></tr><tr><td>val_loss</td><td>0.40804</td></tr></table><br/></div></div>"
      ],
      "text/plain": [
       "<IPython.core.display.HTML object>"
      ]
     },
     "metadata": {},
     "output_type": "display_data"
    },
    {
     "data": {
      "text/html": [
       " View run <strong style=\"color:#cdcd00\">hl_3_bs_32_ac_ReLU</strong> at: <a href='https://wandb.ai/cs24s031-indian-institute-of-technology-madras/dl-assignment1-experiment/runs/qverlvfv' target=\"_blank\">https://wandb.ai/cs24s031-indian-institute-of-technology-madras/dl-assignment1-experiment/runs/qverlvfv</a><br> View project at: <a href='https://wandb.ai/cs24s031-indian-institute-of-technology-madras/dl-assignment1-experiment' target=\"_blank\">https://wandb.ai/cs24s031-indian-institute-of-technology-madras/dl-assignment1-experiment</a><br>Synced 5 W&B file(s), 0 media file(s), 0 artifact file(s) and 0 other file(s)"
      ],
      "text/plain": [
       "<IPython.core.display.HTML object>"
      ]
     },
     "metadata": {},
     "output_type": "display_data"
    },
    {
     "data": {
      "text/html": [
       "Find logs at: <code>./wandb/run-20250312_204415-qverlvfv/logs</code>"
      ],
      "text/plain": [
       "<IPython.core.display.HTML object>"
      ]
     },
     "metadata": {},
     "output_type": "display_data"
    },
    {
     "name": "stderr",
     "output_type": "stream",
     "text": [
      "\u001b[34m\u001b[1mwandb\u001b[0m: Agent Starting Run: 08kxd6l7 with config:\n",
      "\u001b[34m\u001b[1mwandb\u001b[0m: \tactivation_function: ReLU\n",
      "\u001b[34m\u001b[1mwandb\u001b[0m: \tbatch_size: 32\n",
      "\u001b[34m\u001b[1mwandb\u001b[0m: \tepochs: 10\n",
      "\u001b[34m\u001b[1mwandb\u001b[0m: \thidden_layer_size: 128\n",
      "\u001b[34m\u001b[1mwandb\u001b[0m: \tlearning_rate: 0.001\n",
      "\u001b[34m\u001b[1mwandb\u001b[0m: \tnum_of_hidden_layers: 3\n",
      "\u001b[34m\u001b[1mwandb\u001b[0m: \toptimizer: adam\n",
      "\u001b[34m\u001b[1mwandb\u001b[0m: \tweight_decay: 0.5\n",
      "\u001b[34m\u001b[1mwandb\u001b[0m: \tweight_initialization: Xavier\n"
     ]
    },
    {
     "data": {
      "text/html": [
       "Ignoring project 'dl-assignment1-experiment' when running a sweep."
      ],
      "text/plain": [
       "<IPython.core.display.HTML object>"
      ]
     },
     "metadata": {},
     "output_type": "display_data"
    },
    {
     "data": {
      "text/html": [
       "Tracking run with wandb version 0.19.8"
      ],
      "text/plain": [
       "<IPython.core.display.HTML object>"
      ]
     },
     "metadata": {},
     "output_type": "display_data"
    },
    {
     "data": {
      "text/html": [
       "Run data is saved locally in <code>/home/user/Documents/DL/assignment/wandb/run-20250312_204433-08kxd6l7</code>"
      ],
      "text/plain": [
       "<IPython.core.display.HTML object>"
      ]
     },
     "metadata": {},
     "output_type": "display_data"
    },
    {
     "data": {
      "text/html": [
       "Syncing run <strong><a href='https://wandb.ai/cs24s031-indian-institute-of-technology-madras/dl-assignment1-experiment/runs/08kxd6l7' target=\"_blank\">absurd-sweep-7</a></strong> to <a href='https://wandb.ai/cs24s031-indian-institute-of-technology-madras/dl-assignment1-experiment' target=\"_blank\">Weights & Biases</a> (<a href='https://wandb.me/developer-guide' target=\"_blank\">docs</a>)<br>Sweep page: <a href='https://wandb.ai/cs24s031-indian-institute-of-technology-madras/dl-assignment1-experiment/sweeps/hfa2u67m' target=\"_blank\">https://wandb.ai/cs24s031-indian-institute-of-technology-madras/dl-assignment1-experiment/sweeps/hfa2u67m</a>"
      ],
      "text/plain": [
       "<IPython.core.display.HTML object>"
      ]
     },
     "metadata": {},
     "output_type": "display_data"
    },
    {
     "data": {
      "text/html": [
       " View project at <a href='https://wandb.ai/cs24s031-indian-institute-of-technology-madras/dl-assignment1-experiment' target=\"_blank\">https://wandb.ai/cs24s031-indian-institute-of-technology-madras/dl-assignment1-experiment</a>"
      ],
      "text/plain": [
       "<IPython.core.display.HTML object>"
      ]
     },
     "metadata": {},
     "output_type": "display_data"
    },
    {
     "data": {
      "text/html": [
       " View sweep at <a href='https://wandb.ai/cs24s031-indian-institute-of-technology-madras/dl-assignment1-experiment/sweeps/hfa2u67m' target=\"_blank\">https://wandb.ai/cs24s031-indian-institute-of-technology-madras/dl-assignment1-experiment/sweeps/hfa2u67m</a>"
      ],
      "text/plain": [
       "<IPython.core.display.HTML object>"
      ]
     },
     "metadata": {},
     "output_type": "display_data"
    },
    {
     "data": {
      "text/html": [
       " View run at <a href='https://wandb.ai/cs24s031-indian-institute-of-technology-madras/dl-assignment1-experiment/runs/08kxd6l7' target=\"_blank\">https://wandb.ai/cs24s031-indian-institute-of-technology-madras/dl-assignment1-experiment/runs/08kxd6l7</a>"
      ],
      "text/plain": [
       "<IPython.core.display.HTML object>"
      ]
     },
     "metadata": {},
     "output_type": "display_data"
    },
    {
     "name": "stdout",
     "output_type": "stream",
     "text": [
      "Starting training with run name: hl_3_bs_32_ac_ReLU\n",
      "Epoch 1/10 - Batch 1600/1687 - train-loss: 0.622370 train-acc: 0.750000 test-loss:0.517791 test-acc : 0.815667 \n",
      "Epoch 2/10 - Batch 1600/1687 - train-loss: 0.597428 train-acc: 0.750000 test-loss:0.527341 test-acc : 0.811333 \n",
      "Epoch 3/10 - Batch 1600/1687 - train-loss: 0.567578 train-acc: 0.750000 test-loss:0.521322 test-acc : 0.813333 \n",
      "Epoch 4/10 - Batch 1600/1687 - train-loss: 0.557149 train-acc: 0.750000 test-loss:0.516112 test-acc : 0.816833 \n",
      "Epoch 5/10 - Batch 1600/1687 - train-loss: 0.553761 train-acc: 0.718750 test-loss:0.512186 test-acc : 0.818000 \n",
      "Epoch 6/10 - Batch 1600/1687 - train-loss: 0.553926 train-acc: 0.718750 test-loss:0.508912 test-acc : 0.818833 \n",
      "Epoch 7/10 - Batch 1600/1687 - train-loss: 0.551040 train-acc: 0.718750 test-loss:0.506504 test-acc : 0.821167 \n",
      "Epoch 8/10 - Batch 1600/1687 - train-loss: 0.551410 train-acc: 0.718750 test-loss:0.506302 test-acc : 0.820167 \n",
      "Epoch 9/10 - Batch 1600/1687 - train-loss: 0.549035 train-acc: 0.750000 test-loss:0.504625 test-acc : 0.822000 \n",
      "Epoch 10/10 - Batch 1600/1687 - train-loss: 0.539081 train-acc: 0.750000 test-loss:0.504034 test-acc : 0.822833 \n"
     ]
    },
    {
     "data": {
      "text/html": [],
      "text/plain": [
       "<IPython.core.display.HTML object>"
      ]
     },
     "metadata": {},
     "output_type": "display_data"
    },
    {
     "data": {
      "text/html": [
       "<br>    <style><br>        .wandb-row {<br>            display: flex;<br>            flex-direction: row;<br>            flex-wrap: wrap;<br>            justify-content: flex-start;<br>            width: 100%;<br>        }<br>        .wandb-col {<br>            display: flex;<br>            flex-direction: column;<br>            flex-basis: 100%;<br>            flex: 1;<br>            padding: 10px;<br>        }<br>    </style><br><div class=\"wandb-row\"><div class=\"wandb-col\"><h3>Run history:</h3><br/><table class=\"wandb\"><tr><td>train_acc</td><td>▇▄▄▂▆▇█▄▁▇▇▂▄▁▇▃▅▅▅▂▃▄▃▅▇▆▅█▄▅▃▄▂█▄▄▃█▃▆</td></tr><tr><td>train_loss</td><td>▁▆█▆▂▂▆▆▆▃▅▂▃▃▅▅▃▆▅▆▁▆▅▄▃▃█▃▅▅▆▅▆▅▄▅▆▆▆▃</td></tr><tr><td>val_acc</td><td>▁▂▄▃▇▄▆▂▃▃▄▁▃█▅▇▅▄▁▅▅▃▆▂▆▅▅▅▆▆▆▆▅▆▇▇█▆▇▆</td></tr><tr><td>val_loss</td><td>█▂▃▁▂▄▂▄▄▃▃▃▂▂▄▂▃▄▁▂▅▂▃▂▂▁▂▃▂▂▂▂▃▂▂▁▁▂▂▃</td></tr></table><br/></div><div class=\"wandb-col\"><h3>Run summary:</h3><br/><table class=\"wandb\"><tr><td>train_acc</td><td>0.75</td></tr><tr><td>train_loss</td><td>0.53908</td></tr><tr><td>val_acc</td><td>0.82283</td></tr><tr><td>val_loss</td><td>0.50403</td></tr></table><br/></div></div>"
      ],
      "text/plain": [
       "<IPython.core.display.HTML object>"
      ]
     },
     "metadata": {},
     "output_type": "display_data"
    },
    {
     "data": {
      "text/html": [
       " View run <strong style=\"color:#cdcd00\">hl_3_bs_32_ac_ReLU</strong> at: <a href='https://wandb.ai/cs24s031-indian-institute-of-technology-madras/dl-assignment1-experiment/runs/08kxd6l7' target=\"_blank\">https://wandb.ai/cs24s031-indian-institute-of-technology-madras/dl-assignment1-experiment/runs/08kxd6l7</a><br> View project at: <a href='https://wandb.ai/cs24s031-indian-institute-of-technology-madras/dl-assignment1-experiment' target=\"_blank\">https://wandb.ai/cs24s031-indian-institute-of-technology-madras/dl-assignment1-experiment</a><br>Synced 5 W&B file(s), 0 media file(s), 0 artifact file(s) and 0 other file(s)"
      ],
      "text/plain": [
       "<IPython.core.display.HTML object>"
      ]
     },
     "metadata": {},
     "output_type": "display_data"
    },
    {
     "data": {
      "text/html": [
       "Find logs at: <code>./wandb/run-20250312_204433-08kxd6l7/logs</code>"
      ],
      "text/plain": [
       "<IPython.core.display.HTML object>"
      ]
     },
     "metadata": {},
     "output_type": "display_data"
    },
    {
     "name": "stderr",
     "output_type": "stream",
     "text": [
      "\u001b[34m\u001b[1mwandb\u001b[0m: Agent Starting Run: 8z9c9wqa with config:\n",
      "\u001b[34m\u001b[1mwandb\u001b[0m: \tactivation_function: ReLU\n",
      "\u001b[34m\u001b[1mwandb\u001b[0m: \tbatch_size: 64\n",
      "\u001b[34m\u001b[1mwandb\u001b[0m: \tepochs: 5\n",
      "\u001b[34m\u001b[1mwandb\u001b[0m: \thidden_layer_size: 128\n",
      "\u001b[34m\u001b[1mwandb\u001b[0m: \tlearning_rate: 0.0001\n",
      "\u001b[34m\u001b[1mwandb\u001b[0m: \tnum_of_hidden_layers: 3\n",
      "\u001b[34m\u001b[1mwandb\u001b[0m: \toptimizer: nesterov\n",
      "\u001b[34m\u001b[1mwandb\u001b[0m: \tweight_decay: 0.0005\n",
      "\u001b[34m\u001b[1mwandb\u001b[0m: \tweight_initialization: Xavier\n"
     ]
    },
    {
     "data": {
      "text/html": [
       "Ignoring project 'dl-assignment1-experiment' when running a sweep."
      ],
      "text/plain": [
       "<IPython.core.display.HTML object>"
      ]
     },
     "metadata": {},
     "output_type": "display_data"
    },
    {
     "data": {
      "text/html": [
       "Tracking run with wandb version 0.19.8"
      ],
      "text/plain": [
       "<IPython.core.display.HTML object>"
      ]
     },
     "metadata": {},
     "output_type": "display_data"
    },
    {
     "data": {
      "text/html": [
       "Run data is saved locally in <code>/home/user/Documents/DL/assignment/wandb/run-20250312_204515-8z9c9wqa</code>"
      ],
      "text/plain": [
       "<IPython.core.display.HTML object>"
      ]
     },
     "metadata": {},
     "output_type": "display_data"
    },
    {
     "data": {
      "text/html": [
       "Syncing run <strong><a href='https://wandb.ai/cs24s031-indian-institute-of-technology-madras/dl-assignment1-experiment/runs/8z9c9wqa' target=\"_blank\">peachy-sweep-8</a></strong> to <a href='https://wandb.ai/cs24s031-indian-institute-of-technology-madras/dl-assignment1-experiment' target=\"_blank\">Weights & Biases</a> (<a href='https://wandb.me/developer-guide' target=\"_blank\">docs</a>)<br>Sweep page: <a href='https://wandb.ai/cs24s031-indian-institute-of-technology-madras/dl-assignment1-experiment/sweeps/hfa2u67m' target=\"_blank\">https://wandb.ai/cs24s031-indian-institute-of-technology-madras/dl-assignment1-experiment/sweeps/hfa2u67m</a>"
      ],
      "text/plain": [
       "<IPython.core.display.HTML object>"
      ]
     },
     "metadata": {},
     "output_type": "display_data"
    },
    {
     "data": {
      "text/html": [
       " View project at <a href='https://wandb.ai/cs24s031-indian-institute-of-technology-madras/dl-assignment1-experiment' target=\"_blank\">https://wandb.ai/cs24s031-indian-institute-of-technology-madras/dl-assignment1-experiment</a>"
      ],
      "text/plain": [
       "<IPython.core.display.HTML object>"
      ]
     },
     "metadata": {},
     "output_type": "display_data"
    },
    {
     "data": {
      "text/html": [
       " View sweep at <a href='https://wandb.ai/cs24s031-indian-institute-of-technology-madras/dl-assignment1-experiment/sweeps/hfa2u67m' target=\"_blank\">https://wandb.ai/cs24s031-indian-institute-of-technology-madras/dl-assignment1-experiment/sweeps/hfa2u67m</a>"
      ],
      "text/plain": [
       "<IPython.core.display.HTML object>"
      ]
     },
     "metadata": {},
     "output_type": "display_data"
    },
    {
     "data": {
      "text/html": [
       " View run at <a href='https://wandb.ai/cs24s031-indian-institute-of-technology-madras/dl-assignment1-experiment/runs/8z9c9wqa' target=\"_blank\">https://wandb.ai/cs24s031-indian-institute-of-technology-madras/dl-assignment1-experiment/runs/8z9c9wqa</a>"
      ],
      "text/plain": [
       "<IPython.core.display.HTML object>"
      ]
     },
     "metadata": {},
     "output_type": "display_data"
    },
    {
     "name": "stdout",
     "output_type": "stream",
     "text": [
      "Starting training with run name: hl_3_bs_64_ac_ReLU\n"
     ]
    },
    {
     "data": {
      "text/html": [],
      "text/plain": [
       "<IPython.core.display.HTML object>"
      ]
     },
     "metadata": {},
     "output_type": "display_data"
    },
    {
     "data": {
      "text/html": [
       " View run <strong style=\"color:#cdcd00\">hl_3_bs_64_ac_ReLU</strong> at: <a href='https://wandb.ai/cs24s031-indian-institute-of-technology-madras/dl-assignment1-experiment/runs/8z9c9wqa' target=\"_blank\">https://wandb.ai/cs24s031-indian-institute-of-technology-madras/dl-assignment1-experiment/runs/8z9c9wqa</a><br> View project at: <a href='https://wandb.ai/cs24s031-indian-institute-of-technology-madras/dl-assignment1-experiment' target=\"_blank\">https://wandb.ai/cs24s031-indian-institute-of-technology-madras/dl-assignment1-experiment</a><br>Synced 5 W&B file(s), 0 media file(s), 0 artifact file(s) and 0 other file(s)"
      ],
      "text/plain": [
       "<IPython.core.display.HTML object>"
      ]
     },
     "metadata": {},
     "output_type": "display_data"
    },
    {
     "data": {
      "text/html": [
       "Find logs at: <code>./wandb/run-20250312_204515-8z9c9wqa/logs</code>"
      ],
      "text/plain": [
       "<IPython.core.display.HTML object>"
      ]
     },
     "metadata": {},
     "output_type": "display_data"
    },
    {
     "name": "stderr",
     "output_type": "stream",
     "text": [
      "\u001b[34m\u001b[1mwandb\u001b[0m: Agent Starting Run: bjfjk0ea with config:\n",
      "\u001b[34m\u001b[1mwandb\u001b[0m: \tactivation_function: sigmoid\n",
      "\u001b[34m\u001b[1mwandb\u001b[0m: \tbatch_size: 16\n",
      "\u001b[34m\u001b[1mwandb\u001b[0m: \tepochs: 10\n",
      "\u001b[34m\u001b[1mwandb\u001b[0m: \thidden_layer_size: 64\n",
      "\u001b[34m\u001b[1mwandb\u001b[0m: \tlearning_rate: 0.001\n",
      "\u001b[34m\u001b[1mwandb\u001b[0m: \tnum_of_hidden_layers: 5\n",
      "\u001b[34m\u001b[1mwandb\u001b[0m: \toptimizer: nadam\n",
      "\u001b[34m\u001b[1mwandb\u001b[0m: \tweight_decay: 0.0005\n",
      "\u001b[34m\u001b[1mwandb\u001b[0m: \tweight_initialization: random\n"
     ]
    },
    {
     "data": {
      "text/html": [
       "Ignoring project 'dl-assignment1-experiment' when running a sweep."
      ],
      "text/plain": [
       "<IPython.core.display.HTML object>"
      ]
     },
     "metadata": {},
     "output_type": "display_data"
    },
    {
     "data": {
      "text/html": [
       "Tracking run with wandb version 0.19.8"
      ],
      "text/plain": [
       "<IPython.core.display.HTML object>"
      ]
     },
     "metadata": {},
     "output_type": "display_data"
    },
    {
     "data": {
      "text/html": [
       "Run data is saved locally in <code>/home/user/Documents/DL/assignment/wandb/run-20250312_204521-bjfjk0ea</code>"
      ],
      "text/plain": [
       "<IPython.core.display.HTML object>"
      ]
     },
     "metadata": {},
     "output_type": "display_data"
    },
    {
     "data": {
      "text/html": [
       "Syncing run <strong><a href='https://wandb.ai/cs24s031-indian-institute-of-technology-madras/dl-assignment1-experiment/runs/bjfjk0ea' target=\"_blank\">devoted-sweep-9</a></strong> to <a href='https://wandb.ai/cs24s031-indian-institute-of-technology-madras/dl-assignment1-experiment' target=\"_blank\">Weights & Biases</a> (<a href='https://wandb.me/developer-guide' target=\"_blank\">docs</a>)<br>Sweep page: <a href='https://wandb.ai/cs24s031-indian-institute-of-technology-madras/dl-assignment1-experiment/sweeps/hfa2u67m' target=\"_blank\">https://wandb.ai/cs24s031-indian-institute-of-technology-madras/dl-assignment1-experiment/sweeps/hfa2u67m</a>"
      ],
      "text/plain": [
       "<IPython.core.display.HTML object>"
      ]
     },
     "metadata": {},
     "output_type": "display_data"
    },
    {
     "data": {
      "text/html": [
       " View project at <a href='https://wandb.ai/cs24s031-indian-institute-of-technology-madras/dl-assignment1-experiment' target=\"_blank\">https://wandb.ai/cs24s031-indian-institute-of-technology-madras/dl-assignment1-experiment</a>"
      ],
      "text/plain": [
       "<IPython.core.display.HTML object>"
      ]
     },
     "metadata": {},
     "output_type": "display_data"
    },
    {
     "data": {
      "text/html": [
       " View sweep at <a href='https://wandb.ai/cs24s031-indian-institute-of-technology-madras/dl-assignment1-experiment/sweeps/hfa2u67m' target=\"_blank\">https://wandb.ai/cs24s031-indian-institute-of-technology-madras/dl-assignment1-experiment/sweeps/hfa2u67m</a>"
      ],
      "text/plain": [
       "<IPython.core.display.HTML object>"
      ]
     },
     "metadata": {},
     "output_type": "display_data"
    },
    {
     "data": {
      "text/html": [
       " View run at <a href='https://wandb.ai/cs24s031-indian-institute-of-technology-madras/dl-assignment1-experiment/runs/bjfjk0ea' target=\"_blank\">https://wandb.ai/cs24s031-indian-institute-of-technology-madras/dl-assignment1-experiment/runs/bjfjk0ea</a>"
      ],
      "text/plain": [
       "<IPython.core.display.HTML object>"
      ]
     },
     "metadata": {},
     "output_type": "display_data"
    },
    {
     "name": "stdout",
     "output_type": "stream",
     "text": [
      "Starting training with run name: hl_5_bs_16_ac_sigmoid\n",
      "Epoch 1/10 - Batch 3300/3375 - train-loss: 2.330401 train-acc: 0.062500 test-loss:2.315073 test-acc : 0.094333 \n",
      "Epoch 2/10 - Batch 3300/3375 - train-loss: 2.330387 train-acc: 0.062500 test-loss:2.315049 test-acc : 0.094333 \n",
      "Epoch 3/10 - Batch 3300/3375 - train-loss: 2.330405 train-acc: 0.062500 test-loss:2.315048 test-acc : 0.094333 \n",
      "Epoch 4/10 - Batch 3300/3375 - train-loss: 2.330417 train-acc: 0.062500 test-loss:2.315047 test-acc : 0.094333 \n",
      "Epoch 5/10 - Batch 3300/3375 - train-loss: 2.330423 train-acc: 0.062500 test-loss:2.315047 test-acc : 0.094333 \n",
      "Epoch 6/10 - Batch 3300/3375 - train-loss: 2.330427 train-acc: 0.062500 test-loss:2.315046 test-acc : 0.094333 \n",
      "Epoch 7/10 - Batch 3300/3375 - train-loss: 2.330431 train-acc: 0.062500 test-loss:2.315045 test-acc : 0.094333 \n",
      "Epoch 8/10 - Batch 3300/3375 - train-loss: 2.330434 train-acc: 0.062500 test-loss:2.315045 test-acc : 0.094333 \n",
      "Epoch 9/10 - Batch 3300/3375 - train-loss: 2.330437 train-acc: 0.062500 test-loss:2.315044 test-acc : 0.094333 \n",
      "Epoch 10/10 - Batch 3300/3375 - train-loss: 2.330441 train-acc: 0.062500 test-loss:2.315043 test-acc : 0.094333 \n"
     ]
    },
    {
     "data": {
      "text/html": [],
      "text/plain": [
       "<IPython.core.display.HTML object>"
      ]
     },
     "metadata": {},
     "output_type": "display_data"
    },
    {
     "data": {
      "text/html": [
       "<br>    <style><br>        .wandb-row {<br>            display: flex;<br>            flex-direction: row;<br>            flex-wrap: wrap;<br>            justify-content: flex-start;<br>            width: 100%;<br>        }<br>        .wandb-col {<br>            display: flex;<br>            flex-direction: column;<br>            flex-basis: 100%;<br>            flex: 1;<br>            padding: 10px;<br>        }<br>    </style><br><div class=\"wandb-row\"><div class=\"wandb-col\"><h3>Run history:</h3><br/><table class=\"wandb\"><tr><td>train_acc</td><td>▅▃▅▆▁█▆▃▅▁▅▃▅▆▅▆▅▃▃▁▃▅▅▃▅▅▃▅▁▁▃▁▅▁▆▆▁▅▃▅</td></tr><tr><td>train_loss</td><td>▆▆▅▅▄▆▇▁▆▆▅▃▄▆▆▄▅▄█▆█▅▅▅▄▅▅▆▆▅▇▃▃▅▄▆▆▆▄▅</td></tr><tr><td>val_acc</td><td>▆▇▃▁▄▄▄▇▄▄▇▁▃▄▇▆▁▆▆▇▄▆▄▁▆▄▄▇▇▁▁█▄▇▄▆▆▄▃▄</td></tr><tr><td>val_loss</td><td>▇▅▆▅▂▁▃▅▇▁▃▁▃▃▆▃█▃▂▃▄▆▃█▅▂▂▆▂█▃▃▆▂▄▃▃▃▆▁</td></tr></table><br/></div><div class=\"wandb-col\"><h3>Run summary:</h3><br/><table class=\"wandb\"><tr><td>train_acc</td><td>0.0625</td></tr><tr><td>train_loss</td><td>2.33044</td></tr><tr><td>val_acc</td><td>0.09433</td></tr><tr><td>val_loss</td><td>2.31504</td></tr></table><br/></div></div>"
      ],
      "text/plain": [
       "<IPython.core.display.HTML object>"
      ]
     },
     "metadata": {},
     "output_type": "display_data"
    },
    {
     "data": {
      "text/html": [
       " View run <strong style=\"color:#cdcd00\">hl_5_bs_16_ac_sigmoid</strong> at: <a href='https://wandb.ai/cs24s031-indian-institute-of-technology-madras/dl-assignment1-experiment/runs/bjfjk0ea' target=\"_blank\">https://wandb.ai/cs24s031-indian-institute-of-technology-madras/dl-assignment1-experiment/runs/bjfjk0ea</a><br> View project at: <a href='https://wandb.ai/cs24s031-indian-institute-of-technology-madras/dl-assignment1-experiment' target=\"_blank\">https://wandb.ai/cs24s031-indian-institute-of-technology-madras/dl-assignment1-experiment</a><br>Synced 5 W&B file(s), 0 media file(s), 0 artifact file(s) and 0 other file(s)"
      ],
      "text/plain": [
       "<IPython.core.display.HTML object>"
      ]
     },
     "metadata": {},
     "output_type": "display_data"
    },
    {
     "data": {
      "text/html": [
       "Find logs at: <code>./wandb/run-20250312_204521-bjfjk0ea/logs</code>"
      ],
      "text/plain": [
       "<IPython.core.display.HTML object>"
      ]
     },
     "metadata": {},
     "output_type": "display_data"
    },
    {
     "name": "stderr",
     "output_type": "stream",
     "text": [
      "\u001b[34m\u001b[1mwandb\u001b[0m: Agent Starting Run: pv4hxh85 with config:\n",
      "\u001b[34m\u001b[1mwandb\u001b[0m: \tactivation_function: sigmoid\n",
      "\u001b[34m\u001b[1mwandb\u001b[0m: \tbatch_size: 32\n",
      "\u001b[34m\u001b[1mwandb\u001b[0m: \tepochs: 10\n",
      "\u001b[34m\u001b[1mwandb\u001b[0m: \thidden_layer_size: 32\n",
      "\u001b[34m\u001b[1mwandb\u001b[0m: \tlearning_rate: 0.001\n",
      "\u001b[34m\u001b[1mwandb\u001b[0m: \tnum_of_hidden_layers: 3\n",
      "\u001b[34m\u001b[1mwandb\u001b[0m: \toptimizer: sgd\n",
      "\u001b[34m\u001b[1mwandb\u001b[0m: \tweight_decay: 0.5\n",
      "\u001b[34m\u001b[1mwandb\u001b[0m: \tweight_initialization: Xavier\n"
     ]
    },
    {
     "data": {
      "text/html": [
       "Ignoring project 'dl-assignment1-experiment' when running a sweep."
      ],
      "text/plain": [
       "<IPython.core.display.HTML object>"
      ]
     },
     "metadata": {},
     "output_type": "display_data"
    },
    {
     "data": {
      "text/html": [
       "Tracking run with wandb version 0.19.8"
      ],
      "text/plain": [
       "<IPython.core.display.HTML object>"
      ]
     },
     "metadata": {},
     "output_type": "display_data"
    },
    {
     "data": {
      "text/html": [
       "Run data is saved locally in <code>/home/user/Documents/DL/assignment/wandb/run-20250312_204614-pv4hxh85</code>"
      ],
      "text/plain": [
       "<IPython.core.display.HTML object>"
      ]
     },
     "metadata": {},
     "output_type": "display_data"
    },
    {
     "data": {
      "text/html": [
       "Syncing run <strong><a href='https://wandb.ai/cs24s031-indian-institute-of-technology-madras/dl-assignment1-experiment/runs/pv4hxh85' target=\"_blank\">desert-sweep-10</a></strong> to <a href='https://wandb.ai/cs24s031-indian-institute-of-technology-madras/dl-assignment1-experiment' target=\"_blank\">Weights & Biases</a> (<a href='https://wandb.me/developer-guide' target=\"_blank\">docs</a>)<br>Sweep page: <a href='https://wandb.ai/cs24s031-indian-institute-of-technology-madras/dl-assignment1-experiment/sweeps/hfa2u67m' target=\"_blank\">https://wandb.ai/cs24s031-indian-institute-of-technology-madras/dl-assignment1-experiment/sweeps/hfa2u67m</a>"
      ],
      "text/plain": [
       "<IPython.core.display.HTML object>"
      ]
     },
     "metadata": {},
     "output_type": "display_data"
    },
    {
     "data": {
      "text/html": [
       " View project at <a href='https://wandb.ai/cs24s031-indian-institute-of-technology-madras/dl-assignment1-experiment' target=\"_blank\">https://wandb.ai/cs24s031-indian-institute-of-technology-madras/dl-assignment1-experiment</a>"
      ],
      "text/plain": [
       "<IPython.core.display.HTML object>"
      ]
     },
     "metadata": {},
     "output_type": "display_data"
    },
    {
     "data": {
      "text/html": [
       " View sweep at <a href='https://wandb.ai/cs24s031-indian-institute-of-technology-madras/dl-assignment1-experiment/sweeps/hfa2u67m' target=\"_blank\">https://wandb.ai/cs24s031-indian-institute-of-technology-madras/dl-assignment1-experiment/sweeps/hfa2u67m</a>"
      ],
      "text/plain": [
       "<IPython.core.display.HTML object>"
      ]
     },
     "metadata": {},
     "output_type": "display_data"
    },
    {
     "data": {
      "text/html": [
       " View run at <a href='https://wandb.ai/cs24s031-indian-institute-of-technology-madras/dl-assignment1-experiment/runs/pv4hxh85' target=\"_blank\">https://wandb.ai/cs24s031-indian-institute-of-technology-madras/dl-assignment1-experiment/runs/pv4hxh85</a>"
      ],
      "text/plain": [
       "<IPython.core.display.HTML object>"
      ]
     },
     "metadata": {},
     "output_type": "display_data"
    },
    {
     "name": "stdout",
     "output_type": "stream",
     "text": [
      "Starting training with run name: hl_3_bs_32_ac_sigmoid\n",
      "Epoch 1/10 - Batch 1600/1687 - train-loss: 2.100288 train-acc: 0.343750 test-loss:2.068513 test-acc : 0.299667 \n",
      "Epoch 2/10 - Batch 1600/1687 - train-loss: 1.807203 train-acc: 0.250000 test-loss:1.779620 test-acc : 0.304500 \n",
      "Epoch 3/10 - Batch 1600/1687 - train-loss: 1.777738 train-acc: 0.250000 test-loss:1.755450 test-acc : 0.290833 \n",
      "Epoch 4/10 - Batch 1600/1687 - train-loss: 1.764734 train-acc: 0.281250 test-loss:1.745440 test-acc : 0.297833 \n",
      "Epoch 5/10 - Batch 1600/1687 - train-loss: 1.752412 train-acc: 0.281250 test-loss:1.736321 test-acc : 0.331167 \n",
      "Epoch 6/10 - Batch 1600/1687 - train-loss: 1.738156 train-acc: 0.343750 test-loss:1.725756 test-acc : 0.341833 \n",
      "Epoch 7/10 - Batch 1600/1687 - train-loss: 1.722905 train-acc: 0.406250 test-loss:1.713915 test-acc : 0.345667 \n",
      "Epoch 8/10 - Batch 1600/1687 - train-loss: 1.709909 train-acc: 0.406250 test-loss:1.703240 test-acc : 0.355667 \n",
      "Epoch 9/10 - Batch 1600/1687 - train-loss: 1.700649 train-acc: 0.406250 test-loss:1.695281 test-acc : 0.358167 \n",
      "Epoch 10/10 - Batch 1600/1687 - train-loss: 1.694439 train-acc: 0.406250 test-loss:1.689762 test-acc : 0.360000 \n"
     ]
    },
    {
     "data": {
      "text/html": [],
      "text/plain": [
       "<IPython.core.display.HTML object>"
      ]
     },
     "metadata": {},
     "output_type": "display_data"
    },
    {
     "data": {
      "text/html": [
       "<br>    <style><br>        .wandb-row {<br>            display: flex;<br>            flex-direction: row;<br>            flex-wrap: wrap;<br>            justify-content: flex-start;<br>            width: 100%;<br>        }<br>        .wandb-col {<br>            display: flex;<br>            flex-direction: column;<br>            flex-basis: 100%;<br>            flex: 1;<br>            padding: 10px;<br>        }<br>    </style><br><div class=\"wandb-row\"><div class=\"wandb-col\"><h3>Run history:</h3><br/><table class=\"wandb\"><tr><td>train_acc</td><td>▁▅▆▄▅▅▅▄▅▃▅█▄▃▅▅▄▄▄▃▇▃▄▄▃▅▅█▇▅▄▄▆▇▅▇▃▅▅▅</td></tr><tr><td>train_loss</td><td>██▇▅▅▂▂▃▃▂▃▂▂▂▂▁▂▃▂▂▂▂▁▂▂▂▂▂▂▂▁▂▂▂▂▁▂▁▂▁</td></tr><tr><td>val_acc</td><td>▁▄▁▂▄▅▃▁▆▄▂▃▅▃▃▄▄▄▅▃▅▅▄▇▅▆▅▆▅▆▆▆█▅▆█▆▅▆█</td></tr><tr><td>val_loss</td><td>██▇▆▅▄▃▂▂▂▂▂▂▂▂▂▂▂▂▂▁▁▁▁▁▁▁▁▁▁▁▁▁▁▁▁▁▁▁▁</td></tr></table><br/></div><div class=\"wandb-col\"><h3>Run summary:</h3><br/><table class=\"wandb\"><tr><td>train_acc</td><td>0.40625</td></tr><tr><td>train_loss</td><td>1.69444</td></tr><tr><td>val_acc</td><td>0.36</td></tr><tr><td>val_loss</td><td>1.68976</td></tr></table><br/></div></div>"
      ],
      "text/plain": [
       "<IPython.core.display.HTML object>"
      ]
     },
     "metadata": {},
     "output_type": "display_data"
    },
    {
     "data": {
      "text/html": [
       " View run <strong style=\"color:#cdcd00\">hl_3_bs_32_ac_sigmoid</strong> at: <a href='https://wandb.ai/cs24s031-indian-institute-of-technology-madras/dl-assignment1-experiment/runs/pv4hxh85' target=\"_blank\">https://wandb.ai/cs24s031-indian-institute-of-technology-madras/dl-assignment1-experiment/runs/pv4hxh85</a><br> View project at: <a href='https://wandb.ai/cs24s031-indian-institute-of-technology-madras/dl-assignment1-experiment' target=\"_blank\">https://wandb.ai/cs24s031-indian-institute-of-technology-madras/dl-assignment1-experiment</a><br>Synced 5 W&B file(s), 0 media file(s), 0 artifact file(s) and 0 other file(s)"
      ],
      "text/plain": [
       "<IPython.core.display.HTML object>"
      ]
     },
     "metadata": {},
     "output_type": "display_data"
    },
    {
     "data": {
      "text/html": [
       "Find logs at: <code>./wandb/run-20250312_204614-pv4hxh85/logs</code>"
      ],
      "text/plain": [
       "<IPython.core.display.HTML object>"
      ]
     },
     "metadata": {},
     "output_type": "display_data"
    },
    {
     "name": "stderr",
     "output_type": "stream",
     "text": [
      "\u001b[34m\u001b[1mwandb\u001b[0m: Agent Starting Run: 6qqlw1n5 with config:\n",
      "\u001b[34m\u001b[1mwandb\u001b[0m: \tactivation_function: ReLU\n",
      "\u001b[34m\u001b[1mwandb\u001b[0m: \tbatch_size: 64\n",
      "\u001b[34m\u001b[1mwandb\u001b[0m: \tepochs: 5\n",
      "\u001b[34m\u001b[1mwandb\u001b[0m: \thidden_layer_size: 64\n",
      "\u001b[34m\u001b[1mwandb\u001b[0m: \tlearning_rate: 0.0001\n",
      "\u001b[34m\u001b[1mwandb\u001b[0m: \tnum_of_hidden_layers: 3\n",
      "\u001b[34m\u001b[1mwandb\u001b[0m: \toptimizer: sgd\n",
      "\u001b[34m\u001b[1mwandb\u001b[0m: \tweight_decay: 0.5\n",
      "\u001b[34m\u001b[1mwandb\u001b[0m: \tweight_initialization: random\n"
     ]
    },
    {
     "data": {
      "text/html": [
       "Ignoring project 'dl-assignment1-experiment' when running a sweep."
      ],
      "text/plain": [
       "<IPython.core.display.HTML object>"
      ]
     },
     "metadata": {},
     "output_type": "display_data"
    },
    {
     "data": {
      "text/html": [
       "Tracking run with wandb version 0.19.8"
      ],
      "text/plain": [
       "<IPython.core.display.HTML object>"
      ]
     },
     "metadata": {},
     "output_type": "display_data"
    },
    {
     "data": {
      "text/html": [
       "Run data is saved locally in <code>/home/user/Documents/DL/assignment/wandb/run-20250312_204630-6qqlw1n5</code>"
      ],
      "text/plain": [
       "<IPython.core.display.HTML object>"
      ]
     },
     "metadata": {},
     "output_type": "display_data"
    },
    {
     "data": {
      "text/html": [
       "Syncing run <strong><a href='https://wandb.ai/cs24s031-indian-institute-of-technology-madras/dl-assignment1-experiment/runs/6qqlw1n5' target=\"_blank\">chocolate-sweep-11</a></strong> to <a href='https://wandb.ai/cs24s031-indian-institute-of-technology-madras/dl-assignment1-experiment' target=\"_blank\">Weights & Biases</a> (<a href='https://wandb.me/developer-guide' target=\"_blank\">docs</a>)<br>Sweep page: <a href='https://wandb.ai/cs24s031-indian-institute-of-technology-madras/dl-assignment1-experiment/sweeps/hfa2u67m' target=\"_blank\">https://wandb.ai/cs24s031-indian-institute-of-technology-madras/dl-assignment1-experiment/sweeps/hfa2u67m</a>"
      ],
      "text/plain": [
       "<IPython.core.display.HTML object>"
      ]
     },
     "metadata": {},
     "output_type": "display_data"
    },
    {
     "data": {
      "text/html": [
       " View project at <a href='https://wandb.ai/cs24s031-indian-institute-of-technology-madras/dl-assignment1-experiment' target=\"_blank\">https://wandb.ai/cs24s031-indian-institute-of-technology-madras/dl-assignment1-experiment</a>"
      ],
      "text/plain": [
       "<IPython.core.display.HTML object>"
      ]
     },
     "metadata": {},
     "output_type": "display_data"
    },
    {
     "data": {
      "text/html": [
       " View sweep at <a href='https://wandb.ai/cs24s031-indian-institute-of-technology-madras/dl-assignment1-experiment/sweeps/hfa2u67m' target=\"_blank\">https://wandb.ai/cs24s031-indian-institute-of-technology-madras/dl-assignment1-experiment/sweeps/hfa2u67m</a>"
      ],
      "text/plain": [
       "<IPython.core.display.HTML object>"
      ]
     },
     "metadata": {},
     "output_type": "display_data"
    },
    {
     "data": {
      "text/html": [
       " View run at <a href='https://wandb.ai/cs24s031-indian-institute-of-technology-madras/dl-assignment1-experiment/runs/6qqlw1n5' target=\"_blank\">https://wandb.ai/cs24s031-indian-institute-of-technology-madras/dl-assignment1-experiment/runs/6qqlw1n5</a>"
      ],
      "text/plain": [
       "<IPython.core.display.HTML object>"
      ]
     },
     "metadata": {},
     "output_type": "display_data"
    },
    {
     "name": "stdout",
     "output_type": "stream",
     "text": [
      "Starting training with run name: hl_3_bs_64_ac_ReLU\n",
      "Epoch 1/5 - Batch 800/843 - train-loss: 2.326782 train-acc: 0.109375 test-loss:2.317472 test-acc : 0.103167 \n",
      "Epoch 2/5 - Batch 800/843 - train-loss: 2.311429 train-acc: 0.109375 test-loss:2.306259 test-acc : 0.103167 \n",
      "Epoch 3/5 - Batch 800/843 - train-loss: 2.306073 train-acc: 0.109375 test-loss:2.303184 test-acc : 0.103167 \n",
      "Epoch 4/5 - Batch 800/843 - train-loss: 2.304065 train-acc: 0.109375 test-loss:2.302454 test-acc : 0.103167 \n",
      "Epoch 5/5 - Batch 800/843 - train-loss: 2.303253 train-acc: 0.109375 test-loss:2.302370 test-acc : 0.103167 \n"
     ]
    },
    {
     "data": {
      "text/html": [],
      "text/plain": [
       "<IPython.core.display.HTML object>"
      ]
     },
     "metadata": {},
     "output_type": "display_data"
    },
    {
     "data": {
      "text/html": [
       "<br>    <style><br>        .wandb-row {<br>            display: flex;<br>            flex-direction: row;<br>            flex-wrap: wrap;<br>            justify-content: flex-start;<br>            width: 100%;<br>        }<br>        .wandb-col {<br>            display: flex;<br>            flex-direction: column;<br>            flex-basis: 100%;<br>            flex: 1;<br>            padding: 10px;<br>        }<br>    </style><br><div class=\"wandb-row\"><div class=\"wandb-col\"><h3>Run history:</h3><br/><table class=\"wandb\"><tr><td>train_acc</td><td>▁▇▁▆█▃▂▅▁▇▁▆█▃▂▅▁▇▁▆█▃▂▅▂▇▁▆█▃▂▅▂▇▁▆▆▃▂▅</td></tr><tr><td>train_loss</td><td>█▄▃▁▃▃▆▃▄▂▂▁▂▂▄▂▃▂▂▁▂▂▃▂▂▂▁▁▂▂▂▂▂▂▁▁▂▂▂▂</td></tr><tr><td>val_acc</td><td>▁▁▁▁▁▁▁▁▁▁▁▁▁▁▁▁▁▁▁▁▁▁▁▁█▁▁▁▁▁█▁█▁▁▁█▁█▁</td></tr><tr><td>val_loss</td><td>█▇▆▅▅▄▄▃▃▃▂▂▂▂▂▂▁▁▁▁▁▁▁▁▁▁▁▁▁▁▁▁▁▁▁▁▁▁▁▁</td></tr></table><br/></div><div class=\"wandb-col\"><h3>Run summary:</h3><br/><table class=\"wandb\"><tr><td>train_acc</td><td>0.10938</td></tr><tr><td>train_loss</td><td>2.30325</td></tr><tr><td>val_acc</td><td>0.10317</td></tr><tr><td>val_loss</td><td>2.30237</td></tr></table><br/></div></div>"
      ],
      "text/plain": [
       "<IPython.core.display.HTML object>"
      ]
     },
     "metadata": {},
     "output_type": "display_data"
    },
    {
     "data": {
      "text/html": [
       " View run <strong style=\"color:#cdcd00\">hl_3_bs_64_ac_ReLU</strong> at: <a href='https://wandb.ai/cs24s031-indian-institute-of-technology-madras/dl-assignment1-experiment/runs/6qqlw1n5' target=\"_blank\">https://wandb.ai/cs24s031-indian-institute-of-technology-madras/dl-assignment1-experiment/runs/6qqlw1n5</a><br> View project at: <a href='https://wandb.ai/cs24s031-indian-institute-of-technology-madras/dl-assignment1-experiment' target=\"_blank\">https://wandb.ai/cs24s031-indian-institute-of-technology-madras/dl-assignment1-experiment</a><br>Synced 5 W&B file(s), 0 media file(s), 0 artifact file(s) and 0 other file(s)"
      ],
      "text/plain": [
       "<IPython.core.display.HTML object>"
      ]
     },
     "metadata": {},
     "output_type": "display_data"
    },
    {
     "data": {
      "text/html": [
       "Find logs at: <code>./wandb/run-20250312_204630-6qqlw1n5/logs</code>"
      ],
      "text/plain": [
       "<IPython.core.display.HTML object>"
      ]
     },
     "metadata": {},
     "output_type": "display_data"
    },
    {
     "name": "stderr",
     "output_type": "stream",
     "text": [
      "\u001b[34m\u001b[1mwandb\u001b[0m: Agent Starting Run: h1r51u0p with config:\n",
      "\u001b[34m\u001b[1mwandb\u001b[0m: \tactivation_function: ReLU\n",
      "\u001b[34m\u001b[1mwandb\u001b[0m: \tbatch_size: 16\n",
      "\u001b[34m\u001b[1mwandb\u001b[0m: \tepochs: 5\n",
      "\u001b[34m\u001b[1mwandb\u001b[0m: \thidden_layer_size: 128\n",
      "\u001b[34m\u001b[1mwandb\u001b[0m: \tlearning_rate: 0.001\n",
      "\u001b[34m\u001b[1mwandb\u001b[0m: \tnum_of_hidden_layers: 4\n",
      "\u001b[34m\u001b[1mwandb\u001b[0m: \toptimizer: nadam\n",
      "\u001b[34m\u001b[1mwandb\u001b[0m: \tweight_decay: 0.0005\n",
      "\u001b[34m\u001b[1mwandb\u001b[0m: \tweight_initialization: random\n"
     ]
    },
    {
     "data": {
      "text/html": [
       "Ignoring project 'dl-assignment1-experiment' when running a sweep."
      ],
      "text/plain": [
       "<IPython.core.display.HTML object>"
      ]
     },
     "metadata": {},
     "output_type": "display_data"
    },
    {
     "data": {
      "text/html": [
       "Tracking run with wandb version 0.19.8"
      ],
      "text/plain": [
       "<IPython.core.display.HTML object>"
      ]
     },
     "metadata": {},
     "output_type": "display_data"
    },
    {
     "data": {
      "text/html": [
       "Run data is saved locally in <code>/home/user/Documents/DL/assignment/wandb/run-20250312_204641-h1r51u0p</code>"
      ],
      "text/plain": [
       "<IPython.core.display.HTML object>"
      ]
     },
     "metadata": {},
     "output_type": "display_data"
    },
    {
     "data": {
      "text/html": [
       "Syncing run <strong><a href='https://wandb.ai/cs24s031-indian-institute-of-technology-madras/dl-assignment1-experiment/runs/h1r51u0p' target=\"_blank\">amber-sweep-12</a></strong> to <a href='https://wandb.ai/cs24s031-indian-institute-of-technology-madras/dl-assignment1-experiment' target=\"_blank\">Weights & Biases</a> (<a href='https://wandb.me/developer-guide' target=\"_blank\">docs</a>)<br>Sweep page: <a href='https://wandb.ai/cs24s031-indian-institute-of-technology-madras/dl-assignment1-experiment/sweeps/hfa2u67m' target=\"_blank\">https://wandb.ai/cs24s031-indian-institute-of-technology-madras/dl-assignment1-experiment/sweeps/hfa2u67m</a>"
      ],
      "text/plain": [
       "<IPython.core.display.HTML object>"
      ]
     },
     "metadata": {},
     "output_type": "display_data"
    },
    {
     "data": {
      "text/html": [
       " View project at <a href='https://wandb.ai/cs24s031-indian-institute-of-technology-madras/dl-assignment1-experiment' target=\"_blank\">https://wandb.ai/cs24s031-indian-institute-of-technology-madras/dl-assignment1-experiment</a>"
      ],
      "text/plain": [
       "<IPython.core.display.HTML object>"
      ]
     },
     "metadata": {},
     "output_type": "display_data"
    },
    {
     "data": {
      "text/html": [
       " View sweep at <a href='https://wandb.ai/cs24s031-indian-institute-of-technology-madras/dl-assignment1-experiment/sweeps/hfa2u67m' target=\"_blank\">https://wandb.ai/cs24s031-indian-institute-of-technology-madras/dl-assignment1-experiment/sweeps/hfa2u67m</a>"
      ],
      "text/plain": [
       "<IPython.core.display.HTML object>"
      ]
     },
     "metadata": {},
     "output_type": "display_data"
    },
    {
     "data": {
      "text/html": [
       " View run at <a href='https://wandb.ai/cs24s031-indian-institute-of-technology-madras/dl-assignment1-experiment/runs/h1r51u0p' target=\"_blank\">https://wandb.ai/cs24s031-indian-institute-of-technology-madras/dl-assignment1-experiment/runs/h1r51u0p</a>"
      ],
      "text/plain": [
       "<IPython.core.display.HTML object>"
      ]
     },
     "metadata": {},
     "output_type": "display_data"
    },
    {
     "name": "stdout",
     "output_type": "stream",
     "text": [
      "Starting training with run name: hl_4_bs_16_ac_ReLU\n",
      "Epoch 1/5 - Batch 3300/3375 - train-loss: 28.061944 train-acc: 0.125000 test-loss:29.643548 test-acc : 0.140833 \n",
      "Epoch 2/5 - Batch 3300/3375 - train-loss: 12.951666 train-acc: 0.625000 test-loss:13.382713 test-acc : 0.603833 \n",
      "Epoch 3/5 - Batch 3300/3375 - train-loss: 5.704693 train-acc: 0.875000 test-loss:6.766394 test-acc : 0.767000   \n",
      "Epoch 4/5 - Batch 3300/3375 - train-loss: 2.774138 train-acc: 0.812500 test-loss:4.840392 test-acc : 0.765833  \n",
      "Epoch 5/5 - Batch 3300/3375 - train-loss: 1.356067 train-acc: 0.750000 test-loss:1.645040 test-acc : 0.766500 \n"
     ]
    },
    {
     "data": {
      "text/html": [],
      "text/plain": [
       "<IPython.core.display.HTML object>"
      ]
     },
     "metadata": {},
     "output_type": "display_data"
    },
    {
     "data": {
      "text/html": [
       "<br>    <style><br>        .wandb-row {<br>            display: flex;<br>            flex-direction: row;<br>            flex-wrap: wrap;<br>            justify-content: flex-start;<br>            width: 100%;<br>        }<br>        .wandb-col {<br>            display: flex;<br>            flex-direction: column;<br>            flex-basis: 100%;<br>            flex: 1;<br>            padding: 10px;<br>        }<br>    </style><br><div class=\"wandb-row\"><div class=\"wandb-col\"><h3>Run history:</h3><br/><table class=\"wandb\"><tr><td>train_acc</td><td>▂▂▁▁▂▂▂▁▁▁▄▄▂▃▄▆▆▅▇▇▇▇▇▆█▇▆▆▇▆▇▆▇▆▆▇▇█▆▆</td></tr><tr><td>train_loss</td><td>▇▇▇█▇▇▇█▆▆▆▄▅▄▄▂▃▂▂▃▃▂▃▃▂▂▁▂▁▂▂▃▁▂▂▃▂▂▂▁</td></tr><tr><td>val_acc</td><td>▁▁▁▁▁▁▁▁▄▄▆▇▇▆▇█▇▇████████████████████▇█</td></tr><tr><td>val_loss</td><td>████████▇▇▅▅▅▄▄▄▃▃▃▃▃▂▂▂▂▂▂▂▂▂▂▂▂▂▂▁▂▁▁▁</td></tr></table><br/></div><div class=\"wandb-col\"><h3>Run summary:</h3><br/><table class=\"wandb\"><tr><td>train_acc</td><td>0.75</td></tr><tr><td>train_loss</td><td>1.35607</td></tr><tr><td>val_acc</td><td>0.7665</td></tr><tr><td>val_loss</td><td>1.64504</td></tr></table><br/></div></div>"
      ],
      "text/plain": [
       "<IPython.core.display.HTML object>"
      ]
     },
     "metadata": {},
     "output_type": "display_data"
    },
    {
     "data": {
      "text/html": [
       " View run <strong style=\"color:#cdcd00\">hl_4_bs_16_ac_ReLU</strong> at: <a href='https://wandb.ai/cs24s031-indian-institute-of-technology-madras/dl-assignment1-experiment/runs/h1r51u0p' target=\"_blank\">https://wandb.ai/cs24s031-indian-institute-of-technology-madras/dl-assignment1-experiment/runs/h1r51u0p</a><br> View project at: <a href='https://wandb.ai/cs24s031-indian-institute-of-technology-madras/dl-assignment1-experiment' target=\"_blank\">https://wandb.ai/cs24s031-indian-institute-of-technology-madras/dl-assignment1-experiment</a><br>Synced 5 W&B file(s), 0 media file(s), 0 artifact file(s) and 0 other file(s)"
      ],
      "text/plain": [
       "<IPython.core.display.HTML object>"
      ]
     },
     "metadata": {},
     "output_type": "display_data"
    },
    {
     "data": {
      "text/html": [
       "Find logs at: <code>./wandb/run-20250312_204641-h1r51u0p/logs</code>"
      ],
      "text/plain": [
       "<IPython.core.display.HTML object>"
      ]
     },
     "metadata": {},
     "output_type": "display_data"
    },
    {
     "name": "stderr",
     "output_type": "stream",
     "text": [
      "\u001b[34m\u001b[1mwandb\u001b[0m: Sweep Agent: Waiting for job.\n",
      "\u001b[34m\u001b[1mwandb\u001b[0m: Job received.\n",
      "\u001b[34m\u001b[1mwandb\u001b[0m: Agent Starting Run: h4j87mmn with config:\n",
      "\u001b[34m\u001b[1mwandb\u001b[0m: \tactivation_function: ReLU\n",
      "\u001b[34m\u001b[1mwandb\u001b[0m: \tbatch_size: 64\n",
      "\u001b[34m\u001b[1mwandb\u001b[0m: \tepochs: 5\n",
      "\u001b[34m\u001b[1mwandb\u001b[0m: \thidden_layer_size: 32\n",
      "\u001b[34m\u001b[1mwandb\u001b[0m: \tlearning_rate: 0.001\n",
      "\u001b[34m\u001b[1mwandb\u001b[0m: \tnum_of_hidden_layers: 3\n",
      "\u001b[34m\u001b[1mwandb\u001b[0m: \toptimizer: nesterov\n",
      "\u001b[34m\u001b[1mwandb\u001b[0m: \tweight_decay: 0.0005\n",
      "\u001b[34m\u001b[1mwandb\u001b[0m: \tweight_initialization: Xavier\n"
     ]
    },
    {
     "data": {
      "text/html": [
       "Ignoring project 'dl-assignment1-experiment' when running a sweep."
      ],
      "text/plain": [
       "<IPython.core.display.HTML object>"
      ]
     },
     "metadata": {},
     "output_type": "display_data"
    },
    {
     "data": {
      "text/html": [
       "Tracking run with wandb version 0.19.8"
      ],
      "text/plain": [
       "<IPython.core.display.HTML object>"
      ]
     },
     "metadata": {},
     "output_type": "display_data"
    },
    {
     "data": {
      "text/html": [
       "Run data is saved locally in <code>/home/user/Documents/DL/assignment/wandb/run-20250312_204724-h4j87mmn</code>"
      ],
      "text/plain": [
       "<IPython.core.display.HTML object>"
      ]
     },
     "metadata": {},
     "output_type": "display_data"
    },
    {
     "data": {
      "text/html": [
       "Syncing run <strong><a href='https://wandb.ai/cs24s031-indian-institute-of-technology-madras/dl-assignment1-experiment/runs/h4j87mmn' target=\"_blank\">vocal-sweep-13</a></strong> to <a href='https://wandb.ai/cs24s031-indian-institute-of-technology-madras/dl-assignment1-experiment' target=\"_blank\">Weights & Biases</a> (<a href='https://wandb.me/developer-guide' target=\"_blank\">docs</a>)<br>Sweep page: <a href='https://wandb.ai/cs24s031-indian-institute-of-technology-madras/dl-assignment1-experiment/sweeps/hfa2u67m' target=\"_blank\">https://wandb.ai/cs24s031-indian-institute-of-technology-madras/dl-assignment1-experiment/sweeps/hfa2u67m</a>"
      ],
      "text/plain": [
       "<IPython.core.display.HTML object>"
      ]
     },
     "metadata": {},
     "output_type": "display_data"
    },
    {
     "data": {
      "text/html": [
       " View project at <a href='https://wandb.ai/cs24s031-indian-institute-of-technology-madras/dl-assignment1-experiment' target=\"_blank\">https://wandb.ai/cs24s031-indian-institute-of-technology-madras/dl-assignment1-experiment</a>"
      ],
      "text/plain": [
       "<IPython.core.display.HTML object>"
      ]
     },
     "metadata": {},
     "output_type": "display_data"
    },
    {
     "data": {
      "text/html": [
       " View sweep at <a href='https://wandb.ai/cs24s031-indian-institute-of-technology-madras/dl-assignment1-experiment/sweeps/hfa2u67m' target=\"_blank\">https://wandb.ai/cs24s031-indian-institute-of-technology-madras/dl-assignment1-experiment/sweeps/hfa2u67m</a>"
      ],
      "text/plain": [
       "<IPython.core.display.HTML object>"
      ]
     },
     "metadata": {},
     "output_type": "display_data"
    },
    {
     "data": {
      "text/html": [
       " View run at <a href='https://wandb.ai/cs24s031-indian-institute-of-technology-madras/dl-assignment1-experiment/runs/h4j87mmn' target=\"_blank\">https://wandb.ai/cs24s031-indian-institute-of-technology-madras/dl-assignment1-experiment/runs/h4j87mmn</a>"
      ],
      "text/plain": [
       "<IPython.core.display.HTML object>"
      ]
     },
     "metadata": {},
     "output_type": "display_data"
    },
    {
     "name": "stdout",
     "output_type": "stream",
     "text": [
      "Starting training with run name: hl_3_bs_64_ac_ReLU\n"
     ]
    },
    {
     "data": {
      "text/html": [],
      "text/plain": [
       "<IPython.core.display.HTML object>"
      ]
     },
     "metadata": {},
     "output_type": "display_data"
    },
    {
     "data": {
      "text/html": [
       " View run <strong style=\"color:#cdcd00\">hl_3_bs_64_ac_ReLU</strong> at: <a href='https://wandb.ai/cs24s031-indian-institute-of-technology-madras/dl-assignment1-experiment/runs/h4j87mmn' target=\"_blank\">https://wandb.ai/cs24s031-indian-institute-of-technology-madras/dl-assignment1-experiment/runs/h4j87mmn</a><br> View project at: <a href='https://wandb.ai/cs24s031-indian-institute-of-technology-madras/dl-assignment1-experiment' target=\"_blank\">https://wandb.ai/cs24s031-indian-institute-of-technology-madras/dl-assignment1-experiment</a><br>Synced 5 W&B file(s), 0 media file(s), 0 artifact file(s) and 0 other file(s)"
      ],
      "text/plain": [
       "<IPython.core.display.HTML object>"
      ]
     },
     "metadata": {},
     "output_type": "display_data"
    },
    {
     "data": {
      "text/html": [
       "Find logs at: <code>./wandb/run-20250312_204724-h4j87mmn/logs</code>"
      ],
      "text/plain": [
       "<IPython.core.display.HTML object>"
      ]
     },
     "metadata": {},
     "output_type": "display_data"
    },
    {
     "name": "stderr",
     "output_type": "stream",
     "text": [
      "\u001b[34m\u001b[1mwandb\u001b[0m: Agent Starting Run: 4v21capj with config:\n",
      "\u001b[34m\u001b[1mwandb\u001b[0m: \tactivation_function: tanh\n",
      "\u001b[34m\u001b[1mwandb\u001b[0m: \tbatch_size: 64\n",
      "\u001b[34m\u001b[1mwandb\u001b[0m: \tepochs: 10\n",
      "\u001b[34m\u001b[1mwandb\u001b[0m: \thidden_layer_size: 32\n",
      "\u001b[34m\u001b[1mwandb\u001b[0m: \tlearning_rate: 0.001\n",
      "\u001b[34m\u001b[1mwandb\u001b[0m: \tnum_of_hidden_layers: 5\n",
      "\u001b[34m\u001b[1mwandb\u001b[0m: \toptimizer: momentum\n",
      "\u001b[34m\u001b[1mwandb\u001b[0m: \tweight_decay: 0\n",
      "\u001b[34m\u001b[1mwandb\u001b[0m: \tweight_initialization: Xavier\n"
     ]
    },
    {
     "data": {
      "text/html": [
       "Ignoring project 'dl-assignment1-experiment' when running a sweep."
      ],
      "text/plain": [
       "<IPython.core.display.HTML object>"
      ]
     },
     "metadata": {},
     "output_type": "display_data"
    },
    {
     "data": {
      "text/html": [
       "Tracking run with wandb version 0.19.8"
      ],
      "text/plain": [
       "<IPython.core.display.HTML object>"
      ]
     },
     "metadata": {},
     "output_type": "display_data"
    },
    {
     "data": {
      "text/html": [
       "Run data is saved locally in <code>/home/user/Documents/DL/assignment/wandb/run-20250312_204730-4v21capj</code>"
      ],
      "text/plain": [
       "<IPython.core.display.HTML object>"
      ]
     },
     "metadata": {},
     "output_type": "display_data"
    },
    {
     "data": {
      "text/html": [
       "Syncing run <strong><a href='https://wandb.ai/cs24s031-indian-institute-of-technology-madras/dl-assignment1-experiment/runs/4v21capj' target=\"_blank\">glad-sweep-14</a></strong> to <a href='https://wandb.ai/cs24s031-indian-institute-of-technology-madras/dl-assignment1-experiment' target=\"_blank\">Weights & Biases</a> (<a href='https://wandb.me/developer-guide' target=\"_blank\">docs</a>)<br>Sweep page: <a href='https://wandb.ai/cs24s031-indian-institute-of-technology-madras/dl-assignment1-experiment/sweeps/hfa2u67m' target=\"_blank\">https://wandb.ai/cs24s031-indian-institute-of-technology-madras/dl-assignment1-experiment/sweeps/hfa2u67m</a>"
      ],
      "text/plain": [
       "<IPython.core.display.HTML object>"
      ]
     },
     "metadata": {},
     "output_type": "display_data"
    },
    {
     "data": {
      "text/html": [
       " View project at <a href='https://wandb.ai/cs24s031-indian-institute-of-technology-madras/dl-assignment1-experiment' target=\"_blank\">https://wandb.ai/cs24s031-indian-institute-of-technology-madras/dl-assignment1-experiment</a>"
      ],
      "text/plain": [
       "<IPython.core.display.HTML object>"
      ]
     },
     "metadata": {},
     "output_type": "display_data"
    },
    {
     "data": {
      "text/html": [
       " View sweep at <a href='https://wandb.ai/cs24s031-indian-institute-of-technology-madras/dl-assignment1-experiment/sweeps/hfa2u67m' target=\"_blank\">https://wandb.ai/cs24s031-indian-institute-of-technology-madras/dl-assignment1-experiment/sweeps/hfa2u67m</a>"
      ],
      "text/plain": [
       "<IPython.core.display.HTML object>"
      ]
     },
     "metadata": {},
     "output_type": "display_data"
    },
    {
     "data": {
      "text/html": [
       " View run at <a href='https://wandb.ai/cs24s031-indian-institute-of-technology-madras/dl-assignment1-experiment/runs/4v21capj' target=\"_blank\">https://wandb.ai/cs24s031-indian-institute-of-technology-madras/dl-assignment1-experiment/runs/4v21capj</a>"
      ],
      "text/plain": [
       "<IPython.core.display.HTML object>"
      ]
     },
     "metadata": {},
     "output_type": "display_data"
    },
    {
     "name": "stdout",
     "output_type": "stream",
     "text": [
      "Starting training with run name: hl_5_bs_64_ac_tanh\n",
      "Epoch 1/10 - Batch 800/843 - train-loss: 0.529459 train-acc: 0.828125 test-loss:0.473603 test-acc : 0.830500 \n",
      "Epoch 2/10 - Batch 800/843 - train-loss: 0.504223 train-acc: 0.828125 test-loss:0.426920 test-acc : 0.849333 \n",
      "Epoch 3/10 - Batch 800/843 - train-loss: 0.444650 train-acc: 0.843750 test-loss:0.419208 test-acc : 0.851167 \n",
      "Epoch 4/10 - Batch 800/843 - train-loss: 0.415047 train-acc: 0.859375 test-loss:0.416495 test-acc : 0.853167 \n",
      "Epoch 5/10 - Batch 800/843 - train-loss: 0.406344 train-acc: 0.875000 test-loss:0.404024 test-acc : 0.856500 \n",
      "Epoch 6/10 - Batch 800/843 - train-loss: 0.421740 train-acc: 0.875000 test-loss:0.395326 test-acc : 0.861500 \n",
      "Epoch 7/10 - Batch 800/843 - train-loss: 0.438942 train-acc: 0.875000 test-loss:0.393912 test-acc : 0.862167 \n",
      "Epoch 8/10 - Batch 800/843 - train-loss: 0.450181 train-acc: 0.843750 test-loss:0.393826 test-acc : 0.862333 \n",
      "Epoch 9/10 - Batch 800/843 - train-loss: 0.458909 train-acc: 0.843750 test-loss:0.394460 test-acc : 0.863667 \n",
      "Epoch 10/10 - Batch 800/843 - train-loss: 0.452857 train-acc: 0.843750 test-loss:0.394110 test-acc : 0.864333 \n"
     ]
    },
    {
     "data": {
      "text/html": [],
      "text/plain": [
       "<IPython.core.display.HTML object>"
      ]
     },
     "metadata": {},
     "output_type": "display_data"
    },
    {
     "data": {
      "text/html": [
       "<br>    <style><br>        .wandb-row {<br>            display: flex;<br>            flex-direction: row;<br>            flex-wrap: wrap;<br>            justify-content: flex-start;<br>            width: 100%;<br>        }<br>        .wandb-col {<br>            display: flex;<br>            flex-direction: column;<br>            flex-basis: 100%;<br>            flex: 1;<br>            padding: 10px;<br>        }<br>    </style><br><div class=\"wandb-row\"><div class=\"wandb-col\"><h3>Run history:</h3><br/><table class=\"wandb\"><tr><td>train_acc</td><td>▁▃▅▇▃█▇▃▄▆█▅▆▄▆▅▇▇▅▇▇▇▄██▅▅▇▆▇█▇▅▅▇█▇▇▅▅</td></tr><tr><td>train_loss</td><td>▅█▆▄▂▆▅▄▃▂▂▁▅▄▂▁▂▅▄▂▂▁▄▃▂▁▁▂▄▁▂▁▁▄▂▄▂▁▂▄</td></tr><tr><td>val_acc</td><td>▁▂▂▄▄▅▆▆▆▆▆▆▇▆▆▇▇▇▆▆▇▇▇▇▇▇▇█▇▇▇█▇▇▇▇█▇▇▇</td></tr><tr><td>val_loss</td><td>█▅▅▄▄▃▃▃▂▂▂▂▂▂▂▁▂▂▂▁▁▁▁▁▁▁▂▁▁▁▁▁▁▁▁▁▁▁▁▁</td></tr></table><br/></div><div class=\"wandb-col\"><h3>Run summary:</h3><br/><table class=\"wandb\"><tr><td>train_acc</td><td>0.84375</td></tr><tr><td>train_loss</td><td>0.45286</td></tr><tr><td>val_acc</td><td>0.86433</td></tr><tr><td>val_loss</td><td>0.39411</td></tr></table><br/></div></div>"
      ],
      "text/plain": [
       "<IPython.core.display.HTML object>"
      ]
     },
     "metadata": {},
     "output_type": "display_data"
    },
    {
     "data": {
      "text/html": [
       " View run <strong style=\"color:#cdcd00\">hl_5_bs_64_ac_tanh</strong> at: <a href='https://wandb.ai/cs24s031-indian-institute-of-technology-madras/dl-assignment1-experiment/runs/4v21capj' target=\"_blank\">https://wandb.ai/cs24s031-indian-institute-of-technology-madras/dl-assignment1-experiment/runs/4v21capj</a><br> View project at: <a href='https://wandb.ai/cs24s031-indian-institute-of-technology-madras/dl-assignment1-experiment' target=\"_blank\">https://wandb.ai/cs24s031-indian-institute-of-technology-madras/dl-assignment1-experiment</a><br>Synced 5 W&B file(s), 0 media file(s), 0 artifact file(s) and 0 other file(s)"
      ],
      "text/plain": [
       "<IPython.core.display.HTML object>"
      ]
     },
     "metadata": {},
     "output_type": "display_data"
    },
    {
     "data": {
      "text/html": [
       "Find logs at: <code>./wandb/run-20250312_204730-4v21capj/logs</code>"
      ],
      "text/plain": [
       "<IPython.core.display.HTML object>"
      ]
     },
     "metadata": {},
     "output_type": "display_data"
    },
    {
     "name": "stderr",
     "output_type": "stream",
     "text": [
      "\u001b[34m\u001b[1mwandb\u001b[0m: Agent Starting Run: 4tsfa35a with config:\n",
      "\u001b[34m\u001b[1mwandb\u001b[0m: \tactivation_function: sigmoid\n",
      "\u001b[34m\u001b[1mwandb\u001b[0m: \tbatch_size: 64\n",
      "\u001b[34m\u001b[1mwandb\u001b[0m: \tepochs: 5\n",
      "\u001b[34m\u001b[1mwandb\u001b[0m: \thidden_layer_size: 128\n",
      "\u001b[34m\u001b[1mwandb\u001b[0m: \tlearning_rate: 0.001\n",
      "\u001b[34m\u001b[1mwandb\u001b[0m: \tnum_of_hidden_layers: 3\n",
      "\u001b[34m\u001b[1mwandb\u001b[0m: \toptimizer: sgd\n",
      "\u001b[34m\u001b[1mwandb\u001b[0m: \tweight_decay: 0.0005\n",
      "\u001b[34m\u001b[1mwandb\u001b[0m: \tweight_initialization: random\n"
     ]
    },
    {
     "data": {
      "text/html": [
       "Ignoring project 'dl-assignment1-experiment' when running a sweep."
      ],
      "text/plain": [
       "<IPython.core.display.HTML object>"
      ]
     },
     "metadata": {},
     "output_type": "display_data"
    },
    {
     "data": {
      "text/html": [
       "Tracking run with wandb version 0.19.8"
      ],
      "text/plain": [
       "<IPython.core.display.HTML object>"
      ]
     },
     "metadata": {},
     "output_type": "display_data"
    },
    {
     "data": {
      "text/html": [
       "Run data is saved locally in <code>/home/user/Documents/DL/assignment/wandb/run-20250312_204740-4tsfa35a</code>"
      ],
      "text/plain": [
       "<IPython.core.display.HTML object>"
      ]
     },
     "metadata": {},
     "output_type": "display_data"
    },
    {
     "data": {
      "text/html": [
       "Syncing run <strong><a href='https://wandb.ai/cs24s031-indian-institute-of-technology-madras/dl-assignment1-experiment/runs/4tsfa35a' target=\"_blank\">misunderstood-sweep-15</a></strong> to <a href='https://wandb.ai/cs24s031-indian-institute-of-technology-madras/dl-assignment1-experiment' target=\"_blank\">Weights & Biases</a> (<a href='https://wandb.me/developer-guide' target=\"_blank\">docs</a>)<br>Sweep page: <a href='https://wandb.ai/cs24s031-indian-institute-of-technology-madras/dl-assignment1-experiment/sweeps/hfa2u67m' target=\"_blank\">https://wandb.ai/cs24s031-indian-institute-of-technology-madras/dl-assignment1-experiment/sweeps/hfa2u67m</a>"
      ],
      "text/plain": [
       "<IPython.core.display.HTML object>"
      ]
     },
     "metadata": {},
     "output_type": "display_data"
    },
    {
     "data": {
      "text/html": [
       " View project at <a href='https://wandb.ai/cs24s031-indian-institute-of-technology-madras/dl-assignment1-experiment' target=\"_blank\">https://wandb.ai/cs24s031-indian-institute-of-technology-madras/dl-assignment1-experiment</a>"
      ],
      "text/plain": [
       "<IPython.core.display.HTML object>"
      ]
     },
     "metadata": {},
     "output_type": "display_data"
    },
    {
     "data": {
      "text/html": [
       " View sweep at <a href='https://wandb.ai/cs24s031-indian-institute-of-technology-madras/dl-assignment1-experiment/sweeps/hfa2u67m' target=\"_blank\">https://wandb.ai/cs24s031-indian-institute-of-technology-madras/dl-assignment1-experiment/sweeps/hfa2u67m</a>"
      ],
      "text/plain": [
       "<IPython.core.display.HTML object>"
      ]
     },
     "metadata": {},
     "output_type": "display_data"
    },
    {
     "data": {
      "text/html": [
       " View run at <a href='https://wandb.ai/cs24s031-indian-institute-of-technology-madras/dl-assignment1-experiment/runs/4tsfa35a' target=\"_blank\">https://wandb.ai/cs24s031-indian-institute-of-technology-madras/dl-assignment1-experiment/runs/4tsfa35a</a>"
      ],
      "text/plain": [
       "<IPython.core.display.HTML object>"
      ]
     },
     "metadata": {},
     "output_type": "display_data"
    },
    {
     "name": "stdout",
     "output_type": "stream",
     "text": [
      "Starting training with run name: hl_3_bs_64_ac_sigmoid\n",
      "Epoch 1/5 - Batch 800/843 - train-loss: 2.361183 train-acc: 0.156250 test-loss:2.335734 test-acc : 0.102333 \n",
      "Epoch 2/5 - Batch 800/843 - train-loss: 2.361183 train-acc: 0.156250 test-loss:2.335734 test-acc : 0.102333 \n",
      "Epoch 3/5 - Batch 800/843 - train-loss: 2.361183 train-acc: 0.156250 test-loss:2.335734 test-acc : 0.102333 \n",
      "Epoch 4/5 - Batch 800/843 - train-loss: 2.361183 train-acc: 0.156250 test-loss:2.335734 test-acc : 0.102333 \n",
      "Epoch 5/5 - Batch 800/843 - train-loss: 2.361183 train-acc: 0.156250 test-loss:2.335734 test-acc : 0.102333 \n"
     ]
    },
    {
     "data": {
      "text/html": [],
      "text/plain": [
       "<IPython.core.display.HTML object>"
      ]
     },
     "metadata": {},
     "output_type": "display_data"
    },
    {
     "data": {
      "text/html": [
       "<br>    <style><br>        .wandb-row {<br>            display: flex;<br>            flex-direction: row;<br>            flex-wrap: wrap;<br>            justify-content: flex-start;<br>            width: 100%;<br>        }<br>        .wandb-col {<br>            display: flex;<br>            flex-direction: column;<br>            flex-basis: 100%;<br>            flex: 1;<br>            padding: 10px;<br>        }<br>    </style><br><div class=\"wandb-row\"><div class=\"wandb-col\"><h3>Run history:</h3><br/><table class=\"wandb\"><tr><td>train_acc</td><td>▅▁▅█▅▁▅▅▅▁▅█▅▁▅▅▅▁▅█▅▁▅▅▅▁▅█▅▁▅▅▅▁▅█▅▁▅▅</td></tr><tr><td>train_loss</td><td>▃▇▁█▃▇▄▄▃▇▁█▃▇▄▄▃▇▁█▃▇▄▄▃▇▁█▃▇▄▄▃▇▁█▃▇▄▄</td></tr><tr><td>val_acc</td><td>▁▁▁█▇▁▂▅▁▁▁█▇▁▂▅▁▁▁█▇▁▂▅▁▁▁█▇▁▂▅▁▁▁█▇▁▂▅</td></tr><tr><td>val_loss</td><td>▆▁█▄▅▂▄▃▆▁█▄▅▂▄▃▆▁█▄▅▂▄▃▆▁█▄▅▂▄▃▆▁█▄▅▂▄▃</td></tr></table><br/></div><div class=\"wandb-col\"><h3>Run summary:</h3><br/><table class=\"wandb\"><tr><td>train_acc</td><td>0.15625</td></tr><tr><td>train_loss</td><td>2.36118</td></tr><tr><td>val_acc</td><td>0.10233</td></tr><tr><td>val_loss</td><td>2.33573</td></tr></table><br/></div></div>"
      ],
      "text/plain": [
       "<IPython.core.display.HTML object>"
      ]
     },
     "metadata": {},
     "output_type": "display_data"
    },
    {
     "data": {
      "text/html": [
       " View run <strong style=\"color:#cdcd00\">hl_3_bs_64_ac_sigmoid</strong> at: <a href='https://wandb.ai/cs24s031-indian-institute-of-technology-madras/dl-assignment1-experiment/runs/4tsfa35a' target=\"_blank\">https://wandb.ai/cs24s031-indian-institute-of-technology-madras/dl-assignment1-experiment/runs/4tsfa35a</a><br> View project at: <a href='https://wandb.ai/cs24s031-indian-institute-of-technology-madras/dl-assignment1-experiment' target=\"_blank\">https://wandb.ai/cs24s031-indian-institute-of-technology-madras/dl-assignment1-experiment</a><br>Synced 5 W&B file(s), 0 media file(s), 0 artifact file(s) and 0 other file(s)"
      ],
      "text/plain": [
       "<IPython.core.display.HTML object>"
      ]
     },
     "metadata": {},
     "output_type": "display_data"
    },
    {
     "data": {
      "text/html": [
       "Find logs at: <code>./wandb/run-20250312_204740-4tsfa35a/logs</code>"
      ],
      "text/plain": [
       "<IPython.core.display.HTML object>"
      ]
     },
     "metadata": {},
     "output_type": "display_data"
    },
    {
     "name": "stderr",
     "output_type": "stream",
     "text": [
      "\u001b[34m\u001b[1mwandb\u001b[0m: Agent Starting Run: nmhz8d7s with config:\n",
      "\u001b[34m\u001b[1mwandb\u001b[0m: \tactivation_function: tanh\n",
      "\u001b[34m\u001b[1mwandb\u001b[0m: \tbatch_size: 32\n",
      "\u001b[34m\u001b[1mwandb\u001b[0m: \tepochs: 10\n",
      "\u001b[34m\u001b[1mwandb\u001b[0m: \thidden_layer_size: 128\n",
      "\u001b[34m\u001b[1mwandb\u001b[0m: \tlearning_rate: 0.0001\n",
      "\u001b[34m\u001b[1mwandb\u001b[0m: \tnum_of_hidden_layers: 4\n",
      "\u001b[34m\u001b[1mwandb\u001b[0m: \toptimizer: sgd\n",
      "\u001b[34m\u001b[1mwandb\u001b[0m: \tweight_decay: 0\n",
      "\u001b[34m\u001b[1mwandb\u001b[0m: \tweight_initialization: Xavier\n"
     ]
    },
    {
     "data": {
      "text/html": [
       "Ignoring project 'dl-assignment1-experiment' when running a sweep."
      ],
      "text/plain": [
       "<IPython.core.display.HTML object>"
      ]
     },
     "metadata": {},
     "output_type": "display_data"
    },
    {
     "data": {
      "text/html": [
       "Tracking run with wandb version 0.19.8"
      ],
      "text/plain": [
       "<IPython.core.display.HTML object>"
      ]
     },
     "metadata": {},
     "output_type": "display_data"
    },
    {
     "data": {
      "text/html": [
       "Run data is saved locally in <code>/home/user/Documents/DL/assignment/wandb/run-20250312_204757-nmhz8d7s</code>"
      ],
      "text/plain": [
       "<IPython.core.display.HTML object>"
      ]
     },
     "metadata": {},
     "output_type": "display_data"
    },
    {
     "data": {
      "text/html": [
       "Syncing run <strong><a href='https://wandb.ai/cs24s031-indian-institute-of-technology-madras/dl-assignment1-experiment/runs/nmhz8d7s' target=\"_blank\">playful-sweep-16</a></strong> to <a href='https://wandb.ai/cs24s031-indian-institute-of-technology-madras/dl-assignment1-experiment' target=\"_blank\">Weights & Biases</a> (<a href='https://wandb.me/developer-guide' target=\"_blank\">docs</a>)<br>Sweep page: <a href='https://wandb.ai/cs24s031-indian-institute-of-technology-madras/dl-assignment1-experiment/sweeps/hfa2u67m' target=\"_blank\">https://wandb.ai/cs24s031-indian-institute-of-technology-madras/dl-assignment1-experiment/sweeps/hfa2u67m</a>"
      ],
      "text/plain": [
       "<IPython.core.display.HTML object>"
      ]
     },
     "metadata": {},
     "output_type": "display_data"
    },
    {
     "data": {
      "text/html": [
       " View project at <a href='https://wandb.ai/cs24s031-indian-institute-of-technology-madras/dl-assignment1-experiment' target=\"_blank\">https://wandb.ai/cs24s031-indian-institute-of-technology-madras/dl-assignment1-experiment</a>"
      ],
      "text/plain": [
       "<IPython.core.display.HTML object>"
      ]
     },
     "metadata": {},
     "output_type": "display_data"
    },
    {
     "data": {
      "text/html": [
       " View sweep at <a href='https://wandb.ai/cs24s031-indian-institute-of-technology-madras/dl-assignment1-experiment/sweeps/hfa2u67m' target=\"_blank\">https://wandb.ai/cs24s031-indian-institute-of-technology-madras/dl-assignment1-experiment/sweeps/hfa2u67m</a>"
      ],
      "text/plain": [
       "<IPython.core.display.HTML object>"
      ]
     },
     "metadata": {},
     "output_type": "display_data"
    },
    {
     "data": {
      "text/html": [
       " View run at <a href='https://wandb.ai/cs24s031-indian-institute-of-technology-madras/dl-assignment1-experiment/runs/nmhz8d7s' target=\"_blank\">https://wandb.ai/cs24s031-indian-institute-of-technology-madras/dl-assignment1-experiment/runs/nmhz8d7s</a>"
      ],
      "text/plain": [
       "<IPython.core.display.HTML object>"
      ]
     },
     "metadata": {},
     "output_type": "display_data"
    },
    {
     "name": "stdout",
     "output_type": "stream",
     "text": [
      "Starting training with run name: hl_4_bs_32_ac_tanh\n",
      "Epoch 1/10 - Batch 1600/1687 - train-loss: 0.598239 train-acc: 0.750000 test-loss:0.551170 test-acc : 0.806167 \n",
      "Epoch 2/10 - Batch 1600/1687 - train-loss: 0.497064 train-acc: 0.812500 test-loss:0.480216 test-acc : 0.831833 \n",
      "Epoch 3/10 - Batch 1600/1687 - train-loss: 0.446249 train-acc: 0.812500 test-loss:0.445909 test-acc : 0.845000 \n",
      "Epoch 4/10 - Batch 1600/1687 - train-loss: 0.417349 train-acc: 0.812500 test-loss:0.424092 test-acc : 0.852333 \n",
      "Epoch 5/10 - Batch 1600/1687 - train-loss: 0.399639 train-acc: 0.843750 test-loss:0.408492 test-acc : 0.859500 \n",
      "Epoch 6/10 - Batch 1600/1687 - train-loss: 0.387234 train-acc: 0.843750 test-loss:0.396530 test-acc : 0.862333 \n",
      "Epoch 7/10 - Batch 1600/1687 - train-loss: 0.378026 train-acc: 0.843750 test-loss:0.386963 test-acc : 0.864833 \n",
      "Epoch 8/10 - Batch 1600/1687 - train-loss: 0.370963 train-acc: 0.843750 test-loss:0.379094 test-acc : 0.867333 \n",
      "Epoch 9/10 - Batch 1600/1687 - train-loss: 0.365375 train-acc: 0.812500 test-loss:0.372483 test-acc : 0.869333 \n",
      "Epoch 10/10 - Batch 1600/1687 - train-loss: 0.360848 train-acc: 0.812500 test-loss:0.366832 test-acc : 0.870000 \n"
     ]
    },
    {
     "data": {
      "text/html": [],
      "text/plain": [
       "<IPython.core.display.HTML object>"
      ]
     },
     "metadata": {},
     "output_type": "display_data"
    },
    {
     "data": {
      "text/html": [
       "<br>    <style><br>        .wandb-row {<br>            display: flex;<br>            flex-direction: row;<br>            flex-wrap: wrap;<br>            justify-content: flex-start;<br>            width: 100%;<br>        }<br>        .wandb-col {<br>            display: flex;<br>            flex-direction: column;<br>            flex-basis: 100%;<br>            flex: 1;<br>            padding: 10px;<br>        }<br>    </style><br><div class=\"wandb-row\"><div class=\"wandb-col\"><h3>Run history:</h3><br/><table class=\"wandb\"><tr><td>train_acc</td><td>▃▁▃▆▃▃▂▂▆▆▃▂▄▇▆▃▃▄▃▆▄▃▅▆▆▃▆▇▆▆▇█▆▄▄▆▆▇▃▆</td></tr><tr><td>train_loss</td><td>▆█▅▆▄▄▂▃▂▂▄▇▄▃▂▂▄▃▄▅▃▁▂▃▂▂▁▃▃▃▃▄▃▃▂▂▁▂▆▁</td></tr><tr><td>val_acc</td><td>▁▂▅▅▅▅▆▆▆▆▆▇▇▇▇▇▇▇▇▇▇▇▇▇▇▇███▇████▇█████</td></tr><tr><td>val_loss</td><td>█▅▃▃▃▂▂▂▂▂▂▂▂▂▂▁▁▂▁▁▁▁▁▁▁▁▁▁▁▁▁▁▁▁▁▁▁▁▁▁</td></tr></table><br/></div><div class=\"wandb-col\"><h3>Run summary:</h3><br/><table class=\"wandb\"><tr><td>train_acc</td><td>0.8125</td></tr><tr><td>train_loss</td><td>0.36085</td></tr><tr><td>val_acc</td><td>0.87</td></tr><tr><td>val_loss</td><td>0.36683</td></tr></table><br/></div></div>"
      ],
      "text/plain": [
       "<IPython.core.display.HTML object>"
      ]
     },
     "metadata": {},
     "output_type": "display_data"
    },
    {
     "data": {
      "text/html": [
       " View run <strong style=\"color:#cdcd00\">hl_4_bs_32_ac_tanh</strong> at: <a href='https://wandb.ai/cs24s031-indian-institute-of-technology-madras/dl-assignment1-experiment/runs/nmhz8d7s' target=\"_blank\">https://wandb.ai/cs24s031-indian-institute-of-technology-madras/dl-assignment1-experiment/runs/nmhz8d7s</a><br> View project at: <a href='https://wandb.ai/cs24s031-indian-institute-of-technology-madras/dl-assignment1-experiment' target=\"_blank\">https://wandb.ai/cs24s031-indian-institute-of-technology-madras/dl-assignment1-experiment</a><br>Synced 5 W&B file(s), 0 media file(s), 0 artifact file(s) and 0 other file(s)"
      ],
      "text/plain": [
       "<IPython.core.display.HTML object>"
      ]
     },
     "metadata": {},
     "output_type": "display_data"
    },
    {
     "data": {
      "text/html": [
       "Find logs at: <code>./wandb/run-20250312_204757-nmhz8d7s/logs</code>"
      ],
      "text/plain": [
       "<IPython.core.display.HTML object>"
      ]
     },
     "metadata": {},
     "output_type": "display_data"
    },
    {
     "name": "stderr",
     "output_type": "stream",
     "text": [
      "\u001b[34m\u001b[1mwandb\u001b[0m: Sweep Agent: Waiting for job.\n",
      "\u001b[34m\u001b[1mwandb\u001b[0m: Job received.\n",
      "\u001b[34m\u001b[1mwandb\u001b[0m: Agent Starting Run: igdutdr9 with config:\n",
      "\u001b[34m\u001b[1mwandb\u001b[0m: \tactivation_function: tanh\n",
      "\u001b[34m\u001b[1mwandb\u001b[0m: \tbatch_size: 32\n",
      "\u001b[34m\u001b[1mwandb\u001b[0m: \tepochs: 5\n",
      "\u001b[34m\u001b[1mwandb\u001b[0m: \thidden_layer_size: 64\n",
      "\u001b[34m\u001b[1mwandb\u001b[0m: \tlearning_rate: 0.0001\n",
      "\u001b[34m\u001b[1mwandb\u001b[0m: \tnum_of_hidden_layers: 5\n",
      "\u001b[34m\u001b[1mwandb\u001b[0m: \toptimizer: nesterov\n",
      "\u001b[34m\u001b[1mwandb\u001b[0m: \tweight_decay: 0.5\n",
      "\u001b[34m\u001b[1mwandb\u001b[0m: \tweight_initialization: Xavier\n"
     ]
    },
    {
     "data": {
      "text/html": [
       "Ignoring project 'dl-assignment1-experiment' when running a sweep."
      ],
      "text/plain": [
       "<IPython.core.display.HTML object>"
      ]
     },
     "metadata": {},
     "output_type": "display_data"
    },
    {
     "data": {
      "text/html": [
       "Tracking run with wandb version 0.19.8"
      ],
      "text/plain": [
       "<IPython.core.display.HTML object>"
      ]
     },
     "metadata": {},
     "output_type": "display_data"
    },
    {
     "data": {
      "text/html": [
       "Run data is saved locally in <code>/home/user/Documents/DL/assignment/wandb/run-20250312_204900-igdutdr9</code>"
      ],
      "text/plain": [
       "<IPython.core.display.HTML object>"
      ]
     },
     "metadata": {},
     "output_type": "display_data"
    },
    {
     "data": {
      "text/html": [
       "Syncing run <strong><a href='https://wandb.ai/cs24s031-indian-institute-of-technology-madras/dl-assignment1-experiment/runs/igdutdr9' target=\"_blank\">resilient-sweep-17</a></strong> to <a href='https://wandb.ai/cs24s031-indian-institute-of-technology-madras/dl-assignment1-experiment' target=\"_blank\">Weights & Biases</a> (<a href='https://wandb.me/developer-guide' target=\"_blank\">docs</a>)<br>Sweep page: <a href='https://wandb.ai/cs24s031-indian-institute-of-technology-madras/dl-assignment1-experiment/sweeps/hfa2u67m' target=\"_blank\">https://wandb.ai/cs24s031-indian-institute-of-technology-madras/dl-assignment1-experiment/sweeps/hfa2u67m</a>"
      ],
      "text/plain": [
       "<IPython.core.display.HTML object>"
      ]
     },
     "metadata": {},
     "output_type": "display_data"
    },
    {
     "data": {
      "text/html": [
       " View project at <a href='https://wandb.ai/cs24s031-indian-institute-of-technology-madras/dl-assignment1-experiment' target=\"_blank\">https://wandb.ai/cs24s031-indian-institute-of-technology-madras/dl-assignment1-experiment</a>"
      ],
      "text/plain": [
       "<IPython.core.display.HTML object>"
      ]
     },
     "metadata": {},
     "output_type": "display_data"
    },
    {
     "data": {
      "text/html": [
       " View sweep at <a href='https://wandb.ai/cs24s031-indian-institute-of-technology-madras/dl-assignment1-experiment/sweeps/hfa2u67m' target=\"_blank\">https://wandb.ai/cs24s031-indian-institute-of-technology-madras/dl-assignment1-experiment/sweeps/hfa2u67m</a>"
      ],
      "text/plain": [
       "<IPython.core.display.HTML object>"
      ]
     },
     "metadata": {},
     "output_type": "display_data"
    },
    {
     "data": {
      "text/html": [
       " View run at <a href='https://wandb.ai/cs24s031-indian-institute-of-technology-madras/dl-assignment1-experiment/runs/igdutdr9' target=\"_blank\">https://wandb.ai/cs24s031-indian-institute-of-technology-madras/dl-assignment1-experiment/runs/igdutdr9</a>"
      ],
      "text/plain": [
       "<IPython.core.display.HTML object>"
      ]
     },
     "metadata": {},
     "output_type": "display_data"
    },
    {
     "name": "stdout",
     "output_type": "stream",
     "text": [
      "Starting training with run name: hl_5_bs_32_ac_tanh\n"
     ]
    },
    {
     "data": {
      "text/html": [],
      "text/plain": [
       "<IPython.core.display.HTML object>"
      ]
     },
     "metadata": {},
     "output_type": "display_data"
    },
    {
     "data": {
      "text/html": [
       " View run <strong style=\"color:#cdcd00\">hl_5_bs_32_ac_tanh</strong> at: <a href='https://wandb.ai/cs24s031-indian-institute-of-technology-madras/dl-assignment1-experiment/runs/igdutdr9' target=\"_blank\">https://wandb.ai/cs24s031-indian-institute-of-technology-madras/dl-assignment1-experiment/runs/igdutdr9</a><br> View project at: <a href='https://wandb.ai/cs24s031-indian-institute-of-technology-madras/dl-assignment1-experiment' target=\"_blank\">https://wandb.ai/cs24s031-indian-institute-of-technology-madras/dl-assignment1-experiment</a><br>Synced 5 W&B file(s), 0 media file(s), 0 artifact file(s) and 0 other file(s)"
      ],
      "text/plain": [
       "<IPython.core.display.HTML object>"
      ]
     },
     "metadata": {},
     "output_type": "display_data"
    },
    {
     "data": {
      "text/html": [
       "Find logs at: <code>./wandb/run-20250312_204900-igdutdr9/logs</code>"
      ],
      "text/plain": [
       "<IPython.core.display.HTML object>"
      ]
     },
     "metadata": {},
     "output_type": "display_data"
    },
    {
     "name": "stderr",
     "output_type": "stream",
     "text": [
      "\u001b[34m\u001b[1mwandb\u001b[0m: Agent Starting Run: v2uah48o with config:\n",
      "\u001b[34m\u001b[1mwandb\u001b[0m: \tactivation_function: tanh\n",
      "\u001b[34m\u001b[1mwandb\u001b[0m: \tbatch_size: 16\n",
      "\u001b[34m\u001b[1mwandb\u001b[0m: \tepochs: 10\n",
      "\u001b[34m\u001b[1mwandb\u001b[0m: \thidden_layer_size: 128\n",
      "\u001b[34m\u001b[1mwandb\u001b[0m: \tlearning_rate: 0.0001\n",
      "\u001b[34m\u001b[1mwandb\u001b[0m: \tnum_of_hidden_layers: 5\n",
      "\u001b[34m\u001b[1mwandb\u001b[0m: \toptimizer: sgd\n",
      "\u001b[34m\u001b[1mwandb\u001b[0m: \tweight_decay: 0\n",
      "\u001b[34m\u001b[1mwandb\u001b[0m: \tweight_initialization: Xavier\n"
     ]
    },
    {
     "data": {
      "text/html": [
       "Ignoring project 'dl-assignment1-experiment' when running a sweep."
      ],
      "text/plain": [
       "<IPython.core.display.HTML object>"
      ]
     },
     "metadata": {},
     "output_type": "display_data"
    },
    {
     "data": {
      "text/html": [
       "Tracking run with wandb version 0.19.8"
      ],
      "text/plain": [
       "<IPython.core.display.HTML object>"
      ]
     },
     "metadata": {},
     "output_type": "display_data"
    },
    {
     "data": {
      "text/html": [
       "Run data is saved locally in <code>/home/user/Documents/DL/assignment/wandb/run-20250312_204906-v2uah48o</code>"
      ],
      "text/plain": [
       "<IPython.core.display.HTML object>"
      ]
     },
     "metadata": {},
     "output_type": "display_data"
    },
    {
     "data": {
      "text/html": [
       "Syncing run <strong><a href='https://wandb.ai/cs24s031-indian-institute-of-technology-madras/dl-assignment1-experiment/runs/v2uah48o' target=\"_blank\">fluent-sweep-18</a></strong> to <a href='https://wandb.ai/cs24s031-indian-institute-of-technology-madras/dl-assignment1-experiment' target=\"_blank\">Weights & Biases</a> (<a href='https://wandb.me/developer-guide' target=\"_blank\">docs</a>)<br>Sweep page: <a href='https://wandb.ai/cs24s031-indian-institute-of-technology-madras/dl-assignment1-experiment/sweeps/hfa2u67m' target=\"_blank\">https://wandb.ai/cs24s031-indian-institute-of-technology-madras/dl-assignment1-experiment/sweeps/hfa2u67m</a>"
      ],
      "text/plain": [
       "<IPython.core.display.HTML object>"
      ]
     },
     "metadata": {},
     "output_type": "display_data"
    },
    {
     "data": {
      "text/html": [
       " View project at <a href='https://wandb.ai/cs24s031-indian-institute-of-technology-madras/dl-assignment1-experiment' target=\"_blank\">https://wandb.ai/cs24s031-indian-institute-of-technology-madras/dl-assignment1-experiment</a>"
      ],
      "text/plain": [
       "<IPython.core.display.HTML object>"
      ]
     },
     "metadata": {},
     "output_type": "display_data"
    },
    {
     "data": {
      "text/html": [
       " View sweep at <a href='https://wandb.ai/cs24s031-indian-institute-of-technology-madras/dl-assignment1-experiment/sweeps/hfa2u67m' target=\"_blank\">https://wandb.ai/cs24s031-indian-institute-of-technology-madras/dl-assignment1-experiment/sweeps/hfa2u67m</a>"
      ],
      "text/plain": [
       "<IPython.core.display.HTML object>"
      ]
     },
     "metadata": {},
     "output_type": "display_data"
    },
    {
     "data": {
      "text/html": [
       " View run at <a href='https://wandb.ai/cs24s031-indian-institute-of-technology-madras/dl-assignment1-experiment/runs/v2uah48o' target=\"_blank\">https://wandb.ai/cs24s031-indian-institute-of-technology-madras/dl-assignment1-experiment/runs/v2uah48o</a>"
      ],
      "text/plain": [
       "<IPython.core.display.HTML object>"
      ]
     },
     "metadata": {},
     "output_type": "display_data"
    },
    {
     "name": "stdout",
     "output_type": "stream",
     "text": [
      "Starting training with run name: hl_5_bs_16_ac_tanh\n",
      "Epoch 1/10 - Batch 3300/3375 - train-loss: 0.727864 train-acc: 0.875000 test-loss:0.537027 test-acc : 0.806833 \n",
      "Epoch 2/10 - Batch 3300/3375 - train-loss: 0.615931 train-acc: 0.875000 test-loss:0.464910 test-acc : 0.833667 \n",
      "Epoch 3/10 - Batch 3300/3375 - train-loss: 0.590026 train-acc: 0.875000 test-loss:0.432259 test-acc : 0.848833 \n",
      "Epoch 4/10 - Batch 3300/3375 - train-loss: 0.577843 train-acc: 0.875000 test-loss:0.412225 test-acc : 0.854167 \n",
      "Epoch 5/10 - Batch 3300/3375 - train-loss: 0.566853 train-acc: 0.875000 test-loss:0.398073 test-acc : 0.859667 \n",
      "Epoch 6/10 - Batch 3300/3375 - train-loss: 0.555590 train-acc: 0.875000 test-loss:0.387283 test-acc : 0.860833 \n",
      "Epoch 7/10 - Batch 3300/3375 - train-loss: 0.543989 train-acc: 0.875000 test-loss:0.378695 test-acc : 0.861833 \n",
      "Epoch 8/10 - Batch 3300/3375 - train-loss: 0.532266 train-acc: 0.875000 test-loss:0.371678 test-acc : 0.863667 \n",
      "Epoch 9/10 - Batch 3300/3375 - train-loss: 0.520752 train-acc: 0.875000 test-loss:0.365843 test-acc : 0.866667 \n",
      "Epoch 10/10 - Batch 3300/3375 - train-loss: 0.509754 train-acc: 0.875000 test-loss:0.360933 test-acc : 0.868500 \n"
     ]
    },
    {
     "data": {
      "text/html": [],
      "text/plain": [
       "<IPython.core.display.HTML object>"
      ]
     },
     "metadata": {},
     "output_type": "display_data"
    },
    {
     "data": {
      "text/html": [
       "<br>    <style><br>        .wandb-row {<br>            display: flex;<br>            flex-direction: row;<br>            flex-wrap: wrap;<br>            justify-content: flex-start;<br>            width: 100%;<br>        }<br>        .wandb-col {<br>            display: flex;<br>            flex-direction: column;<br>            flex-basis: 100%;<br>            flex: 1;<br>            padding: 10px;<br>        }<br>    </style><br><div class=\"wandb-row\"><div class=\"wandb-col\"><h3>Run history:</h3><br/><table class=\"wandb\"><tr><td>train_acc</td><td>█▁▅▇▅▄▃▅▇▅▇█▄▃▃▇█▇▅▄▆▇▇▆█▇▆▆▅▇▇▆▇▆▇▄▅▄▇▅</td></tr><tr><td>train_loss</td><td>▇▄▇█▄▅▃▂▃▄▄▆▂▃▄▅▆▂▃▂▁▅▂▃▂▃▃▃▄▃▃▂▁▃▁▄▁▃▂▄</td></tr><tr><td>val_acc</td><td>▁▁▂▃▄▄▅▅▅▅▆▆▆▇▇▇▇▇▇▇▇▇▇▇▇▇█▇▇█▇█████████</td></tr><tr><td>val_loss</td><td>█▆▄▄▃▃▃▃▃▃▃▂▂▂▂▂▂▂▂▂▂▂▂▂▂▁▁▁▁▁▁▁▁▁▁▁▁▁▁▁</td></tr></table><br/></div><div class=\"wandb-col\"><h3>Run summary:</h3><br/><table class=\"wandb\"><tr><td>train_acc</td><td>0.875</td></tr><tr><td>train_loss</td><td>0.50975</td></tr><tr><td>val_acc</td><td>0.8685</td></tr><tr><td>val_loss</td><td>0.36093</td></tr></table><br/></div></div>"
      ],
      "text/plain": [
       "<IPython.core.display.HTML object>"
      ]
     },
     "metadata": {},
     "output_type": "display_data"
    },
    {
     "data": {
      "text/html": [
       " View run <strong style=\"color:#cdcd00\">hl_5_bs_16_ac_tanh</strong> at: <a href='https://wandb.ai/cs24s031-indian-institute-of-technology-madras/dl-assignment1-experiment/runs/v2uah48o' target=\"_blank\">https://wandb.ai/cs24s031-indian-institute-of-technology-madras/dl-assignment1-experiment/runs/v2uah48o</a><br> View project at: <a href='https://wandb.ai/cs24s031-indian-institute-of-technology-madras/dl-assignment1-experiment' target=\"_blank\">https://wandb.ai/cs24s031-indian-institute-of-technology-madras/dl-assignment1-experiment</a><br>Synced 5 W&B file(s), 0 media file(s), 0 artifact file(s) and 0 other file(s)"
      ],
      "text/plain": [
       "<IPython.core.display.HTML object>"
      ]
     },
     "metadata": {},
     "output_type": "display_data"
    },
    {
     "data": {
      "text/html": [
       "Find logs at: <code>./wandb/run-20250312_204906-v2uah48o/logs</code>"
      ],
      "text/plain": [
       "<IPython.core.display.HTML object>"
      ]
     },
     "metadata": {},
     "output_type": "display_data"
    },
    {
     "name": "stderr",
     "output_type": "stream",
     "text": [
      "\u001b[34m\u001b[1mwandb\u001b[0m: Sweep Agent: Waiting for job.\n",
      "\u001b[34m\u001b[1mwandb\u001b[0m: Job received.\n",
      "\u001b[34m\u001b[1mwandb\u001b[0m: Agent Starting Run: grmtgqrw with config:\n",
      "\u001b[34m\u001b[1mwandb\u001b[0m: \tactivation_function: ReLU\n",
      "\u001b[34m\u001b[1mwandb\u001b[0m: \tbatch_size: 16\n",
      "\u001b[34m\u001b[1mwandb\u001b[0m: \tepochs: 5\n",
      "\u001b[34m\u001b[1mwandb\u001b[0m: \thidden_layer_size: 128\n",
      "\u001b[34m\u001b[1mwandb\u001b[0m: \tlearning_rate: 0.001\n",
      "\u001b[34m\u001b[1mwandb\u001b[0m: \tnum_of_hidden_layers: 5\n",
      "\u001b[34m\u001b[1mwandb\u001b[0m: \toptimizer: nadam\n",
      "\u001b[34m\u001b[1mwandb\u001b[0m: \tweight_decay: 0.0005\n",
      "\u001b[34m\u001b[1mwandb\u001b[0m: \tweight_initialization: Xavier\n"
     ]
    },
    {
     "data": {
      "text/html": [
       "Ignoring project 'dl-assignment1-experiment' when running a sweep."
      ],
      "text/plain": [
       "<IPython.core.display.HTML object>"
      ]
     },
     "metadata": {},
     "output_type": "display_data"
    },
    {
     "data": {
      "text/html": [
       "Tracking run with wandb version 0.19.8"
      ],
      "text/plain": [
       "<IPython.core.display.HTML object>"
      ]
     },
     "metadata": {},
     "output_type": "display_data"
    },
    {
     "data": {
      "text/html": [
       "Run data is saved locally in <code>/home/user/Documents/DL/assignment/wandb/run-20250312_205020-grmtgqrw</code>"
      ],
      "text/plain": [
       "<IPython.core.display.HTML object>"
      ]
     },
     "metadata": {},
     "output_type": "display_data"
    },
    {
     "data": {
      "text/html": [
       "Syncing run <strong><a href='https://wandb.ai/cs24s031-indian-institute-of-technology-madras/dl-assignment1-experiment/runs/grmtgqrw' target=\"_blank\">olive-sweep-19</a></strong> to <a href='https://wandb.ai/cs24s031-indian-institute-of-technology-madras/dl-assignment1-experiment' target=\"_blank\">Weights & Biases</a> (<a href='https://wandb.me/developer-guide' target=\"_blank\">docs</a>)<br>Sweep page: <a href='https://wandb.ai/cs24s031-indian-institute-of-technology-madras/dl-assignment1-experiment/sweeps/hfa2u67m' target=\"_blank\">https://wandb.ai/cs24s031-indian-institute-of-technology-madras/dl-assignment1-experiment/sweeps/hfa2u67m</a>"
      ],
      "text/plain": [
       "<IPython.core.display.HTML object>"
      ]
     },
     "metadata": {},
     "output_type": "display_data"
    },
    {
     "data": {
      "text/html": [
       " View project at <a href='https://wandb.ai/cs24s031-indian-institute-of-technology-madras/dl-assignment1-experiment' target=\"_blank\">https://wandb.ai/cs24s031-indian-institute-of-technology-madras/dl-assignment1-experiment</a>"
      ],
      "text/plain": [
       "<IPython.core.display.HTML object>"
      ]
     },
     "metadata": {},
     "output_type": "display_data"
    },
    {
     "data": {
      "text/html": [
       " View sweep at <a href='https://wandb.ai/cs24s031-indian-institute-of-technology-madras/dl-assignment1-experiment/sweeps/hfa2u67m' target=\"_blank\">https://wandb.ai/cs24s031-indian-institute-of-technology-madras/dl-assignment1-experiment/sweeps/hfa2u67m</a>"
      ],
      "text/plain": [
       "<IPython.core.display.HTML object>"
      ]
     },
     "metadata": {},
     "output_type": "display_data"
    },
    {
     "data": {
      "text/html": [
       " View run at <a href='https://wandb.ai/cs24s031-indian-institute-of-technology-madras/dl-assignment1-experiment/runs/grmtgqrw' target=\"_blank\">https://wandb.ai/cs24s031-indian-institute-of-technology-madras/dl-assignment1-experiment/runs/grmtgqrw</a>"
      ],
      "text/plain": [
       "<IPython.core.display.HTML object>"
      ]
     },
     "metadata": {},
     "output_type": "display_data"
    },
    {
     "name": "stdout",
     "output_type": "stream",
     "text": [
      "Starting training with run name: hl_5_bs_16_ac_ReLU\n",
      "Epoch 1/5 - Batch 3300/3375 - train-loss: 0.458330 train-acc: 0.812500 test-loss:0.405488 test-acc : 0.851167 \n",
      "Epoch 2/5 - Batch 3300/3375 - train-loss: 0.448167 train-acc: 0.875000 test-loss:0.384101 test-acc : 0.860333 \n",
      "Epoch 3/5 - Batch 3300/3375 - train-loss: 0.466247 train-acc: 0.875000 test-loss:0.376514 test-acc : 0.866167 \n",
      "Epoch 4/5 - Batch 3300/3375 - train-loss: 0.582539 train-acc: 0.875000 test-loss:0.364501 test-acc : 0.869167 \n",
      "Epoch 5/5 - Batch 3300/3375 - train-loss: 0.470253 train-acc: 0.875000 test-loss:0.357949 test-acc : 0.868833 \n"
     ]
    },
    {
     "data": {
      "text/html": [],
      "text/plain": [
       "<IPython.core.display.HTML object>"
      ]
     },
     "metadata": {},
     "output_type": "display_data"
    },
    {
     "data": {
      "text/html": [
       "<br>    <style><br>        .wandb-row {<br>            display: flex;<br>            flex-direction: row;<br>            flex-wrap: wrap;<br>            justify-content: flex-start;<br>            width: 100%;<br>        }<br>        .wandb-col {<br>            display: flex;<br>            flex-direction: column;<br>            flex-basis: 100%;<br>            flex: 1;<br>            padding: 10px;<br>        }<br>    </style><br><div class=\"wandb-row\"><div class=\"wandb-col\"><h3>Run history:</h3><br/><table class=\"wandb\"><tr><td>train_acc</td><td>▄▇▅▅▁▂▇▂▄▄▇▄▇█▅██▅▄▇▅▅▇▅▇▇▄▂▄▅▇▇▄▄▅▅▂▅▄█</td></tr><tr><td>train_loss</td><td>▄▃▅▂▃█▃▃▄▁▆▁▃▅▂▃▃▃▂▂▃▅▂▃▃▃▂▂▁▄▁▂▃▃▂▂▂▃▂▄</td></tr><tr><td>val_acc</td><td>▁▅▅▆▆▇▆▇▇▇▇▇▆▇▇▇▇▇▇▇█▇▇▇▇██▇████▇████▇██</td></tr><tr><td>val_loss</td><td>██▅▄▄▄▄▃▃▄▃▂▄▃▃▃▃▂▃▂▃▃▂▂▂▂▂▂▂▁▂▂▂▂▂▁▂▁▁▂</td></tr></table><br/></div><div class=\"wandb-col\"><h3>Run summary:</h3><br/><table class=\"wandb\"><tr><td>train_acc</td><td>0.875</td></tr><tr><td>train_loss</td><td>0.47025</td></tr><tr><td>val_acc</td><td>0.86883</td></tr><tr><td>val_loss</td><td>0.35795</td></tr></table><br/></div></div>"
      ],
      "text/plain": [
       "<IPython.core.display.HTML object>"
      ]
     },
     "metadata": {},
     "output_type": "display_data"
    },
    {
     "data": {
      "text/html": [
       " View run <strong style=\"color:#cdcd00\">hl_5_bs_16_ac_ReLU</strong> at: <a href='https://wandb.ai/cs24s031-indian-institute-of-technology-madras/dl-assignment1-experiment/runs/grmtgqrw' target=\"_blank\">https://wandb.ai/cs24s031-indian-institute-of-technology-madras/dl-assignment1-experiment/runs/grmtgqrw</a><br> View project at: <a href='https://wandb.ai/cs24s031-indian-institute-of-technology-madras/dl-assignment1-experiment' target=\"_blank\">https://wandb.ai/cs24s031-indian-institute-of-technology-madras/dl-assignment1-experiment</a><br>Synced 5 W&B file(s), 0 media file(s), 0 artifact file(s) and 0 other file(s)"
      ],
      "text/plain": [
       "<IPython.core.display.HTML object>"
      ]
     },
     "metadata": {},
     "output_type": "display_data"
    },
    {
     "data": {
      "text/html": [
       "Find logs at: <code>./wandb/run-20250312_205020-grmtgqrw/logs</code>"
      ],
      "text/plain": [
       "<IPython.core.display.HTML object>"
      ]
     },
     "metadata": {},
     "output_type": "display_data"
    },
    {
     "name": "stderr",
     "output_type": "stream",
     "text": [
      "\u001b[34m\u001b[1mwandb\u001b[0m: Agent Starting Run: m40bc69w with config:\n",
      "\u001b[34m\u001b[1mwandb\u001b[0m: \tactivation_function: ReLU\n",
      "\u001b[34m\u001b[1mwandb\u001b[0m: \tbatch_size: 64\n",
      "\u001b[34m\u001b[1mwandb\u001b[0m: \tepochs: 10\n",
      "\u001b[34m\u001b[1mwandb\u001b[0m: \thidden_layer_size: 128\n",
      "\u001b[34m\u001b[1mwandb\u001b[0m: \tlearning_rate: 0.001\n",
      "\u001b[34m\u001b[1mwandb\u001b[0m: \tnum_of_hidden_layers: 4\n",
      "\u001b[34m\u001b[1mwandb\u001b[0m: \toptimizer: RMSprop\n",
      "\u001b[34m\u001b[1mwandb\u001b[0m: \tweight_decay: 0.0005\n",
      "\u001b[34m\u001b[1mwandb\u001b[0m: \tweight_initialization: Xavier\n"
     ]
    },
    {
     "data": {
      "text/html": [
       "Ignoring project 'dl-assignment1-experiment' when running a sweep."
      ],
      "text/plain": [
       "<IPython.core.display.HTML object>"
      ]
     },
     "metadata": {},
     "output_type": "display_data"
    },
    {
     "data": {
      "text/html": [
       "Tracking run with wandb version 0.19.8"
      ],
      "text/plain": [
       "<IPython.core.display.HTML object>"
      ]
     },
     "metadata": {},
     "output_type": "display_data"
    },
    {
     "data": {
      "text/html": [
       "Run data is saved locally in <code>/home/user/Documents/DL/assignment/wandb/run-20250312_205103-m40bc69w</code>"
      ],
      "text/plain": [
       "<IPython.core.display.HTML object>"
      ]
     },
     "metadata": {},
     "output_type": "display_data"
    },
    {
     "data": {
      "text/html": [
       "Syncing run <strong><a href='https://wandb.ai/cs24s031-indian-institute-of-technology-madras/dl-assignment1-experiment/runs/m40bc69w' target=\"_blank\">earnest-sweep-20</a></strong> to <a href='https://wandb.ai/cs24s031-indian-institute-of-technology-madras/dl-assignment1-experiment' target=\"_blank\">Weights & Biases</a> (<a href='https://wandb.me/developer-guide' target=\"_blank\">docs</a>)<br>Sweep page: <a href='https://wandb.ai/cs24s031-indian-institute-of-technology-madras/dl-assignment1-experiment/sweeps/hfa2u67m' target=\"_blank\">https://wandb.ai/cs24s031-indian-institute-of-technology-madras/dl-assignment1-experiment/sweeps/hfa2u67m</a>"
      ],
      "text/plain": [
       "<IPython.core.display.HTML object>"
      ]
     },
     "metadata": {},
     "output_type": "display_data"
    },
    {
     "data": {
      "text/html": [
       " View project at <a href='https://wandb.ai/cs24s031-indian-institute-of-technology-madras/dl-assignment1-experiment' target=\"_blank\">https://wandb.ai/cs24s031-indian-institute-of-technology-madras/dl-assignment1-experiment</a>"
      ],
      "text/plain": [
       "<IPython.core.display.HTML object>"
      ]
     },
     "metadata": {},
     "output_type": "display_data"
    },
    {
     "data": {
      "text/html": [
       " View sweep at <a href='https://wandb.ai/cs24s031-indian-institute-of-technology-madras/dl-assignment1-experiment/sweeps/hfa2u67m' target=\"_blank\">https://wandb.ai/cs24s031-indian-institute-of-technology-madras/dl-assignment1-experiment/sweeps/hfa2u67m</a>"
      ],
      "text/plain": [
       "<IPython.core.display.HTML object>"
      ]
     },
     "metadata": {},
     "output_type": "display_data"
    },
    {
     "data": {
      "text/html": [
       " View run at <a href='https://wandb.ai/cs24s031-indian-institute-of-technology-madras/dl-assignment1-experiment/runs/m40bc69w' target=\"_blank\">https://wandb.ai/cs24s031-indian-institute-of-technology-madras/dl-assignment1-experiment/runs/m40bc69w</a>"
      ],
      "text/plain": [
       "<IPython.core.display.HTML object>"
      ]
     },
     "metadata": {},
     "output_type": "display_data"
    },
    {
     "name": "stdout",
     "output_type": "stream",
     "text": [
      "Starting training with run name: hl_4_bs_64_ac_ReLU\n",
      "Epoch 1/10 - Batch 800/843 - train-loss: 0.568014 train-acc: 0.859375 test-loss:0.481400 test-acc : 0.825500 \n",
      "Epoch 2/10 - Batch 800/843 - train-loss: 0.771992 train-acc: 0.875000 test-loss:0.419379 test-acc : 0.859000 \n",
      "Epoch 3/10 - Batch 800/843 - train-loss: 0.392286 train-acc: 0.890625 test-loss:0.520120 test-acc : 0.837167 \n",
      "Epoch 4/10 - Batch 800/843 - train-loss: 0.352823 train-acc: 0.859375 test-loss:0.501049 test-acc : 0.846833 \n",
      "Epoch 5/10 - Batch 800/843 - train-loss: 0.493624 train-acc: 0.875000 test-loss:0.450769 test-acc : 0.857667 \n",
      "Epoch 6/10 - Batch 800/843 - train-loss: 0.354506 train-acc: 0.890625 test-loss:0.543059 test-acc : 0.837500 \n",
      "Epoch 7/10 - Batch 800/843 - train-loss: 0.447164 train-acc: 0.890625 test-loss:0.487420 test-acc : 0.850833 \n",
      "Epoch 8/10 - Batch 800/843 - train-loss: 0.363185 train-acc: 0.875000 test-loss:0.462935 test-acc : 0.857500 \n",
      "Epoch 9/10 - Batch 800/843 - train-loss: 0.385318 train-acc: 0.906250 test-loss:0.494768 test-acc : 0.860167 \n",
      "Epoch 10/10 - Batch 800/843 - train-loss: 0.318339 train-acc: 0.921875 test-loss:0.469493 test-acc : 0.867000 \n"
     ]
    },
    {
     "data": {
      "text/html": [],
      "text/plain": [
       "<IPython.core.display.HTML object>"
      ]
     },
     "metadata": {},
     "output_type": "display_data"
    },
    {
     "data": {
      "text/html": [
       "<br>    <style><br>        .wandb-row {<br>            display: flex;<br>            flex-direction: row;<br>            flex-wrap: wrap;<br>            justify-content: flex-start;<br>            width: 100%;<br>        }<br>        .wandb-col {<br>            display: flex;<br>            flex-direction: column;<br>            flex-basis: 100%;<br>            flex: 1;<br>            padding: 10px;<br>        }<br>    </style><br><div class=\"wandb-row\"><div class=\"wandb-col\"><h3>Run history:</h3><br/><table class=\"wandb\"><tr><td>train_acc</td><td>▃▁▃▆▂▆▁▅▆▇▅▃▅█▆▅█▇▆▆▇▃▅▃▆▄▇▆▆▆▇▅▃▅▄▆▇▄▆▅</td></tr><tr><td>train_loss</td><td>█▆▄▃▅▂▄▇▄▃█▄▆▃▃▂▅▁▃▃▅▃▁▃▄▅▂▇▃▁▄▃▁▁▂▁▁▃▃▃</td></tr><tr><td>val_acc</td><td>▂▁▅▅▄▇▇▅▆▇▆▇▇▅▇▆▇▇█▇██▇▇▆█████▇▇▇███▇▇▇▇</td></tr><tr><td>val_loss</td><td>█▆▅▃▂▄▂▁▂▂▃▂▁▄▁▄▁▁▁▃▂▂▁▁▂▃▁▁▄▂▃▂▂▂▄▂▄▂▄▂</td></tr></table><br/></div><div class=\"wandb-col\"><h3>Run summary:</h3><br/><table class=\"wandb\"><tr><td>train_acc</td><td>0.92188</td></tr><tr><td>train_loss</td><td>0.31834</td></tr><tr><td>val_acc</td><td>0.867</td></tr><tr><td>val_loss</td><td>0.46949</td></tr></table><br/></div></div>"
      ],
      "text/plain": [
       "<IPython.core.display.HTML object>"
      ]
     },
     "metadata": {},
     "output_type": "display_data"
    },
    {
     "data": {
      "text/html": [
       " View run <strong style=\"color:#cdcd00\">hl_4_bs_64_ac_ReLU</strong> at: <a href='https://wandb.ai/cs24s031-indian-institute-of-technology-madras/dl-assignment1-experiment/runs/m40bc69w' target=\"_blank\">https://wandb.ai/cs24s031-indian-institute-of-technology-madras/dl-assignment1-experiment/runs/m40bc69w</a><br> View project at: <a href='https://wandb.ai/cs24s031-indian-institute-of-technology-madras/dl-assignment1-experiment' target=\"_blank\">https://wandb.ai/cs24s031-indian-institute-of-technology-madras/dl-assignment1-experiment</a><br>Synced 5 W&B file(s), 0 media file(s), 0 artifact file(s) and 0 other file(s)"
      ],
      "text/plain": [
       "<IPython.core.display.HTML object>"
      ]
     },
     "metadata": {},
     "output_type": "display_data"
    },
    {
     "data": {
      "text/html": [
       "Find logs at: <code>./wandb/run-20250312_205103-m40bc69w/logs</code>"
      ],
      "text/plain": [
       "<IPython.core.display.HTML object>"
      ]
     },
     "metadata": {},
     "output_type": "display_data"
    },
    {
     "name": "stderr",
     "output_type": "stream",
     "text": [
      "\u001b[34m\u001b[1mwandb\u001b[0m: Agent Starting Run: 8zioh84o with config:\n",
      "\u001b[34m\u001b[1mwandb\u001b[0m: \tactivation_function: ReLU\n",
      "\u001b[34m\u001b[1mwandb\u001b[0m: \tbatch_size: 32\n",
      "\u001b[34m\u001b[1mwandb\u001b[0m: \tepochs: 10\n",
      "\u001b[34m\u001b[1mwandb\u001b[0m: \thidden_layer_size: 128\n",
      "\u001b[34m\u001b[1mwandb\u001b[0m: \tlearning_rate: 0.0001\n",
      "\u001b[34m\u001b[1mwandb\u001b[0m: \tnum_of_hidden_layers: 3\n",
      "\u001b[34m\u001b[1mwandb\u001b[0m: \toptimizer: momentum\n",
      "\u001b[34m\u001b[1mwandb\u001b[0m: \tweight_decay: 0.0005\n",
      "\u001b[34m\u001b[1mwandb\u001b[0m: \tweight_initialization: Xavier\n"
     ]
    },
    {
     "data": {
      "text/html": [
       "Ignoring project 'dl-assignment1-experiment' when running a sweep."
      ],
      "text/plain": [
       "<IPython.core.display.HTML object>"
      ]
     },
     "metadata": {},
     "output_type": "display_data"
    },
    {
     "data": {
      "text/html": [
       "Tracking run with wandb version 0.19.8"
      ],
      "text/plain": [
       "<IPython.core.display.HTML object>"
      ]
     },
     "metadata": {},
     "output_type": "display_data"
    },
    {
     "data": {
      "text/html": [
       "Run data is saved locally in <code>/home/user/Documents/DL/assignment/wandb/run-20250312_205125-8zioh84o</code>"
      ],
      "text/plain": [
       "<IPython.core.display.HTML object>"
      ]
     },
     "metadata": {},
     "output_type": "display_data"
    },
    {
     "data": {
      "text/html": [
       "Syncing run <strong><a href='https://wandb.ai/cs24s031-indian-institute-of-technology-madras/dl-assignment1-experiment/runs/8zioh84o' target=\"_blank\">treasured-sweep-21</a></strong> to <a href='https://wandb.ai/cs24s031-indian-institute-of-technology-madras/dl-assignment1-experiment' target=\"_blank\">Weights & Biases</a> (<a href='https://wandb.me/developer-guide' target=\"_blank\">docs</a>)<br>Sweep page: <a href='https://wandb.ai/cs24s031-indian-institute-of-technology-madras/dl-assignment1-experiment/sweeps/hfa2u67m' target=\"_blank\">https://wandb.ai/cs24s031-indian-institute-of-technology-madras/dl-assignment1-experiment/sweeps/hfa2u67m</a>"
      ],
      "text/plain": [
       "<IPython.core.display.HTML object>"
      ]
     },
     "metadata": {},
     "output_type": "display_data"
    },
    {
     "data": {
      "text/html": [
       " View project at <a href='https://wandb.ai/cs24s031-indian-institute-of-technology-madras/dl-assignment1-experiment' target=\"_blank\">https://wandb.ai/cs24s031-indian-institute-of-technology-madras/dl-assignment1-experiment</a>"
      ],
      "text/plain": [
       "<IPython.core.display.HTML object>"
      ]
     },
     "metadata": {},
     "output_type": "display_data"
    },
    {
     "data": {
      "text/html": [
       " View sweep at <a href='https://wandb.ai/cs24s031-indian-institute-of-technology-madras/dl-assignment1-experiment/sweeps/hfa2u67m' target=\"_blank\">https://wandb.ai/cs24s031-indian-institute-of-technology-madras/dl-assignment1-experiment/sweeps/hfa2u67m</a>"
      ],
      "text/plain": [
       "<IPython.core.display.HTML object>"
      ]
     },
     "metadata": {},
     "output_type": "display_data"
    },
    {
     "data": {
      "text/html": [
       " View run at <a href='https://wandb.ai/cs24s031-indian-institute-of-technology-madras/dl-assignment1-experiment/runs/8zioh84o' target=\"_blank\">https://wandb.ai/cs24s031-indian-institute-of-technology-madras/dl-assignment1-experiment/runs/8zioh84o</a>"
      ],
      "text/plain": [
       "<IPython.core.display.HTML object>"
      ]
     },
     "metadata": {},
     "output_type": "display_data"
    },
    {
     "name": "stdout",
     "output_type": "stream",
     "text": [
      "Starting training with run name: hl_3_bs_32_ac_ReLU\n",
      "Epoch 1/10 - Batch 1600/1687 - train-loss: 0.599617 train-acc: 0.750000 test-loss:0.511347 test-acc : 0.819333 \n",
      "Epoch 2/10 - Batch 1600/1687 - train-loss: 0.552947 train-acc: 0.750000 test-loss:0.459068 test-acc : 0.839667 \n",
      "Epoch 3/10 - Batch 1600/1687 - train-loss: 0.531804 train-acc: 0.687500 test-loss:0.433657 test-acc : 0.848000 \n",
      "Epoch 4/10 - Batch 1600/1687 - train-loss: 0.508047 train-acc: 0.656250 test-loss:0.417528 test-acc : 0.855833 \n",
      "Epoch 5/10 - Batch 1600/1687 - train-loss: 0.474980 train-acc: 0.687500 test-loss:0.405972 test-acc : 0.860167 \n",
      "Epoch 6/10 - Batch 1600/1687 - train-loss: 0.452693 train-acc: 0.718750 test-loss:0.396511 test-acc : 0.862167 \n",
      "Epoch 7/10 - Batch 1600/1687 - train-loss: 0.429227 train-acc: 0.718750 test-loss:0.388515 test-acc : 0.864833 \n",
      "Epoch 8/10 - Batch 1600/1687 - train-loss: 0.410437 train-acc: 0.812500 test-loss:0.382158 test-acc : 0.866667 \n",
      "Epoch 9/10 - Batch 1600/1687 - train-loss: 0.388491 train-acc: 0.781250 test-loss:0.376316 test-acc : 0.867167 \n",
      "Epoch 10/10 - Batch 1600/1687 - train-loss: 0.375133 train-acc: 0.781250 test-loss:0.371104 test-acc : 0.869667 \n"
     ]
    },
    {
     "data": {
      "text/html": [],
      "text/plain": [
       "<IPython.core.display.HTML object>"
      ]
     },
     "metadata": {},
     "output_type": "display_data"
    },
    {
     "data": {
      "text/html": [
       "<br>    <style><br>        .wandb-row {<br>            display: flex;<br>            flex-direction: row;<br>            flex-wrap: wrap;<br>            justify-content: flex-start;<br>            width: 100%;<br>        }<br>        .wandb-col {<br>            display: flex;<br>            flex-direction: column;<br>            flex-basis: 100%;<br>            flex: 1;<br>            padding: 10px;<br>        }<br>    </style><br><div class=\"wandb-row\"><div class=\"wandb-col\"><h3>Run history:</h3><br/><table class=\"wandb\"><tr><td>train_acc</td><td>▂▂▇▂▄▅▃▃▁▅▅▂▅▅▆▇▁▄▂▃█▂▇▅▄▆▅▅▆▂▃▆█▅▇▇█▅▅▆</td></tr><tr><td>train_loss</td><td>▆▆▂▆▅▄▃▃▅▁▂▃█▂▄▅▃▂▃▃▄▄▁▄▅▄▇▃▂▂▇▃▁▁▁▄▃▂▁▃</td></tr><tr><td>val_acc</td><td>▁▁▁▁▂▄▃▄▄▄▅▅▅▅▆▆▆▆▆▅▆▆▆▆▆▇▇▇▇▇▇▇█▇██▇▇██</td></tr><tr><td>val_loss</td><td>█▆▄▄▄▃▃▃▃▃▃▂▂▂▂▂▂▂▂▂▂▂▂▂▂▂▂▂▂▁▁▁▁▁▁▁▁▂▁▁</td></tr></table><br/></div><div class=\"wandb-col\"><h3>Run summary:</h3><br/><table class=\"wandb\"><tr><td>train_acc</td><td>0.78125</td></tr><tr><td>train_loss</td><td>0.37513</td></tr><tr><td>val_acc</td><td>0.86967</td></tr><tr><td>val_loss</td><td>0.3711</td></tr></table><br/></div></div>"
      ],
      "text/plain": [
       "<IPython.core.display.HTML object>"
      ]
     },
     "metadata": {},
     "output_type": "display_data"
    },
    {
     "data": {
      "text/html": [
       " View run <strong style=\"color:#cdcd00\">hl_3_bs_32_ac_ReLU</strong> at: <a href='https://wandb.ai/cs24s031-indian-institute-of-technology-madras/dl-assignment1-experiment/runs/8zioh84o' target=\"_blank\">https://wandb.ai/cs24s031-indian-institute-of-technology-madras/dl-assignment1-experiment/runs/8zioh84o</a><br> View project at: <a href='https://wandb.ai/cs24s031-indian-institute-of-technology-madras/dl-assignment1-experiment' target=\"_blank\">https://wandb.ai/cs24s031-indian-institute-of-technology-madras/dl-assignment1-experiment</a><br>Synced 5 W&B file(s), 0 media file(s), 0 artifact file(s) and 0 other file(s)"
      ],
      "text/plain": [
       "<IPython.core.display.HTML object>"
      ]
     },
     "metadata": {},
     "output_type": "display_data"
    },
    {
     "data": {
      "text/html": [
       "Find logs at: <code>./wandb/run-20250312_205125-8zioh84o/logs</code>"
      ],
      "text/plain": [
       "<IPython.core.display.HTML object>"
      ]
     },
     "metadata": {},
     "output_type": "display_data"
    },
    {
     "name": "stderr",
     "output_type": "stream",
     "text": [
      "\u001b[34m\u001b[1mwandb\u001b[0m: Agent Starting Run: w69jaf9s with config:\n",
      "\u001b[34m\u001b[1mwandb\u001b[0m: \tactivation_function: ReLU\n",
      "\u001b[34m\u001b[1mwandb\u001b[0m: \tbatch_size: 64\n",
      "\u001b[34m\u001b[1mwandb\u001b[0m: \tepochs: 10\n",
      "\u001b[34m\u001b[1mwandb\u001b[0m: \thidden_layer_size: 128\n",
      "\u001b[34m\u001b[1mwandb\u001b[0m: \tlearning_rate: 0.001\n",
      "\u001b[34m\u001b[1mwandb\u001b[0m: \tnum_of_hidden_layers: 4\n",
      "\u001b[34m\u001b[1mwandb\u001b[0m: \toptimizer: RMSprop\n",
      "\u001b[34m\u001b[1mwandb\u001b[0m: \tweight_decay: 0.0005\n",
      "\u001b[34m\u001b[1mwandb\u001b[0m: \tweight_initialization: Xavier\n"
     ]
    },
    {
     "data": {
      "text/html": [
       "Ignoring project 'dl-assignment1-experiment' when running a sweep."
      ],
      "text/plain": [
       "<IPython.core.display.HTML object>"
      ]
     },
     "metadata": {},
     "output_type": "display_data"
    },
    {
     "data": {
      "text/html": [
       "Tracking run with wandb version 0.19.8"
      ],
      "text/plain": [
       "<IPython.core.display.HTML object>"
      ]
     },
     "metadata": {},
     "output_type": "display_data"
    },
    {
     "data": {
      "text/html": [
       "Run data is saved locally in <code>/home/user/Documents/DL/assignment/wandb/run-20250312_205152-w69jaf9s</code>"
      ],
      "text/plain": [
       "<IPython.core.display.HTML object>"
      ]
     },
     "metadata": {},
     "output_type": "display_data"
    },
    {
     "data": {
      "text/html": [
       "Syncing run <strong><a href='https://wandb.ai/cs24s031-indian-institute-of-technology-madras/dl-assignment1-experiment/runs/w69jaf9s' target=\"_blank\">icy-sweep-22</a></strong> to <a href='https://wandb.ai/cs24s031-indian-institute-of-technology-madras/dl-assignment1-experiment' target=\"_blank\">Weights & Biases</a> (<a href='https://wandb.me/developer-guide' target=\"_blank\">docs</a>)<br>Sweep page: <a href='https://wandb.ai/cs24s031-indian-institute-of-technology-madras/dl-assignment1-experiment/sweeps/hfa2u67m' target=\"_blank\">https://wandb.ai/cs24s031-indian-institute-of-technology-madras/dl-assignment1-experiment/sweeps/hfa2u67m</a>"
      ],
      "text/plain": [
       "<IPython.core.display.HTML object>"
      ]
     },
     "metadata": {},
     "output_type": "display_data"
    },
    {
     "data": {
      "text/html": [
       " View project at <a href='https://wandb.ai/cs24s031-indian-institute-of-technology-madras/dl-assignment1-experiment' target=\"_blank\">https://wandb.ai/cs24s031-indian-institute-of-technology-madras/dl-assignment1-experiment</a>"
      ],
      "text/plain": [
       "<IPython.core.display.HTML object>"
      ]
     },
     "metadata": {},
     "output_type": "display_data"
    },
    {
     "data": {
      "text/html": [
       " View sweep at <a href='https://wandb.ai/cs24s031-indian-institute-of-technology-madras/dl-assignment1-experiment/sweeps/hfa2u67m' target=\"_blank\">https://wandb.ai/cs24s031-indian-institute-of-technology-madras/dl-assignment1-experiment/sweeps/hfa2u67m</a>"
      ],
      "text/plain": [
       "<IPython.core.display.HTML object>"
      ]
     },
     "metadata": {},
     "output_type": "display_data"
    },
    {
     "data": {
      "text/html": [
       " View run at <a href='https://wandb.ai/cs24s031-indian-institute-of-technology-madras/dl-assignment1-experiment/runs/w69jaf9s' target=\"_blank\">https://wandb.ai/cs24s031-indian-institute-of-technology-madras/dl-assignment1-experiment/runs/w69jaf9s</a>"
      ],
      "text/plain": [
       "<IPython.core.display.HTML object>"
      ]
     },
     "metadata": {},
     "output_type": "display_data"
    },
    {
     "name": "stdout",
     "output_type": "stream",
     "text": [
      "Starting training with run name: hl_4_bs_64_ac_ReLU\n",
      "Epoch 1/10 - Batch 800/843 - train-loss: 0.570544 train-acc: 0.906250 test-loss:0.441171 test-acc : 0.837333 \n",
      "Epoch 2/10 - Batch 800/843 - train-loss: 0.549253 train-acc: 0.890625 test-loss:0.466562 test-acc : 0.841667 \n",
      "Epoch 3/10 - Batch 800/843 - train-loss: 0.439348 train-acc: 0.906250 test-loss:0.461961 test-acc : 0.834500 \n",
      "Epoch 4/10 - Batch 800/843 - train-loss: 0.456388 train-acc: 0.921875 test-loss:0.509625 test-acc : 0.838833 \n",
      "Epoch 5/10 - Batch 800/843 - train-loss: 0.554013 train-acc: 0.906250 test-loss:0.493730 test-acc : 0.833000 \n",
      "Epoch 6/10 - Batch 800/843 - train-loss: 0.486797 train-acc: 0.890625 test-loss:0.495980 test-acc : 0.852000 \n",
      "Epoch 7/10 - Batch 800/843 - train-loss: 0.570401 train-acc: 0.890625 test-loss:0.474562 test-acc : 0.850333 \n",
      "Epoch 8/10 - Batch 800/843 - train-loss: 0.442650 train-acc: 0.890625 test-loss:0.415561 test-acc : 0.873833 \n",
      "Epoch 9/10 - Batch 800/843 - train-loss: 0.507900 train-acc: 0.906250 test-loss:0.392597 test-acc : 0.883000 \n",
      "Epoch 10/10 - Batch 800/843 - train-loss: 0.579736 train-acc: 0.906250 test-loss:0.443984 test-acc : 0.875000 \n"
     ]
    },
    {
     "data": {
      "text/html": [],
      "text/plain": [
       "<IPython.core.display.HTML object>"
      ]
     },
     "metadata": {},
     "output_type": "display_data"
    },
    {
     "data": {
      "text/html": [
       "<br>    <style><br>        .wandb-row {<br>            display: flex;<br>            flex-direction: row;<br>            flex-wrap: wrap;<br>            justify-content: flex-start;<br>            width: 100%;<br>        }<br>        .wandb-col {<br>            display: flex;<br>            flex-direction: column;<br>            flex-basis: 100%;<br>            flex: 1;<br>            padding: 10px;<br>        }<br>    </style><br><div class=\"wandb-row\"><div class=\"wandb-col\"><h3>Run history:</h3><br/><table class=\"wandb\"><tr><td>train_acc</td><td>▁▆▆▅▆█▄▆▆▆▅▅▆▄▇▆▇▅▄▇▆▅▆▆▆▄▆█▆▆▆▆▇▇█▆▆▇▇▅</td></tr><tr><td>train_loss</td><td>▇▅▇█▂▄▁▃▆▃▄▃▄▆▂▃▃▆▃▃▁▅▁▄▂▅▂▁▅▁▆▂▂▄▂▂▁▁▂▅</td></tr><tr><td>val_acc</td><td>▁▃▅▅▅▆▅▇▇▅▇▇▅▇▇█▇▅▇█▅█▇▅▆█▇▇█▆▇▇▇██▇▇▇▆█</td></tr><tr><td>val_loss</td><td>█▇▇▄▄▄▃▂▄▂▃▂▄▁▂▂▁▃▃▁▃▂▂▁▂▁▂▂▁▂▂▃▂▁▁▃▄▃▂▁</td></tr></table><br/></div><div class=\"wandb-col\"><h3>Run summary:</h3><br/><table class=\"wandb\"><tr><td>train_acc</td><td>0.90625</td></tr><tr><td>train_loss</td><td>0.57974</td></tr><tr><td>val_acc</td><td>0.875</td></tr><tr><td>val_loss</td><td>0.44398</td></tr></table><br/></div></div>"
      ],
      "text/plain": [
       "<IPython.core.display.HTML object>"
      ]
     },
     "metadata": {},
     "output_type": "display_data"
    },
    {
     "data": {
      "text/html": [
       " View run <strong style=\"color:#cdcd00\">hl_4_bs_64_ac_ReLU</strong> at: <a href='https://wandb.ai/cs24s031-indian-institute-of-technology-madras/dl-assignment1-experiment/runs/w69jaf9s' target=\"_blank\">https://wandb.ai/cs24s031-indian-institute-of-technology-madras/dl-assignment1-experiment/runs/w69jaf9s</a><br> View project at: <a href='https://wandb.ai/cs24s031-indian-institute-of-technology-madras/dl-assignment1-experiment' target=\"_blank\">https://wandb.ai/cs24s031-indian-institute-of-technology-madras/dl-assignment1-experiment</a><br>Synced 5 W&B file(s), 0 media file(s), 0 artifact file(s) and 0 other file(s)"
      ],
      "text/plain": [
       "<IPython.core.display.HTML object>"
      ]
     },
     "metadata": {},
     "output_type": "display_data"
    },
    {
     "data": {
      "text/html": [
       "Find logs at: <code>./wandb/run-20250312_205152-w69jaf9s/logs</code>"
      ],
      "text/plain": [
       "<IPython.core.display.HTML object>"
      ]
     },
     "metadata": {},
     "output_type": "display_data"
    },
    {
     "name": "stderr",
     "output_type": "stream",
     "text": [
      "\u001b[34m\u001b[1mwandb\u001b[0m: Agent Starting Run: 38oeb79l with config:\n",
      "\u001b[34m\u001b[1mwandb\u001b[0m: \tactivation_function: tanh\n",
      "\u001b[34m\u001b[1mwandb\u001b[0m: \tbatch_size: 16\n",
      "\u001b[34m\u001b[1mwandb\u001b[0m: \tepochs: 10\n",
      "\u001b[34m\u001b[1mwandb\u001b[0m: \thidden_layer_size: 128\n",
      "\u001b[34m\u001b[1mwandb\u001b[0m: \tlearning_rate: 0.0001\n",
      "\u001b[34m\u001b[1mwandb\u001b[0m: \tnum_of_hidden_layers: 4\n",
      "\u001b[34m\u001b[1mwandb\u001b[0m: \toptimizer: sgd\n",
      "\u001b[34m\u001b[1mwandb\u001b[0m: \tweight_decay: 0\n",
      "\u001b[34m\u001b[1mwandb\u001b[0m: \tweight_initialization: Xavier\n"
     ]
    },
    {
     "data": {
      "text/html": [
       "Ignoring project 'dl-assignment1-experiment' when running a sweep."
      ],
      "text/plain": [
       "<IPython.core.display.HTML object>"
      ]
     },
     "metadata": {},
     "output_type": "display_data"
    },
    {
     "data": {
      "text/html": [
       "Tracking run with wandb version 0.19.8"
      ],
      "text/plain": [
       "<IPython.core.display.HTML object>"
      ]
     },
     "metadata": {},
     "output_type": "display_data"
    },
    {
     "data": {
      "text/html": [
       "Run data is saved locally in <code>/home/user/Documents/DL/assignment/wandb/run-20250312_205219-38oeb79l</code>"
      ],
      "text/plain": [
       "<IPython.core.display.HTML object>"
      ]
     },
     "metadata": {},
     "output_type": "display_data"
    },
    {
     "data": {
      "text/html": [
       "Syncing run <strong><a href='https://wandb.ai/cs24s031-indian-institute-of-technology-madras/dl-assignment1-experiment/runs/38oeb79l' target=\"_blank\">skilled-sweep-23</a></strong> to <a href='https://wandb.ai/cs24s031-indian-institute-of-technology-madras/dl-assignment1-experiment' target=\"_blank\">Weights & Biases</a> (<a href='https://wandb.me/developer-guide' target=\"_blank\">docs</a>)<br>Sweep page: <a href='https://wandb.ai/cs24s031-indian-institute-of-technology-madras/dl-assignment1-experiment/sweeps/hfa2u67m' target=\"_blank\">https://wandb.ai/cs24s031-indian-institute-of-technology-madras/dl-assignment1-experiment/sweeps/hfa2u67m</a>"
      ],
      "text/plain": [
       "<IPython.core.display.HTML object>"
      ]
     },
     "metadata": {},
     "output_type": "display_data"
    },
    {
     "data": {
      "text/html": [
       " View project at <a href='https://wandb.ai/cs24s031-indian-institute-of-technology-madras/dl-assignment1-experiment' target=\"_blank\">https://wandb.ai/cs24s031-indian-institute-of-technology-madras/dl-assignment1-experiment</a>"
      ],
      "text/plain": [
       "<IPython.core.display.HTML object>"
      ]
     },
     "metadata": {},
     "output_type": "display_data"
    },
    {
     "data": {
      "text/html": [
       " View sweep at <a href='https://wandb.ai/cs24s031-indian-institute-of-technology-madras/dl-assignment1-experiment/sweeps/hfa2u67m' target=\"_blank\">https://wandb.ai/cs24s031-indian-institute-of-technology-madras/dl-assignment1-experiment/sweeps/hfa2u67m</a>"
      ],
      "text/plain": [
       "<IPython.core.display.HTML object>"
      ]
     },
     "metadata": {},
     "output_type": "display_data"
    },
    {
     "data": {
      "text/html": [
       " View run at <a href='https://wandb.ai/cs24s031-indian-institute-of-technology-madras/dl-assignment1-experiment/runs/38oeb79l' target=\"_blank\">https://wandb.ai/cs24s031-indian-institute-of-technology-madras/dl-assignment1-experiment/runs/38oeb79l</a>"
      ],
      "text/plain": [
       "<IPython.core.display.HTML object>"
      ]
     },
     "metadata": {},
     "output_type": "display_data"
    },
    {
     "name": "stdout",
     "output_type": "stream",
     "text": [
      "Starting training with run name: hl_4_bs_16_ac_tanh\n",
      "Epoch 1/10 - Batch 3300/3375 - train-loss: 0.691990 train-acc: 0.750000 test-loss:0.569332 test-acc : 0.802167 \n",
      "Epoch 2/10 - Batch 3300/3375 - train-loss: 0.555147 train-acc: 0.875000 test-loss:0.488478 test-acc : 0.829500 \n",
      "Epoch 3/10 - Batch 3300/3375 - train-loss: 0.495020 train-acc: 0.875000 test-loss:0.450976 test-acc : 0.841833 \n",
      "Epoch 4/10 - Batch 3300/3375 - train-loss: 0.466350 train-acc: 0.875000 test-loss:0.428249 test-acc : 0.848333 \n",
      "Epoch 5/10 - Batch 3300/3375 - train-loss: 0.449772 train-acc: 0.875000 test-loss:0.412596 test-acc : 0.854833 \n",
      "Epoch 6/10 - Batch 3300/3375 - train-loss: 0.437613 train-acc: 0.875000 test-loss:0.400971 test-acc : 0.858333 \n",
      "Epoch 7/10 - Batch 3300/3375 - train-loss: 0.427212 train-acc: 0.875000 test-loss:0.391881 test-acc : 0.861333 \n",
      "Epoch 8/10 - Batch 3300/3375 - train-loss: 0.417724 train-acc: 0.875000 test-loss:0.384482 test-acc : 0.865667 \n",
      "Epoch 9/10 - Batch 3300/3375 - train-loss: 0.408883 train-acc: 0.875000 test-loss:0.378267 test-acc : 0.866667 \n",
      "Epoch 10/10 - Batch 3300/3375 - train-loss: 0.400587 train-acc: 0.875000 test-loss:0.372919 test-acc : 0.869000 \n"
     ]
    },
    {
     "data": {
      "text/html": [],
      "text/plain": [
       "<IPython.core.display.HTML object>"
      ]
     },
     "metadata": {},
     "output_type": "display_data"
    },
    {
     "data": {
      "text/html": [
       "<br>    <style><br>        .wandb-row {<br>            display: flex;<br>            flex-direction: row;<br>            flex-wrap: wrap;<br>            justify-content: flex-start;<br>            width: 100%;<br>        }<br>        .wandb-col {<br>            display: flex;<br>            flex-direction: column;<br>            flex-basis: 100%;<br>            flex: 1;<br>            padding: 10px;<br>        }<br>    </style><br><div class=\"wandb-row\"><div class=\"wandb-col\"><h3>Run history:</h3><br/><table class=\"wandb\"><tr><td>train_acc</td><td>▃▅▇▇▆▄▄▇▇▁▆█▇▇▆▇▅▄▇▅▇▇▄▇▆▅▆▇▇▆▇▆▇▆▄▇▇▇▄▆</td></tr><tr><td>train_loss</td><td>█▅▆▄▂▃▃▃▄▃▂▃▇▄▆▃▆▁▃▃▄▄▂▄▃▄▃▁▂▄▁▃▄▄▃▅▂▂▁▃</td></tr><tr><td>val_acc</td><td>▁▂▂▂▄▄▄▅▅▆▆▆▆▇▇▇▇▇▇▇▇▇▇▇▇▇▇█████████████</td></tr><tr><td>val_loss</td><td>█▆▅▄▃▃▃▃▃▃▃▃▂▂▂▂▂▂▂▂▁▁▁▁▁▁▁▁▁▁▁▁▁▁▁▁▁▁▁▁</td></tr></table><br/></div><div class=\"wandb-col\"><h3>Run summary:</h3><br/><table class=\"wandb\"><tr><td>train_acc</td><td>0.875</td></tr><tr><td>train_loss</td><td>0.40059</td></tr><tr><td>val_acc</td><td>0.869</td></tr><tr><td>val_loss</td><td>0.37292</td></tr></table><br/></div></div>"
      ],
      "text/plain": [
       "<IPython.core.display.HTML object>"
      ]
     },
     "metadata": {},
     "output_type": "display_data"
    },
    {
     "data": {
      "text/html": [
       " View run <strong style=\"color:#cdcd00\">hl_4_bs_16_ac_tanh</strong> at: <a href='https://wandb.ai/cs24s031-indian-institute-of-technology-madras/dl-assignment1-experiment/runs/38oeb79l' target=\"_blank\">https://wandb.ai/cs24s031-indian-institute-of-technology-madras/dl-assignment1-experiment/runs/38oeb79l</a><br> View project at: <a href='https://wandb.ai/cs24s031-indian-institute-of-technology-madras/dl-assignment1-experiment' target=\"_blank\">https://wandb.ai/cs24s031-indian-institute-of-technology-madras/dl-assignment1-experiment</a><br>Synced 5 W&B file(s), 0 media file(s), 0 artifact file(s) and 0 other file(s)"
      ],
      "text/plain": [
       "<IPython.core.display.HTML object>"
      ]
     },
     "metadata": {},
     "output_type": "display_data"
    },
    {
     "data": {
      "text/html": [
       "Find logs at: <code>./wandb/run-20250312_205219-38oeb79l/logs</code>"
      ],
      "text/plain": [
       "<IPython.core.display.HTML object>"
      ]
     },
     "metadata": {},
     "output_type": "display_data"
    },
    {
     "name": "stderr",
     "output_type": "stream",
     "text": [
      "\u001b[34m\u001b[1mwandb\u001b[0m: Agent Starting Run: ktgf8pqr with config:\n",
      "\u001b[34m\u001b[1mwandb\u001b[0m: \tactivation_function: ReLU\n",
      "\u001b[34m\u001b[1mwandb\u001b[0m: \tbatch_size: 64\n",
      "\u001b[34m\u001b[1mwandb\u001b[0m: \tepochs: 5\n",
      "\u001b[34m\u001b[1mwandb\u001b[0m: \thidden_layer_size: 128\n",
      "\u001b[34m\u001b[1mwandb\u001b[0m: \tlearning_rate: 0.001\n",
      "\u001b[34m\u001b[1mwandb\u001b[0m: \tnum_of_hidden_layers: 5\n",
      "\u001b[34m\u001b[1mwandb\u001b[0m: \toptimizer: sgd\n",
      "\u001b[34m\u001b[1mwandb\u001b[0m: \tweight_decay: 0\n",
      "\u001b[34m\u001b[1mwandb\u001b[0m: \tweight_initialization: Xavier\n"
     ]
    },
    {
     "data": {
      "text/html": [
       "Ignoring project 'dl-assignment1-experiment' when running a sweep."
      ],
      "text/plain": [
       "<IPython.core.display.HTML object>"
      ]
     },
     "metadata": {},
     "output_type": "display_data"
    },
    {
     "data": {
      "text/html": [
       "Tracking run with wandb version 0.19.8"
      ],
      "text/plain": [
       "<IPython.core.display.HTML object>"
      ]
     },
     "metadata": {},
     "output_type": "display_data"
    },
    {
     "data": {
      "text/html": [
       "Run data is saved locally in <code>/home/user/Documents/DL/assignment/wandb/run-20250312_205318-ktgf8pqr</code>"
      ],
      "text/plain": [
       "<IPython.core.display.HTML object>"
      ]
     },
     "metadata": {},
     "output_type": "display_data"
    },
    {
     "data": {
      "text/html": [
       "Syncing run <strong><a href='https://wandb.ai/cs24s031-indian-institute-of-technology-madras/dl-assignment1-experiment/runs/ktgf8pqr' target=\"_blank\">azure-sweep-24</a></strong> to <a href='https://wandb.ai/cs24s031-indian-institute-of-technology-madras/dl-assignment1-experiment' target=\"_blank\">Weights & Biases</a> (<a href='https://wandb.me/developer-guide' target=\"_blank\">docs</a>)<br>Sweep page: <a href='https://wandb.ai/cs24s031-indian-institute-of-technology-madras/dl-assignment1-experiment/sweeps/hfa2u67m' target=\"_blank\">https://wandb.ai/cs24s031-indian-institute-of-technology-madras/dl-assignment1-experiment/sweeps/hfa2u67m</a>"
      ],
      "text/plain": [
       "<IPython.core.display.HTML object>"
      ]
     },
     "metadata": {},
     "output_type": "display_data"
    },
    {
     "data": {
      "text/html": [
       " View project at <a href='https://wandb.ai/cs24s031-indian-institute-of-technology-madras/dl-assignment1-experiment' target=\"_blank\">https://wandb.ai/cs24s031-indian-institute-of-technology-madras/dl-assignment1-experiment</a>"
      ],
      "text/plain": [
       "<IPython.core.display.HTML object>"
      ]
     },
     "metadata": {},
     "output_type": "display_data"
    },
    {
     "data": {
      "text/html": [
       " View sweep at <a href='https://wandb.ai/cs24s031-indian-institute-of-technology-madras/dl-assignment1-experiment/sweeps/hfa2u67m' target=\"_blank\">https://wandb.ai/cs24s031-indian-institute-of-technology-madras/dl-assignment1-experiment/sweeps/hfa2u67m</a>"
      ],
      "text/plain": [
       "<IPython.core.display.HTML object>"
      ]
     },
     "metadata": {},
     "output_type": "display_data"
    },
    {
     "data": {
      "text/html": [
       " View run at <a href='https://wandb.ai/cs24s031-indian-institute-of-technology-madras/dl-assignment1-experiment/runs/ktgf8pqr' target=\"_blank\">https://wandb.ai/cs24s031-indian-institute-of-technology-madras/dl-assignment1-experiment/runs/ktgf8pqr</a>"
      ],
      "text/plain": [
       "<IPython.core.display.HTML object>"
      ]
     },
     "metadata": {},
     "output_type": "display_data"
    },
    {
     "name": "stdout",
     "output_type": "stream",
     "text": [
      "Starting training with run name: hl_5_bs_64_ac_ReLU\n",
      "Epoch 1/5 - Batch 800/843 - train-loss: 0.577482 train-acc: 0.828125 test-loss:0.483902 test-acc : 0.820500 \n",
      "Epoch 2/5 - Batch 800/843 - train-loss: 0.437280 train-acc: 0.859375 test-loss:0.420018 test-acc : 0.846833 \n",
      "Epoch 3/5 - Batch 800/843 - train-loss: 0.424196 train-acc: 0.906250 test-loss:0.397224 test-acc : 0.857167 \n",
      "Epoch 4/5 - Batch 800/843 - train-loss: 0.406849 train-acc: 0.906250 test-loss:0.389667 test-acc : 0.859333 \n",
      "Epoch 5/5 - Batch 800/843 - train-loss: 0.393877 train-acc: 0.875000 test-loss:0.394184 test-acc : 0.859833 \n"
     ]
    },
    {
     "data": {
      "text/html": [],
      "text/plain": [
       "<IPython.core.display.HTML object>"
      ]
     },
     "metadata": {},
     "output_type": "display_data"
    },
    {
     "data": {
      "text/html": [
       "<br>    <style><br>        .wandb-row {<br>            display: flex;<br>            flex-direction: row;<br>            flex-wrap: wrap;<br>            justify-content: flex-start;<br>            width: 100%;<br>        }<br>        .wandb-col {<br>            display: flex;<br>            flex-direction: column;<br>            flex-basis: 100%;<br>            flex: 1;<br>            padding: 10px;<br>        }<br>    </style><br><div class=\"wandb-row\"><div class=\"wandb-col\"><h3>Run history:</h3><br/><table class=\"wandb\"><tr><td>train_acc</td><td>▁▂▁▂▄▅▇▂▅▆▄▄▇▅▇▄▅▇▃▅▇▆█▅▆▇▄▄▇▆█▅▆▇▃▅█▆█▄</td></tr><tr><td>train_loss</td><td>▇▆█▇▅▅▃▆▄▃▅▅▂▄▂▄▃▂▅▅▂▃▂▄▃▂▅▅▂▃▁▄▂▂▄▄▂▂▁▄</td></tr><tr><td>val_acc</td><td>▁▂▁▄▄▆▆▆▆▆▆▆▇▇▇▇▇▇▇▇▇▇▇███▇▇████████████</td></tr><tr><td>val_loss</td><td>██▇▅▅▃▃▃▃▃▃▃▂▂▂▂▂▂▂▂▂▂▁▂▁▁▂▂▁▁▁▁▁▁▁▁▁▁▁▂</td></tr></table><br/></div><div class=\"wandb-col\"><h3>Run summary:</h3><br/><table class=\"wandb\"><tr><td>train_acc</td><td>0.875</td></tr><tr><td>train_loss</td><td>0.39388</td></tr><tr><td>val_acc</td><td>0.85983</td></tr><tr><td>val_loss</td><td>0.39418</td></tr></table><br/></div></div>"
      ],
      "text/plain": [
       "<IPython.core.display.HTML object>"
      ]
     },
     "metadata": {},
     "output_type": "display_data"
    },
    {
     "data": {
      "text/html": [
       " View run <strong style=\"color:#cdcd00\">hl_5_bs_64_ac_ReLU</strong> at: <a href='https://wandb.ai/cs24s031-indian-institute-of-technology-madras/dl-assignment1-experiment/runs/ktgf8pqr' target=\"_blank\">https://wandb.ai/cs24s031-indian-institute-of-technology-madras/dl-assignment1-experiment/runs/ktgf8pqr</a><br> View project at: <a href='https://wandb.ai/cs24s031-indian-institute-of-technology-madras/dl-assignment1-experiment' target=\"_blank\">https://wandb.ai/cs24s031-indian-institute-of-technology-madras/dl-assignment1-experiment</a><br>Synced 5 W&B file(s), 0 media file(s), 0 artifact file(s) and 0 other file(s)"
      ],
      "text/plain": [
       "<IPython.core.display.HTML object>"
      ]
     },
     "metadata": {},
     "output_type": "display_data"
    },
    {
     "data": {
      "text/html": [
       "Find logs at: <code>./wandb/run-20250312_205318-ktgf8pqr/logs</code>"
      ],
      "text/plain": [
       "<IPython.core.display.HTML object>"
      ]
     },
     "metadata": {},
     "output_type": "display_data"
    },
    {
     "name": "stderr",
     "output_type": "stream",
     "text": [
      "\u001b[34m\u001b[1mwandb\u001b[0m: Sweep Agent: Waiting for job.\n",
      "\u001b[34m\u001b[1mwandb\u001b[0m: Job received.\n",
      "\u001b[34m\u001b[1mwandb\u001b[0m: Agent Starting Run: fyjz5l82 with config:\n",
      "\u001b[34m\u001b[1mwandb\u001b[0m: \tactivation_function: ReLU\n",
      "\u001b[34m\u001b[1mwandb\u001b[0m: \tbatch_size: 16\n",
      "\u001b[34m\u001b[1mwandb\u001b[0m: \tepochs: 10\n",
      "\u001b[34m\u001b[1mwandb\u001b[0m: \thidden_layer_size: 128\n",
      "\u001b[34m\u001b[1mwandb\u001b[0m: \tlearning_rate: 0.0001\n",
      "\u001b[34m\u001b[1mwandb\u001b[0m: \tnum_of_hidden_layers: 3\n",
      "\u001b[34m\u001b[1mwandb\u001b[0m: \toptimizer: nesterov\n",
      "\u001b[34m\u001b[1mwandb\u001b[0m: \tweight_decay: 0.0005\n",
      "\u001b[34m\u001b[1mwandb\u001b[0m: \tweight_initialization: Xavier\n"
     ]
    },
    {
     "data": {
      "text/html": [
       "Ignoring project 'dl-assignment1-experiment' when running a sweep."
      ],
      "text/plain": [
       "<IPython.core.display.HTML object>"
      ]
     },
     "metadata": {},
     "output_type": "display_data"
    },
    {
     "data": {
      "text/html": [
       "Tracking run with wandb version 0.19.8"
      ],
      "text/plain": [
       "<IPython.core.display.HTML object>"
      ]
     },
     "metadata": {},
     "output_type": "display_data"
    },
    {
     "data": {
      "text/html": [
       "Run data is saved locally in <code>/home/user/Documents/DL/assignment/wandb/run-20250312_205339-fyjz5l82</code>"
      ],
      "text/plain": [
       "<IPython.core.display.HTML object>"
      ]
     },
     "metadata": {},
     "output_type": "display_data"
    },
    {
     "data": {
      "text/html": [
       "Syncing run <strong><a href='https://wandb.ai/cs24s031-indian-institute-of-technology-madras/dl-assignment1-experiment/runs/fyjz5l82' target=\"_blank\">jumping-sweep-25</a></strong> to <a href='https://wandb.ai/cs24s031-indian-institute-of-technology-madras/dl-assignment1-experiment' target=\"_blank\">Weights & Biases</a> (<a href='https://wandb.me/developer-guide' target=\"_blank\">docs</a>)<br>Sweep page: <a href='https://wandb.ai/cs24s031-indian-institute-of-technology-madras/dl-assignment1-experiment/sweeps/hfa2u67m' target=\"_blank\">https://wandb.ai/cs24s031-indian-institute-of-technology-madras/dl-assignment1-experiment/sweeps/hfa2u67m</a>"
      ],
      "text/plain": [
       "<IPython.core.display.HTML object>"
      ]
     },
     "metadata": {},
     "output_type": "display_data"
    },
    {
     "data": {
      "text/html": [
       " View project at <a href='https://wandb.ai/cs24s031-indian-institute-of-technology-madras/dl-assignment1-experiment' target=\"_blank\">https://wandb.ai/cs24s031-indian-institute-of-technology-madras/dl-assignment1-experiment</a>"
      ],
      "text/plain": [
       "<IPython.core.display.HTML object>"
      ]
     },
     "metadata": {},
     "output_type": "display_data"
    },
    {
     "data": {
      "text/html": [
       " View sweep at <a href='https://wandb.ai/cs24s031-indian-institute-of-technology-madras/dl-assignment1-experiment/sweeps/hfa2u67m' target=\"_blank\">https://wandb.ai/cs24s031-indian-institute-of-technology-madras/dl-assignment1-experiment/sweeps/hfa2u67m</a>"
      ],
      "text/plain": [
       "<IPython.core.display.HTML object>"
      ]
     },
     "metadata": {},
     "output_type": "display_data"
    },
    {
     "data": {
      "text/html": [
       " View run at <a href='https://wandb.ai/cs24s031-indian-institute-of-technology-madras/dl-assignment1-experiment/runs/fyjz5l82' target=\"_blank\">https://wandb.ai/cs24s031-indian-institute-of-technology-madras/dl-assignment1-experiment/runs/fyjz5l82</a>"
      ],
      "text/plain": [
       "<IPython.core.display.HTML object>"
      ]
     },
     "metadata": {},
     "output_type": "display_data"
    },
    {
     "name": "stdout",
     "output_type": "stream",
     "text": [
      "Starting training with run name: hl_3_bs_16_ac_ReLU\n"
     ]
    },
    {
     "data": {
      "text/html": [],
      "text/plain": [
       "<IPython.core.display.HTML object>"
      ]
     },
     "metadata": {},
     "output_type": "display_data"
    },
    {
     "data": {
      "text/html": [
       " View run <strong style=\"color:#cdcd00\">hl_3_bs_16_ac_ReLU</strong> at: <a href='https://wandb.ai/cs24s031-indian-institute-of-technology-madras/dl-assignment1-experiment/runs/fyjz5l82' target=\"_blank\">https://wandb.ai/cs24s031-indian-institute-of-technology-madras/dl-assignment1-experiment/runs/fyjz5l82</a><br> View project at: <a href='https://wandb.ai/cs24s031-indian-institute-of-technology-madras/dl-assignment1-experiment' target=\"_blank\">https://wandb.ai/cs24s031-indian-institute-of-technology-madras/dl-assignment1-experiment</a><br>Synced 5 W&B file(s), 0 media file(s), 0 artifact file(s) and 0 other file(s)"
      ],
      "text/plain": [
       "<IPython.core.display.HTML object>"
      ]
     },
     "metadata": {},
     "output_type": "display_data"
    },
    {
     "data": {
      "text/html": [
       "Find logs at: <code>./wandb/run-20250312_205339-fyjz5l82/logs</code>"
      ],
      "text/plain": [
       "<IPython.core.display.HTML object>"
      ]
     },
     "metadata": {},
     "output_type": "display_data"
    },
    {
     "name": "stderr",
     "output_type": "stream",
     "text": [
      "\u001b[34m\u001b[1mwandb\u001b[0m: Agent Starting Run: q0si9seh with config:\n",
      "\u001b[34m\u001b[1mwandb\u001b[0m: \tactivation_function: ReLU\n",
      "\u001b[34m\u001b[1mwandb\u001b[0m: \tbatch_size: 64\n",
      "\u001b[34m\u001b[1mwandb\u001b[0m: \tepochs: 10\n",
      "\u001b[34m\u001b[1mwandb\u001b[0m: \thidden_layer_size: 128\n",
      "\u001b[34m\u001b[1mwandb\u001b[0m: \tlearning_rate: 0.001\n",
      "\u001b[34m\u001b[1mwandb\u001b[0m: \tnum_of_hidden_layers: 5\n",
      "\u001b[34m\u001b[1mwandb\u001b[0m: \toptimizer: nesterov\n",
      "\u001b[34m\u001b[1mwandb\u001b[0m: \tweight_decay: 0.0005\n",
      "\u001b[34m\u001b[1mwandb\u001b[0m: \tweight_initialization: Xavier\n"
     ]
    },
    {
     "data": {
      "text/html": [
       "Ignoring project 'dl-assignment1-experiment' when running a sweep."
      ],
      "text/plain": [
       "<IPython.core.display.HTML object>"
      ]
     },
     "metadata": {},
     "output_type": "display_data"
    },
    {
     "data": {
      "text/html": [
       "Tracking run with wandb version 0.19.8"
      ],
      "text/plain": [
       "<IPython.core.display.HTML object>"
      ]
     },
     "metadata": {},
     "output_type": "display_data"
    },
    {
     "data": {
      "text/html": [
       "Run data is saved locally in <code>/home/user/Documents/DL/assignment/wandb/run-20250312_205345-q0si9seh</code>"
      ],
      "text/plain": [
       "<IPython.core.display.HTML object>"
      ]
     },
     "metadata": {},
     "output_type": "display_data"
    },
    {
     "data": {
      "text/html": [
       "Syncing run <strong><a href='https://wandb.ai/cs24s031-indian-institute-of-technology-madras/dl-assignment1-experiment/runs/q0si9seh' target=\"_blank\">misty-sweep-26</a></strong> to <a href='https://wandb.ai/cs24s031-indian-institute-of-technology-madras/dl-assignment1-experiment' target=\"_blank\">Weights & Biases</a> (<a href='https://wandb.me/developer-guide' target=\"_blank\">docs</a>)<br>Sweep page: <a href='https://wandb.ai/cs24s031-indian-institute-of-technology-madras/dl-assignment1-experiment/sweeps/hfa2u67m' target=\"_blank\">https://wandb.ai/cs24s031-indian-institute-of-technology-madras/dl-assignment1-experiment/sweeps/hfa2u67m</a>"
      ],
      "text/plain": [
       "<IPython.core.display.HTML object>"
      ]
     },
     "metadata": {},
     "output_type": "display_data"
    },
    {
     "data": {
      "text/html": [
       " View project at <a href='https://wandb.ai/cs24s031-indian-institute-of-technology-madras/dl-assignment1-experiment' target=\"_blank\">https://wandb.ai/cs24s031-indian-institute-of-technology-madras/dl-assignment1-experiment</a>"
      ],
      "text/plain": [
       "<IPython.core.display.HTML object>"
      ]
     },
     "metadata": {},
     "output_type": "display_data"
    },
    {
     "data": {
      "text/html": [
       " View sweep at <a href='https://wandb.ai/cs24s031-indian-institute-of-technology-madras/dl-assignment1-experiment/sweeps/hfa2u67m' target=\"_blank\">https://wandb.ai/cs24s031-indian-institute-of-technology-madras/dl-assignment1-experiment/sweeps/hfa2u67m</a>"
      ],
      "text/plain": [
       "<IPython.core.display.HTML object>"
      ]
     },
     "metadata": {},
     "output_type": "display_data"
    },
    {
     "data": {
      "text/html": [
       " View run at <a href='https://wandb.ai/cs24s031-indian-institute-of-technology-madras/dl-assignment1-experiment/runs/q0si9seh' target=\"_blank\">https://wandb.ai/cs24s031-indian-institute-of-technology-madras/dl-assignment1-experiment/runs/q0si9seh</a>"
      ],
      "text/plain": [
       "<IPython.core.display.HTML object>"
      ]
     },
     "metadata": {},
     "output_type": "display_data"
    },
    {
     "name": "stdout",
     "output_type": "stream",
     "text": [
      "Starting training with run name: hl_5_bs_64_ac_ReLU\n"
     ]
    },
    {
     "data": {
      "text/html": [],
      "text/plain": [
       "<IPython.core.display.HTML object>"
      ]
     },
     "metadata": {},
     "output_type": "display_data"
    },
    {
     "data": {
      "text/html": [
       " View run <strong style=\"color:#cdcd00\">hl_5_bs_64_ac_ReLU</strong> at: <a href='https://wandb.ai/cs24s031-indian-institute-of-technology-madras/dl-assignment1-experiment/runs/q0si9seh' target=\"_blank\">https://wandb.ai/cs24s031-indian-institute-of-technology-madras/dl-assignment1-experiment/runs/q0si9seh</a><br> View project at: <a href='https://wandb.ai/cs24s031-indian-institute-of-technology-madras/dl-assignment1-experiment' target=\"_blank\">https://wandb.ai/cs24s031-indian-institute-of-technology-madras/dl-assignment1-experiment</a><br>Synced 5 W&B file(s), 0 media file(s), 0 artifact file(s) and 0 other file(s)"
      ],
      "text/plain": [
       "<IPython.core.display.HTML object>"
      ]
     },
     "metadata": {},
     "output_type": "display_data"
    },
    {
     "data": {
      "text/html": [
       "Find logs at: <code>./wandb/run-20250312_205345-q0si9seh/logs</code>"
      ],
      "text/plain": [
       "<IPython.core.display.HTML object>"
      ]
     },
     "metadata": {},
     "output_type": "display_data"
    },
    {
     "name": "stderr",
     "output_type": "stream",
     "text": [
      "\u001b[34m\u001b[1mwandb\u001b[0m: Agent Starting Run: mnbqxjjr with config:\n",
      "\u001b[34m\u001b[1mwandb\u001b[0m: \tactivation_function: ReLU\n",
      "\u001b[34m\u001b[1mwandb\u001b[0m: \tbatch_size: 32\n",
      "\u001b[34m\u001b[1mwandb\u001b[0m: \tepochs: 10\n",
      "\u001b[34m\u001b[1mwandb\u001b[0m: \thidden_layer_size: 128\n",
      "\u001b[34m\u001b[1mwandb\u001b[0m: \tlearning_rate: 0.001\n",
      "\u001b[34m\u001b[1mwandb\u001b[0m: \tnum_of_hidden_layers: 5\n",
      "\u001b[34m\u001b[1mwandb\u001b[0m: \toptimizer: nadam\n",
      "\u001b[34m\u001b[1mwandb\u001b[0m: \tweight_decay: 0.5\n",
      "\u001b[34m\u001b[1mwandb\u001b[0m: \tweight_initialization: Xavier\n"
     ]
    },
    {
     "data": {
      "text/html": [
       "Ignoring project 'dl-assignment1-experiment' when running a sweep."
      ],
      "text/plain": [
       "<IPython.core.display.HTML object>"
      ]
     },
     "metadata": {},
     "output_type": "display_data"
    },
    {
     "data": {
      "text/html": [
       "Tracking run with wandb version 0.19.8"
      ],
      "text/plain": [
       "<IPython.core.display.HTML object>"
      ]
     },
     "metadata": {},
     "output_type": "display_data"
    },
    {
     "data": {
      "text/html": [
       "Run data is saved locally in <code>/home/user/Documents/DL/assignment/wandb/run-20250312_205350-mnbqxjjr</code>"
      ],
      "text/plain": [
       "<IPython.core.display.HTML object>"
      ]
     },
     "metadata": {},
     "output_type": "display_data"
    },
    {
     "data": {
      "text/html": [
       "Syncing run <strong><a href='https://wandb.ai/cs24s031-indian-institute-of-technology-madras/dl-assignment1-experiment/runs/mnbqxjjr' target=\"_blank\">avid-sweep-27</a></strong> to <a href='https://wandb.ai/cs24s031-indian-institute-of-technology-madras/dl-assignment1-experiment' target=\"_blank\">Weights & Biases</a> (<a href='https://wandb.me/developer-guide' target=\"_blank\">docs</a>)<br>Sweep page: <a href='https://wandb.ai/cs24s031-indian-institute-of-technology-madras/dl-assignment1-experiment/sweeps/hfa2u67m' target=\"_blank\">https://wandb.ai/cs24s031-indian-institute-of-technology-madras/dl-assignment1-experiment/sweeps/hfa2u67m</a>"
      ],
      "text/plain": [
       "<IPython.core.display.HTML object>"
      ]
     },
     "metadata": {},
     "output_type": "display_data"
    },
    {
     "data": {
      "text/html": [
       " View project at <a href='https://wandb.ai/cs24s031-indian-institute-of-technology-madras/dl-assignment1-experiment' target=\"_blank\">https://wandb.ai/cs24s031-indian-institute-of-technology-madras/dl-assignment1-experiment</a>"
      ],
      "text/plain": [
       "<IPython.core.display.HTML object>"
      ]
     },
     "metadata": {},
     "output_type": "display_data"
    },
    {
     "data": {
      "text/html": [
       " View sweep at <a href='https://wandb.ai/cs24s031-indian-institute-of-technology-madras/dl-assignment1-experiment/sweeps/hfa2u67m' target=\"_blank\">https://wandb.ai/cs24s031-indian-institute-of-technology-madras/dl-assignment1-experiment/sweeps/hfa2u67m</a>"
      ],
      "text/plain": [
       "<IPython.core.display.HTML object>"
      ]
     },
     "metadata": {},
     "output_type": "display_data"
    },
    {
     "data": {
      "text/html": [
       " View run at <a href='https://wandb.ai/cs24s031-indian-institute-of-technology-madras/dl-assignment1-experiment/runs/mnbqxjjr' target=\"_blank\">https://wandb.ai/cs24s031-indian-institute-of-technology-madras/dl-assignment1-experiment/runs/mnbqxjjr</a>"
      ],
      "text/plain": [
       "<IPython.core.display.HTML object>"
      ]
     },
     "metadata": {},
     "output_type": "display_data"
    },
    {
     "name": "stdout",
     "output_type": "stream",
     "text": [
      "Starting training with run name: hl_5_bs_32_ac_ReLU\n",
      "Epoch 1/10 - Batch 1600/1687 - train-loss: 0.590592 train-acc: 0.750000 test-loss:0.481869 test-acc : 0.828833 \n",
      "Epoch 2/10 - Batch 1600/1687 - train-loss: 0.602208 train-acc: 0.687500 test-loss:0.497876 test-acc : 0.823500 \n",
      "Epoch 3/10 - Batch 1600/1687 - train-loss: 0.607154 train-acc: 0.718750 test-loss:0.496297 test-acc : 0.826167 \n",
      "Epoch 4/10 - Batch 1600/1687 - train-loss: 0.575102 train-acc: 0.750000 test-loss:0.490668 test-acc : 0.826667 \n",
      "Epoch 5/10 - Batch 1600/1687 - train-loss: 0.571074 train-acc: 0.750000 test-loss:0.481705 test-acc : 0.830833 \n",
      "Epoch 6/10 - Batch 1600/1687 - train-loss: 0.556258 train-acc: 0.750000 test-loss:0.475093 test-acc : 0.832333 \n",
      "Epoch 7/10 - Batch 1600/1687 - train-loss: 0.551282 train-acc: 0.750000 test-loss:0.473111 test-acc : 0.832500 \n",
      "Epoch 8/10 - Batch 1600/1687 - train-loss: 0.542672 train-acc: 0.750000 test-loss:0.467933 test-acc : 0.836500 \n",
      "Epoch 9/10 - Batch 1600/1687 - train-loss: 0.545436 train-acc: 0.750000 test-loss:0.468053 test-acc : 0.837000 \n",
      "Epoch 10/10 - Batch 1600/1687 - train-loss: 0.542583 train-acc: 0.781250 test-loss:0.468790 test-acc : 0.836000 \n"
     ]
    },
    {
     "data": {
      "text/html": [],
      "text/plain": [
       "<IPython.core.display.HTML object>"
      ]
     },
     "metadata": {},
     "output_type": "display_data"
    },
    {
     "data": {
      "text/html": [
       "<br>    <style><br>        .wandb-row {<br>            display: flex;<br>            flex-direction: row;<br>            flex-wrap: wrap;<br>            justify-content: flex-start;<br>            width: 100%;<br>        }<br>        .wandb-col {<br>            display: flex;<br>            flex-direction: column;<br>            flex-basis: 100%;<br>            flex: 1;<br>            padding: 10px;<br>        }<br>    </style><br><div class=\"wandb-row\"><div class=\"wandb-col\"><h3>Run history:</h3><br/><table class=\"wandb\"><tr><td>train_acc</td><td>▆█▅▄▃▂▁▄▂▅▄▂▆▆▅▄▂▆▆▅▆▃▆▄▄▆▃▆▅▃▅▆▃▃▆▆▆▄▃▃</td></tr><tr><td>train_loss</td><td>█▄▂▅▅▄▃▂▅▅█▅▃▅▁▁▅█▃▂▅▂▄▅▄▂▁▄▅▃▄▁▄▅▆▄▁█▄▂</td></tr><tr><td>val_acc</td><td>▂▅▆▅▂▃▇▅▅▁▄▂▆▄▄▅▅▆▄▄▅▇▆▇▂▆▆▁██▂██▇▃▂█▇▇█</td></tr><tr><td>val_loss</td><td>█▂▁▂▃▃▃▅▃▅▆▅▄▃▃▃▄▅▃▂▄▃▃▃▂▄▂▂▃▂▂▁▃▂▅▂▂▂▁▁</td></tr></table><br/></div><div class=\"wandb-col\"><h3>Run summary:</h3><br/><table class=\"wandb\"><tr><td>train_acc</td><td>0.78125</td></tr><tr><td>train_loss</td><td>0.54258</td></tr><tr><td>val_acc</td><td>0.836</td></tr><tr><td>val_loss</td><td>0.46879</td></tr></table><br/></div></div>"
      ],
      "text/plain": [
       "<IPython.core.display.HTML object>"
      ]
     },
     "metadata": {},
     "output_type": "display_data"
    },
    {
     "data": {
      "text/html": [
       " View run <strong style=\"color:#cdcd00\">hl_5_bs_32_ac_ReLU</strong> at: <a href='https://wandb.ai/cs24s031-indian-institute-of-technology-madras/dl-assignment1-experiment/runs/mnbqxjjr' target=\"_blank\">https://wandb.ai/cs24s031-indian-institute-of-technology-madras/dl-assignment1-experiment/runs/mnbqxjjr</a><br> View project at: <a href='https://wandb.ai/cs24s031-indian-institute-of-technology-madras/dl-assignment1-experiment' target=\"_blank\">https://wandb.ai/cs24s031-indian-institute-of-technology-madras/dl-assignment1-experiment</a><br>Synced 5 W&B file(s), 0 media file(s), 0 artifact file(s) and 0 other file(s)"
      ],
      "text/plain": [
       "<IPython.core.display.HTML object>"
      ]
     },
     "metadata": {},
     "output_type": "display_data"
    },
    {
     "data": {
      "text/html": [
       "Find logs at: <code>./wandb/run-20250312_205350-mnbqxjjr/logs</code>"
      ],
      "text/plain": [
       "<IPython.core.display.HTML object>"
      ]
     },
     "metadata": {},
     "output_type": "display_data"
    },
    {
     "name": "stderr",
     "output_type": "stream",
     "text": [
      "\u001b[34m\u001b[1mwandb\u001b[0m: Sweep Agent: Waiting for job.\n",
      "\u001b[34m\u001b[1mwandb\u001b[0m: Job received.\n",
      "\u001b[34m\u001b[1mwandb\u001b[0m: Agent Starting Run: ht2j5vhf with config:\n",
      "\u001b[34m\u001b[1mwandb\u001b[0m: \tactivation_function: tanh\n",
      "\u001b[34m\u001b[1mwandb\u001b[0m: \tbatch_size: 16\n",
      "\u001b[34m\u001b[1mwandb\u001b[0m: \tepochs: 10\n",
      "\u001b[34m\u001b[1mwandb\u001b[0m: \thidden_layer_size: 128\n",
      "\u001b[34m\u001b[1mwandb\u001b[0m: \tlearning_rate: 0.0001\n",
      "\u001b[34m\u001b[1mwandb\u001b[0m: \tnum_of_hidden_layers: 4\n",
      "\u001b[34m\u001b[1mwandb\u001b[0m: \toptimizer: momentum\n",
      "\u001b[34m\u001b[1mwandb\u001b[0m: \tweight_decay: 0.0005\n",
      "\u001b[34m\u001b[1mwandb\u001b[0m: \tweight_initialization: Xavier\n"
     ]
    },
    {
     "data": {
      "text/html": [
       "Ignoring project 'dl-assignment1-experiment' when running a sweep."
      ],
      "text/plain": [
       "<IPython.core.display.HTML object>"
      ]
     },
     "metadata": {},
     "output_type": "display_data"
    },
    {
     "data": {
      "text/html": [
       "Tracking run with wandb version 0.19.8"
      ],
      "text/plain": [
       "<IPython.core.display.HTML object>"
      ]
     },
     "metadata": {},
     "output_type": "display_data"
    },
    {
     "data": {
      "text/html": [
       "Run data is saved locally in <code>/home/user/Documents/DL/assignment/wandb/run-20250312_205628-ht2j5vhf</code>"
      ],
      "text/plain": [
       "<IPython.core.display.HTML object>"
      ]
     },
     "metadata": {},
     "output_type": "display_data"
    },
    {
     "data": {
      "text/html": [
       "Syncing run <strong><a href='https://wandb.ai/cs24s031-indian-institute-of-technology-madras/dl-assignment1-experiment/runs/ht2j5vhf' target=\"_blank\">dauntless-sweep-28</a></strong> to <a href='https://wandb.ai/cs24s031-indian-institute-of-technology-madras/dl-assignment1-experiment' target=\"_blank\">Weights & Biases</a> (<a href='https://wandb.me/developer-guide' target=\"_blank\">docs</a>)<br>Sweep page: <a href='https://wandb.ai/cs24s031-indian-institute-of-technology-madras/dl-assignment1-experiment/sweeps/hfa2u67m' target=\"_blank\">https://wandb.ai/cs24s031-indian-institute-of-technology-madras/dl-assignment1-experiment/sweeps/hfa2u67m</a>"
      ],
      "text/plain": [
       "<IPython.core.display.HTML object>"
      ]
     },
     "metadata": {},
     "output_type": "display_data"
    },
    {
     "data": {
      "text/html": [
       " View project at <a href='https://wandb.ai/cs24s031-indian-institute-of-technology-madras/dl-assignment1-experiment' target=\"_blank\">https://wandb.ai/cs24s031-indian-institute-of-technology-madras/dl-assignment1-experiment</a>"
      ],
      "text/plain": [
       "<IPython.core.display.HTML object>"
      ]
     },
     "metadata": {},
     "output_type": "display_data"
    },
    {
     "data": {
      "text/html": [
       " View sweep at <a href='https://wandb.ai/cs24s031-indian-institute-of-technology-madras/dl-assignment1-experiment/sweeps/hfa2u67m' target=\"_blank\">https://wandb.ai/cs24s031-indian-institute-of-technology-madras/dl-assignment1-experiment/sweeps/hfa2u67m</a>"
      ],
      "text/plain": [
       "<IPython.core.display.HTML object>"
      ]
     },
     "metadata": {},
     "output_type": "display_data"
    },
    {
     "data": {
      "text/html": [
       " View run at <a href='https://wandb.ai/cs24s031-indian-institute-of-technology-madras/dl-assignment1-experiment/runs/ht2j5vhf' target=\"_blank\">https://wandb.ai/cs24s031-indian-institute-of-technology-madras/dl-assignment1-experiment/runs/ht2j5vhf</a>"
      ],
      "text/plain": [
       "<IPython.core.display.HTML object>"
      ]
     },
     "metadata": {},
     "output_type": "display_data"
    },
    {
     "name": "stdout",
     "output_type": "stream",
     "text": [
      "Starting training with run name: hl_4_bs_16_ac_tanh\n",
      "Epoch 1/10 - Batch 3300/3375 - train-loss: 0.944716 train-acc: 0.687500 test-loss:0.537797 test-acc : 0.807000 \n",
      "Epoch 2/10 - Batch 3300/3375 - train-loss: 0.869299 train-acc: 0.687500 test-loss:0.476674 test-acc : 0.828333 \n",
      "Epoch 3/10 - Batch 3300/3375 - train-loss: 0.829362 train-acc: 0.687500 test-loss:0.446055 test-acc : 0.837500 \n",
      "Epoch 4/10 - Batch 3300/3375 - train-loss: 0.799706 train-acc: 0.687500 test-loss:0.426326 test-acc : 0.847667 \n",
      "Epoch 5/10 - Batch 3300/3375 - train-loss: 0.775552 train-acc: 0.687500 test-loss:0.412092 test-acc : 0.850333 \n",
      "Epoch 6/10 - Batch 3300/3375 - train-loss: 0.754681 train-acc: 0.687500 test-loss:0.401125 test-acc : 0.852500 \n",
      "Epoch 7/10 - Batch 3300/3375 - train-loss: 0.735662 train-acc: 0.687500 test-loss:0.392316 test-acc : 0.854833 \n",
      "Epoch 8/10 - Batch 3300/3375 - train-loss: 0.717808 train-acc: 0.687500 test-loss:0.385042 test-acc : 0.856333 \n",
      "Epoch 9/10 - Batch 3300/3375 - train-loss: 0.701046 train-acc: 0.687500 test-loss:0.378909 test-acc : 0.859333 \n",
      "Epoch 10/10 - Batch 3300/3375 - train-loss: 0.685540 train-acc: 0.687500 test-loss:0.373650 test-acc : 0.861000 \n"
     ]
    },
    {
     "data": {
      "text/html": [],
      "text/plain": [
       "<IPython.core.display.HTML object>"
      ]
     },
     "metadata": {},
     "output_type": "display_data"
    },
    {
     "data": {
      "text/html": [
       "<br>    <style><br>        .wandb-row {<br>            display: flex;<br>            flex-direction: row;<br>            flex-wrap: wrap;<br>            justify-content: flex-start;<br>            width: 100%;<br>        }<br>        .wandb-col {<br>            display: flex;<br>            flex-direction: column;<br>            flex-basis: 100%;<br>            flex: 1;<br>            padding: 10px;<br>        }<br>    </style><br><div class=\"wandb-row\"><div class=\"wandb-col\"><h3>Run history:</h3><br/><table class=\"wandb\"><tr><td>train_acc</td><td>▁█▇▂▂▇▄▄▇▇▅▄▄▁▅▇▅▇▁█▇▄▂▄▂▄▇▇▇▄▂▂▇▄▇▇▇▅▅▇</td></tr><tr><td>train_loss</td><td>▇▄▅▁▃▃▃▂▃▃▆█▁▅█▆▅▂▁▃▂▁▁▁▄▅▂▂▄▂▂▄▂▂▇▃▅▁▂▂</td></tr><tr><td>val_acc</td><td>▁▃▅▅▅▆▆▆▆▆▆▆▇▇▇▇▇▇▇▇▇▇▇▇██▇█████████████</td></tr><tr><td>val_loss</td><td>█▄▄▃▃▂▂▂▂▂▂▂▂▂▂▂▂▂▂▂▁▁▁▁▁▁▁▁▁▁▁▁▁▁▁▁▁▁▁▁</td></tr></table><br/></div><div class=\"wandb-col\"><h3>Run summary:</h3><br/><table class=\"wandb\"><tr><td>train_acc</td><td>0.6875</td></tr><tr><td>train_loss</td><td>0.68554</td></tr><tr><td>val_acc</td><td>0.861</td></tr><tr><td>val_loss</td><td>0.37365</td></tr></table><br/></div></div>"
      ],
      "text/plain": [
       "<IPython.core.display.HTML object>"
      ]
     },
     "metadata": {},
     "output_type": "display_data"
    },
    {
     "data": {
      "text/html": [
       " View run <strong style=\"color:#cdcd00\">hl_4_bs_16_ac_tanh</strong> at: <a href='https://wandb.ai/cs24s031-indian-institute-of-technology-madras/dl-assignment1-experiment/runs/ht2j5vhf' target=\"_blank\">https://wandb.ai/cs24s031-indian-institute-of-technology-madras/dl-assignment1-experiment/runs/ht2j5vhf</a><br> View project at: <a href='https://wandb.ai/cs24s031-indian-institute-of-technology-madras/dl-assignment1-experiment' target=\"_blank\">https://wandb.ai/cs24s031-indian-institute-of-technology-madras/dl-assignment1-experiment</a><br>Synced 5 W&B file(s), 0 media file(s), 0 artifact file(s) and 0 other file(s)"
      ],
      "text/plain": [
       "<IPython.core.display.HTML object>"
      ]
     },
     "metadata": {},
     "output_type": "display_data"
    },
    {
     "data": {
      "text/html": [
       "Find logs at: <code>./wandb/run-20250312_205628-ht2j5vhf/logs</code>"
      ],
      "text/plain": [
       "<IPython.core.display.HTML object>"
      ]
     },
     "metadata": {},
     "output_type": "display_data"
    },
    {
     "name": "stderr",
     "output_type": "stream",
     "text": [
      "\u001b[34m\u001b[1mwandb\u001b[0m: Agent Starting Run: 9w2uyrsr with config:\n",
      "\u001b[34m\u001b[1mwandb\u001b[0m: \tactivation_function: ReLU\n",
      "\u001b[34m\u001b[1mwandb\u001b[0m: \tbatch_size: 32\n",
      "\u001b[34m\u001b[1mwandb\u001b[0m: \tepochs: 10\n",
      "\u001b[34m\u001b[1mwandb\u001b[0m: \thidden_layer_size: 128\n",
      "\u001b[34m\u001b[1mwandb\u001b[0m: \tlearning_rate: 0.0001\n",
      "\u001b[34m\u001b[1mwandb\u001b[0m: \tnum_of_hidden_layers: 3\n",
      "\u001b[34m\u001b[1mwandb\u001b[0m: \toptimizer: sgd\n",
      "\u001b[34m\u001b[1mwandb\u001b[0m: \tweight_decay: 0.0005\n",
      "\u001b[34m\u001b[1mwandb\u001b[0m: \tweight_initialization: Xavier\n"
     ]
    },
    {
     "data": {
      "text/html": [
       "Ignoring project 'dl-assignment1-experiment' when running a sweep."
      ],
      "text/plain": [
       "<IPython.core.display.HTML object>"
      ]
     },
     "metadata": {},
     "output_type": "display_data"
    },
    {
     "data": {
      "text/html": [
       "Tracking run with wandb version 0.19.8"
      ],
      "text/plain": [
       "<IPython.core.display.HTML object>"
      ]
     },
     "metadata": {},
     "output_type": "display_data"
    },
    {
     "data": {
      "text/html": [
       "Run data is saved locally in <code>/home/user/Documents/DL/assignment/wandb/run-20250312_205723-9w2uyrsr</code>"
      ],
      "text/plain": [
       "<IPython.core.display.HTML object>"
      ]
     },
     "metadata": {},
     "output_type": "display_data"
    },
    {
     "data": {
      "text/html": [
       "Syncing run <strong><a href='https://wandb.ai/cs24s031-indian-institute-of-technology-madras/dl-assignment1-experiment/runs/9w2uyrsr' target=\"_blank\">earnest-sweep-29</a></strong> to <a href='https://wandb.ai/cs24s031-indian-institute-of-technology-madras/dl-assignment1-experiment' target=\"_blank\">Weights & Biases</a> (<a href='https://wandb.me/developer-guide' target=\"_blank\">docs</a>)<br>Sweep page: <a href='https://wandb.ai/cs24s031-indian-institute-of-technology-madras/dl-assignment1-experiment/sweeps/hfa2u67m' target=\"_blank\">https://wandb.ai/cs24s031-indian-institute-of-technology-madras/dl-assignment1-experiment/sweeps/hfa2u67m</a>"
      ],
      "text/plain": [
       "<IPython.core.display.HTML object>"
      ]
     },
     "metadata": {},
     "output_type": "display_data"
    },
    {
     "data": {
      "text/html": [
       " View project at <a href='https://wandb.ai/cs24s031-indian-institute-of-technology-madras/dl-assignment1-experiment' target=\"_blank\">https://wandb.ai/cs24s031-indian-institute-of-technology-madras/dl-assignment1-experiment</a>"
      ],
      "text/plain": [
       "<IPython.core.display.HTML object>"
      ]
     },
     "metadata": {},
     "output_type": "display_data"
    },
    {
     "data": {
      "text/html": [
       " View sweep at <a href='https://wandb.ai/cs24s031-indian-institute-of-technology-madras/dl-assignment1-experiment/sweeps/hfa2u67m' target=\"_blank\">https://wandb.ai/cs24s031-indian-institute-of-technology-madras/dl-assignment1-experiment/sweeps/hfa2u67m</a>"
      ],
      "text/plain": [
       "<IPython.core.display.HTML object>"
      ]
     },
     "metadata": {},
     "output_type": "display_data"
    },
    {
     "data": {
      "text/html": [
       " View run at <a href='https://wandb.ai/cs24s031-indian-institute-of-technology-madras/dl-assignment1-experiment/runs/9w2uyrsr' target=\"_blank\">https://wandb.ai/cs24s031-indian-institute-of-technology-madras/dl-assignment1-experiment/runs/9w2uyrsr</a>"
      ],
      "text/plain": [
       "<IPython.core.display.HTML object>"
      ]
     },
     "metadata": {},
     "output_type": "display_data"
    },
    {
     "name": "stdout",
     "output_type": "stream",
     "text": [
      "Starting training with run name: hl_3_bs_32_ac_ReLU\n",
      "Epoch 1/10 - Batch 1600/1687 - train-loss: 0.701892 train-acc: 0.718750 test-loss:0.545902 test-acc : 0.805000 \n",
      "Epoch 2/10 - Batch 1600/1687 - train-loss: 0.647614 train-acc: 0.750000 test-loss:0.486744 test-acc : 0.824000 \n",
      "Epoch 3/10 - Batch 1600/1687 - train-loss: 0.612026 train-acc: 0.750000 test-loss:0.455940 test-acc : 0.836333 \n",
      "Epoch 4/10 - Batch 1600/1687 - train-loss: 0.595177 train-acc: 0.750000 test-loss:0.436457 test-acc : 0.843500 \n",
      "Epoch 5/10 - Batch 1600/1687 - train-loss: 0.576747 train-acc: 0.750000 test-loss:0.421114 test-acc : 0.848500 \n",
      "Epoch 6/10 - Batch 1600/1687 - train-loss: 0.567770 train-acc: 0.750000 test-loss:0.409393 test-acc : 0.852167 \n",
      "Epoch 7/10 - Batch 1600/1687 - train-loss: 0.555474 train-acc: 0.781250 test-loss:0.399533 test-acc : 0.856333 \n",
      "Epoch 8/10 - Batch 1600/1687 - train-loss: 0.542609 train-acc: 0.812500 test-loss:0.391231 test-acc : 0.859500 \n",
      "Epoch 9/10 - Batch 1600/1687 - train-loss: 0.528129 train-acc: 0.812500 test-loss:0.384190 test-acc : 0.860500 \n",
      "Epoch 10/10 - Batch 1600/1687 - train-loss: 0.520909 train-acc: 0.812500 test-loss:0.377312 test-acc : 0.864000 \n"
     ]
    },
    {
     "data": {
      "text/html": [],
      "text/plain": [
       "<IPython.core.display.HTML object>"
      ]
     },
     "metadata": {},
     "output_type": "display_data"
    },
    {
     "data": {
      "text/html": [
       "<br>    <style><br>        .wandb-row {<br>            display: flex;<br>            flex-direction: row;<br>            flex-wrap: wrap;<br>            justify-content: flex-start;<br>            width: 100%;<br>        }<br>        .wandb-col {<br>            display: flex;<br>            flex-direction: column;<br>            flex-basis: 100%;<br>            flex: 1;<br>            padding: 10px;<br>        }<br>    </style><br><div class=\"wandb-row\"><div class=\"wandb-col\"><h3>Run history:</h3><br/><table class=\"wandb\"><tr><td>train_acc</td><td>▅▁▁▄▅▅▂▅▆▇▅▄▄▄▅▂▇▆▅▅▄▄▆▆▆▇▂▇▆▅▇▆▆▅▇▅▆▅▅█</td></tr><tr><td>train_loss</td><td>█▃▅▂▁▇▄▄▂▁▅▃▅▂▃▅▄▂▄▃▅▃▄▁▂▂▃▂▂▂▂▅▄▃▂▂▃▄▂▄</td></tr><tr><td>val_acc</td><td>▁▃▄▃▅▅▆▆▆▆▆▇▇▇▇▇▇▇▇▇▇▇▇▇▇▇████▇█████████</td></tr><tr><td>val_loss</td><td>█▆▄▄▄▃▃▂▂▂▂▂▂▂▂▂▂▂▂▂▂▂▁▁▁▁▁▁▁▁▁▁▁▁▁▁▁▁▁▁</td></tr></table><br/></div><div class=\"wandb-col\"><h3>Run summary:</h3><br/><table class=\"wandb\"><tr><td>train_acc</td><td>0.8125</td></tr><tr><td>train_loss</td><td>0.52091</td></tr><tr><td>val_acc</td><td>0.864</td></tr><tr><td>val_loss</td><td>0.37731</td></tr></table><br/></div></div>"
      ],
      "text/plain": [
       "<IPython.core.display.HTML object>"
      ]
     },
     "metadata": {},
     "output_type": "display_data"
    },
    {
     "data": {
      "text/html": [
       " View run <strong style=\"color:#cdcd00\">hl_3_bs_32_ac_ReLU</strong> at: <a href='https://wandb.ai/cs24s031-indian-institute-of-technology-madras/dl-assignment1-experiment/runs/9w2uyrsr' target=\"_blank\">https://wandb.ai/cs24s031-indian-institute-of-technology-madras/dl-assignment1-experiment/runs/9w2uyrsr</a><br> View project at: <a href='https://wandb.ai/cs24s031-indian-institute-of-technology-madras/dl-assignment1-experiment' target=\"_blank\">https://wandb.ai/cs24s031-indian-institute-of-technology-madras/dl-assignment1-experiment</a><br>Synced 5 W&B file(s), 0 media file(s), 0 artifact file(s) and 0 other file(s)"
      ],
      "text/plain": [
       "<IPython.core.display.HTML object>"
      ]
     },
     "metadata": {},
     "output_type": "display_data"
    },
    {
     "data": {
      "text/html": [
       "Find logs at: <code>./wandb/run-20250312_205723-9w2uyrsr/logs</code>"
      ],
      "text/plain": [
       "<IPython.core.display.HTML object>"
      ]
     },
     "metadata": {},
     "output_type": "display_data"
    },
    {
     "name": "stderr",
     "output_type": "stream",
     "text": [
      "\u001b[34m\u001b[1mwandb\u001b[0m: Agent Starting Run: uqv5oxqr with config:\n",
      "\u001b[34m\u001b[1mwandb\u001b[0m: \tactivation_function: ReLU\n",
      "\u001b[34m\u001b[1mwandb\u001b[0m: \tbatch_size: 64\n",
      "\u001b[34m\u001b[1mwandb\u001b[0m: \tepochs: 10\n",
      "\u001b[34m\u001b[1mwandb\u001b[0m: \thidden_layer_size: 128\n",
      "\u001b[34m\u001b[1mwandb\u001b[0m: \tlearning_rate: 0.0001\n",
      "\u001b[34m\u001b[1mwandb\u001b[0m: \tnum_of_hidden_layers: 4\n",
      "\u001b[34m\u001b[1mwandb\u001b[0m: \toptimizer: momentum\n",
      "\u001b[34m\u001b[1mwandb\u001b[0m: \tweight_decay: 0.5\n",
      "\u001b[34m\u001b[1mwandb\u001b[0m: \tweight_initialization: Xavier\n"
     ]
    },
    {
     "data": {
      "text/html": [
       "Ignoring project 'dl-assignment1-experiment' when running a sweep."
      ],
      "text/plain": [
       "<IPython.core.display.HTML object>"
      ]
     },
     "metadata": {},
     "output_type": "display_data"
    },
    {
     "data": {
      "text/html": [
       "Tracking run with wandb version 0.19.8"
      ],
      "text/plain": [
       "<IPython.core.display.HTML object>"
      ]
     },
     "metadata": {},
     "output_type": "display_data"
    },
    {
     "data": {
      "text/html": [
       "Run data is saved locally in <code>/home/user/Documents/DL/assignment/wandb/run-20250312_205749-uqv5oxqr</code>"
      ],
      "text/plain": [
       "<IPython.core.display.HTML object>"
      ]
     },
     "metadata": {},
     "output_type": "display_data"
    },
    {
     "data": {
      "text/html": [
       "Syncing run <strong><a href='https://wandb.ai/cs24s031-indian-institute-of-technology-madras/dl-assignment1-experiment/runs/uqv5oxqr' target=\"_blank\">distinctive-sweep-30</a></strong> to <a href='https://wandb.ai/cs24s031-indian-institute-of-technology-madras/dl-assignment1-experiment' target=\"_blank\">Weights & Biases</a> (<a href='https://wandb.me/developer-guide' target=\"_blank\">docs</a>)<br>Sweep page: <a href='https://wandb.ai/cs24s031-indian-institute-of-technology-madras/dl-assignment1-experiment/sweeps/hfa2u67m' target=\"_blank\">https://wandb.ai/cs24s031-indian-institute-of-technology-madras/dl-assignment1-experiment/sweeps/hfa2u67m</a>"
      ],
      "text/plain": [
       "<IPython.core.display.HTML object>"
      ]
     },
     "metadata": {},
     "output_type": "display_data"
    },
    {
     "data": {
      "text/html": [
       " View project at <a href='https://wandb.ai/cs24s031-indian-institute-of-technology-madras/dl-assignment1-experiment' target=\"_blank\">https://wandb.ai/cs24s031-indian-institute-of-technology-madras/dl-assignment1-experiment</a>"
      ],
      "text/plain": [
       "<IPython.core.display.HTML object>"
      ]
     },
     "metadata": {},
     "output_type": "display_data"
    },
    {
     "data": {
      "text/html": [
       " View sweep at <a href='https://wandb.ai/cs24s031-indian-institute-of-technology-madras/dl-assignment1-experiment/sweeps/hfa2u67m' target=\"_blank\">https://wandb.ai/cs24s031-indian-institute-of-technology-madras/dl-assignment1-experiment/sweeps/hfa2u67m</a>"
      ],
      "text/plain": [
       "<IPython.core.display.HTML object>"
      ]
     },
     "metadata": {},
     "output_type": "display_data"
    },
    {
     "data": {
      "text/html": [
       " View run at <a href='https://wandb.ai/cs24s031-indian-institute-of-technology-madras/dl-assignment1-experiment/runs/uqv5oxqr' target=\"_blank\">https://wandb.ai/cs24s031-indian-institute-of-technology-madras/dl-assignment1-experiment/runs/uqv5oxqr</a>"
      ],
      "text/plain": [
       "<IPython.core.display.HTML object>"
      ]
     },
     "metadata": {},
     "output_type": "display_data"
    },
    {
     "name": "stdout",
     "output_type": "stream",
     "text": [
      "Starting training with run name: hl_4_bs_64_ac_ReLU\n",
      "Epoch 1/10 - Batch 800/843 - train-loss: 0.606106 train-acc: 0.765625 test-loss:0.518613 test-acc : 0.816667 \n",
      "Epoch 2/10 - Batch 800/843 - train-loss: 0.524344 train-acc: 0.781250 test-loss:0.460785 test-acc : 0.837500 \n",
      "Epoch 3/10 - Batch 800/843 - train-loss: 0.482745 train-acc: 0.796875 test-loss:0.433823 test-acc : 0.847667 \n",
      "Epoch 4/10 - Batch 800/843 - train-loss: 0.467768 train-acc: 0.812500 test-loss:0.419739 test-acc : 0.851667 \n",
      "Epoch 5/10 - Batch 800/843 - train-loss: 0.457675 train-acc: 0.843750 test-loss:0.410052 test-acc : 0.856667 \n",
      "Epoch 6/10 - Batch 800/843 - train-loss: 0.451070 train-acc: 0.843750 test-loss:0.403816 test-acc : 0.859667 \n",
      "Epoch 7/10 - Batch 800/843 - train-loss: 0.444790 train-acc: 0.843750 test-loss:0.400030 test-acc : 0.861167 \n",
      "Epoch 8/10 - Batch 800/843 - train-loss: 0.441253 train-acc: 0.843750 test-loss:0.396927 test-acc : 0.860167 \n",
      "Epoch 9/10 - Batch 800/843 - train-loss: 0.433746 train-acc: 0.843750 test-loss:0.394232 test-acc : 0.860167 \n",
      "Epoch 10/10 - Batch 800/843 - train-loss: 0.427397 train-acc: 0.859375 test-loss:0.393055 test-acc : 0.859667 \n"
     ]
    },
    {
     "data": {
      "text/html": [],
      "text/plain": [
       "<IPython.core.display.HTML object>"
      ]
     },
     "metadata": {},
     "output_type": "display_data"
    },
    {
     "data": {
      "text/html": [
       "<br>    <style><br>        .wandb-row {<br>            display: flex;<br>            flex-direction: row;<br>            flex-wrap: wrap;<br>            justify-content: flex-start;<br>            width: 100%;<br>        }<br>        .wandb-col {<br>            display: flex;<br>            flex-direction: column;<br>            flex-basis: 100%;<br>            flex: 1;<br>            padding: 10px;<br>        }<br>    </style><br><div class=\"wandb-row\"><div class=\"wandb-col\"><h3>Run history:</h3><br/><table class=\"wandb\"><tr><td>train_acc</td><td>▂▁▄▇▆▄▃▃▃▅▇▃▅█▄▇▃▅▅█▇▅█▇▇▆▅▇▅▅▅▇▆▄▅▇▅▄▆▅</td></tr><tr><td>train_loss</td><td>▇█▅▂▃▅▆▄▅▂▃▂▅▄▂▃▁▂▂▄▁▄▂▂▅▄▄▄▃▂▄▄▄▂▄▁▄▂▄▁</td></tr><tr><td>val_acc</td><td>▁▃▄▅▆▆▅▆▆▆▇▆▇▇▇▆▇▇▇▇▇██▇▇▇▇█████████████</td></tr><tr><td>val_loss</td><td>█▆▄▄▃▄▃▃▂▂▂▂▂▂▂▂▂▂▂▂▁▁▁▁▁▁▁▁▁▁▁▁▁▁▁▁▁▁▁▁</td></tr></table><br/></div><div class=\"wandb-col\"><h3>Run summary:</h3><br/><table class=\"wandb\"><tr><td>train_acc</td><td>0.85938</td></tr><tr><td>train_loss</td><td>0.4274</td></tr><tr><td>val_acc</td><td>0.85967</td></tr><tr><td>val_loss</td><td>0.39305</td></tr></table><br/></div></div>"
      ],
      "text/plain": [
       "<IPython.core.display.HTML object>"
      ]
     },
     "metadata": {},
     "output_type": "display_data"
    },
    {
     "data": {
      "text/html": [
       " View run <strong style=\"color:#cdcd00\">hl_4_bs_64_ac_ReLU</strong> at: <a href='https://wandb.ai/cs24s031-indian-institute-of-technology-madras/dl-assignment1-experiment/runs/uqv5oxqr' target=\"_blank\">https://wandb.ai/cs24s031-indian-institute-of-technology-madras/dl-assignment1-experiment/runs/uqv5oxqr</a><br> View project at: <a href='https://wandb.ai/cs24s031-indian-institute-of-technology-madras/dl-assignment1-experiment' target=\"_blank\">https://wandb.ai/cs24s031-indian-institute-of-technology-madras/dl-assignment1-experiment</a><br>Synced 5 W&B file(s), 0 media file(s), 0 artifact file(s) and 0 other file(s)"
      ],
      "text/plain": [
       "<IPython.core.display.HTML object>"
      ]
     },
     "metadata": {},
     "output_type": "display_data"
    },
    {
     "data": {
      "text/html": [
       "Find logs at: <code>./wandb/run-20250312_205749-uqv5oxqr/logs</code>"
      ],
      "text/plain": [
       "<IPython.core.display.HTML object>"
      ]
     },
     "metadata": {},
     "output_type": "display_data"
    },
    {
     "name": "stderr",
     "output_type": "stream",
     "text": [
      "\u001b[34m\u001b[1mwandb\u001b[0m: Agent Starting Run: 2984qfcz with config:\n",
      "\u001b[34m\u001b[1mwandb\u001b[0m: \tactivation_function: ReLU\n",
      "\u001b[34m\u001b[1mwandb\u001b[0m: \tbatch_size: 64\n",
      "\u001b[34m\u001b[1mwandb\u001b[0m: \tepochs: 10\n",
      "\u001b[34m\u001b[1mwandb\u001b[0m: \thidden_layer_size: 128\n",
      "\u001b[34m\u001b[1mwandb\u001b[0m: \tlearning_rate: 0.001\n",
      "\u001b[34m\u001b[1mwandb\u001b[0m: \tnum_of_hidden_layers: 5\n",
      "\u001b[34m\u001b[1mwandb\u001b[0m: \toptimizer: adam\n",
      "\u001b[34m\u001b[1mwandb\u001b[0m: \tweight_decay: 0.0005\n",
      "\u001b[34m\u001b[1mwandb\u001b[0m: \tweight_initialization: Xavier\n"
     ]
    },
    {
     "data": {
      "text/html": [
       "Ignoring project 'dl-assignment1-experiment' when running a sweep."
      ],
      "text/plain": [
       "<IPython.core.display.HTML object>"
      ]
     },
     "metadata": {},
     "output_type": "display_data"
    },
    {
     "data": {
      "text/html": [
       "Tracking run with wandb version 0.19.8"
      ],
      "text/plain": [
       "<IPython.core.display.HTML object>"
      ]
     },
     "metadata": {},
     "output_type": "display_data"
    },
    {
     "data": {
      "text/html": [
       "Run data is saved locally in <code>/home/user/Documents/DL/assignment/wandb/run-20250312_205811-2984qfcz</code>"
      ],
      "text/plain": [
       "<IPython.core.display.HTML object>"
      ]
     },
     "metadata": {},
     "output_type": "display_data"
    },
    {
     "data": {
      "text/html": [
       "Syncing run <strong><a href='https://wandb.ai/cs24s031-indian-institute-of-technology-madras/dl-assignment1-experiment/runs/2984qfcz' target=\"_blank\">super-sweep-31</a></strong> to <a href='https://wandb.ai/cs24s031-indian-institute-of-technology-madras/dl-assignment1-experiment' target=\"_blank\">Weights & Biases</a> (<a href='https://wandb.me/developer-guide' target=\"_blank\">docs</a>)<br>Sweep page: <a href='https://wandb.ai/cs24s031-indian-institute-of-technology-madras/dl-assignment1-experiment/sweeps/hfa2u67m' target=\"_blank\">https://wandb.ai/cs24s031-indian-institute-of-technology-madras/dl-assignment1-experiment/sweeps/hfa2u67m</a>"
      ],
      "text/plain": [
       "<IPython.core.display.HTML object>"
      ]
     },
     "metadata": {},
     "output_type": "display_data"
    },
    {
     "data": {
      "text/html": [
       " View project at <a href='https://wandb.ai/cs24s031-indian-institute-of-technology-madras/dl-assignment1-experiment' target=\"_blank\">https://wandb.ai/cs24s031-indian-institute-of-technology-madras/dl-assignment1-experiment</a>"
      ],
      "text/plain": [
       "<IPython.core.display.HTML object>"
      ]
     },
     "metadata": {},
     "output_type": "display_data"
    },
    {
     "data": {
      "text/html": [
       " View sweep at <a href='https://wandb.ai/cs24s031-indian-institute-of-technology-madras/dl-assignment1-experiment/sweeps/hfa2u67m' target=\"_blank\">https://wandb.ai/cs24s031-indian-institute-of-technology-madras/dl-assignment1-experiment/sweeps/hfa2u67m</a>"
      ],
      "text/plain": [
       "<IPython.core.display.HTML object>"
      ]
     },
     "metadata": {},
     "output_type": "display_data"
    },
    {
     "data": {
      "text/html": [
       " View run at <a href='https://wandb.ai/cs24s031-indian-institute-of-technology-madras/dl-assignment1-experiment/runs/2984qfcz' target=\"_blank\">https://wandb.ai/cs24s031-indian-institute-of-technology-madras/dl-assignment1-experiment/runs/2984qfcz</a>"
      ],
      "text/plain": [
       "<IPython.core.display.HTML object>"
      ]
     },
     "metadata": {},
     "output_type": "display_data"
    },
    {
     "name": "stdout",
     "output_type": "stream",
     "text": [
      "Starting training with run name: hl_5_bs_64_ac_ReLU\n",
      "Epoch 1/10 - Batch 800/843 - train-loss: 0.410087 train-acc: 0.828125 test-loss:0.413135 test-acc : 0.850000 \n",
      "Epoch 2/10 - Batch 800/843 - train-loss: 0.458581 train-acc: 0.843750 test-loss:0.402105 test-acc : 0.856833 \n",
      "Epoch 3/10 - Batch 800/843 - train-loss: 0.427991 train-acc: 0.828125 test-loss:0.359271 test-acc : 0.871500 \n",
      "Epoch 4/10 - Batch 800/843 - train-loss: 0.425713 train-acc: 0.812500 test-loss:0.346384 test-acc : 0.871833 \n",
      "Epoch 5/10 - Batch 800/843 - train-loss: 0.431678 train-acc: 0.812500 test-loss:0.343925 test-acc : 0.874833 \n",
      "Epoch 6/10 - Batch 800/843 - train-loss: 0.319672 train-acc: 0.812500 test-loss:0.353282 test-acc : 0.872500 \n",
      "Epoch 7/10 - Batch 800/843 - train-loss: 0.316882 train-acc: 0.859375 test-loss:0.351729 test-acc : 0.872500 \n",
      "Epoch 8/10 - Batch 800/843 - train-loss: 0.325432 train-acc: 0.843750 test-loss:0.349922 test-acc : 0.877167 \n",
      "Epoch 9/10 - Batch 800/843 - train-loss: 0.374026 train-acc: 0.875000 test-loss:0.369669 test-acc : 0.877667 \n",
      "Epoch 10/10 - Batch 800/843 - train-loss: 0.272934 train-acc: 0.875000 test-loss:0.361006 test-acc : 0.876167 \n"
     ]
    },
    {
     "data": {
      "text/html": [],
      "text/plain": [
       "<IPython.core.display.HTML object>"
      ]
     },
     "metadata": {},
     "output_type": "display_data"
    },
    {
     "data": {
      "text/html": [
       "<br>    <style><br>        .wandb-row {<br>            display: flex;<br>            flex-direction: row;<br>            flex-wrap: wrap;<br>            justify-content: flex-start;<br>            width: 100%;<br>        }<br>        .wandb-col {<br>            display: flex;<br>            flex-direction: column;<br>            flex-basis: 100%;<br>            flex: 1;<br>            padding: 10px;<br>        }<br>    </style><br><div class=\"wandb-row\"><div class=\"wandb-col\"><h3>Run history:</h3><br/><table class=\"wandb\"><tr><td>train_acc</td><td>▁▅▂▁▃▃▅▇▃▂▇▄▆▅▃▇▅▅▃▇▇▆█▃▆▅▇▄▇▇▅▇▇▇▅▇▅▇▆▅</td></tr><tr><td>train_loss</td><td>▆▄█▆▄▃▆▃▃▁▂▄▂▁▄▄▃▁▂▃▂▁▄▂▂▂▃▃▃▁▃▁▁▃▂▁▄▁▂▂</td></tr><tr><td>val_acc</td><td>▁▁▄▄▅▆▆▆▆▇▇▇▇▇▇▆▇▇▇▇▇█▇▇█▇▇▇▇▇▇█▇▇███▇▇█</td></tr><tr><td>val_loss</td><td>▆█▅▄▃▃▅▂▃▃▂▂▂▂▂▂▂▂▂▁▂▂▁▃▂▁▂▁▂▃▁▂▂▂▁▂▂▂▁▂</td></tr></table><br/></div><div class=\"wandb-col\"><h3>Run summary:</h3><br/><table class=\"wandb\"><tr><td>train_acc</td><td>0.875</td></tr><tr><td>train_loss</td><td>0.27293</td></tr><tr><td>val_acc</td><td>0.87617</td></tr><tr><td>val_loss</td><td>0.36101</td></tr></table><br/></div></div>"
      ],
      "text/plain": [
       "<IPython.core.display.HTML object>"
      ]
     },
     "metadata": {},
     "output_type": "display_data"
    },
    {
     "data": {
      "text/html": [
       " View run <strong style=\"color:#cdcd00\">hl_5_bs_64_ac_ReLU</strong> at: <a href='https://wandb.ai/cs24s031-indian-institute-of-technology-madras/dl-assignment1-experiment/runs/2984qfcz' target=\"_blank\">https://wandb.ai/cs24s031-indian-institute-of-technology-madras/dl-assignment1-experiment/runs/2984qfcz</a><br> View project at: <a href='https://wandb.ai/cs24s031-indian-institute-of-technology-madras/dl-assignment1-experiment' target=\"_blank\">https://wandb.ai/cs24s031-indian-institute-of-technology-madras/dl-assignment1-experiment</a><br>Synced 5 W&B file(s), 0 media file(s), 0 artifact file(s) and 0 other file(s)"
      ],
      "text/plain": [
       "<IPython.core.display.HTML object>"
      ]
     },
     "metadata": {},
     "output_type": "display_data"
    },
    {
     "data": {
      "text/html": [
       "Find logs at: <code>./wandb/run-20250312_205811-2984qfcz/logs</code>"
      ],
      "text/plain": [
       "<IPython.core.display.HTML object>"
      ]
     },
     "metadata": {},
     "output_type": "display_data"
    },
    {
     "name": "stderr",
     "output_type": "stream",
     "text": [
      "\u001b[34m\u001b[1mwandb\u001b[0m: Agent Starting Run: 1s5srwy8 with config:\n",
      "\u001b[34m\u001b[1mwandb\u001b[0m: \tactivation_function: ReLU\n",
      "\u001b[34m\u001b[1mwandb\u001b[0m: \tbatch_size: 32\n",
      "\u001b[34m\u001b[1mwandb\u001b[0m: \tepochs: 10\n",
      "\u001b[34m\u001b[1mwandb\u001b[0m: \thidden_layer_size: 128\n",
      "\u001b[34m\u001b[1mwandb\u001b[0m: \tlearning_rate: 0.0001\n",
      "\u001b[34m\u001b[1mwandb\u001b[0m: \tnum_of_hidden_layers: 4\n",
      "\u001b[34m\u001b[1mwandb\u001b[0m: \toptimizer: nesterov\n",
      "\u001b[34m\u001b[1mwandb\u001b[0m: \tweight_decay: 0.5\n",
      "\u001b[34m\u001b[1mwandb\u001b[0m: \tweight_initialization: Xavier\n"
     ]
    },
    {
     "data": {
      "text/html": [
       "Ignoring project 'dl-assignment1-experiment' when running a sweep."
      ],
      "text/plain": [
       "<IPython.core.display.HTML object>"
      ]
     },
     "metadata": {},
     "output_type": "display_data"
    },
    {
     "data": {
      "text/html": [
       "Tracking run with wandb version 0.19.8"
      ],
      "text/plain": [
       "<IPython.core.display.HTML object>"
      ]
     },
     "metadata": {},
     "output_type": "display_data"
    },
    {
     "data": {
      "text/html": [
       "Run data is saved locally in <code>/home/user/Documents/DL/assignment/wandb/run-20250312_205837-1s5srwy8</code>"
      ],
      "text/plain": [
       "<IPython.core.display.HTML object>"
      ]
     },
     "metadata": {},
     "output_type": "display_data"
    },
    {
     "data": {
      "text/html": [
       "Syncing run <strong><a href='https://wandb.ai/cs24s031-indian-institute-of-technology-madras/dl-assignment1-experiment/runs/1s5srwy8' target=\"_blank\">fancy-sweep-32</a></strong> to <a href='https://wandb.ai/cs24s031-indian-institute-of-technology-madras/dl-assignment1-experiment' target=\"_blank\">Weights & Biases</a> (<a href='https://wandb.me/developer-guide' target=\"_blank\">docs</a>)<br>Sweep page: <a href='https://wandb.ai/cs24s031-indian-institute-of-technology-madras/dl-assignment1-experiment/sweeps/hfa2u67m' target=\"_blank\">https://wandb.ai/cs24s031-indian-institute-of-technology-madras/dl-assignment1-experiment/sweeps/hfa2u67m</a>"
      ],
      "text/plain": [
       "<IPython.core.display.HTML object>"
      ]
     },
     "metadata": {},
     "output_type": "display_data"
    },
    {
     "data": {
      "text/html": [
       " View project at <a href='https://wandb.ai/cs24s031-indian-institute-of-technology-madras/dl-assignment1-experiment' target=\"_blank\">https://wandb.ai/cs24s031-indian-institute-of-technology-madras/dl-assignment1-experiment</a>"
      ],
      "text/plain": [
       "<IPython.core.display.HTML object>"
      ]
     },
     "metadata": {},
     "output_type": "display_data"
    },
    {
     "data": {
      "text/html": [
       " View sweep at <a href='https://wandb.ai/cs24s031-indian-institute-of-technology-madras/dl-assignment1-experiment/sweeps/hfa2u67m' target=\"_blank\">https://wandb.ai/cs24s031-indian-institute-of-technology-madras/dl-assignment1-experiment/sweeps/hfa2u67m</a>"
      ],
      "text/plain": [
       "<IPython.core.display.HTML object>"
      ]
     },
     "metadata": {},
     "output_type": "display_data"
    },
    {
     "data": {
      "text/html": [
       " View run at <a href='https://wandb.ai/cs24s031-indian-institute-of-technology-madras/dl-assignment1-experiment/runs/1s5srwy8' target=\"_blank\">https://wandb.ai/cs24s031-indian-institute-of-technology-madras/dl-assignment1-experiment/runs/1s5srwy8</a>"
      ],
      "text/plain": [
       "<IPython.core.display.HTML object>"
      ]
     },
     "metadata": {},
     "output_type": "display_data"
    },
    {
     "name": "stdout",
     "output_type": "stream",
     "text": [
      "Starting training with run name: hl_4_bs_32_ac_ReLU\n"
     ]
    },
    {
     "data": {
      "text/html": [],
      "text/plain": [
       "<IPython.core.display.HTML object>"
      ]
     },
     "metadata": {},
     "output_type": "display_data"
    },
    {
     "data": {
      "text/html": [
       " View run <strong style=\"color:#cdcd00\">hl_4_bs_32_ac_ReLU</strong> at: <a href='https://wandb.ai/cs24s031-indian-institute-of-technology-madras/dl-assignment1-experiment/runs/1s5srwy8' target=\"_blank\">https://wandb.ai/cs24s031-indian-institute-of-technology-madras/dl-assignment1-experiment/runs/1s5srwy8</a><br> View project at: <a href='https://wandb.ai/cs24s031-indian-institute-of-technology-madras/dl-assignment1-experiment' target=\"_blank\">https://wandb.ai/cs24s031-indian-institute-of-technology-madras/dl-assignment1-experiment</a><br>Synced 5 W&B file(s), 0 media file(s), 0 artifact file(s) and 0 other file(s)"
      ],
      "text/plain": [
       "<IPython.core.display.HTML object>"
      ]
     },
     "metadata": {},
     "output_type": "display_data"
    },
    {
     "data": {
      "text/html": [
       "Find logs at: <code>./wandb/run-20250312_205837-1s5srwy8/logs</code>"
      ],
      "text/plain": [
       "<IPython.core.display.HTML object>"
      ]
     },
     "metadata": {},
     "output_type": "display_data"
    },
    {
     "name": "stderr",
     "output_type": "stream",
     "text": [
      "\u001b[34m\u001b[1mwandb\u001b[0m: Agent Starting Run: m6atpw9w with config:\n",
      "\u001b[34m\u001b[1mwandb\u001b[0m: \tactivation_function: ReLU\n",
      "\u001b[34m\u001b[1mwandb\u001b[0m: \tbatch_size: 64\n",
      "\u001b[34m\u001b[1mwandb\u001b[0m: \tepochs: 10\n",
      "\u001b[34m\u001b[1mwandb\u001b[0m: \thidden_layer_size: 128\n",
      "\u001b[34m\u001b[1mwandb\u001b[0m: \tlearning_rate: 0.0001\n",
      "\u001b[34m\u001b[1mwandb\u001b[0m: \tnum_of_hidden_layers: 4\n",
      "\u001b[34m\u001b[1mwandb\u001b[0m: \toptimizer: momentum\n",
      "\u001b[34m\u001b[1mwandb\u001b[0m: \tweight_decay: 0.5\n",
      "\u001b[34m\u001b[1mwandb\u001b[0m: \tweight_initialization: Xavier\n"
     ]
    },
    {
     "data": {
      "text/html": [
       "Ignoring project 'dl-assignment1-experiment' when running a sweep."
      ],
      "text/plain": [
       "<IPython.core.display.HTML object>"
      ]
     },
     "metadata": {},
     "output_type": "display_data"
    },
    {
     "data": {
      "text/html": [
       "Tracking run with wandb version 0.19.8"
      ],
      "text/plain": [
       "<IPython.core.display.HTML object>"
      ]
     },
     "metadata": {},
     "output_type": "display_data"
    },
    {
     "data": {
      "text/html": [
       "Run data is saved locally in <code>/home/user/Documents/DL/assignment/wandb/run-20250312_205843-m6atpw9w</code>"
      ],
      "text/plain": [
       "<IPython.core.display.HTML object>"
      ]
     },
     "metadata": {},
     "output_type": "display_data"
    },
    {
     "data": {
      "text/html": [
       "Syncing run <strong><a href='https://wandb.ai/cs24s031-indian-institute-of-technology-madras/dl-assignment1-experiment/runs/m6atpw9w' target=\"_blank\">fallen-sweep-33</a></strong> to <a href='https://wandb.ai/cs24s031-indian-institute-of-technology-madras/dl-assignment1-experiment' target=\"_blank\">Weights & Biases</a> (<a href='https://wandb.me/developer-guide' target=\"_blank\">docs</a>)<br>Sweep page: <a href='https://wandb.ai/cs24s031-indian-institute-of-technology-madras/dl-assignment1-experiment/sweeps/hfa2u67m' target=\"_blank\">https://wandb.ai/cs24s031-indian-institute-of-technology-madras/dl-assignment1-experiment/sweeps/hfa2u67m</a>"
      ],
      "text/plain": [
       "<IPython.core.display.HTML object>"
      ]
     },
     "metadata": {},
     "output_type": "display_data"
    },
    {
     "data": {
      "text/html": [
       " View project at <a href='https://wandb.ai/cs24s031-indian-institute-of-technology-madras/dl-assignment1-experiment' target=\"_blank\">https://wandb.ai/cs24s031-indian-institute-of-technology-madras/dl-assignment1-experiment</a>"
      ],
      "text/plain": [
       "<IPython.core.display.HTML object>"
      ]
     },
     "metadata": {},
     "output_type": "display_data"
    },
    {
     "data": {
      "text/html": [
       " View sweep at <a href='https://wandb.ai/cs24s031-indian-institute-of-technology-madras/dl-assignment1-experiment/sweeps/hfa2u67m' target=\"_blank\">https://wandb.ai/cs24s031-indian-institute-of-technology-madras/dl-assignment1-experiment/sweeps/hfa2u67m</a>"
      ],
      "text/plain": [
       "<IPython.core.display.HTML object>"
      ]
     },
     "metadata": {},
     "output_type": "display_data"
    },
    {
     "data": {
      "text/html": [
       " View run at <a href='https://wandb.ai/cs24s031-indian-institute-of-technology-madras/dl-assignment1-experiment/runs/m6atpw9w' target=\"_blank\">https://wandb.ai/cs24s031-indian-institute-of-technology-madras/dl-assignment1-experiment/runs/m6atpw9w</a>"
      ],
      "text/plain": [
       "<IPython.core.display.HTML object>"
      ]
     },
     "metadata": {},
     "output_type": "display_data"
    },
    {
     "name": "stdout",
     "output_type": "stream",
     "text": [
      "Starting training with run name: hl_4_bs_64_ac_ReLU\n",
      "Epoch 1/10 - Batch 800/843 - train-loss: 0.597292 train-acc: 0.750000 test-loss:0.511917 test-acc : 0.816000 \n",
      "Epoch 2/10 - Batch 800/843 - train-loss: 0.515881 train-acc: 0.796875 test-loss:0.463609 test-acc : 0.836833 \n",
      "Epoch 3/10 - Batch 800/843 - train-loss: 0.477593 train-acc: 0.796875 test-loss:0.438108 test-acc : 0.846667 \n",
      "Epoch 4/10 - Batch 800/843 - train-loss: 0.456247 train-acc: 0.828125 test-loss:0.422525 test-acc : 0.851500 \n",
      "Epoch 5/10 - Batch 800/843 - train-loss: 0.451331 train-acc: 0.828125 test-loss:0.411990 test-acc : 0.852667 \n",
      "Epoch 6/10 - Batch 800/843 - train-loss: 0.444223 train-acc: 0.828125 test-loss:0.404774 test-acc : 0.855167 \n",
      "Epoch 7/10 - Batch 800/843 - train-loss: 0.439188 train-acc: 0.828125 test-loss:0.400408 test-acc : 0.855833 \n",
      "Epoch 8/10 - Batch 800/843 - train-loss: 0.430451 train-acc: 0.828125 test-loss:0.397243 test-acc : 0.857833 \n",
      "Epoch 9/10 - Batch 800/843 - train-loss: 0.425074 train-acc: 0.828125 test-loss:0.394638 test-acc : 0.858833 \n",
      "Epoch 10/10 - Batch 800/843 - train-loss: 0.421809 train-acc: 0.828125 test-loss:0.392801 test-acc : 0.860500 \n"
     ]
    },
    {
     "data": {
      "text/html": [],
      "text/plain": [
       "<IPython.core.display.HTML object>"
      ]
     },
     "metadata": {},
     "output_type": "display_data"
    },
    {
     "data": {
      "text/html": [
       "<br>    <style><br>        .wandb-row {<br>            display: flex;<br>            flex-direction: row;<br>            flex-wrap: wrap;<br>            justify-content: flex-start;<br>            width: 100%;<br>        }<br>        .wandb-col {<br>            display: flex;<br>            flex-direction: column;<br>            flex-basis: 100%;<br>            flex: 1;<br>            padding: 10px;<br>        }<br>    </style><br><div class=\"wandb-row\"><div class=\"wandb-col\"><h3>Run history:</h3><br/><table class=\"wandb\"><tr><td>train_acc</td><td>▁▁▂▅▃▅▅▅▇▃▃▅▅█▅▃▆█▃▅▆▅▆█▇▃█▄▇▇▄▅▇▄▇▅▅▅▇▄</td></tr><tr><td>train_loss</td><td>▅█▇▅▆▆▆▄▄▅▄▃▂▃▁▂▂▃▄▂▅▄▃▃▁▃▁▄▂▄▄▂▁▄▂▄▄▂▃▄</td></tr><tr><td>val_acc</td><td>▁▃▆▆▆▆▇▇▆▇▇▇▇█▇▇███▇████████████████████</td></tr><tr><td>val_loss</td><td>█▅▃▃▃▃▂▂▂▂▂▂▂▂▂▂▂▂▁▂▂▁▁▁▁▁▁▁▁▁▁▁▁▁▁▁▁▁▁▁</td></tr></table><br/></div><div class=\"wandb-col\"><h3>Run summary:</h3><br/><table class=\"wandb\"><tr><td>train_acc</td><td>0.82812</td></tr><tr><td>train_loss</td><td>0.42181</td></tr><tr><td>val_acc</td><td>0.8605</td></tr><tr><td>val_loss</td><td>0.3928</td></tr></table><br/></div></div>"
      ],
      "text/plain": [
       "<IPython.core.display.HTML object>"
      ]
     },
     "metadata": {},
     "output_type": "display_data"
    },
    {
     "data": {
      "text/html": [
       " View run <strong style=\"color:#cdcd00\">hl_4_bs_64_ac_ReLU</strong> at: <a href='https://wandb.ai/cs24s031-indian-institute-of-technology-madras/dl-assignment1-experiment/runs/m6atpw9w' target=\"_blank\">https://wandb.ai/cs24s031-indian-institute-of-technology-madras/dl-assignment1-experiment/runs/m6atpw9w</a><br> View project at: <a href='https://wandb.ai/cs24s031-indian-institute-of-technology-madras/dl-assignment1-experiment' target=\"_blank\">https://wandb.ai/cs24s031-indian-institute-of-technology-madras/dl-assignment1-experiment</a><br>Synced 5 W&B file(s), 0 media file(s), 0 artifact file(s) and 0 other file(s)"
      ],
      "text/plain": [
       "<IPython.core.display.HTML object>"
      ]
     },
     "metadata": {},
     "output_type": "display_data"
    },
    {
     "data": {
      "text/html": [
       "Find logs at: <code>./wandb/run-20250312_205843-m6atpw9w/logs</code>"
      ],
      "text/plain": [
       "<IPython.core.display.HTML object>"
      ]
     },
     "metadata": {},
     "output_type": "display_data"
    },
    {
     "name": "stderr",
     "output_type": "stream",
     "text": [
      "\u001b[34m\u001b[1mwandb\u001b[0m: Agent Starting Run: 72fowl5n with config:\n",
      "\u001b[34m\u001b[1mwandb\u001b[0m: \tactivation_function: ReLU\n",
      "\u001b[34m\u001b[1mwandb\u001b[0m: \tbatch_size: 16\n",
      "\u001b[34m\u001b[1mwandb\u001b[0m: \tepochs: 10\n",
      "\u001b[34m\u001b[1mwandb\u001b[0m: \thidden_layer_size: 128\n",
      "\u001b[34m\u001b[1mwandb\u001b[0m: \tlearning_rate: 0.0001\n",
      "\u001b[34m\u001b[1mwandb\u001b[0m: \tnum_of_hidden_layers: 4\n",
      "\u001b[34m\u001b[1mwandb\u001b[0m: \toptimizer: sgd\n",
      "\u001b[34m\u001b[1mwandb\u001b[0m: \tweight_decay: 0.5\n",
      "\u001b[34m\u001b[1mwandb\u001b[0m: \tweight_initialization: Xavier\n"
     ]
    },
    {
     "data": {
      "text/html": [
       "Ignoring project 'dl-assignment1-experiment' when running a sweep."
      ],
      "text/plain": [
       "<IPython.core.display.HTML object>"
      ]
     },
     "metadata": {},
     "output_type": "display_data"
    },
    {
     "data": {
      "text/html": [
       "Tracking run with wandb version 0.19.8"
      ],
      "text/plain": [
       "<IPython.core.display.HTML object>"
      ]
     },
     "metadata": {},
     "output_type": "display_data"
    },
    {
     "data": {
      "text/html": [
       "Run data is saved locally in <code>/home/user/Documents/DL/assignment/wandb/run-20250312_205904-72fowl5n</code>"
      ],
      "text/plain": [
       "<IPython.core.display.HTML object>"
      ]
     },
     "metadata": {},
     "output_type": "display_data"
    },
    {
     "data": {
      "text/html": [
       "Syncing run <strong><a href='https://wandb.ai/cs24s031-indian-institute-of-technology-madras/dl-assignment1-experiment/runs/72fowl5n' target=\"_blank\">sunny-sweep-34</a></strong> to <a href='https://wandb.ai/cs24s031-indian-institute-of-technology-madras/dl-assignment1-experiment' target=\"_blank\">Weights & Biases</a> (<a href='https://wandb.me/developer-guide' target=\"_blank\">docs</a>)<br>Sweep page: <a href='https://wandb.ai/cs24s031-indian-institute-of-technology-madras/dl-assignment1-experiment/sweeps/hfa2u67m' target=\"_blank\">https://wandb.ai/cs24s031-indian-institute-of-technology-madras/dl-assignment1-experiment/sweeps/hfa2u67m</a>"
      ],
      "text/plain": [
       "<IPython.core.display.HTML object>"
      ]
     },
     "metadata": {},
     "output_type": "display_data"
    },
    {
     "data": {
      "text/html": [
       " View project at <a href='https://wandb.ai/cs24s031-indian-institute-of-technology-madras/dl-assignment1-experiment' target=\"_blank\">https://wandb.ai/cs24s031-indian-institute-of-technology-madras/dl-assignment1-experiment</a>"
      ],
      "text/plain": [
       "<IPython.core.display.HTML object>"
      ]
     },
     "metadata": {},
     "output_type": "display_data"
    },
    {
     "data": {
      "text/html": [
       " View sweep at <a href='https://wandb.ai/cs24s031-indian-institute-of-technology-madras/dl-assignment1-experiment/sweeps/hfa2u67m' target=\"_blank\">https://wandb.ai/cs24s031-indian-institute-of-technology-madras/dl-assignment1-experiment/sweeps/hfa2u67m</a>"
      ],
      "text/plain": [
       "<IPython.core.display.HTML object>"
      ]
     },
     "metadata": {},
     "output_type": "display_data"
    },
    {
     "data": {
      "text/html": [
       " View run at <a href='https://wandb.ai/cs24s031-indian-institute-of-technology-madras/dl-assignment1-experiment/runs/72fowl5n' target=\"_blank\">https://wandb.ai/cs24s031-indian-institute-of-technology-madras/dl-assignment1-experiment/runs/72fowl5n</a>"
      ],
      "text/plain": [
       "<IPython.core.display.HTML object>"
      ]
     },
     "metadata": {},
     "output_type": "display_data"
    },
    {
     "name": "stdout",
     "output_type": "stream",
     "text": [
      "Starting training with run name: hl_4_bs_16_ac_ReLU\n",
      "Epoch 1/10 - Batch 3300/3375 - train-loss: 0.722127 train-acc: 0.750000 test-loss:0.538294 test-acc : 0.809833 \n",
      "Epoch 2/10 - Batch 3300/3375 - train-loss: 0.657559 train-acc: 0.812500 test-loss:0.513550 test-acc : 0.828333 \n",
      "Epoch 3/10 - Batch 3300/3375 - train-loss: 0.667776 train-acc: 0.812500 test-loss:0.517470 test-acc : 0.828833 \n",
      "Epoch 4/10 - Batch 3300/3375 - train-loss: 0.680665 train-acc: 0.750000 test-loss:0.529436 test-acc : 0.826333 \n",
      "Epoch 5/10 - Batch 3300/3375 - train-loss: 0.681721 train-acc: 0.750000 test-loss:0.541601 test-acc : 0.823500 \n",
      "Epoch 6/10 - Batch 3300/3375 - train-loss: 0.685159 train-acc: 0.750000 test-loss:0.551123 test-acc : 0.823667 \n",
      "Epoch 7/10 - Batch 3300/3375 - train-loss: 0.689145 train-acc: 0.750000 test-loss:0.558492 test-acc : 0.821167 \n",
      "Epoch 8/10 - Batch 3300/3375 - train-loss: 0.689798 train-acc: 0.750000 test-loss:0.564099 test-acc : 0.820333 \n",
      "Epoch 9/10 - Batch 3300/3375 - train-loss: 0.691309 train-acc: 0.750000 test-loss:0.567350 test-acc : 0.819167 \n",
      "Epoch 10/10 - Batch 3300/3375 - train-loss: 0.693290 train-acc: 0.750000 test-loss:0.569531 test-acc : 0.819000 \n"
     ]
    },
    {
     "data": {
      "text/html": [],
      "text/plain": [
       "<IPython.core.display.HTML object>"
      ]
     },
     "metadata": {},
     "output_type": "display_data"
    },
    {
     "data": {
      "text/html": [
       "<br>    <style><br>        .wandb-row {<br>            display: flex;<br>            flex-direction: row;<br>            flex-wrap: wrap;<br>            justify-content: flex-start;<br>            width: 100%;<br>        }<br>        .wandb-col {<br>            display: flex;<br>            flex-direction: column;<br>            flex-basis: 100%;<br>            flex: 1;<br>            padding: 10px;<br>        }<br>    </style><br><div class=\"wandb-row\"><div class=\"wandb-col\"><h3>Run history:</h3><br/><table class=\"wandb\"><tr><td>train_acc</td><td>▅▅▄▁██▁▇█▅▄▄▅█▂██▇▅▄█▅▇▁▅▅▇█▇▇▅▄▁▄▇▅▄█▇▅</td></tr><tr><td>train_loss</td><td>▄▁▂▄▄▄▂▂▅▃▂▄▂▂▂▄▄█▄▂▂▄▄▂▃▅▂▄▂▃█▃▃▂▂▁▃█▃▂</td></tr><tr><td>val_acc</td><td>▁▂▂▂▅▆▆▇▇▇▇▇▆█▇▆▇█▆▇▇▇▇▇▇▇▆▆▇▇▇▆▆▇▇▆▆▆▇▇</td></tr><tr><td>val_loss</td><td>█▆▃▂▂▁▁▁▂▁▁▁▁▁▂▂▂▂▂▂▂▃▃▃▂▃▃▂▃▃▃▃▃▃▃▃▃▃▄▃</td></tr></table><br/></div><div class=\"wandb-col\"><h3>Run summary:</h3><br/><table class=\"wandb\"><tr><td>train_acc</td><td>0.75</td></tr><tr><td>train_loss</td><td>0.69329</td></tr><tr><td>val_acc</td><td>0.819</td></tr><tr><td>val_loss</td><td>0.56953</td></tr></table><br/></div></div>"
      ],
      "text/plain": [
       "<IPython.core.display.HTML object>"
      ]
     },
     "metadata": {},
     "output_type": "display_data"
    },
    {
     "data": {
      "text/html": [
       " View run <strong style=\"color:#cdcd00\">hl_4_bs_16_ac_ReLU</strong> at: <a href='https://wandb.ai/cs24s031-indian-institute-of-technology-madras/dl-assignment1-experiment/runs/72fowl5n' target=\"_blank\">https://wandb.ai/cs24s031-indian-institute-of-technology-madras/dl-assignment1-experiment/runs/72fowl5n</a><br> View project at: <a href='https://wandb.ai/cs24s031-indian-institute-of-technology-madras/dl-assignment1-experiment' target=\"_blank\">https://wandb.ai/cs24s031-indian-institute-of-technology-madras/dl-assignment1-experiment</a><br>Synced 5 W&B file(s), 0 media file(s), 0 artifact file(s) and 0 other file(s)"
      ],
      "text/plain": [
       "<IPython.core.display.HTML object>"
      ]
     },
     "metadata": {},
     "output_type": "display_data"
    },
    {
     "data": {
      "text/html": [
       "Find logs at: <code>./wandb/run-20250312_205904-72fowl5n/logs</code>"
      ],
      "text/plain": [
       "<IPython.core.display.HTML object>"
      ]
     },
     "metadata": {},
     "output_type": "display_data"
    },
    {
     "name": "stderr",
     "output_type": "stream",
     "text": [
      "\u001b[34m\u001b[1mwandb\u001b[0m: Agent Starting Run: xrr5hlxu with config:\n",
      "\u001b[34m\u001b[1mwandb\u001b[0m: \tactivation_function: tanh\n",
      "\u001b[34m\u001b[1mwandb\u001b[0m: \tbatch_size: 32\n",
      "\u001b[34m\u001b[1mwandb\u001b[0m: \tepochs: 10\n",
      "\u001b[34m\u001b[1mwandb\u001b[0m: \thidden_layer_size: 128\n",
      "\u001b[34m\u001b[1mwandb\u001b[0m: \tlearning_rate: 0.0001\n",
      "\u001b[34m\u001b[1mwandb\u001b[0m: \tnum_of_hidden_layers: 5\n",
      "\u001b[34m\u001b[1mwandb\u001b[0m: \toptimizer: momentum\n",
      "\u001b[34m\u001b[1mwandb\u001b[0m: \tweight_decay: 0.0005\n",
      "\u001b[34m\u001b[1mwandb\u001b[0m: \tweight_initialization: Xavier\n"
     ]
    },
    {
     "data": {
      "text/html": [
       "Ignoring project 'dl-assignment1-experiment' when running a sweep."
      ],
      "text/plain": [
       "<IPython.core.display.HTML object>"
      ]
     },
     "metadata": {},
     "output_type": "display_data"
    },
    {
     "data": {
      "text/html": [
       "Tracking run with wandb version 0.19.8"
      ],
      "text/plain": [
       "<IPython.core.display.HTML object>"
      ]
     },
     "metadata": {},
     "output_type": "display_data"
    },
    {
     "data": {
      "text/html": [
       "Run data is saved locally in <code>/home/user/Documents/DL/assignment/wandb/run-20250312_205947-xrr5hlxu</code>"
      ],
      "text/plain": [
       "<IPython.core.display.HTML object>"
      ]
     },
     "metadata": {},
     "output_type": "display_data"
    },
    {
     "data": {
      "text/html": [
       "Syncing run <strong><a href='https://wandb.ai/cs24s031-indian-institute-of-technology-madras/dl-assignment1-experiment/runs/xrr5hlxu' target=\"_blank\">fresh-sweep-35</a></strong> to <a href='https://wandb.ai/cs24s031-indian-institute-of-technology-madras/dl-assignment1-experiment' target=\"_blank\">Weights & Biases</a> (<a href='https://wandb.me/developer-guide' target=\"_blank\">docs</a>)<br>Sweep page: <a href='https://wandb.ai/cs24s031-indian-institute-of-technology-madras/dl-assignment1-experiment/sweeps/hfa2u67m' target=\"_blank\">https://wandb.ai/cs24s031-indian-institute-of-technology-madras/dl-assignment1-experiment/sweeps/hfa2u67m</a>"
      ],
      "text/plain": [
       "<IPython.core.display.HTML object>"
      ]
     },
     "metadata": {},
     "output_type": "display_data"
    },
    {
     "data": {
      "text/html": [
       " View project at <a href='https://wandb.ai/cs24s031-indian-institute-of-technology-madras/dl-assignment1-experiment' target=\"_blank\">https://wandb.ai/cs24s031-indian-institute-of-technology-madras/dl-assignment1-experiment</a>"
      ],
      "text/plain": [
       "<IPython.core.display.HTML object>"
      ]
     },
     "metadata": {},
     "output_type": "display_data"
    },
    {
     "data": {
      "text/html": [
       " View sweep at <a href='https://wandb.ai/cs24s031-indian-institute-of-technology-madras/dl-assignment1-experiment/sweeps/hfa2u67m' target=\"_blank\">https://wandb.ai/cs24s031-indian-institute-of-technology-madras/dl-assignment1-experiment/sweeps/hfa2u67m</a>"
      ],
      "text/plain": [
       "<IPython.core.display.HTML object>"
      ]
     },
     "metadata": {},
     "output_type": "display_data"
    },
    {
     "data": {
      "text/html": [
       " View run at <a href='https://wandb.ai/cs24s031-indian-institute-of-technology-madras/dl-assignment1-experiment/runs/xrr5hlxu' target=\"_blank\">https://wandb.ai/cs24s031-indian-institute-of-technology-madras/dl-assignment1-experiment/runs/xrr5hlxu</a>"
      ],
      "text/plain": [
       "<IPython.core.display.HTML object>"
      ]
     },
     "metadata": {},
     "output_type": "display_data"
    },
    {
     "name": "stdout",
     "output_type": "stream",
     "text": [
      "Starting training with run name: hl_5_bs_32_ac_tanh\n",
      "Epoch 1/10 - Batch 1600/1687 - train-loss: 0.645303 train-acc: 0.750000 test-loss:0.558653 test-acc : 0.801500 \n",
      "Epoch 2/10 - Batch 1600/1687 - train-loss: 0.546843 train-acc: 0.781250 test-loss:0.481208 test-acc : 0.827500 \n",
      "Epoch 3/10 - Batch 1600/1687 - train-loss: 0.492347 train-acc: 0.781250 test-loss:0.445256 test-acc : 0.843333 \n",
      "Epoch 4/10 - Batch 1600/1687 - train-loss: 0.454608 train-acc: 0.812500 test-loss:0.422932 test-acc : 0.852000 \n",
      "Epoch 5/10 - Batch 1600/1687 - train-loss: 0.431422 train-acc: 0.812500 test-loss:0.407011 test-acc : 0.855500 \n",
      "Epoch 6/10 - Batch 1600/1687 - train-loss: 0.416809 train-acc: 0.843750 test-loss:0.394782 test-acc : 0.860667 \n",
      "Epoch 7/10 - Batch 1600/1687 - train-loss: 0.406466 train-acc: 0.843750 test-loss:0.384995 test-acc : 0.863000 \n",
      "Epoch 8/10 - Batch 1600/1687 - train-loss: 0.398096 train-acc: 0.843750 test-loss:0.376953 test-acc : 0.865667 \n",
      "Epoch 9/10 - Batch 1600/1687 - train-loss: 0.390604 train-acc: 0.843750 test-loss:0.370210 test-acc : 0.867167 \n",
      "Epoch 10/10 - Batch 1600/1687 - train-loss: 0.383542 train-acc: 0.843750 test-loss:0.364456 test-acc : 0.868833 \n"
     ]
    },
    {
     "data": {
      "text/html": [],
      "text/plain": [
       "<IPython.core.display.HTML object>"
      ]
     },
     "metadata": {},
     "output_type": "display_data"
    },
    {
     "data": {
      "text/html": [
       "<br>    <style><br>        .wandb-row {<br>            display: flex;<br>            flex-direction: row;<br>            flex-wrap: wrap;<br>            justify-content: flex-start;<br>            width: 100%;<br>        }<br>        .wandb-col {<br>            display: flex;<br>            flex-direction: column;<br>            flex-basis: 100%;<br>            flex: 1;<br>            padding: 10px;<br>        }<br>    </style><br><div class=\"wandb-row\"><div class=\"wandb-col\"><h3>Run history:</h3><br/><table class=\"wandb\"><tr><td>train_acc</td><td>▁▂▃▃▄▃▆▆▆▇▆▇▅▅▇▆▇▆▆▆▅▆▇▄▆▅▇▆▇▆▆▅█▆▆▆▇▇▆▇</td></tr><tr><td>train_loss</td><td>▄▅▆█▅▂▇▅▄▃▄▇▃▂▃▃▁▅▆▃▁▆▂▂▃▄▆▃▂▅▂▃▁▄▃▂▃▂▂▂</td></tr><tr><td>val_acc</td><td>▁▂▄▅▅▅▅▆▆▆▇▇▇▇▇▇▇▇▇▇▇▇█▇██▇█████████████</td></tr><tr><td>val_loss</td><td>█▆▅▅▃▃▃▃▃▂▂▂▂▂▂▂▂▂▂▂▂▂▂▂▂▁▁▁▁▁▁▁▁▁▁▁▁▁▁▁</td></tr></table><br/></div><div class=\"wandb-col\"><h3>Run summary:</h3><br/><table class=\"wandb\"><tr><td>train_acc</td><td>0.84375</td></tr><tr><td>train_loss</td><td>0.38354</td></tr><tr><td>val_acc</td><td>0.86883</td></tr><tr><td>val_loss</td><td>0.36446</td></tr></table><br/></div></div>"
      ],
      "text/plain": [
       "<IPython.core.display.HTML object>"
      ]
     },
     "metadata": {},
     "output_type": "display_data"
    },
    {
     "data": {
      "text/html": [
       " View run <strong style=\"color:#cdcd00\">hl_5_bs_32_ac_tanh</strong> at: <a href='https://wandb.ai/cs24s031-indian-institute-of-technology-madras/dl-assignment1-experiment/runs/xrr5hlxu' target=\"_blank\">https://wandb.ai/cs24s031-indian-institute-of-technology-madras/dl-assignment1-experiment/runs/xrr5hlxu</a><br> View project at: <a href='https://wandb.ai/cs24s031-indian-institute-of-technology-madras/dl-assignment1-experiment' target=\"_blank\">https://wandb.ai/cs24s031-indian-institute-of-technology-madras/dl-assignment1-experiment</a><br>Synced 5 W&B file(s), 0 media file(s), 0 artifact file(s) and 0 other file(s)"
      ],
      "text/plain": [
       "<IPython.core.display.HTML object>"
      ]
     },
     "metadata": {},
     "output_type": "display_data"
    },
    {
     "data": {
      "text/html": [
       "Find logs at: <code>./wandb/run-20250312_205947-xrr5hlxu/logs</code>"
      ],
      "text/plain": [
       "<IPython.core.display.HTML object>"
      ]
     },
     "metadata": {},
     "output_type": "display_data"
    },
    {
     "name": "stderr",
     "output_type": "stream",
     "text": [
      "\u001b[34m\u001b[1mwandb\u001b[0m: Agent Starting Run: 19vy1w0d with config:\n",
      "\u001b[34m\u001b[1mwandb\u001b[0m: \tactivation_function: ReLU\n",
      "\u001b[34m\u001b[1mwandb\u001b[0m: \tbatch_size: 16\n",
      "\u001b[34m\u001b[1mwandb\u001b[0m: \tepochs: 10\n",
      "\u001b[34m\u001b[1mwandb\u001b[0m: \thidden_layer_size: 128\n",
      "\u001b[34m\u001b[1mwandb\u001b[0m: \tlearning_rate: 0.001\n",
      "\u001b[34m\u001b[1mwandb\u001b[0m: \tnum_of_hidden_layers: 5\n",
      "\u001b[34m\u001b[1mwandb\u001b[0m: \toptimizer: nadam\n",
      "\u001b[34m\u001b[1mwandb\u001b[0m: \tweight_decay: 0.0005\n",
      "\u001b[34m\u001b[1mwandb\u001b[0m: \tweight_initialization: Xavier\n"
     ]
    },
    {
     "data": {
      "text/html": [
       "Ignoring project 'dl-assignment1-experiment' when running a sweep."
      ],
      "text/plain": [
       "<IPython.core.display.HTML object>"
      ]
     },
     "metadata": {},
     "output_type": "display_data"
    },
    {
     "data": {
      "text/html": [
       "Tracking run with wandb version 0.19.8"
      ],
      "text/plain": [
       "<IPython.core.display.HTML object>"
      ]
     },
     "metadata": {},
     "output_type": "display_data"
    },
    {
     "data": {
      "text/html": [
       "Run data is saved locally in <code>/home/user/Documents/DL/assignment/wandb/run-20250312_210030-19vy1w0d</code>"
      ],
      "text/plain": [
       "<IPython.core.display.HTML object>"
      ]
     },
     "metadata": {},
     "output_type": "display_data"
    },
    {
     "data": {
      "text/html": [
       "Syncing run <strong><a href='https://wandb.ai/cs24s031-indian-institute-of-technology-madras/dl-assignment1-experiment/runs/19vy1w0d' target=\"_blank\">scarlet-sweep-36</a></strong> to <a href='https://wandb.ai/cs24s031-indian-institute-of-technology-madras/dl-assignment1-experiment' target=\"_blank\">Weights & Biases</a> (<a href='https://wandb.me/developer-guide' target=\"_blank\">docs</a>)<br>Sweep page: <a href='https://wandb.ai/cs24s031-indian-institute-of-technology-madras/dl-assignment1-experiment/sweeps/hfa2u67m' target=\"_blank\">https://wandb.ai/cs24s031-indian-institute-of-technology-madras/dl-assignment1-experiment/sweeps/hfa2u67m</a>"
      ],
      "text/plain": [
       "<IPython.core.display.HTML object>"
      ]
     },
     "metadata": {},
     "output_type": "display_data"
    },
    {
     "data": {
      "text/html": [
       " View project at <a href='https://wandb.ai/cs24s031-indian-institute-of-technology-madras/dl-assignment1-experiment' target=\"_blank\">https://wandb.ai/cs24s031-indian-institute-of-technology-madras/dl-assignment1-experiment</a>"
      ],
      "text/plain": [
       "<IPython.core.display.HTML object>"
      ]
     },
     "metadata": {},
     "output_type": "display_data"
    },
    {
     "data": {
      "text/html": [
       " View sweep at <a href='https://wandb.ai/cs24s031-indian-institute-of-technology-madras/dl-assignment1-experiment/sweeps/hfa2u67m' target=\"_blank\">https://wandb.ai/cs24s031-indian-institute-of-technology-madras/dl-assignment1-experiment/sweeps/hfa2u67m</a>"
      ],
      "text/plain": [
       "<IPython.core.display.HTML object>"
      ]
     },
     "metadata": {},
     "output_type": "display_data"
    },
    {
     "data": {
      "text/html": [
       " View run at <a href='https://wandb.ai/cs24s031-indian-institute-of-technology-madras/dl-assignment1-experiment/runs/19vy1w0d' target=\"_blank\">https://wandb.ai/cs24s031-indian-institute-of-technology-madras/dl-assignment1-experiment/runs/19vy1w0d</a>"
      ],
      "text/plain": [
       "<IPython.core.display.HTML object>"
      ]
     },
     "metadata": {},
     "output_type": "display_data"
    },
    {
     "name": "stdout",
     "output_type": "stream",
     "text": [
      "Starting training with run name: hl_5_bs_16_ac_ReLU\n",
      "Epoch 1/10 - Batch 3300/3375 - train-loss: 0.647014 train-acc: 0.812500 test-loss:0.401158 test-acc : 0.857167 \n",
      "Epoch 2/10 - Batch 3300/3375 - train-loss: 0.425907 train-acc: 0.812500 test-loss:0.376913 test-acc : 0.860667 \n",
      "Epoch 3/10 - Batch 3300/3375 - train-loss: 0.417188 train-acc: 0.875000 test-loss:0.353416 test-acc : 0.870167 \n",
      "Epoch 4/10 - Batch 3300/3375 - train-loss: 0.354973 train-acc: 0.875000 test-loss:0.367022 test-acc : 0.866833 \n",
      "Epoch 5/10 - Batch 3300/3375 - train-loss: 0.372272 train-acc: 0.875000 test-loss:0.349307 test-acc : 0.876167 \n",
      "Epoch 6/10 - Batch 3300/3375 - train-loss: 0.366347 train-acc: 0.937500 test-loss:0.384079 test-acc : 0.863833 \n",
      "Epoch 7/10 - Batch 3300/3375 - train-loss: 0.341399 train-acc: 0.875000 test-loss:0.367544 test-acc : 0.869667 \n",
      "Epoch 8/10 - Batch 3300/3375 - train-loss: 0.410472 train-acc: 0.875000 test-loss:0.351849 test-acc : 0.878833 \n",
      "Epoch 9/10 - Batch 3300/3375 - train-loss: 0.364767 train-acc: 0.875000 test-loss:0.361077 test-acc : 0.875167 \n",
      "Epoch 10/10 - Batch 3300/3375 - train-loss: 0.390382 train-acc: 0.937500 test-loss:0.358202 test-acc : 0.875167 \n"
     ]
    },
    {
     "data": {
      "text/html": [],
      "text/plain": [
       "<IPython.core.display.HTML object>"
      ]
     },
     "metadata": {},
     "output_type": "display_data"
    },
    {
     "data": {
      "text/html": [
       "<br>    <style><br>        .wandb-row {<br>            display: flex;<br>            flex-direction: row;<br>            flex-wrap: wrap;<br>            justify-content: flex-start;<br>            width: 100%;<br>        }<br>        .wandb-col {<br>            display: flex;<br>            flex-direction: column;<br>            flex-basis: 100%;<br>            flex: 1;<br>            padding: 10px;<br>        }<br>    </style><br><div class=\"wandb-row\"><div class=\"wandb-col\"><h3>Run history:</h3><br/><table class=\"wandb\"><tr><td>train_acc</td><td>▁▅▄▇▄▇▅▇▇█▄███▅▅▅▅▄█▅▅▇▇█▅▄▅▇█▇▇█▄▄▅███▇</td></tr><tr><td>train_loss</td><td>█▅▂▄▅▄▂▇▃▃▅▃▄▁▄▄▂▂▄▃▃▅▄▃▄▅▄▆▂▄▄▁▃▁▅▂▄▄▂▃</td></tr><tr><td>val_acc</td><td>▁▄▅▆▇▆▆▆▇▇▇▆▆▇▇▇▇▆▇▇▇▇▇▇▇▇▇▇▇▇██▇▇████▇▇</td></tr><tr><td>val_loss</td><td>▇█▅▅▅▃▂▃▃▂▄▂▃▄▃▂▂▂▃▂▂▂▃▃▁▂▁▂▂▂▂▂▁▂▁▁▂▁▂▂</td></tr></table><br/></div><div class=\"wandb-col\"><h3>Run summary:</h3><br/><table class=\"wandb\"><tr><td>train_acc</td><td>0.9375</td></tr><tr><td>train_loss</td><td>0.39038</td></tr><tr><td>val_acc</td><td>0.87517</td></tr><tr><td>val_loss</td><td>0.3582</td></tr></table><br/></div></div>"
      ],
      "text/plain": [
       "<IPython.core.display.HTML object>"
      ]
     },
     "metadata": {},
     "output_type": "display_data"
    },
    {
     "data": {
      "text/html": [
       " View run <strong style=\"color:#cdcd00\">hl_5_bs_16_ac_ReLU</strong> at: <a href='https://wandb.ai/cs24s031-indian-institute-of-technology-madras/dl-assignment1-experiment/runs/19vy1w0d' target=\"_blank\">https://wandb.ai/cs24s031-indian-institute-of-technology-madras/dl-assignment1-experiment/runs/19vy1w0d</a><br> View project at: <a href='https://wandb.ai/cs24s031-indian-institute-of-technology-madras/dl-assignment1-experiment' target=\"_blank\">https://wandb.ai/cs24s031-indian-institute-of-technology-madras/dl-assignment1-experiment</a><br>Synced 5 W&B file(s), 0 media file(s), 0 artifact file(s) and 0 other file(s)"
      ],
      "text/plain": [
       "<IPython.core.display.HTML object>"
      ]
     },
     "metadata": {},
     "output_type": "display_data"
    },
    {
     "data": {
      "text/html": [
       "Find logs at: <code>./wandb/run-20250312_210030-19vy1w0d/logs</code>"
      ],
      "text/plain": [
       "<IPython.core.display.HTML object>"
      ]
     },
     "metadata": {},
     "output_type": "display_data"
    },
    {
     "name": "stderr",
     "output_type": "stream",
     "text": [
      "\u001b[34m\u001b[1mwandb\u001b[0m: Agent Starting Run: y1tx2lla with config:\n",
      "\u001b[34m\u001b[1mwandb\u001b[0m: \tactivation_function: ReLU\n",
      "\u001b[34m\u001b[1mwandb\u001b[0m: \tbatch_size: 32\n",
      "\u001b[34m\u001b[1mwandb\u001b[0m: \tepochs: 5\n",
      "\u001b[34m\u001b[1mwandb\u001b[0m: \thidden_layer_size: 128\n",
      "\u001b[34m\u001b[1mwandb\u001b[0m: \tlearning_rate: 0.001\n",
      "\u001b[34m\u001b[1mwandb\u001b[0m: \tnum_of_hidden_layers: 5\n",
      "\u001b[34m\u001b[1mwandb\u001b[0m: \toptimizer: nadam\n",
      "\u001b[34m\u001b[1mwandb\u001b[0m: \tweight_decay: 0.5\n",
      "\u001b[34m\u001b[1mwandb\u001b[0m: \tweight_initialization: Xavier\n"
     ]
    },
    {
     "data": {
      "text/html": [
       "Ignoring project 'dl-assignment1-experiment' when running a sweep."
      ],
      "text/plain": [
       "<IPython.core.display.HTML object>"
      ]
     },
     "metadata": {},
     "output_type": "display_data"
    },
    {
     "data": {
      "text/html": [
       "Tracking run with wandb version 0.19.8"
      ],
      "text/plain": [
       "<IPython.core.display.HTML object>"
      ]
     },
     "metadata": {},
     "output_type": "display_data"
    },
    {
     "data": {
      "text/html": [
       "Run data is saved locally in <code>/home/user/Documents/DL/assignment/wandb/run-20250312_210221-y1tx2lla</code>"
      ],
      "text/plain": [
       "<IPython.core.display.HTML object>"
      ]
     },
     "metadata": {},
     "output_type": "display_data"
    },
    {
     "data": {
      "text/html": [
       "Syncing run <strong><a href='https://wandb.ai/cs24s031-indian-institute-of-technology-madras/dl-assignment1-experiment/runs/y1tx2lla' target=\"_blank\">icy-sweep-37</a></strong> to <a href='https://wandb.ai/cs24s031-indian-institute-of-technology-madras/dl-assignment1-experiment' target=\"_blank\">Weights & Biases</a> (<a href='https://wandb.me/developer-guide' target=\"_blank\">docs</a>)<br>Sweep page: <a href='https://wandb.ai/cs24s031-indian-institute-of-technology-madras/dl-assignment1-experiment/sweeps/hfa2u67m' target=\"_blank\">https://wandb.ai/cs24s031-indian-institute-of-technology-madras/dl-assignment1-experiment/sweeps/hfa2u67m</a>"
      ],
      "text/plain": [
       "<IPython.core.display.HTML object>"
      ]
     },
     "metadata": {},
     "output_type": "display_data"
    },
    {
     "data": {
      "text/html": [
       " View project at <a href='https://wandb.ai/cs24s031-indian-institute-of-technology-madras/dl-assignment1-experiment' target=\"_blank\">https://wandb.ai/cs24s031-indian-institute-of-technology-madras/dl-assignment1-experiment</a>"
      ],
      "text/plain": [
       "<IPython.core.display.HTML object>"
      ]
     },
     "metadata": {},
     "output_type": "display_data"
    },
    {
     "data": {
      "text/html": [
       " View sweep at <a href='https://wandb.ai/cs24s031-indian-institute-of-technology-madras/dl-assignment1-experiment/sweeps/hfa2u67m' target=\"_blank\">https://wandb.ai/cs24s031-indian-institute-of-technology-madras/dl-assignment1-experiment/sweeps/hfa2u67m</a>"
      ],
      "text/plain": [
       "<IPython.core.display.HTML object>"
      ]
     },
     "metadata": {},
     "output_type": "display_data"
    },
    {
     "data": {
      "text/html": [
       " View run at <a href='https://wandb.ai/cs24s031-indian-institute-of-technology-madras/dl-assignment1-experiment/runs/y1tx2lla' target=\"_blank\">https://wandb.ai/cs24s031-indian-institute-of-technology-madras/dl-assignment1-experiment/runs/y1tx2lla</a>"
      ],
      "text/plain": [
       "<IPython.core.display.HTML object>"
      ]
     },
     "metadata": {},
     "output_type": "display_data"
    },
    {
     "name": "stdout",
     "output_type": "stream",
     "text": [
      "Starting training with run name: hl_5_bs_32_ac_ReLU\n",
      "Epoch 1/5 - Batch 1600/1687 - train-loss: 0.583312 train-acc: 0.718750 test-loss:0.474326 test-acc : 0.836667 \n",
      "Epoch 2/5 - Batch 1600/1687 - train-loss: 0.567242 train-acc: 0.781250 test-loss:0.496766 test-acc : 0.828333 \n",
      "Epoch 3/5 - Batch 1600/1687 - train-loss: 0.560170 train-acc: 0.750000 test-loss:0.499395 test-acc : 0.826333 \n",
      "Epoch 4/5 - Batch 1600/1687 - train-loss: 0.542503 train-acc: 0.750000 test-loss:0.493438 test-acc : 0.828667 \n",
      "Epoch 5/5 - Batch 1600/1687 - train-loss: 0.530123 train-acc: 0.750000 test-loss:0.485691 test-acc : 0.830833 \n"
     ]
    },
    {
     "data": {
      "text/html": [],
      "text/plain": [
       "<IPython.core.display.HTML object>"
      ]
     },
     "metadata": {},
     "output_type": "display_data"
    },
    {
     "data": {
      "text/html": [
       "<br>    <style><br>        .wandb-row {<br>            display: flex;<br>            flex-direction: row;<br>            flex-wrap: wrap;<br>            justify-content: flex-start;<br>            width: 100%;<br>        }<br>        .wandb-col {<br>            display: flex;<br>            flex-direction: column;<br>            flex-basis: 100%;<br>            flex: 1;<br>            padding: 10px;<br>        }<br>    </style><br><div class=\"wandb-row\"><div class=\"wandb-col\"><h3>Run history:</h3><br/><table class=\"wandb\"><tr><td>train_acc</td><td>▃▄▇▆▅▅▆▆▇▂▅▂▅▅▇█▅▅▅▄▅▅▆▆▅▅▅▅▃▁▅▆▆█▅▃▃▆▆▃</td></tr><tr><td>train_loss</td><td>▅▁▄▅▅▄▃▅▃▂▄▄█▅▃▄▂▄▁▅█▅▃▂▂▄▁▆▅▆▄▂▅▄▁▅▅▃▂▄</td></tr><tr><td>val_acc</td><td>▁▃▄▇█▇▅█▆▇▇▆▆▇▇▇▇▇▆▇▇▇▇▇▆▆▆▇▇▅▇▅▇▇▆▇█▆▇▇</td></tr><tr><td>val_loss</td><td>▄▃▂▁▂▅▄▂▄▄▃▄▄▆▅▃▅▇▅▆▄▅▅▄█▅█▅▅▅▄▄▅▃▄▅▃▅▇▄</td></tr></table><br/></div><div class=\"wandb-col\"><h3>Run summary:</h3><br/><table class=\"wandb\"><tr><td>train_acc</td><td>0.75</td></tr><tr><td>train_loss</td><td>0.53012</td></tr><tr><td>val_acc</td><td>0.83083</td></tr><tr><td>val_loss</td><td>0.48569</td></tr></table><br/></div></div>"
      ],
      "text/plain": [
       "<IPython.core.display.HTML object>"
      ]
     },
     "metadata": {},
     "output_type": "display_data"
    },
    {
     "data": {
      "text/html": [
       " View run <strong style=\"color:#cdcd00\">hl_5_bs_32_ac_ReLU</strong> at: <a href='https://wandb.ai/cs24s031-indian-institute-of-technology-madras/dl-assignment1-experiment/runs/y1tx2lla' target=\"_blank\">https://wandb.ai/cs24s031-indian-institute-of-technology-madras/dl-assignment1-experiment/runs/y1tx2lla</a><br> View project at: <a href='https://wandb.ai/cs24s031-indian-institute-of-technology-madras/dl-assignment1-experiment' target=\"_blank\">https://wandb.ai/cs24s031-indian-institute-of-technology-madras/dl-assignment1-experiment</a><br>Synced 5 W&B file(s), 0 media file(s), 0 artifact file(s) and 0 other file(s)"
      ],
      "text/plain": [
       "<IPython.core.display.HTML object>"
      ]
     },
     "metadata": {},
     "output_type": "display_data"
    },
    {
     "data": {
      "text/html": [
       "Find logs at: <code>./wandb/run-20250312_210221-y1tx2lla/logs</code>"
      ],
      "text/plain": [
       "<IPython.core.display.HTML object>"
      ]
     },
     "metadata": {},
     "output_type": "display_data"
    },
    {
     "name": "stderr",
     "output_type": "stream",
     "text": [
      "\u001b[34m\u001b[1mwandb\u001b[0m: Agent Starting Run: 7f928l0y with config:\n",
      "\u001b[34m\u001b[1mwandb\u001b[0m: \tactivation_function: tanh\n",
      "\u001b[34m\u001b[1mwandb\u001b[0m: \tbatch_size: 32\n",
      "\u001b[34m\u001b[1mwandb\u001b[0m: \tepochs: 10\n",
      "\u001b[34m\u001b[1mwandb\u001b[0m: \thidden_layer_size: 128\n",
      "\u001b[34m\u001b[1mwandb\u001b[0m: \tlearning_rate: 0.0001\n",
      "\u001b[34m\u001b[1mwandb\u001b[0m: \tnum_of_hidden_layers: 5\n",
      "\u001b[34m\u001b[1mwandb\u001b[0m: \toptimizer: sgd\n",
      "\u001b[34m\u001b[1mwandb\u001b[0m: \tweight_decay: 0.0005\n",
      "\u001b[34m\u001b[1mwandb\u001b[0m: \tweight_initialization: Xavier\n"
     ]
    },
    {
     "data": {
      "text/html": [
       "Ignoring project 'dl-assignment1-experiment' when running a sweep."
      ],
      "text/plain": [
       "<IPython.core.display.HTML object>"
      ]
     },
     "metadata": {},
     "output_type": "display_data"
    },
    {
     "data": {
      "text/html": [
       "Tracking run with wandb version 0.19.8"
      ],
      "text/plain": [
       "<IPython.core.display.HTML object>"
      ]
     },
     "metadata": {},
     "output_type": "display_data"
    },
    {
     "data": {
      "text/html": [
       "Run data is saved locally in <code>/home/user/Documents/DL/assignment/wandb/run-20250312_210258-7f928l0y</code>"
      ],
      "text/plain": [
       "<IPython.core.display.HTML object>"
      ]
     },
     "metadata": {},
     "output_type": "display_data"
    },
    {
     "data": {
      "text/html": [
       "Syncing run <strong><a href='https://wandb.ai/cs24s031-indian-institute-of-technology-madras/dl-assignment1-experiment/runs/7f928l0y' target=\"_blank\">good-sweep-38</a></strong> to <a href='https://wandb.ai/cs24s031-indian-institute-of-technology-madras/dl-assignment1-experiment' target=\"_blank\">Weights & Biases</a> (<a href='https://wandb.me/developer-guide' target=\"_blank\">docs</a>)<br>Sweep page: <a href='https://wandb.ai/cs24s031-indian-institute-of-technology-madras/dl-assignment1-experiment/sweeps/hfa2u67m' target=\"_blank\">https://wandb.ai/cs24s031-indian-institute-of-technology-madras/dl-assignment1-experiment/sweeps/hfa2u67m</a>"
      ],
      "text/plain": [
       "<IPython.core.display.HTML object>"
      ]
     },
     "metadata": {},
     "output_type": "display_data"
    },
    {
     "data": {
      "text/html": [
       " View project at <a href='https://wandb.ai/cs24s031-indian-institute-of-technology-madras/dl-assignment1-experiment' target=\"_blank\">https://wandb.ai/cs24s031-indian-institute-of-technology-madras/dl-assignment1-experiment</a>"
      ],
      "text/plain": [
       "<IPython.core.display.HTML object>"
      ]
     },
     "metadata": {},
     "output_type": "display_data"
    },
    {
     "data": {
      "text/html": [
       " View sweep at <a href='https://wandb.ai/cs24s031-indian-institute-of-technology-madras/dl-assignment1-experiment/sweeps/hfa2u67m' target=\"_blank\">https://wandb.ai/cs24s031-indian-institute-of-technology-madras/dl-assignment1-experiment/sweeps/hfa2u67m</a>"
      ],
      "text/plain": [
       "<IPython.core.display.HTML object>"
      ]
     },
     "metadata": {},
     "output_type": "display_data"
    },
    {
     "data": {
      "text/html": [
       " View run at <a href='https://wandb.ai/cs24s031-indian-institute-of-technology-madras/dl-assignment1-experiment/runs/7f928l0y' target=\"_blank\">https://wandb.ai/cs24s031-indian-institute-of-technology-madras/dl-assignment1-experiment/runs/7f928l0y</a>"
      ],
      "text/plain": [
       "<IPython.core.display.HTML object>"
      ]
     },
     "metadata": {},
     "output_type": "display_data"
    },
    {
     "name": "stdout",
     "output_type": "stream",
     "text": [
      "Starting training with run name: hl_5_bs_32_ac_tanh\n",
      "Epoch 1/10 - Batch 1600/1687 - train-loss: 0.644315 train-acc: 0.718750 test-loss:0.542176 test-acc : 0.808000 \n",
      "Epoch 2/10 - Batch 1600/1687 - train-loss: 0.554608 train-acc: 0.781250 test-loss:0.471653 test-acc : 0.832000 \n",
      "Epoch 3/10 - Batch 1600/1687 - train-loss: 0.517230 train-acc: 0.843750 test-loss:0.437506 test-acc : 0.844833 \n",
      "Epoch 4/10 - Batch 1600/1687 - train-loss: 0.491840 train-acc: 0.812500 test-loss:0.416152 test-acc : 0.853833 \n",
      "Epoch 5/10 - Batch 1600/1687 - train-loss: 0.471524 train-acc: 0.781250 test-loss:0.401113 test-acc : 0.857000 \n",
      "Epoch 6/10 - Batch 1600/1687 - train-loss: 0.454511 train-acc: 0.750000 test-loss:0.389662 test-acc : 0.860667 \n",
      "Epoch 7/10 - Batch 1600/1687 - train-loss: 0.439681 train-acc: 0.781250 test-loss:0.380488 test-acc : 0.863167 \n",
      "Epoch 8/10 - Batch 1600/1687 - train-loss: 0.426339 train-acc: 0.781250 test-loss:0.372892 test-acc : 0.867500 \n",
      "Epoch 9/10 - Batch 1600/1687 - train-loss: 0.414181 train-acc: 0.781250 test-loss:0.366465 test-acc : 0.871500 \n",
      "Epoch 10/10 - Batch 1600/1687 - train-loss: 0.403090 train-acc: 0.781250 test-loss:0.360944 test-acc : 0.872833 \n"
     ]
    },
    {
     "data": {
      "text/html": [],
      "text/plain": [
       "<IPython.core.display.HTML object>"
      ]
     },
     "metadata": {},
     "output_type": "display_data"
    },
    {
     "data": {
      "text/html": [
       "<br>    <style><br>        .wandb-row {<br>            display: flex;<br>            flex-direction: row;<br>            flex-wrap: wrap;<br>            justify-content: flex-start;<br>            width: 100%;<br>        }<br>        .wandb-col {<br>            display: flex;<br>            flex-direction: column;<br>            flex-basis: 100%;<br>            flex: 1;<br>            padding: 10px;<br>        }<br>    </style><br><div class=\"wandb-row\"><div class=\"wandb-col\"><h3>Run history:</h3><br/><table class=\"wandb\"><tr><td>train_acc</td><td>▁▅▄▅▆▇▃▅▅█▄▃▇▇█▅▇▅▇▅▆▃▅▆▇▅▆▄▇▄▇▅▅▇▄▇▄▅▅▇</td></tr><tr><td>train_loss</td><td>█▇▆▃▂▅▆▅▂▆▅▃▆▂▄▃▄▄▅▂▆▄█▅▅▂▅▄▄▂▆▄▅▂▃▄▃▁▃▄</td></tr><tr><td>val_acc</td><td>▁▅▅▅▅▆▆▆▆▇▇▇▇▇▇▇▇▇▇▇▇▇█▇▇███████████████</td></tr><tr><td>val_loss</td><td>██▇▆▆▅▅▅▄▄▃▃▄▃▃▃▃▃▂▂▂▂▂▂▂▂▂▂▂▂▁▁▁▁▁▁▁▁▁▁</td></tr></table><br/></div><div class=\"wandb-col\"><h3>Run summary:</h3><br/><table class=\"wandb\"><tr><td>train_acc</td><td>0.78125</td></tr><tr><td>train_loss</td><td>0.40309</td></tr><tr><td>val_acc</td><td>0.87283</td></tr><tr><td>val_loss</td><td>0.36094</td></tr></table><br/></div></div>"
      ],
      "text/plain": [
       "<IPython.core.display.HTML object>"
      ]
     },
     "metadata": {},
     "output_type": "display_data"
    },
    {
     "data": {
      "text/html": [
       " View run <strong style=\"color:#cdcd00\">hl_5_bs_32_ac_tanh</strong> at: <a href='https://wandb.ai/cs24s031-indian-institute-of-technology-madras/dl-assignment1-experiment/runs/7f928l0y' target=\"_blank\">https://wandb.ai/cs24s031-indian-institute-of-technology-madras/dl-assignment1-experiment/runs/7f928l0y</a><br> View project at: <a href='https://wandb.ai/cs24s031-indian-institute-of-technology-madras/dl-assignment1-experiment' target=\"_blank\">https://wandb.ai/cs24s031-indian-institute-of-technology-madras/dl-assignment1-experiment</a><br>Synced 5 W&B file(s), 0 media file(s), 0 artifact file(s) and 0 other file(s)"
      ],
      "text/plain": [
       "<IPython.core.display.HTML object>"
      ]
     },
     "metadata": {},
     "output_type": "display_data"
    },
    {
     "data": {
      "text/html": [
       "Find logs at: <code>./wandb/run-20250312_210258-7f928l0y/logs</code>"
      ],
      "text/plain": [
       "<IPython.core.display.HTML object>"
      ]
     },
     "metadata": {},
     "output_type": "display_data"
    },
    {
     "name": "stderr",
     "output_type": "stream",
     "text": [
      "\u001b[34m\u001b[1mwandb\u001b[0m: Sweep Agent: Waiting for job.\n",
      "\u001b[34m\u001b[1mwandb\u001b[0m: Job received.\n",
      "\u001b[34m\u001b[1mwandb\u001b[0m: Agent Starting Run: e3diryi0 with config:\n",
      "\u001b[34m\u001b[1mwandb\u001b[0m: \tactivation_function: ReLU\n",
      "\u001b[34m\u001b[1mwandb\u001b[0m: \tbatch_size: 64\n",
      "\u001b[34m\u001b[1mwandb\u001b[0m: \tepochs: 10\n",
      "\u001b[34m\u001b[1mwandb\u001b[0m: \thidden_layer_size: 128\n",
      "\u001b[34m\u001b[1mwandb\u001b[0m: \tlearning_rate: 0.001\n",
      "\u001b[34m\u001b[1mwandb\u001b[0m: \tnum_of_hidden_layers: 5\n",
      "\u001b[34m\u001b[1mwandb\u001b[0m: \toptimizer: nadam\n",
      "\u001b[34m\u001b[1mwandb\u001b[0m: \tweight_decay: 0.0005\n",
      "\u001b[34m\u001b[1mwandb\u001b[0m: \tweight_initialization: Xavier\n"
     ]
    },
    {
     "data": {
      "text/html": [
       "Ignoring project 'dl-assignment1-experiment' when running a sweep."
      ],
      "text/plain": [
       "<IPython.core.display.HTML object>"
      ]
     },
     "metadata": {},
     "output_type": "display_data"
    },
    {
     "data": {
      "text/html": [
       "Tracking run with wandb version 0.19.8"
      ],
      "text/plain": [
       "<IPython.core.display.HTML object>"
      ]
     },
     "metadata": {},
     "output_type": "display_data"
    },
    {
     "data": {
      "text/html": [
       "Run data is saved locally in <code>/home/user/Documents/DL/assignment/wandb/run-20250312_210351-e3diryi0</code>"
      ],
      "text/plain": [
       "<IPython.core.display.HTML object>"
      ]
     },
     "metadata": {},
     "output_type": "display_data"
    },
    {
     "data": {
      "text/html": [
       "Syncing run <strong><a href='https://wandb.ai/cs24s031-indian-institute-of-technology-madras/dl-assignment1-experiment/runs/e3diryi0' target=\"_blank\">lucky-sweep-39</a></strong> to <a href='https://wandb.ai/cs24s031-indian-institute-of-technology-madras/dl-assignment1-experiment' target=\"_blank\">Weights & Biases</a> (<a href='https://wandb.me/developer-guide' target=\"_blank\">docs</a>)<br>Sweep page: <a href='https://wandb.ai/cs24s031-indian-institute-of-technology-madras/dl-assignment1-experiment/sweeps/hfa2u67m' target=\"_blank\">https://wandb.ai/cs24s031-indian-institute-of-technology-madras/dl-assignment1-experiment/sweeps/hfa2u67m</a>"
      ],
      "text/plain": [
       "<IPython.core.display.HTML object>"
      ]
     },
     "metadata": {},
     "output_type": "display_data"
    },
    {
     "data": {
      "text/html": [
       " View project at <a href='https://wandb.ai/cs24s031-indian-institute-of-technology-madras/dl-assignment1-experiment' target=\"_blank\">https://wandb.ai/cs24s031-indian-institute-of-technology-madras/dl-assignment1-experiment</a>"
      ],
      "text/plain": [
       "<IPython.core.display.HTML object>"
      ]
     },
     "metadata": {},
     "output_type": "display_data"
    },
    {
     "data": {
      "text/html": [
       " View sweep at <a href='https://wandb.ai/cs24s031-indian-institute-of-technology-madras/dl-assignment1-experiment/sweeps/hfa2u67m' target=\"_blank\">https://wandb.ai/cs24s031-indian-institute-of-technology-madras/dl-assignment1-experiment/sweeps/hfa2u67m</a>"
      ],
      "text/plain": [
       "<IPython.core.display.HTML object>"
      ]
     },
     "metadata": {},
     "output_type": "display_data"
    },
    {
     "data": {
      "text/html": [
       " View run at <a href='https://wandb.ai/cs24s031-indian-institute-of-technology-madras/dl-assignment1-experiment/runs/e3diryi0' target=\"_blank\">https://wandb.ai/cs24s031-indian-institute-of-technology-madras/dl-assignment1-experiment/runs/e3diryi0</a>"
      ],
      "text/plain": [
       "<IPython.core.display.HTML object>"
      ]
     },
     "metadata": {},
     "output_type": "display_data"
    },
    {
     "name": "stdout",
     "output_type": "stream",
     "text": [
      "Starting training with run name: hl_5_bs_64_ac_ReLU\n",
      "Epoch 1/10 - Batch 800/843 - train-loss: 0.514422 train-acc: 0.828125 test-loss:0.416195 test-acc : 0.848667 \n",
      "Epoch 2/10 - Batch 800/843 - train-loss: 0.528499 train-acc: 0.843750 test-loss:0.403032 test-acc : 0.859333 \n",
      "Epoch 3/10 - Batch 800/843 - train-loss: 0.451599 train-acc: 0.875000 test-loss:0.364494 test-acc : 0.869667 \n",
      "Epoch 4/10 - Batch 800/843 - train-loss: 0.366415 train-acc: 0.906250 test-loss:0.340145 test-acc : 0.875833 \n",
      "Epoch 5/10 - Batch 800/843 - train-loss: 0.336966 train-acc: 0.890625 test-loss:0.330622 test-acc : 0.882000 \n",
      "Epoch 6/10 - Batch 800/843 - train-loss: 0.317552 train-acc: 0.921875 test-loss:0.324490 test-acc : 0.883833 \n",
      "Epoch 7/10 - Batch 800/843 - train-loss: 0.261819 train-acc: 0.921875 test-loss:0.323711 test-acc : 0.885333 \n",
      "Epoch 8/10 - Batch 800/843 - train-loss: 0.268593 train-acc: 0.937500 test-loss:0.334211 test-acc : 0.887167 \n",
      "Epoch 9/10 - Batch 800/843 - train-loss: 0.256090 train-acc: 0.937500 test-loss:0.336863 test-acc : 0.890833 \n",
      "Epoch 10/10 - Batch 800/843 - train-loss: 0.280918 train-acc: 0.937500 test-loss:0.340388 test-acc : 0.885667 \n"
     ]
    },
    {
     "data": {
      "text/html": [],
      "text/plain": [
       "<IPython.core.display.HTML object>"
      ]
     },
     "metadata": {},
     "output_type": "display_data"
    },
    {
     "data": {
      "text/html": [
       "<br>    <style><br>        .wandb-row {<br>            display: flex;<br>            flex-direction: row;<br>            flex-wrap: wrap;<br>            justify-content: flex-start;<br>            width: 100%;<br>        }<br>        .wandb-col {<br>            display: flex;<br>            flex-direction: column;<br>            flex-basis: 100%;<br>            flex: 1;<br>            padding: 10px;<br>        }<br>    </style><br><div class=\"wandb-row\"><div class=\"wandb-col\"><h3>Run history:</h3><br/><table class=\"wandb\"><tr><td>train_acc</td><td>▂▃▁▇▃▅▄▂▅▅▆▆▃▅▇▅▆▄▅▇▅█▆▄▅▆▇▅▅▅▆▇▆▆▆▆▅▆▇▆</td></tr><tr><td>train_loss</td><td>█▆▂▅▃▅▆▃▄▅▃▄▃▄▂▅▃▁▂▂▃▁▃▂▃▃▁▃▃▄▁▂▄▃▂▂▃▄▂▁</td></tr><tr><td>val_acc</td><td>▁▂▄▄▄▅▆▅▅▅▇▆▆▇▆▇▆▆▆▇▆▆▇▇▇▇▇▇▇▆▇▇▇██▇▆▇▇█</td></tr><tr><td>val_loss</td><td>█▆▆▅▄▃▃▃▂▃▂▂▂▂▂▂▁▂▂▂▁▂▂▂▂▁▂▂▁▂▁▁▂▂▁▂▂▂▂▂</td></tr></table><br/></div><div class=\"wandb-col\"><h3>Run summary:</h3><br/><table class=\"wandb\"><tr><td>train_acc</td><td>0.9375</td></tr><tr><td>train_loss</td><td>0.28092</td></tr><tr><td>val_acc</td><td>0.88567</td></tr><tr><td>val_loss</td><td>0.34039</td></tr></table><br/></div></div>"
      ],
      "text/plain": [
       "<IPython.core.display.HTML object>"
      ]
     },
     "metadata": {},
     "output_type": "display_data"
    },
    {
     "data": {
      "text/html": [
       " View run <strong style=\"color:#cdcd00\">hl_5_bs_64_ac_ReLU</strong> at: <a href='https://wandb.ai/cs24s031-indian-institute-of-technology-madras/dl-assignment1-experiment/runs/e3diryi0' target=\"_blank\">https://wandb.ai/cs24s031-indian-institute-of-technology-madras/dl-assignment1-experiment/runs/e3diryi0</a><br> View project at: <a href='https://wandb.ai/cs24s031-indian-institute-of-technology-madras/dl-assignment1-experiment' target=\"_blank\">https://wandb.ai/cs24s031-indian-institute-of-technology-madras/dl-assignment1-experiment</a><br>Synced 5 W&B file(s), 0 media file(s), 0 artifact file(s) and 0 other file(s)"
      ],
      "text/plain": [
       "<IPython.core.display.HTML object>"
      ]
     },
     "metadata": {},
     "output_type": "display_data"
    },
    {
     "data": {
      "text/html": [
       "Find logs at: <code>./wandb/run-20250312_210351-e3diryi0/logs</code>"
      ],
      "text/plain": [
       "<IPython.core.display.HTML object>"
      ]
     },
     "metadata": {},
     "output_type": "display_data"
    },
    {
     "name": "stderr",
     "output_type": "stream",
     "text": [
      "\u001b[34m\u001b[1mwandb\u001b[0m: Sweep Agent: Waiting for job.\n",
      "\u001b[34m\u001b[1mwandb\u001b[0m: Job received.\n",
      "\u001b[34m\u001b[1mwandb\u001b[0m: Agent Starting Run: jzucf1ap with config:\n",
      "\u001b[34m\u001b[1mwandb\u001b[0m: \tactivation_function: ReLU\n",
      "\u001b[34m\u001b[1mwandb\u001b[0m: \tbatch_size: 32\n",
      "\u001b[34m\u001b[1mwandb\u001b[0m: \tepochs: 10\n",
      "\u001b[34m\u001b[1mwandb\u001b[0m: \thidden_layer_size: 128\n",
      "\u001b[34m\u001b[1mwandb\u001b[0m: \tlearning_rate: 0.0001\n",
      "\u001b[34m\u001b[1mwandb\u001b[0m: \tnum_of_hidden_layers: 5\n",
      "\u001b[34m\u001b[1mwandb\u001b[0m: \toptimizer: nadam\n",
      "\u001b[34m\u001b[1mwandb\u001b[0m: \tweight_decay: 0.5\n",
      "\u001b[34m\u001b[1mwandb\u001b[0m: \tweight_initialization: Xavier\n"
     ]
    },
    {
     "data": {
      "text/html": [
       "Ignoring project 'dl-assignment1-experiment' when running a sweep."
      ],
      "text/plain": [
       "<IPython.core.display.HTML object>"
      ]
     },
     "metadata": {},
     "output_type": "display_data"
    },
    {
     "data": {
      "text/html": [
       "Tracking run with wandb version 0.19.8"
      ],
      "text/plain": [
       "<IPython.core.display.HTML object>"
      ]
     },
     "metadata": {},
     "output_type": "display_data"
    },
    {
     "data": {
      "text/html": [
       "Run data is saved locally in <code>/home/user/Documents/DL/assignment/wandb/run-20250312_210434-jzucf1ap</code>"
      ],
      "text/plain": [
       "<IPython.core.display.HTML object>"
      ]
     },
     "metadata": {},
     "output_type": "display_data"
    },
    {
     "data": {
      "text/html": [
       "Syncing run <strong><a href='https://wandb.ai/cs24s031-indian-institute-of-technology-madras/dl-assignment1-experiment/runs/jzucf1ap' target=\"_blank\">neat-sweep-40</a></strong> to <a href='https://wandb.ai/cs24s031-indian-institute-of-technology-madras/dl-assignment1-experiment' target=\"_blank\">Weights & Biases</a> (<a href='https://wandb.me/developer-guide' target=\"_blank\">docs</a>)<br>Sweep page: <a href='https://wandb.ai/cs24s031-indian-institute-of-technology-madras/dl-assignment1-experiment/sweeps/hfa2u67m' target=\"_blank\">https://wandb.ai/cs24s031-indian-institute-of-technology-madras/dl-assignment1-experiment/sweeps/hfa2u67m</a>"
      ],
      "text/plain": [
       "<IPython.core.display.HTML object>"
      ]
     },
     "metadata": {},
     "output_type": "display_data"
    },
    {
     "data": {
      "text/html": [
       " View project at <a href='https://wandb.ai/cs24s031-indian-institute-of-technology-madras/dl-assignment1-experiment' target=\"_blank\">https://wandb.ai/cs24s031-indian-institute-of-technology-madras/dl-assignment1-experiment</a>"
      ],
      "text/plain": [
       "<IPython.core.display.HTML object>"
      ]
     },
     "metadata": {},
     "output_type": "display_data"
    },
    {
     "data": {
      "text/html": [
       " View sweep at <a href='https://wandb.ai/cs24s031-indian-institute-of-technology-madras/dl-assignment1-experiment/sweeps/hfa2u67m' target=\"_blank\">https://wandb.ai/cs24s031-indian-institute-of-technology-madras/dl-assignment1-experiment/sweeps/hfa2u67m</a>"
      ],
      "text/plain": [
       "<IPython.core.display.HTML object>"
      ]
     },
     "metadata": {},
     "output_type": "display_data"
    },
    {
     "data": {
      "text/html": [
       " View run at <a href='https://wandb.ai/cs24s031-indian-institute-of-technology-madras/dl-assignment1-experiment/runs/jzucf1ap' target=\"_blank\">https://wandb.ai/cs24s031-indian-institute-of-technology-madras/dl-assignment1-experiment/runs/jzucf1ap</a>"
      ],
      "text/plain": [
       "<IPython.core.display.HTML object>"
      ]
     },
     "metadata": {},
     "output_type": "display_data"
    },
    {
     "name": "stdout",
     "output_type": "stream",
     "text": [
      "Starting training with run name: hl_5_bs_32_ac_ReLU\n",
      "Epoch 1/10 - Batch 1600/1687 - train-loss: 0.650465 train-acc: 0.750000 test-loss:0.476205 test-acc : 0.824333 \n",
      "Epoch 2/10 - Batch 1600/1687 - train-loss: 0.516672 train-acc: 0.750000 test-loss:0.422773 test-acc : 0.846833 \n",
      "Epoch 3/10 - Batch 1600/1687 - train-loss: 0.482037 train-acc: 0.781250 test-loss:0.417100 test-acc : 0.852000 \n",
      "Epoch 4/10 - Batch 1600/1687 - train-loss: 0.486252 train-acc: 0.750000 test-loss:0.421349 test-acc : 0.855500 \n",
      "Epoch 5/10 - Batch 1600/1687 - train-loss: 0.490124 train-acc: 0.781250 test-loss:0.429998 test-acc : 0.854000 \n",
      "Epoch 6/10 - Batch 1600/1687 - train-loss: 0.496383 train-acc: 0.750000 test-loss:0.436400 test-acc : 0.854000 \n",
      "Epoch 7/10 - Batch 1600/1687 - train-loss: 0.491000 train-acc: 0.750000 test-loss:0.440393 test-acc : 0.852333 \n",
      "Epoch 8/10 - Batch 1600/1687 - train-loss: 0.493270 train-acc: 0.781250 test-loss:0.444037 test-acc : 0.850500 \n",
      "Epoch 9/10 - Batch 1600/1687 - train-loss: 0.494433 train-acc: 0.781250 test-loss:0.446504 test-acc : 0.850000 \n",
      "Epoch 10/10 - Batch 1600/1687 - train-loss: 0.487425 train-acc: 0.781250 test-loss:0.446649 test-acc : 0.848833 \n"
     ]
    },
    {
     "data": {
      "text/html": [],
      "text/plain": [
       "<IPython.core.display.HTML object>"
      ]
     },
     "metadata": {},
     "output_type": "display_data"
    },
    {
     "data": {
      "text/html": [
       "<br>    <style><br>        .wandb-row {<br>            display: flex;<br>            flex-direction: row;<br>            flex-wrap: wrap;<br>            justify-content: flex-start;<br>            width: 100%;<br>        }<br>        .wandb-col {<br>            display: flex;<br>            flex-direction: column;<br>            flex-basis: 100%;<br>            flex: 1;<br>            padding: 10px;<br>        }<br>    </style><br><div class=\"wandb-row\"><div class=\"wandb-col\"><h3>Run history:</h3><br/><table class=\"wandb\"><tr><td>train_acc</td><td>▃▂▇▄▁▂▆▆▄▄▅▄▅▄▃▆▃▅▄█▇▄▃▇▇▅▃▄▄▇▇▃▇▆▃▇▃▄▃▃</td></tr><tr><td>train_loss</td><td>▃▇▅▆▄▄█▅▄▅▁▅▂▃▁▄▅▃▂▁▅▅▂▆█▃▄▁▄▅▃▃▅▅▃▂▅▁█▃</td></tr><tr><td>val_acc</td><td>▁▂▃▄▅▇▇▇▇█████▇███▇████▇▇▇▆▇▇▇█▇█▇▇▇█▇██</td></tr><tr><td>val_loss</td><td>█▇▃▃▂▂▂▂▁▁▂▃▂▁▁▁▂▂▂▁▁▂▂▂▂▂▂▂▂▂▂▂▂▂▂▂▂▂▂▂</td></tr></table><br/></div><div class=\"wandb-col\"><h3>Run summary:</h3><br/><table class=\"wandb\"><tr><td>train_acc</td><td>0.78125</td></tr><tr><td>train_loss</td><td>0.48743</td></tr><tr><td>val_acc</td><td>0.84883</td></tr><tr><td>val_loss</td><td>0.44665</td></tr></table><br/></div></div>"
      ],
      "text/plain": [
       "<IPython.core.display.HTML object>"
      ]
     },
     "metadata": {},
     "output_type": "display_data"
    },
    {
     "data": {
      "text/html": [
       " View run <strong style=\"color:#cdcd00\">hl_5_bs_32_ac_ReLU</strong> at: <a href='https://wandb.ai/cs24s031-indian-institute-of-technology-madras/dl-assignment1-experiment/runs/jzucf1ap' target=\"_blank\">https://wandb.ai/cs24s031-indian-institute-of-technology-madras/dl-assignment1-experiment/runs/jzucf1ap</a><br> View project at: <a href='https://wandb.ai/cs24s031-indian-institute-of-technology-madras/dl-assignment1-experiment' target=\"_blank\">https://wandb.ai/cs24s031-indian-institute-of-technology-madras/dl-assignment1-experiment</a><br>Synced 5 W&B file(s), 0 media file(s), 0 artifact file(s) and 0 other file(s)"
      ],
      "text/plain": [
       "<IPython.core.display.HTML object>"
      ]
     },
     "metadata": {},
     "output_type": "display_data"
    },
    {
     "data": {
      "text/html": [
       "Find logs at: <code>./wandb/run-20250312_210434-jzucf1ap/logs</code>"
      ],
      "text/plain": [
       "<IPython.core.display.HTML object>"
      ]
     },
     "metadata": {},
     "output_type": "display_data"
    },
    {
     "name": "stderr",
     "output_type": "stream",
     "text": [
      "\u001b[34m\u001b[1mwandb\u001b[0m: Sweep Agent: Waiting for job.\n",
      "\u001b[34m\u001b[1mwandb\u001b[0m: Job received.\n",
      "\u001b[34m\u001b[1mwandb\u001b[0m: Agent Starting Run: 3wwc6f7f with config:\n",
      "\u001b[34m\u001b[1mwandb\u001b[0m: \tactivation_function: ReLU\n",
      "\u001b[34m\u001b[1mwandb\u001b[0m: \tbatch_size: 64\n",
      "\u001b[34m\u001b[1mwandb\u001b[0m: \tepochs: 10\n",
      "\u001b[34m\u001b[1mwandb\u001b[0m: \thidden_layer_size: 128\n",
      "\u001b[34m\u001b[1mwandb\u001b[0m: \tlearning_rate: 0.0001\n",
      "\u001b[34m\u001b[1mwandb\u001b[0m: \tnum_of_hidden_layers: 4\n",
      "\u001b[34m\u001b[1mwandb\u001b[0m: \toptimizer: momentum\n",
      "\u001b[34m\u001b[1mwandb\u001b[0m: \tweight_decay: 0\n",
      "\u001b[34m\u001b[1mwandb\u001b[0m: \tweight_initialization: Xavier\n"
     ]
    },
    {
     "data": {
      "text/html": [
       "Ignoring project 'dl-assignment1-experiment' when running a sweep."
      ],
      "text/plain": [
       "<IPython.core.display.HTML object>"
      ]
     },
     "metadata": {},
     "output_type": "display_data"
    },
    {
     "data": {
      "text/html": [
       "Tracking run with wandb version 0.19.8"
      ],
      "text/plain": [
       "<IPython.core.display.HTML object>"
      ]
     },
     "metadata": {},
     "output_type": "display_data"
    },
    {
     "data": {
      "text/html": [
       "Run data is saved locally in <code>/home/user/Documents/DL/assignment/wandb/run-20250312_210551-3wwc6f7f</code>"
      ],
      "text/plain": [
       "<IPython.core.display.HTML object>"
      ]
     },
     "metadata": {},
     "output_type": "display_data"
    },
    {
     "data": {
      "text/html": [
       "Syncing run <strong><a href='https://wandb.ai/cs24s031-indian-institute-of-technology-madras/dl-assignment1-experiment/runs/3wwc6f7f' target=\"_blank\">dazzling-sweep-41</a></strong> to <a href='https://wandb.ai/cs24s031-indian-institute-of-technology-madras/dl-assignment1-experiment' target=\"_blank\">Weights & Biases</a> (<a href='https://wandb.me/developer-guide' target=\"_blank\">docs</a>)<br>Sweep page: <a href='https://wandb.ai/cs24s031-indian-institute-of-technology-madras/dl-assignment1-experiment/sweeps/hfa2u67m' target=\"_blank\">https://wandb.ai/cs24s031-indian-institute-of-technology-madras/dl-assignment1-experiment/sweeps/hfa2u67m</a>"
      ],
      "text/plain": [
       "<IPython.core.display.HTML object>"
      ]
     },
     "metadata": {},
     "output_type": "display_data"
    },
    {
     "data": {
      "text/html": [
       " View project at <a href='https://wandb.ai/cs24s031-indian-institute-of-technology-madras/dl-assignment1-experiment' target=\"_blank\">https://wandb.ai/cs24s031-indian-institute-of-technology-madras/dl-assignment1-experiment</a>"
      ],
      "text/plain": [
       "<IPython.core.display.HTML object>"
      ]
     },
     "metadata": {},
     "output_type": "display_data"
    },
    {
     "data": {
      "text/html": [
       " View sweep at <a href='https://wandb.ai/cs24s031-indian-institute-of-technology-madras/dl-assignment1-experiment/sweeps/hfa2u67m' target=\"_blank\">https://wandb.ai/cs24s031-indian-institute-of-technology-madras/dl-assignment1-experiment/sweeps/hfa2u67m</a>"
      ],
      "text/plain": [
       "<IPython.core.display.HTML object>"
      ]
     },
     "metadata": {},
     "output_type": "display_data"
    },
    {
     "data": {
      "text/html": [
       " View run at <a href='https://wandb.ai/cs24s031-indian-institute-of-technology-madras/dl-assignment1-experiment/runs/3wwc6f7f' target=\"_blank\">https://wandb.ai/cs24s031-indian-institute-of-technology-madras/dl-assignment1-experiment/runs/3wwc6f7f</a>"
      ],
      "text/plain": [
       "<IPython.core.display.HTML object>"
      ]
     },
     "metadata": {},
     "output_type": "display_data"
    },
    {
     "name": "stdout",
     "output_type": "stream",
     "text": [
      "Starting training with run name: hl_4_bs_64_ac_ReLU\n",
      "Epoch 1/10 - Batch 800/843 - train-loss: 0.533271 train-acc: 0.765625 test-loss:0.519532 test-acc : 0.816833 \n",
      "Epoch 2/10 - Batch 800/843 - train-loss: 0.455887 train-acc: 0.765625 test-loss:0.466336 test-acc : 0.834667 \n",
      "Epoch 3/10 - Batch 800/843 - train-loss: 0.419563 train-acc: 0.812500 test-loss:0.438813 test-acc : 0.843167 \n",
      "Epoch 4/10 - Batch 800/843 - train-loss: 0.395129 train-acc: 0.843750 test-loss:0.419752 test-acc : 0.850167 \n",
      "Epoch 5/10 - Batch 800/843 - train-loss: 0.380178 train-acc: 0.828125 test-loss:0.407023 test-acc : 0.856000 \n",
      "Epoch 6/10 - Batch 800/843 - train-loss: 0.369929 train-acc: 0.859375 test-loss:0.398708 test-acc : 0.859333 \n",
      "Epoch 7/10 - Batch 800/843 - train-loss: 0.360396 train-acc: 0.875000 test-loss:0.390960 test-acc : 0.859500 \n",
      "Epoch 8/10 - Batch 800/843 - train-loss: 0.352637 train-acc: 0.875000 test-loss:0.385575 test-acc : 0.863000 \n",
      "Epoch 9/10 - Batch 800/843 - train-loss: 0.345506 train-acc: 0.875000 test-loss:0.380525 test-acc : 0.865500 \n",
      "Epoch 10/10 - Batch 800/843 - train-loss: 0.338622 train-acc: 0.875000 test-loss:0.375856 test-acc : 0.867000 \n"
     ]
    },
    {
     "data": {
      "text/html": [],
      "text/plain": [
       "<IPython.core.display.HTML object>"
      ]
     },
     "metadata": {},
     "output_type": "display_data"
    },
    {
     "data": {
      "text/html": [
       "<br>    <style><br>        .wandb-row {<br>            display: flex;<br>            flex-direction: row;<br>            flex-wrap: wrap;<br>            justify-content: flex-start;<br>            width: 100%;<br>        }<br>        .wandb-col {<br>            display: flex;<br>            flex-direction: column;<br>            flex-basis: 100%;<br>            flex: 1;<br>            padding: 10px;<br>        }<br>    </style><br><div class=\"wandb-row\"><div class=\"wandb-col\"><h3>Run history:</h3><br/><table class=\"wandb\"><tr><td>train_acc</td><td>▃▄▃▅▂▁▅▄▇▂▂▅▃▇▅█▄▇▅▄▇▆▅▅▇▄▇▅▆▄▅▅▇▅▇▅▅▇▅▅</td></tr><tr><td>train_loss</td><td>█▆▆▅▃▄▃▅▄▂▂▄▄▄▁▂▄▄▃▃▂▄▃▃▃▃▃▁▃▄▁▂▃▄▃▁▃▄▃▃</td></tr><tr><td>val_acc</td><td>▁▅▆▅▆▆▆▆▆▆▆▇▇▇▆▇▇▇▇▇▇█▇▇▇▇██▇▇███████▇██</td></tr><tr><td>val_loss</td><td>█▅▄▄▄▃▃▃▃▃▃▃▂▂▂▂▂▂▂▂▂▂▂▂▂▂▂▂▁▁▂▂▁▁▂▁▁▁▁▁</td></tr></table><br/></div><div class=\"wandb-col\"><h3>Run summary:</h3><br/><table class=\"wandb\"><tr><td>train_acc</td><td>0.875</td></tr><tr><td>train_loss</td><td>0.33862</td></tr><tr><td>val_acc</td><td>0.867</td></tr><tr><td>val_loss</td><td>0.37586</td></tr></table><br/></div></div>"
      ],
      "text/plain": [
       "<IPython.core.display.HTML object>"
      ]
     },
     "metadata": {},
     "output_type": "display_data"
    },
    {
     "data": {
      "text/html": [
       " View run <strong style=\"color:#cdcd00\">hl_4_bs_64_ac_ReLU</strong> at: <a href='https://wandb.ai/cs24s031-indian-institute-of-technology-madras/dl-assignment1-experiment/runs/3wwc6f7f' target=\"_blank\">https://wandb.ai/cs24s031-indian-institute-of-technology-madras/dl-assignment1-experiment/runs/3wwc6f7f</a><br> View project at: <a href='https://wandb.ai/cs24s031-indian-institute-of-technology-madras/dl-assignment1-experiment' target=\"_blank\">https://wandb.ai/cs24s031-indian-institute-of-technology-madras/dl-assignment1-experiment</a><br>Synced 5 W&B file(s), 0 media file(s), 0 artifact file(s) and 0 other file(s)"
      ],
      "text/plain": [
       "<IPython.core.display.HTML object>"
      ]
     },
     "metadata": {},
     "output_type": "display_data"
    },
    {
     "data": {
      "text/html": [
       "Find logs at: <code>./wandb/run-20250312_210551-3wwc6f7f/logs</code>"
      ],
      "text/plain": [
       "<IPython.core.display.HTML object>"
      ]
     },
     "metadata": {},
     "output_type": "display_data"
    },
    {
     "name": "stderr",
     "output_type": "stream",
     "text": [
      "\u001b[34m\u001b[1mwandb\u001b[0m: Sweep Agent: Waiting for job.\n",
      "\u001b[34m\u001b[1mwandb\u001b[0m: Job received.\n",
      "\u001b[34m\u001b[1mwandb\u001b[0m: Agent Starting Run: attst9h6 with config:\n",
      "\u001b[34m\u001b[1mwandb\u001b[0m: \tactivation_function: ReLU\n",
      "\u001b[34m\u001b[1mwandb\u001b[0m: \tbatch_size: 16\n",
      "\u001b[34m\u001b[1mwandb\u001b[0m: \tepochs: 10\n",
      "\u001b[34m\u001b[1mwandb\u001b[0m: \thidden_layer_size: 128\n",
      "\u001b[34m\u001b[1mwandb\u001b[0m: \tlearning_rate: 0.0001\n",
      "\u001b[34m\u001b[1mwandb\u001b[0m: \tnum_of_hidden_layers: 5\n",
      "\u001b[34m\u001b[1mwandb\u001b[0m: \toptimizer: RMSprop\n",
      "\u001b[34m\u001b[1mwandb\u001b[0m: \tweight_decay: 0\n",
      "\u001b[34m\u001b[1mwandb\u001b[0m: \tweight_initialization: Xavier\n"
     ]
    },
    {
     "data": {
      "text/html": [
       "Ignoring project 'dl-assignment1-experiment' when running a sweep."
      ],
      "text/plain": [
       "<IPython.core.display.HTML object>"
      ]
     },
     "metadata": {},
     "output_type": "display_data"
    },
    {
     "data": {
      "text/html": [
       "Tracking run with wandb version 0.19.8"
      ],
      "text/plain": [
       "<IPython.core.display.HTML object>"
      ]
     },
     "metadata": {},
     "output_type": "display_data"
    },
    {
     "data": {
      "text/html": [
       "Run data is saved locally in <code>/home/user/Documents/DL/assignment/wandb/run-20250312_210623-attst9h6</code>"
      ],
      "text/plain": [
       "<IPython.core.display.HTML object>"
      ]
     },
     "metadata": {},
     "output_type": "display_data"
    },
    {
     "data": {
      "text/html": [
       "Syncing run <strong><a href='https://wandb.ai/cs24s031-indian-institute-of-technology-madras/dl-assignment1-experiment/runs/attst9h6' target=\"_blank\">dulcet-sweep-42</a></strong> to <a href='https://wandb.ai/cs24s031-indian-institute-of-technology-madras/dl-assignment1-experiment' target=\"_blank\">Weights & Biases</a> (<a href='https://wandb.me/developer-guide' target=\"_blank\">docs</a>)<br>Sweep page: <a href='https://wandb.ai/cs24s031-indian-institute-of-technology-madras/dl-assignment1-experiment/sweeps/hfa2u67m' target=\"_blank\">https://wandb.ai/cs24s031-indian-institute-of-technology-madras/dl-assignment1-experiment/sweeps/hfa2u67m</a>"
      ],
      "text/plain": [
       "<IPython.core.display.HTML object>"
      ]
     },
     "metadata": {},
     "output_type": "display_data"
    },
    {
     "data": {
      "text/html": [
       " View project at <a href='https://wandb.ai/cs24s031-indian-institute-of-technology-madras/dl-assignment1-experiment' target=\"_blank\">https://wandb.ai/cs24s031-indian-institute-of-technology-madras/dl-assignment1-experiment</a>"
      ],
      "text/plain": [
       "<IPython.core.display.HTML object>"
      ]
     },
     "metadata": {},
     "output_type": "display_data"
    },
    {
     "data": {
      "text/html": [
       " View sweep at <a href='https://wandb.ai/cs24s031-indian-institute-of-technology-madras/dl-assignment1-experiment/sweeps/hfa2u67m' target=\"_blank\">https://wandb.ai/cs24s031-indian-institute-of-technology-madras/dl-assignment1-experiment/sweeps/hfa2u67m</a>"
      ],
      "text/plain": [
       "<IPython.core.display.HTML object>"
      ]
     },
     "metadata": {},
     "output_type": "display_data"
    },
    {
     "data": {
      "text/html": [
       " View run at <a href='https://wandb.ai/cs24s031-indian-institute-of-technology-madras/dl-assignment1-experiment/runs/attst9h6' target=\"_blank\">https://wandb.ai/cs24s031-indian-institute-of-technology-madras/dl-assignment1-experiment/runs/attst9h6</a>"
      ],
      "text/plain": [
       "<IPython.core.display.HTML object>"
      ]
     },
     "metadata": {},
     "output_type": "display_data"
    },
    {
     "name": "stdout",
     "output_type": "stream",
     "text": [
      "Starting training with run name: hl_5_bs_16_ac_ReLU\n",
      "Epoch 1/10 - Batch 3300/3375 - train-loss: 0.592223 train-acc: 0.937500 test-loss:0.498950 test-acc : 0.829500 \n",
      "Epoch 2/10 - Batch 3300/3375 - train-loss: 0.647355 train-acc: 0.875000 test-loss:0.438386 test-acc : 0.844667 \n",
      "Epoch 3/10 - Batch 3300/3375 - train-loss: 0.562370 train-acc: 0.875000 test-loss:0.418009 test-acc : 0.859333 \n",
      "Epoch 4/10 - Batch 3300/3375 - train-loss: 0.521839 train-acc: 0.875000 test-loss:0.417532 test-acc : 0.860667 \n",
      "Epoch 5/10 - Batch 3300/3375 - train-loss: 0.492961 train-acc: 0.812500 test-loss:0.416052 test-acc : 0.866000 \n",
      "Epoch 6/10 - Batch 3300/3375 - train-loss: 0.469559 train-acc: 0.812500 test-loss:0.419047 test-acc : 0.863167 \n",
      "Epoch 7/10 - Batch 3300/3375 - train-loss: 0.479510 train-acc: 0.937500 test-loss:0.442405 test-acc : 0.860500 \n",
      "Epoch 8/10 - Batch 3300/3375 - train-loss: 0.464191 train-acc: 0.937500 test-loss:0.451273 test-acc : 0.861667 \n",
      "Epoch 9/10 - Batch 3300/3375 - train-loss: 0.334293 train-acc: 0.937500 test-loss:0.461801 test-acc : 0.862667 \n",
      "Epoch 10/10 - Batch 3300/3375 - train-loss: 0.367207 train-acc: 0.937500 test-loss:0.499038 test-acc : 0.856333 \n"
     ]
    },
    {
     "data": {
      "text/html": [],
      "text/plain": [
       "<IPython.core.display.HTML object>"
      ]
     },
     "metadata": {},
     "output_type": "display_data"
    },
    {
     "data": {
      "text/html": [
       "<br>    <style><br>        .wandb-row {<br>            display: flex;<br>            flex-direction: row;<br>            flex-wrap: wrap;<br>            justify-content: flex-start;<br>            width: 100%;<br>        }<br>        .wandb-col {<br>            display: flex;<br>            flex-direction: column;<br>            flex-basis: 100%;<br>            flex: 1;<br>            padding: 10px;<br>        }<br>    </style><br><div class=\"wandb-row\"><div class=\"wandb-col\"><h3>Run history:</h3><br/><table class=\"wandb\"><tr><td>train_acc</td><td>▁▆█▆▆▅▅▆▆██▆█▆██▆██▃█▆██▆▆█▆▅▆██▆███▃█▃▅</td></tr><tr><td>train_loss</td><td>▂▇▆▄▄▂▂▂▄█▄█▁▂▁▃▃▃▄▃▁▃▃▁▃▇▁▄▂▄▁▆▅▂▁▃▃▁▄▃</td></tr><tr><td>val_acc</td><td>▁▂▅▅▅▇▆▇▇▇▇▇▇▇▇▇▇▇▇▇▇█▇██▇▇█▇██▇█▇▇█████</td></tr><tr><td>val_loss</td><td>█▇▃▃▂▂▃▂▂▂▁▁▁▂▁▁▁▁▁▁▁▁▁▁▂▂▁▁▂▂▁▁▁▁▁▁▁▂▂▂</td></tr></table><br/></div><div class=\"wandb-col\"><h3>Run summary:</h3><br/><table class=\"wandb\"><tr><td>train_acc</td><td>0.9375</td></tr><tr><td>train_loss</td><td>0.36721</td></tr><tr><td>val_acc</td><td>0.85633</td></tr><tr><td>val_loss</td><td>0.49904</td></tr></table><br/></div></div>"
      ],
      "text/plain": [
       "<IPython.core.display.HTML object>"
      ]
     },
     "metadata": {},
     "output_type": "display_data"
    },
    {
     "data": {
      "text/html": [
       " View run <strong style=\"color:#cdcd00\">hl_5_bs_16_ac_ReLU</strong> at: <a href='https://wandb.ai/cs24s031-indian-institute-of-technology-madras/dl-assignment1-experiment/runs/attst9h6' target=\"_blank\">https://wandb.ai/cs24s031-indian-institute-of-technology-madras/dl-assignment1-experiment/runs/attst9h6</a><br> View project at: <a href='https://wandb.ai/cs24s031-indian-institute-of-technology-madras/dl-assignment1-experiment' target=\"_blank\">https://wandb.ai/cs24s031-indian-institute-of-technology-madras/dl-assignment1-experiment</a><br>Synced 5 W&B file(s), 0 media file(s), 0 artifact file(s) and 0 other file(s)"
      ],
      "text/plain": [
       "<IPython.core.display.HTML object>"
      ]
     },
     "metadata": {},
     "output_type": "display_data"
    },
    {
     "data": {
      "text/html": [
       "Find logs at: <code>./wandb/run-20250312_210623-attst9h6/logs</code>"
      ],
      "text/plain": [
       "<IPython.core.display.HTML object>"
      ]
     },
     "metadata": {},
     "output_type": "display_data"
    },
    {
     "name": "stderr",
     "output_type": "stream",
     "text": [
      "\u001b[34m\u001b[1mwandb\u001b[0m: Sweep Agent: Waiting for job.\n",
      "\u001b[34m\u001b[1mwandb\u001b[0m: Job received.\n",
      "\u001b[34m\u001b[1mwandb\u001b[0m: Agent Starting Run: 72aqeckn with config:\n",
      "\u001b[34m\u001b[1mwandb\u001b[0m: \tactivation_function: ReLU\n",
      "\u001b[34m\u001b[1mwandb\u001b[0m: \tbatch_size: 16\n",
      "\u001b[34m\u001b[1mwandb\u001b[0m: \tepochs: 10\n",
      "\u001b[34m\u001b[1mwandb\u001b[0m: \thidden_layer_size: 128\n",
      "\u001b[34m\u001b[1mwandb\u001b[0m: \tlearning_rate: 0.001\n",
      "\u001b[34m\u001b[1mwandb\u001b[0m: \tnum_of_hidden_layers: 5\n",
      "\u001b[34m\u001b[1mwandb\u001b[0m: \toptimizer: nadam\n",
      "\u001b[34m\u001b[1mwandb\u001b[0m: \tweight_decay: 0.5\n",
      "\u001b[34m\u001b[1mwandb\u001b[0m: \tweight_initialization: Xavier\n"
     ]
    },
    {
     "data": {
      "text/html": [
       "Ignoring project 'dl-assignment1-experiment' when running a sweep."
      ],
      "text/plain": [
       "<IPython.core.display.HTML object>"
      ]
     },
     "metadata": {},
     "output_type": "display_data"
    },
    {
     "data": {
      "text/html": [
       "Tracking run with wandb version 0.19.8"
      ],
      "text/plain": [
       "<IPython.core.display.HTML object>"
      ]
     },
     "metadata": {},
     "output_type": "display_data"
    },
    {
     "data": {
      "text/html": [
       "Run data is saved locally in <code>/home/user/Documents/DL/assignment/wandb/run-20250312_210727-72aqeckn</code>"
      ],
      "text/plain": [
       "<IPython.core.display.HTML object>"
      ]
     },
     "metadata": {},
     "output_type": "display_data"
    },
    {
     "data": {
      "text/html": [
       "Syncing run <strong><a href='https://wandb.ai/cs24s031-indian-institute-of-technology-madras/dl-assignment1-experiment/runs/72aqeckn' target=\"_blank\">ancient-sweep-43</a></strong> to <a href='https://wandb.ai/cs24s031-indian-institute-of-technology-madras/dl-assignment1-experiment' target=\"_blank\">Weights & Biases</a> (<a href='https://wandb.me/developer-guide' target=\"_blank\">docs</a>)<br>Sweep page: <a href='https://wandb.ai/cs24s031-indian-institute-of-technology-madras/dl-assignment1-experiment/sweeps/hfa2u67m' target=\"_blank\">https://wandb.ai/cs24s031-indian-institute-of-technology-madras/dl-assignment1-experiment/sweeps/hfa2u67m</a>"
      ],
      "text/plain": [
       "<IPython.core.display.HTML object>"
      ]
     },
     "metadata": {},
     "output_type": "display_data"
    },
    {
     "data": {
      "text/html": [
       " View project at <a href='https://wandb.ai/cs24s031-indian-institute-of-technology-madras/dl-assignment1-experiment' target=\"_blank\">https://wandb.ai/cs24s031-indian-institute-of-technology-madras/dl-assignment1-experiment</a>"
      ],
      "text/plain": [
       "<IPython.core.display.HTML object>"
      ]
     },
     "metadata": {},
     "output_type": "display_data"
    },
    {
     "data": {
      "text/html": [
       " View sweep at <a href='https://wandb.ai/cs24s031-indian-institute-of-technology-madras/dl-assignment1-experiment/sweeps/hfa2u67m' target=\"_blank\">https://wandb.ai/cs24s031-indian-institute-of-technology-madras/dl-assignment1-experiment/sweeps/hfa2u67m</a>"
      ],
      "text/plain": [
       "<IPython.core.display.HTML object>"
      ]
     },
     "metadata": {},
     "output_type": "display_data"
    },
    {
     "data": {
      "text/html": [
       " View run at <a href='https://wandb.ai/cs24s031-indian-institute-of-technology-madras/dl-assignment1-experiment/runs/72aqeckn' target=\"_blank\">https://wandb.ai/cs24s031-indian-institute-of-technology-madras/dl-assignment1-experiment/runs/72aqeckn</a>"
      ],
      "text/plain": [
       "<IPython.core.display.HTML object>"
      ]
     },
     "metadata": {},
     "output_type": "display_data"
    },
    {
     "name": "stdout",
     "output_type": "stream",
     "text": [
      "Starting training with run name: hl_5_bs_16_ac_ReLU\n",
      "Epoch 1/10 - Batch 3300/3375 - train-loss: 0.751342 train-acc: 0.812500 test-loss:0.664718 test-acc : 0.777833 \n",
      "Epoch 2/10 - Batch 3300/3375 - train-loss: 0.703027 train-acc: 0.750000 test-loss:0.639768 test-acc : 0.783000 \n",
      "Epoch 3/10 - Batch 3300/3375 - train-loss: 0.677467 train-acc: 0.750000 test-loss:0.621056 test-acc : 0.787667 \n",
      "Epoch 4/10 - Batch 3300/3375 - train-loss: 0.680186 train-acc: 0.750000 test-loss:0.611985 test-acc : 0.792500 \n",
      "Epoch 5/10 - Batch 3300/3375 - train-loss: 0.676035 train-acc: 0.750000 test-loss:0.607471 test-acc : 0.793167 \n",
      "Epoch 6/10 - Batch 3300/3375 - train-loss: 0.670626 train-acc: 0.750000 test-loss:0.606745 test-acc : 0.793500 \n",
      "Epoch 7/10 - Batch 3300/3375 - train-loss: 0.657097 train-acc: 0.750000 test-loss:0.606370 test-acc : 0.793000 \n",
      "Epoch 8/10 - Batch 3300/3375 - train-loss: 0.649018 train-acc: 0.750000 test-loss:0.604106 test-acc : 0.794000 \n",
      "Epoch 9/10 - Batch 3300/3375 - train-loss: 0.648955 train-acc: 0.750000 test-loss:0.606076 test-acc : 0.793667 \n",
      "Epoch 10/10 - Batch 3300/3375 - train-loss: 0.647138 train-acc: 0.750000 test-loss:0.604011 test-acc : 0.794167 \n"
     ]
    },
    {
     "data": {
      "text/html": [],
      "text/plain": [
       "<IPython.core.display.HTML object>"
      ]
     },
     "metadata": {},
     "output_type": "display_data"
    },
    {
     "data": {
      "text/html": [
       "<br>    <style><br>        .wandb-row {<br>            display: flex;<br>            flex-direction: row;<br>            flex-wrap: wrap;<br>            justify-content: flex-start;<br>            width: 100%;<br>        }<br>        .wandb-col {<br>            display: flex;<br>            flex-direction: column;<br>            flex-basis: 100%;<br>            flex: 1;<br>            padding: 10px;<br>        }<br>    </style><br><div class=\"wandb-row\"><div class=\"wandb-col\"><h3>Run history:</h3><br/><table class=\"wandb\"><tr><td>train_acc</td><td>▆▇▁▆▇▄▅▅█▅▃▅▄▁▅▇▇█▇▆▄▂▅▅█▅▅▆▅▄▅▅▇▅▄▇▂▇▅▅</td></tr><tr><td>train_loss</td><td>▃▃▅▄▇▄▇▄▂▃▄▇▃▅█▅▁▆▃▅▆▃▁▂▅▅▇▅▁▂█▂▅▁▁▇▃▁▃▃</td></tr><tr><td>val_acc</td><td>█▆▁▅▇▃▅▇▇▇▆▆▆▆▇█▇▆▆▆▇█▇▇▆▄▆█▆▇▆█▇█▇▇▇██▇</td></tr><tr><td>val_loss</td><td>▅▃▄█▃▄▂▂▃▂▃▂▃▂▂▂▁▁▂▁▁▃▁▂▂▂▃▁▂▄▂▁▃▂▂▂▁▁▁▂</td></tr></table><br/></div><div class=\"wandb-col\"><h3>Run summary:</h3><br/><table class=\"wandb\"><tr><td>train_acc</td><td>0.75</td></tr><tr><td>train_loss</td><td>0.64714</td></tr><tr><td>val_acc</td><td>0.79417</td></tr><tr><td>val_loss</td><td>0.60401</td></tr></table><br/></div></div>"
      ],
      "text/plain": [
       "<IPython.core.display.HTML object>"
      ]
     },
     "metadata": {},
     "output_type": "display_data"
    },
    {
     "data": {
      "text/html": [
       " View run <strong style=\"color:#cdcd00\">hl_5_bs_16_ac_ReLU</strong> at: <a href='https://wandb.ai/cs24s031-indian-institute-of-technology-madras/dl-assignment1-experiment/runs/72aqeckn' target=\"_blank\">https://wandb.ai/cs24s031-indian-institute-of-technology-madras/dl-assignment1-experiment/runs/72aqeckn</a><br> View project at: <a href='https://wandb.ai/cs24s031-indian-institute-of-technology-madras/dl-assignment1-experiment' target=\"_blank\">https://wandb.ai/cs24s031-indian-institute-of-technology-madras/dl-assignment1-experiment</a><br>Synced 5 W&B file(s), 0 media file(s), 0 artifact file(s) and 0 other file(s)"
      ],
      "text/plain": [
       "<IPython.core.display.HTML object>"
      ]
     },
     "metadata": {},
     "output_type": "display_data"
    },
    {
     "data": {
      "text/html": [
       "Find logs at: <code>./wandb/run-20250312_210727-72aqeckn/logs</code>"
      ],
      "text/plain": [
       "<IPython.core.display.HTML object>"
      ]
     },
     "metadata": {},
     "output_type": "display_data"
    },
    {
     "name": "stderr",
     "output_type": "stream",
     "text": [
      "\u001b[34m\u001b[1mwandb\u001b[0m: Agent Starting Run: lyx5cekf with config:\n",
      "\u001b[34m\u001b[1mwandb\u001b[0m: \tactivation_function: ReLU\n",
      "\u001b[34m\u001b[1mwandb\u001b[0m: \tbatch_size: 64\n",
      "\u001b[34m\u001b[1mwandb\u001b[0m: \tepochs: 10\n",
      "\u001b[34m\u001b[1mwandb\u001b[0m: \thidden_layer_size: 128\n",
      "\u001b[34m\u001b[1mwandb\u001b[0m: \tlearning_rate: 0.0001\n",
      "\u001b[34m\u001b[1mwandb\u001b[0m: \tnum_of_hidden_layers: 4\n",
      "\u001b[34m\u001b[1mwandb\u001b[0m: \toptimizer: momentum\n",
      "\u001b[34m\u001b[1mwandb\u001b[0m: \tweight_decay: 0\n",
      "\u001b[34m\u001b[1mwandb\u001b[0m: \tweight_initialization: Xavier\n"
     ]
    },
    {
     "data": {
      "text/html": [
       "Ignoring project 'dl-assignment1-experiment' when running a sweep."
      ],
      "text/plain": [
       "<IPython.core.display.HTML object>"
      ]
     },
     "metadata": {},
     "output_type": "display_data"
    },
    {
     "data": {
      "text/html": [
       "Tracking run with wandb version 0.19.8"
      ],
      "text/plain": [
       "<IPython.core.display.HTML object>"
      ]
     },
     "metadata": {},
     "output_type": "display_data"
    },
    {
     "data": {
      "text/html": [
       "Run data is saved locally in <code>/home/user/Documents/DL/assignment/wandb/run-20250312_211708-lyx5cekf</code>"
      ],
      "text/plain": [
       "<IPython.core.display.HTML object>"
      ]
     },
     "metadata": {},
     "output_type": "display_data"
    },
    {
     "data": {
      "text/html": [
       "Syncing run <strong><a href='https://wandb.ai/cs24s031-indian-institute-of-technology-madras/dl-assignment1-experiment/runs/lyx5cekf' target=\"_blank\">ethereal-sweep-44</a></strong> to <a href='https://wandb.ai/cs24s031-indian-institute-of-technology-madras/dl-assignment1-experiment' target=\"_blank\">Weights & Biases</a> (<a href='https://wandb.me/developer-guide' target=\"_blank\">docs</a>)<br>Sweep page: <a href='https://wandb.ai/cs24s031-indian-institute-of-technology-madras/dl-assignment1-experiment/sweeps/hfa2u67m' target=\"_blank\">https://wandb.ai/cs24s031-indian-institute-of-technology-madras/dl-assignment1-experiment/sweeps/hfa2u67m</a>"
      ],
      "text/plain": [
       "<IPython.core.display.HTML object>"
      ]
     },
     "metadata": {},
     "output_type": "display_data"
    },
    {
     "data": {
      "text/html": [
       " View project at <a href='https://wandb.ai/cs24s031-indian-institute-of-technology-madras/dl-assignment1-experiment' target=\"_blank\">https://wandb.ai/cs24s031-indian-institute-of-technology-madras/dl-assignment1-experiment</a>"
      ],
      "text/plain": [
       "<IPython.core.display.HTML object>"
      ]
     },
     "metadata": {},
     "output_type": "display_data"
    },
    {
     "data": {
      "text/html": [
       " View sweep at <a href='https://wandb.ai/cs24s031-indian-institute-of-technology-madras/dl-assignment1-experiment/sweeps/hfa2u67m' target=\"_blank\">https://wandb.ai/cs24s031-indian-institute-of-technology-madras/dl-assignment1-experiment/sweeps/hfa2u67m</a>"
      ],
      "text/plain": [
       "<IPython.core.display.HTML object>"
      ]
     },
     "metadata": {},
     "output_type": "display_data"
    },
    {
     "data": {
      "text/html": [
       " View run at <a href='https://wandb.ai/cs24s031-indian-institute-of-technology-madras/dl-assignment1-experiment/runs/lyx5cekf' target=\"_blank\">https://wandb.ai/cs24s031-indian-institute-of-technology-madras/dl-assignment1-experiment/runs/lyx5cekf</a>"
      ],
      "text/plain": [
       "<IPython.core.display.HTML object>"
      ]
     },
     "metadata": {},
     "output_type": "display_data"
    },
    {
     "name": "stdout",
     "output_type": "stream",
     "text": [
      "Starting training with run name: hl_4_bs_64_ac_ReLU\n",
      "Epoch 1/10 - Batch 800/843 - train-loss: 0.479883 train-acc: 0.812500 test-loss:0.508152 test-acc : 0.817833 \n",
      "Epoch 2/10 - Batch 800/843 - train-loss: 0.383099 train-acc: 0.875000 test-loss:0.450214 test-acc : 0.838500 \n",
      "Epoch 3/10 - Batch 800/843 - train-loss: 0.367412 train-acc: 0.859375 test-loss:0.423411 test-acc : 0.848500 \n",
      "Epoch 4/10 - Batch 800/843 - train-loss: 0.344948 train-acc: 0.875000 test-loss:0.409240 test-acc : 0.853500 \n",
      "Epoch 5/10 - Batch 800/843 - train-loss: 0.335872 train-acc: 0.859375 test-loss:0.397517 test-acc : 0.855000 \n",
      "Epoch 6/10 - Batch 800/843 - train-loss: 0.323108 train-acc: 0.875000 test-loss:0.389901 test-acc : 0.857000 \n",
      "Epoch 7/10 - Batch 800/843 - train-loss: 0.316115 train-acc: 0.843750 test-loss:0.384856 test-acc : 0.860000 \n",
      "Epoch 8/10 - Batch 800/843 - train-loss: 0.316894 train-acc: 0.859375 test-loss:0.380778 test-acc : 0.862667 \n",
      "Epoch 9/10 - Batch 800/843 - train-loss: 0.312371 train-acc: 0.859375 test-loss:0.376003 test-acc : 0.864167 \n",
      "Epoch 10/10 - Batch 800/843 - train-loss: 0.308765 train-acc: 0.843750 test-loss:0.371625 test-acc : 0.865000 \n"
     ]
    },
    {
     "data": {
      "text/html": [],
      "text/plain": [
       "<IPython.core.display.HTML object>"
      ]
     },
     "metadata": {},
     "output_type": "display_data"
    },
    {
     "data": {
      "text/html": [
       "<br>    <style><br>        .wandb-row {<br>            display: flex;<br>            flex-direction: row;<br>            flex-wrap: wrap;<br>            justify-content: flex-start;<br>            width: 100%;<br>        }<br>        .wandb-col {<br>            display: flex;<br>            flex-direction: column;<br>            flex-basis: 100%;<br>            flex: 1;<br>            padding: 10px;<br>        }<br>    </style><br><div class=\"wandb-row\"><div class=\"wandb-col\"><h3>Run history:</h3><br/><table class=\"wandb\"><tr><td>train_acc</td><td>▃▁▆▅▆▅▆▆▆▆▄▇█▆▇▅▇▅█▆▄▅▇█▆▄▅▅▇▄▅█▆▇▄▆▅▆▅▅</td></tr><tr><td>train_loss</td><td>▇▇██▄▅▅▄▂▃▂▃▆▅▂▅▄▃▂▅▃▁▃▂▃▅▄▃▁▂▂▃▂▂▄▁▃▂▅▁</td></tr><tr><td>val_acc</td><td>▁▃▃▅▅▅▆▆▇▇▇▇▇▇▇▇▇▇▇▇▇▇██████▇████▇██████</td></tr><tr><td>val_loss</td><td>█▇▆▅▅▄▃▃▃▃▃▃▂▃▂▃▂▂▂▂▂▂▂▁▂▂▂▁▂▁▂▂▁▁▂▁▁▁▂▂</td></tr></table><br/></div><div class=\"wandb-col\"><h3>Run summary:</h3><br/><table class=\"wandb\"><tr><td>train_acc</td><td>0.84375</td></tr><tr><td>train_loss</td><td>0.30877</td></tr><tr><td>val_acc</td><td>0.865</td></tr><tr><td>val_loss</td><td>0.37162</td></tr></table><br/></div></div>"
      ],
      "text/plain": [
       "<IPython.core.display.HTML object>"
      ]
     },
     "metadata": {},
     "output_type": "display_data"
    },
    {
     "data": {
      "text/html": [
       " View run <strong style=\"color:#cdcd00\">hl_4_bs_64_ac_ReLU</strong> at: <a href='https://wandb.ai/cs24s031-indian-institute-of-technology-madras/dl-assignment1-experiment/runs/lyx5cekf' target=\"_blank\">https://wandb.ai/cs24s031-indian-institute-of-technology-madras/dl-assignment1-experiment/runs/lyx5cekf</a><br> View project at: <a href='https://wandb.ai/cs24s031-indian-institute-of-technology-madras/dl-assignment1-experiment' target=\"_blank\">https://wandb.ai/cs24s031-indian-institute-of-technology-madras/dl-assignment1-experiment</a><br>Synced 5 W&B file(s), 0 media file(s), 0 artifact file(s) and 0 other file(s)"
      ],
      "text/plain": [
       "<IPython.core.display.HTML object>"
      ]
     },
     "metadata": {},
     "output_type": "display_data"
    },
    {
     "data": {
      "text/html": [
       "Find logs at: <code>./wandb/run-20250312_211708-lyx5cekf/logs</code>"
      ],
      "text/plain": [
       "<IPython.core.display.HTML object>"
      ]
     },
     "metadata": {},
     "output_type": "display_data"
    },
    {
     "name": "stderr",
     "output_type": "stream",
     "text": [
      "\u001b[34m\u001b[1mwandb\u001b[0m: Agent Starting Run: p6t475he with config:\n",
      "\u001b[34m\u001b[1mwandb\u001b[0m: \tactivation_function: ReLU\n",
      "\u001b[34m\u001b[1mwandb\u001b[0m: \tbatch_size: 32\n",
      "\u001b[34m\u001b[1mwandb\u001b[0m: \tepochs: 5\n",
      "\u001b[34m\u001b[1mwandb\u001b[0m: \thidden_layer_size: 128\n",
      "\u001b[34m\u001b[1mwandb\u001b[0m: \tlearning_rate: 0.001\n",
      "\u001b[34m\u001b[1mwandb\u001b[0m: \tnum_of_hidden_layers: 5\n",
      "\u001b[34m\u001b[1mwandb\u001b[0m: \toptimizer: nadam\n",
      "\u001b[34m\u001b[1mwandb\u001b[0m: \tweight_decay: 0\n",
      "\u001b[34m\u001b[1mwandb\u001b[0m: \tweight_initialization: Xavier\n"
     ]
    },
    {
     "data": {
      "text/html": [
       "Ignoring project 'dl-assignment1-experiment' when running a sweep."
      ],
      "text/plain": [
       "<IPython.core.display.HTML object>"
      ]
     },
     "metadata": {},
     "output_type": "display_data"
    },
    {
     "data": {
      "text/html": [
       "Tracking run with wandb version 0.19.8"
      ],
      "text/plain": [
       "<IPython.core.display.HTML object>"
      ]
     },
     "metadata": {},
     "output_type": "display_data"
    },
    {
     "data": {
      "text/html": [
       "Run data is saved locally in <code>/home/user/Documents/DL/assignment/wandb/run-20250312_211730-p6t475he</code>"
      ],
      "text/plain": [
       "<IPython.core.display.HTML object>"
      ]
     },
     "metadata": {},
     "output_type": "display_data"
    },
    {
     "data": {
      "text/html": [
       "Syncing run <strong><a href='https://wandb.ai/cs24s031-indian-institute-of-technology-madras/dl-assignment1-experiment/runs/p6t475he' target=\"_blank\">whole-sweep-45</a></strong> to <a href='https://wandb.ai/cs24s031-indian-institute-of-technology-madras/dl-assignment1-experiment' target=\"_blank\">Weights & Biases</a> (<a href='https://wandb.me/developer-guide' target=\"_blank\">docs</a>)<br>Sweep page: <a href='https://wandb.ai/cs24s031-indian-institute-of-technology-madras/dl-assignment1-experiment/sweeps/hfa2u67m' target=\"_blank\">https://wandb.ai/cs24s031-indian-institute-of-technology-madras/dl-assignment1-experiment/sweeps/hfa2u67m</a>"
      ],
      "text/plain": [
       "<IPython.core.display.HTML object>"
      ]
     },
     "metadata": {},
     "output_type": "display_data"
    },
    {
     "data": {
      "text/html": [
       " View project at <a href='https://wandb.ai/cs24s031-indian-institute-of-technology-madras/dl-assignment1-experiment' target=\"_blank\">https://wandb.ai/cs24s031-indian-institute-of-technology-madras/dl-assignment1-experiment</a>"
      ],
      "text/plain": [
       "<IPython.core.display.HTML object>"
      ]
     },
     "metadata": {},
     "output_type": "display_data"
    },
    {
     "data": {
      "text/html": [
       " View sweep at <a href='https://wandb.ai/cs24s031-indian-institute-of-technology-madras/dl-assignment1-experiment/sweeps/hfa2u67m' target=\"_blank\">https://wandb.ai/cs24s031-indian-institute-of-technology-madras/dl-assignment1-experiment/sweeps/hfa2u67m</a>"
      ],
      "text/plain": [
       "<IPython.core.display.HTML object>"
      ]
     },
     "metadata": {},
     "output_type": "display_data"
    },
    {
     "data": {
      "text/html": [
       " View run at <a href='https://wandb.ai/cs24s031-indian-institute-of-technology-madras/dl-assignment1-experiment/runs/p6t475he' target=\"_blank\">https://wandb.ai/cs24s031-indian-institute-of-technology-madras/dl-assignment1-experiment/runs/p6t475he</a>"
      ],
      "text/plain": [
       "<IPython.core.display.HTML object>"
      ]
     },
     "metadata": {},
     "output_type": "display_data"
    },
    {
     "name": "stdout",
     "output_type": "stream",
     "text": [
      "Starting training with run name: hl_5_bs_32_ac_ReLU\n",
      "Epoch 1/5 - Batch 1600/1687 - train-loss: 0.528863 train-acc: 0.781250 test-loss:0.413693 test-acc : 0.849667 \n",
      "Epoch 2/5 - Batch 1600/1687 - train-loss: 0.492435 train-acc: 0.781250 test-loss:0.362282 test-acc : 0.865833 \n",
      "Epoch 3/5 - Batch 1600/1687 - train-loss: 0.337495 train-acc: 0.906250 test-loss:0.352361 test-acc : 0.876500 \n",
      "Epoch 4/5 - Batch 1600/1687 - train-loss: 0.333489 train-acc: 0.875000 test-loss:0.349628 test-acc : 0.878833 \n",
      "Epoch 5/5 - Batch 1600/1687 - train-loss: 0.353691 train-acc: 0.906250 test-loss:0.342601 test-acc : 0.878667 \n"
     ]
    },
    {
     "data": {
      "text/html": [],
      "text/plain": [
       "<IPython.core.display.HTML object>"
      ]
     },
     "metadata": {},
     "output_type": "display_data"
    },
    {
     "data": {
      "text/html": [
       "<br>    <style><br>        .wandb-row {<br>            display: flex;<br>            flex-direction: row;<br>            flex-wrap: wrap;<br>            justify-content: flex-start;<br>            width: 100%;<br>        }<br>        .wandb-col {<br>            display: flex;<br>            flex-direction: column;<br>            flex-basis: 100%;<br>            flex: 1;<br>            padding: 10px;<br>        }<br>    </style><br><div class=\"wandb-row\"><div class=\"wandb-col\"><h3>Run history:</h3><br/><table class=\"wandb\"><tr><td>train_acc</td><td>▇▁▅▃▄▅▆▂▇▆▆▅▃▆▃▅█▇▆▇▇▄▂▆▇▆█▅▅▅▅▂▅▅▆▅▅▆▅█</td></tr><tr><td>train_loss</td><td>▄█▅▆█▃▅▁▅▅█▄▅▃▅▄▃▅▅▂▄▃▃▄▁▅▅▄▄▂▄▃▁▅▅▃▄▆▃▄</td></tr><tr><td>val_acc</td><td>▁▄▅▅▆▆▆▆▆▆▆▇▇▇▇▇▇▇▇▇▇▆▇▇██▇▇▆▇▇▇███▇█▇██</td></tr><tr><td>val_loss</td><td>█▇▅▅▄▃▄▄▃▂▃▃▂▂▂▂▂▂▂▁▂▂▁▂▃▁▁▂▂▁▂▁▁▁▁▁▂▁▂▁</td></tr></table><br/></div><div class=\"wandb-col\"><h3>Run summary:</h3><br/><table class=\"wandb\"><tr><td>train_acc</td><td>0.90625</td></tr><tr><td>train_loss</td><td>0.35369</td></tr><tr><td>val_acc</td><td>0.87867</td></tr><tr><td>val_loss</td><td>0.3426</td></tr></table><br/></div></div>"
      ],
      "text/plain": [
       "<IPython.core.display.HTML object>"
      ]
     },
     "metadata": {},
     "output_type": "display_data"
    },
    {
     "data": {
      "text/html": [
       " View run <strong style=\"color:#cdcd00\">hl_5_bs_32_ac_ReLU</strong> at: <a href='https://wandb.ai/cs24s031-indian-institute-of-technology-madras/dl-assignment1-experiment/runs/p6t475he' target=\"_blank\">https://wandb.ai/cs24s031-indian-institute-of-technology-madras/dl-assignment1-experiment/runs/p6t475he</a><br> View project at: <a href='https://wandb.ai/cs24s031-indian-institute-of-technology-madras/dl-assignment1-experiment' target=\"_blank\">https://wandb.ai/cs24s031-indian-institute-of-technology-madras/dl-assignment1-experiment</a><br>Synced 5 W&B file(s), 0 media file(s), 0 artifact file(s) and 0 other file(s)"
      ],
      "text/plain": [
       "<IPython.core.display.HTML object>"
      ]
     },
     "metadata": {},
     "output_type": "display_data"
    },
    {
     "data": {
      "text/html": [
       "Find logs at: <code>./wandb/run-20250312_211730-p6t475he/logs</code>"
      ],
      "text/plain": [
       "<IPython.core.display.HTML object>"
      ]
     },
     "metadata": {},
     "output_type": "display_data"
    },
    {
     "name": "stderr",
     "output_type": "stream",
     "text": [
      "\u001b[34m\u001b[1mwandb\u001b[0m: Agent Starting Run: 5zct9wbl with config:\n",
      "\u001b[34m\u001b[1mwandb\u001b[0m: \tactivation_function: ReLU\n",
      "\u001b[34m\u001b[1mwandb\u001b[0m: \tbatch_size: 32\n",
      "\u001b[34m\u001b[1mwandb\u001b[0m: \tepochs: 10\n",
      "\u001b[34m\u001b[1mwandb\u001b[0m: \thidden_layer_size: 128\n",
      "\u001b[34m\u001b[1mwandb\u001b[0m: \tlearning_rate: 0.001\n",
      "\u001b[34m\u001b[1mwandb\u001b[0m: \tnum_of_hidden_layers: 5\n",
      "\u001b[34m\u001b[1mwandb\u001b[0m: \toptimizer: RMSprop\n",
      "\u001b[34m\u001b[1mwandb\u001b[0m: \tweight_decay: 0\n",
      "\u001b[34m\u001b[1mwandb\u001b[0m: \tweight_initialization: Xavier\n"
     ]
    },
    {
     "data": {
      "text/html": [
       "Ignoring project 'dl-assignment1-experiment' when running a sweep."
      ],
      "text/plain": [
       "<IPython.core.display.HTML object>"
      ]
     },
     "metadata": {},
     "output_type": "display_data"
    },
    {
     "data": {
      "text/html": [
       "Tracking run with wandb version 0.19.8"
      ],
      "text/plain": [
       "<IPython.core.display.HTML object>"
      ]
     },
     "metadata": {},
     "output_type": "display_data"
    },
    {
     "data": {
      "text/html": [
       "Run data is saved locally in <code>/home/user/Documents/DL/assignment/wandb/run-20250312_211807-5zct9wbl</code>"
      ],
      "text/plain": [
       "<IPython.core.display.HTML object>"
      ]
     },
     "metadata": {},
     "output_type": "display_data"
    },
    {
     "data": {
      "text/html": [
       "Syncing run <strong><a href='https://wandb.ai/cs24s031-indian-institute-of-technology-madras/dl-assignment1-experiment/runs/5zct9wbl' target=\"_blank\">likely-sweep-46</a></strong> to <a href='https://wandb.ai/cs24s031-indian-institute-of-technology-madras/dl-assignment1-experiment' target=\"_blank\">Weights & Biases</a> (<a href='https://wandb.me/developer-guide' target=\"_blank\">docs</a>)<br>Sweep page: <a href='https://wandb.ai/cs24s031-indian-institute-of-technology-madras/dl-assignment1-experiment/sweeps/hfa2u67m' target=\"_blank\">https://wandb.ai/cs24s031-indian-institute-of-technology-madras/dl-assignment1-experiment/sweeps/hfa2u67m</a>"
      ],
      "text/plain": [
       "<IPython.core.display.HTML object>"
      ]
     },
     "metadata": {},
     "output_type": "display_data"
    },
    {
     "data": {
      "text/html": [
       " View project at <a href='https://wandb.ai/cs24s031-indian-institute-of-technology-madras/dl-assignment1-experiment' target=\"_blank\">https://wandb.ai/cs24s031-indian-institute-of-technology-madras/dl-assignment1-experiment</a>"
      ],
      "text/plain": [
       "<IPython.core.display.HTML object>"
      ]
     },
     "metadata": {},
     "output_type": "display_data"
    },
    {
     "data": {
      "text/html": [
       " View sweep at <a href='https://wandb.ai/cs24s031-indian-institute-of-technology-madras/dl-assignment1-experiment/sweeps/hfa2u67m' target=\"_blank\">https://wandb.ai/cs24s031-indian-institute-of-technology-madras/dl-assignment1-experiment/sweeps/hfa2u67m</a>"
      ],
      "text/plain": [
       "<IPython.core.display.HTML object>"
      ]
     },
     "metadata": {},
     "output_type": "display_data"
    },
    {
     "data": {
      "text/html": [
       " View run at <a href='https://wandb.ai/cs24s031-indian-institute-of-technology-madras/dl-assignment1-experiment/runs/5zct9wbl' target=\"_blank\">https://wandb.ai/cs24s031-indian-institute-of-technology-madras/dl-assignment1-experiment/runs/5zct9wbl</a>"
      ],
      "text/plain": [
       "<IPython.core.display.HTML object>"
      ]
     },
     "metadata": {},
     "output_type": "display_data"
    },
    {
     "name": "stdout",
     "output_type": "stream",
     "text": [
      "Starting training with run name: hl_5_bs_32_ac_ReLU\n",
      "Epoch 1/10 - Batch 1600/1687 - train-loss: 0.733439 train-acc: 0.812500 test-loss:0.446368 test-acc : 0.846333 \n",
      "Epoch 2/10 - Batch 1600/1687 - train-loss: 0.762523 train-acc: 0.812500 test-loss:0.554798 test-acc : 0.837000 \n",
      "Epoch 3/10 - Batch 1600/1687 - train-loss: 0.792825 train-acc: 0.875000 test-loss:0.602717 test-acc : 0.831000 \n",
      "Epoch 4/10 - Batch 1600/1687 - train-loss: 0.522835 train-acc: 0.843750 test-loss:0.629505 test-acc : 0.831667 \n",
      "Epoch 5/10 - Batch 1600/1687 - train-loss: 0.788210 train-acc: 0.843750 test-loss:0.657997 test-acc : 0.822667 \n",
      "Epoch 6/10 - Batch 1600/1687 - train-loss: 0.811988 train-acc: 0.781250 test-loss:0.533914 test-acc : 0.836167 \n",
      "Epoch 7/10 - Batch 1600/1687 - train-loss: 0.584218 train-acc: 0.843750 test-loss:0.537721 test-acc : 0.866833 \n",
      "Epoch 8/10 - Batch 1600/1687 - train-loss: 0.509553 train-acc: 0.843750 test-loss:0.657025 test-acc : 0.838000 \n",
      "Epoch 9/10 - Batch 1600/1687 - train-loss: 0.664448 train-acc: 0.812500 test-loss:1.004613 test-acc : 0.825333 \n",
      "Epoch 10/10 - Batch 1600/1687 - train-loss: 0.642890 train-acc: 0.781250 test-loss:0.915966 test-acc : 0.826667 \n"
     ]
    },
    {
     "data": {
      "text/html": [],
      "text/plain": [
       "<IPython.core.display.HTML object>"
      ]
     },
     "metadata": {},
     "output_type": "display_data"
    },
    {
     "data": {
      "text/html": [
       "<br>    <style><br>        .wandb-row {<br>            display: flex;<br>            flex-direction: row;<br>            flex-wrap: wrap;<br>            justify-content: flex-start;<br>            width: 100%;<br>        }<br>        .wandb-col {<br>            display: flex;<br>            flex-direction: column;<br>            flex-basis: 100%;<br>            flex: 1;<br>            padding: 10px;<br>        }<br>    </style><br><div class=\"wandb-row\"><div class=\"wandb-col\"><h3>Run history:</h3><br/><table class=\"wandb\"><tr><td>train_acc</td><td>▆▃▄▅▅▆▇▇▇▅▂▆▅▅▅▅▅█▅▆▄▅▄▅▇▅▁▅▅▇▆▅█▂▅▅▅█▂▅</td></tr><tr><td>train_loss</td><td>▄▂▃▃▃▂▂▁▂▃▃▂▂▂▃▃▂▂▃▃▂▄█▂▁▁▃▆▄▂▂▁▇▁▄▄▁▃▂▃</td></tr><tr><td>val_acc</td><td>▁▂▅▆▇▅▇▇▆▅▄▆▆▇█▆▇█▅▆▆▄▅▇█▆▄█▆█▂█▇▃▂▃▃▃▆█</td></tr><tr><td>val_loss</td><td>▃▃▃▂▁▂▂▂▂▃▃▂▂▂▄▃▂▂▂▂▃▄▄▄▃██▃▄▄▂▃▂▂▄▄█▄▃▄</td></tr></table><br/></div><div class=\"wandb-col\"><h3>Run summary:</h3><br/><table class=\"wandb\"><tr><td>train_acc</td><td>0.78125</td></tr><tr><td>train_loss</td><td>0.64289</td></tr><tr><td>val_acc</td><td>0.82667</td></tr><tr><td>val_loss</td><td>0.91597</td></tr></table><br/></div></div>"
      ],
      "text/plain": [
       "<IPython.core.display.HTML object>"
      ]
     },
     "metadata": {},
     "output_type": "display_data"
    },
    {
     "data": {
      "text/html": [
       " View run <strong style=\"color:#cdcd00\">hl_5_bs_32_ac_ReLU</strong> at: <a href='https://wandb.ai/cs24s031-indian-institute-of-technology-madras/dl-assignment1-experiment/runs/5zct9wbl' target=\"_blank\">https://wandb.ai/cs24s031-indian-institute-of-technology-madras/dl-assignment1-experiment/runs/5zct9wbl</a><br> View project at: <a href='https://wandb.ai/cs24s031-indian-institute-of-technology-madras/dl-assignment1-experiment' target=\"_blank\">https://wandb.ai/cs24s031-indian-institute-of-technology-madras/dl-assignment1-experiment</a><br>Synced 5 W&B file(s), 0 media file(s), 0 artifact file(s) and 0 other file(s)"
      ],
      "text/plain": [
       "<IPython.core.display.HTML object>"
      ]
     },
     "metadata": {},
     "output_type": "display_data"
    },
    {
     "data": {
      "text/html": [
       "Find logs at: <code>./wandb/run-20250312_211807-5zct9wbl/logs</code>"
      ],
      "text/plain": [
       "<IPython.core.display.HTML object>"
      ]
     },
     "metadata": {},
     "output_type": "display_data"
    },
    {
     "name": "stderr",
     "output_type": "stream",
     "text": [
      "\u001b[34m\u001b[1mwandb\u001b[0m: Agent Starting Run: g7hz8mux with config:\n",
      "\u001b[34m\u001b[1mwandb\u001b[0m: \tactivation_function: ReLU\n",
      "\u001b[34m\u001b[1mwandb\u001b[0m: \tbatch_size: 32\n",
      "\u001b[34m\u001b[1mwandb\u001b[0m: \tepochs: 10\n",
      "\u001b[34m\u001b[1mwandb\u001b[0m: \thidden_layer_size: 128\n",
      "\u001b[34m\u001b[1mwandb\u001b[0m: \tlearning_rate: 0.001\n",
      "\u001b[34m\u001b[1mwandb\u001b[0m: \tnum_of_hidden_layers: 5\n",
      "\u001b[34m\u001b[1mwandb\u001b[0m: \toptimizer: nadam\n",
      "\u001b[34m\u001b[1mwandb\u001b[0m: \tweight_decay: 0.0005\n",
      "\u001b[34m\u001b[1mwandb\u001b[0m: \tweight_initialization: Xavier\n"
     ]
    },
    {
     "data": {
      "text/html": [
       "Ignoring project 'dl-assignment1-experiment' when running a sweep."
      ],
      "text/plain": [
       "<IPython.core.display.HTML object>"
      ]
     },
     "metadata": {},
     "output_type": "display_data"
    },
    {
     "data": {
      "text/html": [
       "Tracking run with wandb version 0.19.8"
      ],
      "text/plain": [
       "<IPython.core.display.HTML object>"
      ]
     },
     "metadata": {},
     "output_type": "display_data"
    },
    {
     "data": {
      "text/html": [
       "Run data is saved locally in <code>/home/user/Documents/DL/assignment/wandb/run-20250312_211900-g7hz8mux</code>"
      ],
      "text/plain": [
       "<IPython.core.display.HTML object>"
      ]
     },
     "metadata": {},
     "output_type": "display_data"
    },
    {
     "data": {
      "text/html": [
       "Syncing run <strong><a href='https://wandb.ai/cs24s031-indian-institute-of-technology-madras/dl-assignment1-experiment/runs/g7hz8mux' target=\"_blank\">honest-sweep-47</a></strong> to <a href='https://wandb.ai/cs24s031-indian-institute-of-technology-madras/dl-assignment1-experiment' target=\"_blank\">Weights & Biases</a> (<a href='https://wandb.me/developer-guide' target=\"_blank\">docs</a>)<br>Sweep page: <a href='https://wandb.ai/cs24s031-indian-institute-of-technology-madras/dl-assignment1-experiment/sweeps/hfa2u67m' target=\"_blank\">https://wandb.ai/cs24s031-indian-institute-of-technology-madras/dl-assignment1-experiment/sweeps/hfa2u67m</a>"
      ],
      "text/plain": [
       "<IPython.core.display.HTML object>"
      ]
     },
     "metadata": {},
     "output_type": "display_data"
    },
    {
     "data": {
      "text/html": [
       " View project at <a href='https://wandb.ai/cs24s031-indian-institute-of-technology-madras/dl-assignment1-experiment' target=\"_blank\">https://wandb.ai/cs24s031-indian-institute-of-technology-madras/dl-assignment1-experiment</a>"
      ],
      "text/plain": [
       "<IPython.core.display.HTML object>"
      ]
     },
     "metadata": {},
     "output_type": "display_data"
    },
    {
     "data": {
      "text/html": [
       " View sweep at <a href='https://wandb.ai/cs24s031-indian-institute-of-technology-madras/dl-assignment1-experiment/sweeps/hfa2u67m' target=\"_blank\">https://wandb.ai/cs24s031-indian-institute-of-technology-madras/dl-assignment1-experiment/sweeps/hfa2u67m</a>"
      ],
      "text/plain": [
       "<IPython.core.display.HTML object>"
      ]
     },
     "metadata": {},
     "output_type": "display_data"
    },
    {
     "data": {
      "text/html": [
       " View run at <a href='https://wandb.ai/cs24s031-indian-institute-of-technology-madras/dl-assignment1-experiment/runs/g7hz8mux' target=\"_blank\">https://wandb.ai/cs24s031-indian-institute-of-technology-madras/dl-assignment1-experiment/runs/g7hz8mux</a>"
      ],
      "text/plain": [
       "<IPython.core.display.HTML object>"
      ]
     },
     "metadata": {},
     "output_type": "display_data"
    },
    {
     "name": "stdout",
     "output_type": "stream",
     "text": [
      "Starting training with run name: hl_5_bs_32_ac_ReLU\n",
      "Epoch 1/10 - Batch 1600/1687 - train-loss: 0.826099 train-acc: 0.750000 test-loss:0.428974 test-acc : 0.847167 \n",
      "Epoch 2/10 - Batch 1600/1687 - train-loss: 0.564152 train-acc: 0.750000 test-loss:0.391027 test-acc : 0.859500 \n",
      "Epoch 3/10 - Batch 1600/1687 - train-loss: 0.487730 train-acc: 0.875000 test-loss:0.369982 test-acc : 0.870667 \n",
      "Epoch 4/10 - Batch 1600/1687 - train-loss: 0.440671 train-acc: 0.781250 test-loss:0.395212 test-acc : 0.863000 \n",
      "Epoch 5/10 - Batch 1600/1687 - train-loss: 0.444301 train-acc: 0.812500 test-loss:0.346352 test-acc : 0.877167 \n",
      "Epoch 6/10 - Batch 1600/1687 - train-loss: 0.369337 train-acc: 0.843750 test-loss:0.363049 test-acc : 0.876667 \n",
      "Epoch 7/10 - Batch 1600/1687 - train-loss: 0.304605 train-acc: 0.906250 test-loss:0.369183 test-acc : 0.875000 \n",
      "Epoch 8/10 - Batch 1600/1687 - train-loss: 0.325551 train-acc: 0.875000 test-loss:0.345057 test-acc : 0.880833 \n",
      "Epoch 9/10 - Batch 1600/1687 - train-loss: 0.292723 train-acc: 0.906250 test-loss:0.343696 test-acc : 0.882833 \n",
      "Epoch 10/10 - Batch 1600/1687 - train-loss: 0.316152 train-acc: 0.906250 test-loss:0.383826 test-acc : 0.882167 \n"
     ]
    },
    {
     "data": {
      "text/html": [],
      "text/plain": [
       "<IPython.core.display.HTML object>"
      ]
     },
     "metadata": {},
     "output_type": "display_data"
    },
    {
     "data": {
      "text/html": [
       "<br>    <style><br>        .wandb-row {<br>            display: flex;<br>            flex-direction: row;<br>            flex-wrap: wrap;<br>            justify-content: flex-start;<br>            width: 100%;<br>        }<br>        .wandb-col {<br>            display: flex;<br>            flex-direction: column;<br>            flex-basis: 100%;<br>            flex: 1;<br>            padding: 10px;<br>        }<br>    </style><br><div class=\"wandb-row\"><div class=\"wandb-col\"><h3>Run history:</h3><br/><table class=\"wandb\"><tr><td>train_acc</td><td>▅▅▅▁▄▃▅▄▅▅▄▇▆▇▅▄▂▆▄▅▆█▆▇▃██▅▆▇▇▆▇▃▆▇▅▅▅█</td></tr><tr><td>train_loss</td><td>▅▇█▆▃▁▅▅▆▅▂▄▅▅▄▅▄▃▆▅▄▃▅▃▁▁▄▃▄▃▂▃▃▃▁▄▃▂▄▁</td></tr><tr><td>val_acc</td><td>▁▃▃▅▄▅▃▄▅▆▅▆▆▅▆▆▆▅▅▇▇▆▇▅▇▆▆▆▆▆▇█▅▇█▆▇▇▇▇</td></tr><tr><td>val_loss</td><td>█▇▆▅▄▄▄▃▃▃▃▂▄▂▃▂▃▂▄▂▁▃▃▂▃▂▃▁▂▁▂▂▂▂▁▃▁▂▂▁</td></tr></table><br/></div><div class=\"wandb-col\"><h3>Run summary:</h3><br/><table class=\"wandb\"><tr><td>train_acc</td><td>0.90625</td></tr><tr><td>train_loss</td><td>0.31615</td></tr><tr><td>val_acc</td><td>0.88217</td></tr><tr><td>val_loss</td><td>0.38383</td></tr></table><br/></div></div>"
      ],
      "text/plain": [
       "<IPython.core.display.HTML object>"
      ]
     },
     "metadata": {},
     "output_type": "display_data"
    },
    {
     "data": {
      "text/html": [
       " View run <strong style=\"color:#cdcd00\">hl_5_bs_32_ac_ReLU</strong> at: <a href='https://wandb.ai/cs24s031-indian-institute-of-technology-madras/dl-assignment1-experiment/runs/g7hz8mux' target=\"_blank\">https://wandb.ai/cs24s031-indian-institute-of-technology-madras/dl-assignment1-experiment/runs/g7hz8mux</a><br> View project at: <a href='https://wandb.ai/cs24s031-indian-institute-of-technology-madras/dl-assignment1-experiment' target=\"_blank\">https://wandb.ai/cs24s031-indian-institute-of-technology-madras/dl-assignment1-experiment</a><br>Synced 5 W&B file(s), 0 media file(s), 0 artifact file(s) and 0 other file(s)"
      ],
      "text/plain": [
       "<IPython.core.display.HTML object>"
      ]
     },
     "metadata": {},
     "output_type": "display_data"
    },
    {
     "data": {
      "text/html": [
       "Find logs at: <code>./wandb/run-20250312_211900-g7hz8mux/logs</code>"
      ],
      "text/plain": [
       "<IPython.core.display.HTML object>"
      ]
     },
     "metadata": {},
     "output_type": "display_data"
    },
    {
     "name": "stderr",
     "output_type": "stream",
     "text": [
      "\u001b[34m\u001b[1mwandb\u001b[0m: Agent Starting Run: 9d6dgtw4 with config:\n",
      "\u001b[34m\u001b[1mwandb\u001b[0m: \tactivation_function: ReLU\n",
      "\u001b[34m\u001b[1mwandb\u001b[0m: \tbatch_size: 32\n",
      "\u001b[34m\u001b[1mwandb\u001b[0m: \tepochs: 5\n",
      "\u001b[34m\u001b[1mwandb\u001b[0m: \thidden_layer_size: 128\n",
      "\u001b[34m\u001b[1mwandb\u001b[0m: \tlearning_rate: 0.001\n",
      "\u001b[34m\u001b[1mwandb\u001b[0m: \tnum_of_hidden_layers: 5\n",
      "\u001b[34m\u001b[1mwandb\u001b[0m: \toptimizer: nadam\n",
      "\u001b[34m\u001b[1mwandb\u001b[0m: \tweight_decay: 0\n",
      "\u001b[34m\u001b[1mwandb\u001b[0m: \tweight_initialization: Xavier\n"
     ]
    },
    {
     "data": {
      "text/html": [
       "Ignoring project 'dl-assignment1-experiment' when running a sweep."
      ],
      "text/plain": [
       "<IPython.core.display.HTML object>"
      ]
     },
     "metadata": {},
     "output_type": "display_data"
    },
    {
     "data": {
      "text/html": [
       "Tracking run with wandb version 0.19.8"
      ],
      "text/plain": [
       "<IPython.core.display.HTML object>"
      ]
     },
     "metadata": {},
     "output_type": "display_data"
    },
    {
     "data": {
      "text/html": [
       "Run data is saved locally in <code>/home/user/Documents/DL/assignment/wandb/run-20250312_211943-9d6dgtw4</code>"
      ],
      "text/plain": [
       "<IPython.core.display.HTML object>"
      ]
     },
     "metadata": {},
     "output_type": "display_data"
    },
    {
     "data": {
      "text/html": [
       "Syncing run <strong><a href='https://wandb.ai/cs24s031-indian-institute-of-technology-madras/dl-assignment1-experiment/runs/9d6dgtw4' target=\"_blank\">rich-sweep-48</a></strong> to <a href='https://wandb.ai/cs24s031-indian-institute-of-technology-madras/dl-assignment1-experiment' target=\"_blank\">Weights & Biases</a> (<a href='https://wandb.me/developer-guide' target=\"_blank\">docs</a>)<br>Sweep page: <a href='https://wandb.ai/cs24s031-indian-institute-of-technology-madras/dl-assignment1-experiment/sweeps/hfa2u67m' target=\"_blank\">https://wandb.ai/cs24s031-indian-institute-of-technology-madras/dl-assignment1-experiment/sweeps/hfa2u67m</a>"
      ],
      "text/plain": [
       "<IPython.core.display.HTML object>"
      ]
     },
     "metadata": {},
     "output_type": "display_data"
    },
    {
     "data": {
      "text/html": [
       " View project at <a href='https://wandb.ai/cs24s031-indian-institute-of-technology-madras/dl-assignment1-experiment' target=\"_blank\">https://wandb.ai/cs24s031-indian-institute-of-technology-madras/dl-assignment1-experiment</a>"
      ],
      "text/plain": [
       "<IPython.core.display.HTML object>"
      ]
     },
     "metadata": {},
     "output_type": "display_data"
    },
    {
     "data": {
      "text/html": [
       " View sweep at <a href='https://wandb.ai/cs24s031-indian-institute-of-technology-madras/dl-assignment1-experiment/sweeps/hfa2u67m' target=\"_blank\">https://wandb.ai/cs24s031-indian-institute-of-technology-madras/dl-assignment1-experiment/sweeps/hfa2u67m</a>"
      ],
      "text/plain": [
       "<IPython.core.display.HTML object>"
      ]
     },
     "metadata": {},
     "output_type": "display_data"
    },
    {
     "data": {
      "text/html": [
       " View run at <a href='https://wandb.ai/cs24s031-indian-institute-of-technology-madras/dl-assignment1-experiment/runs/9d6dgtw4' target=\"_blank\">https://wandb.ai/cs24s031-indian-institute-of-technology-madras/dl-assignment1-experiment/runs/9d6dgtw4</a>"
      ],
      "text/plain": [
       "<IPython.core.display.HTML object>"
      ]
     },
     "metadata": {},
     "output_type": "display_data"
    },
    {
     "name": "stdout",
     "output_type": "stream",
     "text": [
      "Starting training with run name: hl_5_bs_32_ac_ReLU\n",
      "Epoch 1/5 - Batch 1600/1687 - train-loss: 0.551712 train-acc: 0.781250 test-loss:0.417451 test-acc : 0.848500 \n",
      "Epoch 2/5 - Batch 1600/1687 - train-loss: 0.462384 train-acc: 0.843750 test-loss:0.401391 test-acc : 0.858333 \n",
      "Epoch 3/5 - Batch 1600/1687 - train-loss: 0.413731 train-acc: 0.875000 test-loss:0.366942 test-acc : 0.868667 \n",
      "Epoch 4/5 - Batch 1600/1687 - train-loss: 0.392140 train-acc: 0.843750 test-loss:0.378612 test-acc : 0.870833 \n",
      "Epoch 5/5 - Batch 1600/1687 - train-loss: 0.316104 train-acc: 0.875000 test-loss:0.353109 test-acc : 0.880000 \n"
     ]
    },
    {
     "data": {
      "text/html": [],
      "text/plain": [
       "<IPython.core.display.HTML object>"
      ]
     },
     "metadata": {},
     "output_type": "display_data"
    },
    {
     "data": {
      "text/html": [
       "<br>    <style><br>        .wandb-row {<br>            display: flex;<br>            flex-direction: row;<br>            flex-wrap: wrap;<br>            justify-content: flex-start;<br>            width: 100%;<br>        }<br>        .wandb-col {<br>            display: flex;<br>            flex-direction: column;<br>            flex-basis: 100%;<br>            flex: 1;<br>            padding: 10px;<br>        }<br>    </style><br><div class=\"wandb-row\"><div class=\"wandb-col\"><h3>Run history:</h3><br/><table class=\"wandb\"><tr><td>train_acc</td><td>▆▂▃▁▂▄▄▅▂▆▆▃▂▄▄▄▇█▇▅▄▃▆▄▄▇▅▇█▇▂▄▅█▇▅▇▄▅▄</td></tr><tr><td>train_loss</td><td>▂█▅▅▄▃▃▆▅▅▅▄▆▃▅▁▄█▄▂▄▃▄▄▁▅▄▂▃▃▂▄▃▁▃█▄▆▂▂</td></tr><tr><td>val_acc</td><td>▁▁▅▄▅▆▆▆▇▅▆▇▆▅▇▇▇▇▇▇▇█▇▇▇▇█▇▆▇███▇▇█▇▇██</td></tr><tr><td>val_loss</td><td>█▅▄▄▅▃▄▃▃▃▂▃▂▃▂▂▂▂▂▃▁▂▂▂▂▁▁▂▁▁▁▂▁▁▂▁▃▂▁▁</td></tr></table><br/></div><div class=\"wandb-col\"><h3>Run summary:</h3><br/><table class=\"wandb\"><tr><td>train_acc</td><td>0.875</td></tr><tr><td>train_loss</td><td>0.3161</td></tr><tr><td>val_acc</td><td>0.88</td></tr><tr><td>val_loss</td><td>0.35311</td></tr></table><br/></div></div>"
      ],
      "text/plain": [
       "<IPython.core.display.HTML object>"
      ]
     },
     "metadata": {},
     "output_type": "display_data"
    },
    {
     "data": {
      "text/html": [
       " View run <strong style=\"color:#cdcd00\">hl_5_bs_32_ac_ReLU</strong> at: <a href='https://wandb.ai/cs24s031-indian-institute-of-technology-madras/dl-assignment1-experiment/runs/9d6dgtw4' target=\"_blank\">https://wandb.ai/cs24s031-indian-institute-of-technology-madras/dl-assignment1-experiment/runs/9d6dgtw4</a><br> View project at: <a href='https://wandb.ai/cs24s031-indian-institute-of-technology-madras/dl-assignment1-experiment' target=\"_blank\">https://wandb.ai/cs24s031-indian-institute-of-technology-madras/dl-assignment1-experiment</a><br>Synced 5 W&B file(s), 0 media file(s), 0 artifact file(s) and 0 other file(s)"
      ],
      "text/plain": [
       "<IPython.core.display.HTML object>"
      ]
     },
     "metadata": {},
     "output_type": "display_data"
    },
    {
     "data": {
      "text/html": [
       "Find logs at: <code>./wandb/run-20250312_211943-9d6dgtw4/logs</code>"
      ],
      "text/plain": [
       "<IPython.core.display.HTML object>"
      ]
     },
     "metadata": {},
     "output_type": "display_data"
    },
    {
     "name": "stderr",
     "output_type": "stream",
     "text": [
      "\u001b[34m\u001b[1mwandb\u001b[0m: Agent Starting Run: ztubuo40 with config:\n",
      "\u001b[34m\u001b[1mwandb\u001b[0m: \tactivation_function: ReLU\n",
      "\u001b[34m\u001b[1mwandb\u001b[0m: \tbatch_size: 64\n",
      "\u001b[34m\u001b[1mwandb\u001b[0m: \tepochs: 10\n",
      "\u001b[34m\u001b[1mwandb\u001b[0m: \thidden_layer_size: 128\n",
      "\u001b[34m\u001b[1mwandb\u001b[0m: \tlearning_rate: 0.001\n",
      "\u001b[34m\u001b[1mwandb\u001b[0m: \tnum_of_hidden_layers: 4\n",
      "\u001b[34m\u001b[1mwandb\u001b[0m: \toptimizer: nadam\n",
      "\u001b[34m\u001b[1mwandb\u001b[0m: \tweight_decay: 0.5\n",
      "\u001b[34m\u001b[1mwandb\u001b[0m: \tweight_initialization: Xavier\n"
     ]
    },
    {
     "data": {
      "text/html": [
       "Ignoring project 'dl-assignment1-experiment' when running a sweep."
      ],
      "text/plain": [
       "<IPython.core.display.HTML object>"
      ]
     },
     "metadata": {},
     "output_type": "display_data"
    },
    {
     "data": {
      "text/html": [
       "Tracking run with wandb version 0.19.8"
      ],
      "text/plain": [
       "<IPython.core.display.HTML object>"
      ]
     },
     "metadata": {},
     "output_type": "display_data"
    },
    {
     "data": {
      "text/html": [
       "Run data is saved locally in <code>/home/user/Documents/DL/assignment/wandb/run-20250312_212021-ztubuo40</code>"
      ],
      "text/plain": [
       "<IPython.core.display.HTML object>"
      ]
     },
     "metadata": {},
     "output_type": "display_data"
    },
    {
     "data": {
      "text/html": [
       "Syncing run <strong><a href='https://wandb.ai/cs24s031-indian-institute-of-technology-madras/dl-assignment1-experiment/runs/ztubuo40' target=\"_blank\">upbeat-sweep-49</a></strong> to <a href='https://wandb.ai/cs24s031-indian-institute-of-technology-madras/dl-assignment1-experiment' target=\"_blank\">Weights & Biases</a> (<a href='https://wandb.me/developer-guide' target=\"_blank\">docs</a>)<br>Sweep page: <a href='https://wandb.ai/cs24s031-indian-institute-of-technology-madras/dl-assignment1-experiment/sweeps/hfa2u67m' target=\"_blank\">https://wandb.ai/cs24s031-indian-institute-of-technology-madras/dl-assignment1-experiment/sweeps/hfa2u67m</a>"
      ],
      "text/plain": [
       "<IPython.core.display.HTML object>"
      ]
     },
     "metadata": {},
     "output_type": "display_data"
    },
    {
     "data": {
      "text/html": [
       " View project at <a href='https://wandb.ai/cs24s031-indian-institute-of-technology-madras/dl-assignment1-experiment' target=\"_blank\">https://wandb.ai/cs24s031-indian-institute-of-technology-madras/dl-assignment1-experiment</a>"
      ],
      "text/plain": [
       "<IPython.core.display.HTML object>"
      ]
     },
     "metadata": {},
     "output_type": "display_data"
    },
    {
     "data": {
      "text/html": [
       " View sweep at <a href='https://wandb.ai/cs24s031-indian-institute-of-technology-madras/dl-assignment1-experiment/sweeps/hfa2u67m' target=\"_blank\">https://wandb.ai/cs24s031-indian-institute-of-technology-madras/dl-assignment1-experiment/sweeps/hfa2u67m</a>"
      ],
      "text/plain": [
       "<IPython.core.display.HTML object>"
      ]
     },
     "metadata": {},
     "output_type": "display_data"
    },
    {
     "data": {
      "text/html": [
       " View run at <a href='https://wandb.ai/cs24s031-indian-institute-of-technology-madras/dl-assignment1-experiment/runs/ztubuo40' target=\"_blank\">https://wandb.ai/cs24s031-indian-institute-of-technology-madras/dl-assignment1-experiment/runs/ztubuo40</a>"
      ],
      "text/plain": [
       "<IPython.core.display.HTML object>"
      ]
     },
     "metadata": {},
     "output_type": "display_data"
    },
    {
     "name": "stdout",
     "output_type": "stream",
     "text": [
      "Starting training with run name: hl_4_bs_64_ac_ReLU\n",
      "Epoch 1/10 - Batch 800/843 - train-loss: 0.443855 train-acc: 0.859375 test-loss:0.429825 test-acc : 0.844500 \n",
      "Epoch 2/10 - Batch 800/843 - train-loss: 0.461144 train-acc: 0.828125 test-loss:0.428406 test-acc : 0.847333 \n",
      "Epoch 3/10 - Batch 800/843 - train-loss: 0.463035 train-acc: 0.843750 test-loss:0.427606 test-acc : 0.845500 \n",
      "Epoch 4/10 - Batch 800/843 - train-loss: 0.460699 train-acc: 0.843750 test-loss:0.422786 test-acc : 0.847667 \n",
      "Epoch 5/10 - Batch 800/843 - train-loss: 0.458521 train-acc: 0.828125 test-loss:0.419889 test-acc : 0.850500 \n",
      "Epoch 6/10 - Batch 800/843 - train-loss: 0.460978 train-acc: 0.828125 test-loss:0.416605 test-acc : 0.850500 \n",
      "Epoch 7/10 - Batch 800/843 - train-loss: 0.444373 train-acc: 0.843750 test-loss:0.413389 test-acc : 0.853333 \n",
      "Epoch 8/10 - Batch 800/843 - train-loss: 0.447468 train-acc: 0.859375 test-loss:0.409889 test-acc : 0.853333 \n",
      "Epoch 9/10 - Batch 800/843 - train-loss: 0.438167 train-acc: 0.828125 test-loss:0.407798 test-acc : 0.854500 \n",
      "Epoch 10/10 - Batch 800/843 - train-loss: 0.437652 train-acc: 0.828125 test-loss:0.406352 test-acc : 0.855500 \n"
     ]
    },
    {
     "data": {
      "text/html": [],
      "text/plain": [
       "<IPython.core.display.HTML object>"
      ]
     },
     "metadata": {},
     "output_type": "display_data"
    },
    {
     "data": {
      "text/html": [
       "<br>    <style><br>        .wandb-row {<br>            display: flex;<br>            flex-direction: row;<br>            flex-wrap: wrap;<br>            justify-content: flex-start;<br>            width: 100%;<br>        }<br>        .wandb-col {<br>            display: flex;<br>            flex-direction: column;<br>            flex-basis: 100%;<br>            flex: 1;<br>            padding: 10px;<br>        }<br>    </style><br><div class=\"wandb-row\"><div class=\"wandb-col\"><h3>Run history:</h3><br/><table class=\"wandb\"><tr><td>train_acc</td><td>▁▅▃▃▆▃▆▃▅▂▂▄▃█▃▇▅▆▃▃▃▃▆▂▅▂▇▃▅▆▃▄▇▂▃▂▃▅▃▂</td></tr><tr><td>train_loss</td><td>█▆▅▆█▁▅▃▂▆▅▅▁▅▃▆█▅▅▁▅▇▅▅▅▂▆▂▃▆▅▃▂▆▃▇▁▂▃▁</td></tr><tr><td>val_acc</td><td>▁▅▆▇▇█▇▇▇█▇▇▇██▇▇▆▇▇▆▆▇▇▇▇█▇▇█▇▇██▇███▇█</td></tr><tr><td>val_loss</td><td>█▄▄▃▂▁▂▂▁▃▂▁▃▂▃▂▁▃▁▂▂▂▁▂▁▂▁▁▂▂▂▁▁▂▂▁▁▂▂▁</td></tr></table><br/></div><div class=\"wandb-col\"><h3>Run summary:</h3><br/><table class=\"wandb\"><tr><td>train_acc</td><td>0.82812</td></tr><tr><td>train_loss</td><td>0.43765</td></tr><tr><td>val_acc</td><td>0.8555</td></tr><tr><td>val_loss</td><td>0.40635</td></tr></table><br/></div></div>"
      ],
      "text/plain": [
       "<IPython.core.display.HTML object>"
      ]
     },
     "metadata": {},
     "output_type": "display_data"
    },
    {
     "data": {
      "text/html": [
       " View run <strong style=\"color:#cdcd00\">hl_4_bs_64_ac_ReLU</strong> at: <a href='https://wandb.ai/cs24s031-indian-institute-of-technology-madras/dl-assignment1-experiment/runs/ztubuo40' target=\"_blank\">https://wandb.ai/cs24s031-indian-institute-of-technology-madras/dl-assignment1-experiment/runs/ztubuo40</a><br> View project at: <a href='https://wandb.ai/cs24s031-indian-institute-of-technology-madras/dl-assignment1-experiment' target=\"_blank\">https://wandb.ai/cs24s031-indian-institute-of-technology-madras/dl-assignment1-experiment</a><br>Synced 5 W&B file(s), 0 media file(s), 0 artifact file(s) and 0 other file(s)"
      ],
      "text/plain": [
       "<IPython.core.display.HTML object>"
      ]
     },
     "metadata": {},
     "output_type": "display_data"
    },
    {
     "data": {
      "text/html": [
       "Find logs at: <code>./wandb/run-20250312_212021-ztubuo40/logs</code>"
      ],
      "text/plain": [
       "<IPython.core.display.HTML object>"
      ]
     },
     "metadata": {},
     "output_type": "display_data"
    },
    {
     "name": "stderr",
     "output_type": "stream",
     "text": [
      "\u001b[34m\u001b[1mwandb\u001b[0m: Agent Starting Run: no10hyno with config:\n",
      "\u001b[34m\u001b[1mwandb\u001b[0m: \tactivation_function: ReLU\n",
      "\u001b[34m\u001b[1mwandb\u001b[0m: \tbatch_size: 16\n",
      "\u001b[34m\u001b[1mwandb\u001b[0m: \tepochs: 10\n",
      "\u001b[34m\u001b[1mwandb\u001b[0m: \thidden_layer_size: 128\n",
      "\u001b[34m\u001b[1mwandb\u001b[0m: \tlearning_rate: 0.0001\n",
      "\u001b[34m\u001b[1mwandb\u001b[0m: \tnum_of_hidden_layers: 5\n",
      "\u001b[34m\u001b[1mwandb\u001b[0m: \toptimizer: sgd\n",
      "\u001b[34m\u001b[1mwandb\u001b[0m: \tweight_decay: 0\n",
      "\u001b[34m\u001b[1mwandb\u001b[0m: \tweight_initialization: Xavier\n"
     ]
    },
    {
     "data": {
      "text/html": [
       "Ignoring project 'dl-assignment1-experiment' when running a sweep."
      ],
      "text/plain": [
       "<IPython.core.display.HTML object>"
      ]
     },
     "metadata": {},
     "output_type": "display_data"
    },
    {
     "data": {
      "text/html": [
       "Tracking run with wandb version 0.19.8"
      ],
      "text/plain": [
       "<IPython.core.display.HTML object>"
      ]
     },
     "metadata": {},
     "output_type": "display_data"
    },
    {
     "data": {
      "text/html": [
       "Run data is saved locally in <code>/home/user/Documents/DL/assignment/wandb/run-20250312_212103-no10hyno</code>"
      ],
      "text/plain": [
       "<IPython.core.display.HTML object>"
      ]
     },
     "metadata": {},
     "output_type": "display_data"
    },
    {
     "data": {
      "text/html": [
       "Syncing run <strong><a href='https://wandb.ai/cs24s031-indian-institute-of-technology-madras/dl-assignment1-experiment/runs/no10hyno' target=\"_blank\">fresh-sweep-50</a></strong> to <a href='https://wandb.ai/cs24s031-indian-institute-of-technology-madras/dl-assignment1-experiment' target=\"_blank\">Weights & Biases</a> (<a href='https://wandb.me/developer-guide' target=\"_blank\">docs</a>)<br>Sweep page: <a href='https://wandb.ai/cs24s031-indian-institute-of-technology-madras/dl-assignment1-experiment/sweeps/hfa2u67m' target=\"_blank\">https://wandb.ai/cs24s031-indian-institute-of-technology-madras/dl-assignment1-experiment/sweeps/hfa2u67m</a>"
      ],
      "text/plain": [
       "<IPython.core.display.HTML object>"
      ]
     },
     "metadata": {},
     "output_type": "display_data"
    },
    {
     "data": {
      "text/html": [
       " View project at <a href='https://wandb.ai/cs24s031-indian-institute-of-technology-madras/dl-assignment1-experiment' target=\"_blank\">https://wandb.ai/cs24s031-indian-institute-of-technology-madras/dl-assignment1-experiment</a>"
      ],
      "text/plain": [
       "<IPython.core.display.HTML object>"
      ]
     },
     "metadata": {},
     "output_type": "display_data"
    },
    {
     "data": {
      "text/html": [
       " View sweep at <a href='https://wandb.ai/cs24s031-indian-institute-of-technology-madras/dl-assignment1-experiment/sweeps/hfa2u67m' target=\"_blank\">https://wandb.ai/cs24s031-indian-institute-of-technology-madras/dl-assignment1-experiment/sweeps/hfa2u67m</a>"
      ],
      "text/plain": [
       "<IPython.core.display.HTML object>"
      ]
     },
     "metadata": {},
     "output_type": "display_data"
    },
    {
     "data": {
      "text/html": [
       " View run at <a href='https://wandb.ai/cs24s031-indian-institute-of-technology-madras/dl-assignment1-experiment/runs/no10hyno' target=\"_blank\">https://wandb.ai/cs24s031-indian-institute-of-technology-madras/dl-assignment1-experiment/runs/no10hyno</a>"
      ],
      "text/plain": [
       "<IPython.core.display.HTML object>"
      ]
     },
     "metadata": {},
     "output_type": "display_data"
    },
    {
     "name": "stdout",
     "output_type": "stream",
     "text": [
      "Starting training with run name: hl_5_bs_16_ac_ReLU\n",
      "Epoch 1/10 - Batch 3300/3375 - train-loss: 0.733194 train-acc: 0.812500 test-loss:0.533488 test-acc : 0.810667 \n",
      "Epoch 2/10 - Batch 3300/3375 - train-loss: 0.720832 train-acc: 0.750000 test-loss:0.465561 test-acc : 0.832667 \n",
      "Epoch 3/10 - Batch 3300/3375 - train-loss: 0.614617 train-acc: 0.812500 test-loss:0.435430 test-acc : 0.844667 \n",
      "Epoch 4/10 - Batch 3300/3375 - train-loss: 0.583512 train-acc: 0.812500 test-loss:0.420452 test-acc : 0.850333 \n",
      "Epoch 5/10 - Batch 3300/3375 - train-loss: 0.566065 train-acc: 0.812500 test-loss:0.406387 test-acc : 0.856167 \n",
      "Epoch 6/10 - Batch 3300/3375 - train-loss: 0.541091 train-acc: 0.812500 test-loss:0.398145 test-acc : 0.855000 \n",
      "Epoch 7/10 - Batch 3300/3375 - train-loss: 0.535813 train-acc: 0.812500 test-loss:0.389518 test-acc : 0.857000 \n",
      "Epoch 8/10 - Batch 3300/3375 - train-loss: 0.549111 train-acc: 0.812500 test-loss:0.383347 test-acc : 0.859833 \n",
      "Epoch 9/10 - Batch 3300/3375 - train-loss: 0.537301 train-acc: 0.812500 test-loss:0.379846 test-acc : 0.861667 \n",
      "Epoch 10/10 - Batch 3300/3375 - train-loss: 0.524391 train-acc: 0.812500 test-loss:0.376626 test-acc : 0.863167 \n"
     ]
    },
    {
     "data": {
      "text/html": [],
      "text/plain": [
       "<IPython.core.display.HTML object>"
      ]
     },
     "metadata": {},
     "output_type": "display_data"
    },
    {
     "data": {
      "text/html": [
       "<br>    <style><br>        .wandb-row {<br>            display: flex;<br>            flex-direction: row;<br>            flex-wrap: wrap;<br>            justify-content: flex-start;<br>            width: 100%;<br>        }<br>        .wandb-col {<br>            display: flex;<br>            flex-direction: column;<br>            flex-basis: 100%;<br>            flex: 1;<br>            padding: 10px;<br>        }<br>    </style><br><div class=\"wandb-row\"><div class=\"wandb-col\"><h3>Run history:</h3><br/><table class=\"wandb\"><tr><td>train_acc</td><td>▆▅▃▆█▅▆▆▆▃▆▃▁▆█▆▆█▆██▅▅▆▅▆███▃▆▆▃█▁▆▅▅▆█</td></tr><tr><td>train_loss</td><td>▆▆▄▃▆▄█▂▅▂▃▄▃▃▃▂▃▄▂▂▇▂▂▂▁▇▂▃▃▃▁▂▃▄▂▁▂▂▂▃</td></tr><tr><td>val_acc</td><td>▁▆▆▆▆▇▇▇▇▇▇█▇▇▇████▇█▇██████████████████</td></tr><tr><td>val_loss</td><td>██▅▄▄▃▄▃▄▃▃▄▃▂▃▂▂▂▃▂▂▃▃▂▂▃▂▂▂▂▁▁▁▁▂▁▂▁▂▁</td></tr></table><br/></div><div class=\"wandb-col\"><h3>Run summary:</h3><br/><table class=\"wandb\"><tr><td>train_acc</td><td>0.8125</td></tr><tr><td>train_loss</td><td>0.52439</td></tr><tr><td>val_acc</td><td>0.86317</td></tr><tr><td>val_loss</td><td>0.37663</td></tr></table><br/></div></div>"
      ],
      "text/plain": [
       "<IPython.core.display.HTML object>"
      ]
     },
     "metadata": {},
     "output_type": "display_data"
    },
    {
     "data": {
      "text/html": [
       " View run <strong style=\"color:#cdcd00\">hl_5_bs_16_ac_ReLU</strong> at: <a href='https://wandb.ai/cs24s031-indian-institute-of-technology-madras/dl-assignment1-experiment/runs/no10hyno' target=\"_blank\">https://wandb.ai/cs24s031-indian-institute-of-technology-madras/dl-assignment1-experiment/runs/no10hyno</a><br> View project at: <a href='https://wandb.ai/cs24s031-indian-institute-of-technology-madras/dl-assignment1-experiment' target=\"_blank\">https://wandb.ai/cs24s031-indian-institute-of-technology-madras/dl-assignment1-experiment</a><br>Synced 5 W&B file(s), 0 media file(s), 0 artifact file(s) and 0 other file(s)"
      ],
      "text/plain": [
       "<IPython.core.display.HTML object>"
      ]
     },
     "metadata": {},
     "output_type": "display_data"
    },
    {
     "data": {
      "text/html": [
       "Find logs at: <code>./wandb/run-20250312_212103-no10hyno/logs</code>"
      ],
      "text/plain": [
       "<IPython.core.display.HTML object>"
      ]
     },
     "metadata": {},
     "output_type": "display_data"
    }
   ],
   "source": [
    "sweep_id = wandb.sweep(sweep_config,project='dl-assignment1-experiment')\n",
    "wandb.agent(sweep_id,train,count=50)"
   ]
  },
  {
   "cell_type": "code",
   "execution_count": 11,
   "id": "f2e2ff28-124b-4a2f-85ce-79084aefaca2",
   "metadata": {},
   "outputs": [],
   "source": [
    "wandb.finish()"
   ]
  },
  {
   "cell_type": "code",
   "execution_count": 12,
   "id": "c45c4325-e973-4572-9387-d549717bae92",
   "metadata": {},
   "outputs": [
    {
     "name": "stdout",
     "output_type": "stream",
     "text": [
      "Epoch 1/10 - Batch 1600/1687 - train-loss: 0.489906 train-acc: 0.781250 test-loss:0.484841 test-acc : 0.820000 \n",
      "Epoch 2/10 - Batch 400/1687 - train-loss: 0.436420 train-acc: 0.843750 test-loss:0.430519 test-acc : 0.839500 "
     ]
    },
    {
     "ename": "KeyboardInterrupt",
     "evalue": "",
     "output_type": "error",
     "traceback": [
      "\u001b[31m---------------------------------------------------------------------------\u001b[39m",
      "\u001b[31mKeyboardInterrupt\u001b[39m                         Traceback (most recent call last)",
      "\u001b[36mCell\u001b[39m\u001b[36m \u001b[39m\u001b[32mIn[12]\u001b[39m\u001b[32m, line 2\u001b[39m\n\u001b[32m      1\u001b[39m nn = Neural_Net(\u001b[32m784\u001b[39m,\u001b[32m4\u001b[39m,[\u001b[32m32\u001b[39m,\u001b[32m32\u001b[39m,\u001b[32m32\u001b[39m,\u001b[32m32\u001b[39m],\u001b[33m'\u001b[39m\u001b[33mReLU\u001b[39m\u001b[33m'\u001b[39m,\u001b[32m10\u001b[39m,\u001b[33m'\u001b[39m\u001b[33mXavier\u001b[39m\u001b[33m'\u001b[39m,\u001b[32m0.005\u001b[39m)\n\u001b[32m----> \u001b[39m\u001b[32m2\u001b[39m \u001b[43mnn\u001b[49m\u001b[43m.\u001b[49m\u001b[43mtrain\u001b[49m\u001b[43m(\u001b[49m\u001b[33;43m'\u001b[39;49m\u001b[33;43madam\u001b[39;49m\u001b[33;43m'\u001b[39;49m\u001b[43m,\u001b[49m\u001b[32;43m10\u001b[39;49m\u001b[43m,\u001b[49m\u001b[32;43m0.001\u001b[39;49m\u001b[43m,\u001b[49m\u001b[32;43m32\u001b[39;49m\u001b[43m,\u001b[49m\u001b[43mtrain_data\u001b[49m\u001b[43m,\u001b[49m\u001b[43mtrain_label\u001b[49m\u001b[43m,\u001b[49m\u001b[43mval_data\u001b[49m\u001b[43m,\u001b[49m\u001b[43mval_label\u001b[49m\u001b[43m)\u001b[49m\n",
      "\u001b[36mCell\u001b[39m\u001b[36m \u001b[39m\u001b[32mIn[8]\u001b[39m\u001b[32m, line 367\u001b[39m, in \u001b[36mNeural_Net.train\u001b[39m\u001b[34m(self, optimizer, epochs, learning_rate, batch_size, train_data, train_label, test_data, test_label)\u001b[39m\n\u001b[32m    365\u001b[39m     \u001b[38;5;28mself\u001b[39m.RMSprop_train(epochs,learning_rate,batch_size,train_data,train_label,test_data,test_label,\u001b[32m0.8\u001b[39m,\u001b[32m1e-8\u001b[39m)\n\u001b[32m    366\u001b[39m \u001b[38;5;28;01melif\u001b[39;00m optimizer == \u001b[33m'\u001b[39m\u001b[33madam\u001b[39m\u001b[33m'\u001b[39m:\n\u001b[32m--> \u001b[39m\u001b[32m367\u001b[39m     \u001b[38;5;28;43mself\u001b[39;49m\u001b[43m.\u001b[49m\u001b[43madam_train\u001b[49m\u001b[43m(\u001b[49m\u001b[43mepochs\u001b[49m\u001b[43m,\u001b[49m\u001b[43mlearning_rate\u001b[49m\u001b[43m,\u001b[49m\u001b[43mbatch_size\u001b[49m\u001b[43m,\u001b[49m\u001b[43mtrain_data\u001b[49m\u001b[43m,\u001b[49m\u001b[43mtrain_label\u001b[49m\u001b[43m,\u001b[49m\u001b[43mtest_data\u001b[49m\u001b[43m,\u001b[49m\u001b[43mtest_label\u001b[49m\u001b[43m,\u001b[49m\u001b[32;43m0.9\u001b[39;49m\u001b[43m,\u001b[49m\u001b[32;43m0.999\u001b[39;49m\u001b[43m,\u001b[49m\u001b[32;43m1e-8\u001b[39;49m\u001b[43m)\u001b[49m\n\u001b[32m    368\u001b[39m \u001b[38;5;28;01melif\u001b[39;00m optimizer == \u001b[33m'\u001b[39m\u001b[33mnadam\u001b[39m\u001b[33m'\u001b[39m:\n\u001b[32m    369\u001b[39m     \u001b[38;5;28mself\u001b[39m.nadam_train(epochs,learning_rate,batch_size,train_data,train_label,test_data,test_label,\u001b[32m0.9\u001b[39m,\u001b[32m0.999\u001b[39m,\u001b[32m1e-8\u001b[39m)\n",
      "\u001b[36mCell\u001b[39m\u001b[36m \u001b[39m\u001b[32mIn[8]\u001b[39m\u001b[32m, line 265\u001b[39m, in \u001b[36mNeural_Net.adam_train\u001b[39m\u001b[34m(self, epochs, learning_rate, batch_size, train_data, train_label, test_data, test_label, beta1, beta2, eps)\u001b[39m\n\u001b[32m    262\u001b[39m batch_data = train_data[batch_start:batch_end]\n\u001b[32m    263\u001b[39m batch_label = train_label[batch_start:batch_end]\n\u001b[32m--> \u001b[39m\u001b[32m265\u001b[39m W_copy = \u001b[43mdeepcopy\u001b[49m\u001b[43m(\u001b[49m\u001b[38;5;28;43mself\u001b[39;49m\u001b[43m.\u001b[49m\u001b[43mW\u001b[49m\u001b[43m)\u001b[49m\n\u001b[32m    266\u001b[39m B_copy = deepcopy(\u001b[38;5;28mself\u001b[39m.B)\n\u001b[32m    267\u001b[39m A,H,y_prob = \u001b[38;5;28mself\u001b[39m.feed_forward(batch_data,W_copy,B_copy)\n",
      "\u001b[36mFile \u001b[39m\u001b[32m/usr/lib/python3.12/copy.py:136\u001b[39m, in \u001b[36mdeepcopy\u001b[39m\u001b[34m(x, memo, _nil)\u001b[39m\n\u001b[32m    134\u001b[39m copier = _deepcopy_dispatch.get(\u001b[38;5;28mcls\u001b[39m)\n\u001b[32m    135\u001b[39m \u001b[38;5;28;01mif\u001b[39;00m copier \u001b[38;5;129;01mis\u001b[39;00m \u001b[38;5;129;01mnot\u001b[39;00m \u001b[38;5;28;01mNone\u001b[39;00m:\n\u001b[32m--> \u001b[39m\u001b[32m136\u001b[39m     y = \u001b[43mcopier\u001b[49m\u001b[43m(\u001b[49m\u001b[43mx\u001b[49m\u001b[43m,\u001b[49m\u001b[43m \u001b[49m\u001b[43mmemo\u001b[49m\u001b[43m)\u001b[49m\n\u001b[32m    137\u001b[39m \u001b[38;5;28;01melse\u001b[39;00m:\n\u001b[32m    138\u001b[39m     \u001b[38;5;28;01mif\u001b[39;00m \u001b[38;5;28missubclass\u001b[39m(\u001b[38;5;28mcls\u001b[39m, \u001b[38;5;28mtype\u001b[39m):\n",
      "\u001b[36mFile \u001b[39m\u001b[32m/usr/lib/python3.12/copy.py:196\u001b[39m, in \u001b[36m_deepcopy_list\u001b[39m\u001b[34m(x, memo, deepcopy)\u001b[39m\n\u001b[32m    194\u001b[39m append = y.append\n\u001b[32m    195\u001b[39m \u001b[38;5;28;01mfor\u001b[39;00m a \u001b[38;5;129;01min\u001b[39;00m x:\n\u001b[32m--> \u001b[39m\u001b[32m196\u001b[39m     append(\u001b[43mdeepcopy\u001b[49m\u001b[43m(\u001b[49m\u001b[43ma\u001b[49m\u001b[43m,\u001b[49m\u001b[43m \u001b[49m\u001b[43mmemo\u001b[49m\u001b[43m)\u001b[49m)\n\u001b[32m    197\u001b[39m \u001b[38;5;28;01mreturn\u001b[39;00m y\n",
      "\u001b[36mFile \u001b[39m\u001b[32m/usr/lib/python3.12/copy.py:118\u001b[39m, in \u001b[36mdeepcopy\u001b[39m\u001b[34m(x, memo, _nil)\u001b[39m\n\u001b[32m    114\u001b[39m d[\u001b[38;5;28mbytearray\u001b[39m] = \u001b[38;5;28mbytearray\u001b[39m.copy\n\u001b[32m    116\u001b[39m \u001b[38;5;28;01mdel\u001b[39;00m d, t\n\u001b[32m--> \u001b[39m\u001b[32m118\u001b[39m \u001b[38;5;28;01mdef\u001b[39;00m\u001b[38;5;250m \u001b[39m\u001b[34mdeepcopy\u001b[39m(x, memo=\u001b[38;5;28;01mNone\u001b[39;00m, _nil=[]):\n\u001b[32m    119\u001b[39m \u001b[38;5;250m    \u001b[39m\u001b[33;03m\"\"\"Deep copy operation on arbitrary Python objects.\u001b[39;00m\n\u001b[32m    120\u001b[39m \n\u001b[32m    121\u001b[39m \u001b[33;03m    See the module's __doc__ string for more info.\u001b[39;00m\n\u001b[32m    122\u001b[39m \u001b[33;03m    \"\"\"\u001b[39;00m\n\u001b[32m    124\u001b[39m     \u001b[38;5;28;01mif\u001b[39;00m memo \u001b[38;5;129;01mis\u001b[39;00m \u001b[38;5;28;01mNone\u001b[39;00m:\n",
      "\u001b[31mKeyboardInterrupt\u001b[39m: "
     ]
    }
   ],
   "source": [
    "nn = Neural_Net(784,4,[32,32,32,32],'ReLU',10,'Xavier',0.005)\n",
    "nn.train('adam',10,0.001,32,train_data,train_label,val_data,val_label)"
   ]
  },
  {
   "cell_type": "code",
   "execution_count": 10,
   "id": "c3cbc949-ae8c-418a-93b7-06d6708a63dd",
   "metadata": {},
   "outputs": [
    {
     "data": {
      "text/plain": [
       "<__main__.Neural_Net at 0x7bedde5efb90>"
      ]
     },
     "execution_count": 10,
     "metadata": {},
     "output_type": "execute_result"
    }
   ],
   "source": [
    "nn"
   ]
  },
  {
   "cell_type": "code",
   "execution_count": null,
   "id": "fb6d3569-66e1-4146-a95a-15801513f6d5",
   "metadata": {},
   "outputs": [],
   "source": []
  }
 ],
 "metadata": {
  "kernelspec": {
   "display_name": "Python 3 (ipykernel)",
   "language": "python",
   "name": "python3"
  },
  "language_info": {
   "codemirror_mode": {
    "name": "ipython",
    "version": 3
   },
   "file_extension": ".py",
   "mimetype": "text/x-python",
   "name": "python",
   "nbconvert_exporter": "python",
   "pygments_lexer": "ipython3",
   "version": "3.12.3"
  }
 },
 "nbformat": 4,
 "nbformat_minor": 5
}
